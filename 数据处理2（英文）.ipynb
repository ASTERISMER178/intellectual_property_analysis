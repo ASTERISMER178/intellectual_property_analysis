{
 "cells": [
  {
   "cell_type": "code",
   "execution_count": 1,
   "id": "48a269cf-06f1-4347-9237-b36c7255982b",
   "metadata": {},
   "outputs": [],
   "source": [
    "import pandas as pd\n",
    "import numpy as np"
   ]
  },
  {
   "cell_type": "code",
   "execution_count": 2,
   "id": "142aa9a8-ad4d-480c-8d68-d350dffc3921",
   "metadata": {},
   "outputs": [],
   "source": [
    "df=pd.read_csv(\"./Data/rawdata.CSV\")"
   ]
  },
  {
   "cell_type": "code",
   "execution_count": 3,
   "id": "355bcc18-f63b-479c-a86e-f76934c5baf1",
   "metadata": {},
   "outputs": [
    {
     "name": "stdout",
     "output_type": "stream",
     "text": [
      "<class 'pandas.core.frame.DataFrame'>\n",
      "RangeIndex: 252047 entries, 0 to 252046\n",
      "Data columns (total 51 columns):\n",
      " #   Column                              Non-Null Count   Dtype  \n",
      "---  ------                              --------------   -----  \n",
      " 0   标题                                  251906 non-null  object \n",
      " 1   Industry Chain Position             252047 non-null  object \n",
      " 2   Primary Technical Branch            252047 non-null  object \n",
      " 3   二级技术分支                              252047 non-null  object \n",
      " 4   三级技术分支                              252047 non-null  object \n",
      " 5   申请号                                 251825 non-null  object \n",
      " 6   申请日                                 251599 non-null  object \n",
      " 7   申请人                                 250945 non-null  object \n",
      " 8   Patent Type                         252047 non-null  object \n",
      " 9   Publication Country                 252047 non-null  object \n",
      " 10  公开(公告)号                             252047 non-null  object \n",
      " 11  Publication Date                    251972 non-null  object \n",
      " 12  Number of Claims                    220913 non-null  object \n",
      " 13  Number of Document Pages            245092 non-null  float64\n",
      " 14  技术功效                                160296 non-null  object \n",
      " 15  IPC                                 242149 non-null  object \n",
      " 16  标准化申请人                              250781 non-null  object \n",
      " 17  申请人国别代码                             231951 non-null  object \n",
      " 18  Applicant's Province and City Code  208217 non-null  object \n",
      " 19  申请人地市                               203435 non-null  object \n",
      " 20  申请人区县                               135885 non-null  object \n",
      " 21  申请人地址                               234493 non-null  object \n",
      " 22  代理机构                                136685 non-null  object \n",
      " 23  代理人                                 169141 non-null  object \n",
      " 24  Number of Citations within 3 Years  252047 non-null  int64  \n",
      " 25  Number of Citations within 5 Years  252047 non-null  int64  \n",
      " 26  Number of Citing Patents            252047 non-null  int64  \n",
      " 27  Number of Cited Patents             252045 non-null  float64\n",
      " 28  简单同族                                252047 non-null  object \n",
      " 29  INPADOC同族                           251952 non-null  object \n",
      " 30  优先权号                                40928 non-null   object \n",
      " 31  优先权日                                40933 non-null   object \n",
      " 32  优先权国家                               40958 non-null   object \n",
      " 33  Patent Validity                     252047 non-null  object \n",
      " 34  转让人                                 250945 non-null  object \n",
      " 35  受让人                                 250945 non-null  object \n",
      " 36  许可人                                 746 non-null     object \n",
      " 37  被许可人                                746 non-null     object \n",
      " 38  许可类型                                746 non-null     object \n",
      " 39  质押人                                 1000 non-null    object \n",
      " 40  质权人                                 1000 non-null    object \n",
      " 41  Number of Litigation Cases          252047 non-null  int64  \n",
      " 42  原告(上诉人)                             227 non-null     object \n",
      " 43  被告(被上诉人)                            215 non-null     object \n",
      " 44  法院                                  229 non-null     object \n",
      " 45  审判长                                 150 non-null     object \n",
      " 46  审判员                                 178 non-null     object \n",
      " 47  Patent Value                        101205 non-null  object \n",
      " 48  专利寿命                                178055 non-null  object \n",
      " 49  审查员                                 38147 non-null   object \n",
      " 50  助理审查员                               2477 non-null    object \n",
      "dtypes: float64(2), int64(4), object(45)\n",
      "memory usage: 98.1+ MB\n"
     ]
    }
   ],
   "source": [
    "df.info()"
   ]
  },
  {
   "cell_type": "code",
   "execution_count": 4,
   "id": "4289d740-effa-4c0c-9bda-62a1aeaf4256",
   "metadata": {},
   "outputs": [
    {
     "name": "stdout",
     "output_type": "stream",
     "text": [
      "<class 'pandas.core.frame.DataFrame'>\n",
      "RangeIndex: 252047 entries, 0 to 252046\n",
      "Data columns (total 17 columns):\n",
      " #   Column                              Non-Null Count   Dtype  \n",
      "---  ------                              --------------   -----  \n",
      " 0   标题                                  251906 non-null  object \n",
      " 1   Industry Chain Position             252047 non-null  object \n",
      " 2   Primary Technical Branch            252047 non-null  object \n",
      " 3   Patent Type                         252047 non-null  object \n",
      " 4   Publication Country                 252047 non-null  object \n",
      " 5   Publication Date                    251972 non-null  object \n",
      " 6   Number of Claims                    220913 non-null  object \n",
      " 7   Number of Document Pages            245092 non-null  float64\n",
      " 8   IPC                                 242149 non-null  object \n",
      " 9   Applicant's Province and City Code  208217 non-null  object \n",
      " 10  Number of Citations within 3 Years  252047 non-null  int64  \n",
      " 11  Number of Citations within 5 Years  252047 non-null  int64  \n",
      " 12  Number of Citing Patents            252047 non-null  int64  \n",
      " 13  Number of Cited Patents             252045 non-null  float64\n",
      " 14  Patent Validity                     252047 non-null  object \n",
      " 15  Number of Litigation Cases          252047 non-null  int64  \n",
      " 16  Patent Value                        101205 non-null  object \n",
      "dtypes: float64(2), int64(4), object(11)\n",
      "memory usage: 32.7+ MB\n"
     ]
    }
   ],
   "source": [
    "columns_to_drop=[\"申请号\",\"申请人\",\"标准化申请人\",\"转让人\",\"受让人\",\"被许可人\",\"许可人\",\"审查员\",\"助理审查员\",\"审判长\",\"审判员\",\"申请人国别代码\",\"申请人地市\",\"申请人区县\",\"申请人地址\",\"代理机构\",\"代理人\",\"简单同族\",\"INPADOC同族\",\"质押人\",\"质权人\",\"原告(上诉人)\",\"被告(被上诉人)\",\"法院\",\"公开(公告)号\",\"优先权号\",\"优先权日\",\"许可类型\",\"技术功效\",\"优先权国家\",\"二级技术分支\",\"三级技术分支\",\"专利寿命\",\"申请日\"]\n",
    "df.drop(columns=columns_to_drop,inplace=True)\n",
    "df.info()"
   ]
  },
  {
   "cell_type": "code",
   "execution_count": 5,
   "id": "5f87b9c8-c987-41a2-806a-fe77b6d47cae",
   "metadata": {},
   "outputs": [],
   "source": [
    "df=df.loc[df[\"Publication Country\"]==\"China\"]"
   ]
  },
  {
   "cell_type": "code",
   "execution_count": 6,
   "id": "2d80de04-2a9d-4c5c-a38d-2d6e0fc901d1",
   "metadata": {},
   "outputs": [],
   "source": [
    "df.dropna(inplace=True)\n",
    "df = df[~df.apply(lambda row: any(row == \"该数据不支持导出\"), axis=1)]\n",
    "df[\"Number of Claims\"]=df[\"Number of Claims\"].astype(int)\n",
    "df[\"Number of Document Pages\"]=df[\"Number of Document Pages\"].astype(int)\n",
    "df[\"Number of Cited Patents\"]=df[\"Number of Cited Patents\"].astype(int)"
   ]
  },
  {
   "cell_type": "code",
   "execution_count": 7,
   "id": "30890587-4940-4f5b-8971-c4b6a7cf610d",
   "metadata": {},
   "outputs": [
    {
     "name": "stdout",
     "output_type": "stream",
     "text": [
      "<class 'pandas.core.frame.DataFrame'>\n",
      "Int64Index: 76477 entries, 0 to 251889\n",
      "Data columns (total 17 columns):\n",
      " #   Column                              Non-Null Count  Dtype \n",
      "---  ------                              --------------  ----- \n",
      " 0   标题                                  76477 non-null  object\n",
      " 1   Industry Chain Position             76477 non-null  object\n",
      " 2   Primary Technical Branch            76477 non-null  object\n",
      " 3   Patent Type                         76477 non-null  object\n",
      " 4   Publication Country                 76477 non-null  object\n",
      " 5   Publication Date                    76477 non-null  object\n",
      " 6   Number of Claims                    76477 non-null  int32 \n",
      " 7   Number of Document Pages            76477 non-null  int32 \n",
      " 8   IPC                                 76477 non-null  object\n",
      " 9   Applicant's Province and City Code  76477 non-null  object\n",
      " 10  Number of Citations within 3 Years  76477 non-null  int64 \n",
      " 11  Number of Citations within 5 Years  76477 non-null  int64 \n",
      " 12  Number of Citing Patents            76477 non-null  int64 \n",
      " 13  Number of Cited Patents             76477 non-null  int32 \n",
      " 14  Patent Validity                     76477 non-null  object\n",
      " 15  Number of Litigation Cases          76477 non-null  int64 \n",
      " 16  Patent Value                        76477 non-null  object\n",
      "dtypes: int32(3), int64(4), object(10)\n",
      "memory usage: 9.6+ MB\n"
     ]
    }
   ],
   "source": [
    "df.info()"
   ]
  },
  {
   "cell_type": "code",
   "execution_count": 8,
   "id": "dda3d268-f09e-4e8d-90ca-9e0b50e59718",
   "metadata": {},
   "outputs": [],
   "source": [
    "df['Publication Date'] = df['Publication Date'].str[:4]\n",
    "df[\"Publication Date\"] = pd.to_numeric(df[\"Publication Date\"])"
   ]
  },
  {
   "cell_type": "code",
   "execution_count": 9,
   "id": "41b95716-ec4b-4634-ac77-56979c62a93c",
   "metadata": {},
   "outputs": [],
   "source": [
    "for index,row in df.iterrows():\n",
    "    value = row['Patent Value']  # 获取当前行中 \"column_name\" 属性的值\n",
    "    # 在这里对属性值进行操作，例如加倍\n",
    "    new_value=value[1:]\n",
    "    number = new_value.replace(',', '')\n",
    "    # 将操作后的值赋回到当前行的属性\n",
    "    df.at[index, 'Patent Value'] = number\n",
    "df['Patent Value'] = df['Patent Value'].astype(np.int64)"
   ]
  },
  {
   "cell_type": "code",
   "execution_count": 10,
   "id": "c1c896b3-b78b-40d5-a1b4-fe496f020689",
   "metadata": {},
   "outputs": [
    {
     "name": "stdout",
     "output_type": "stream",
     "text": [
      "<class 'pandas.core.frame.DataFrame'>\n",
      "Int64Index: 76477 entries, 0 to 251889\n",
      "Data columns (total 17 columns):\n",
      " #   Column                              Non-Null Count  Dtype \n",
      "---  ------                              --------------  ----- \n",
      " 0   标题                                  76477 non-null  object\n",
      " 1   Industry Chain Position             76477 non-null  object\n",
      " 2   Primary Technical Branch            76477 non-null  object\n",
      " 3   Patent Type                         76477 non-null  object\n",
      " 4   Publication Country                 76477 non-null  object\n",
      " 5   Publication Date                    76477 non-null  int64 \n",
      " 6   Number of Claims                    76477 non-null  int32 \n",
      " 7   Number of Document Pages            76477 non-null  int32 \n",
      " 8   IPC                                 76477 non-null  object\n",
      " 9   Applicant's Province and City Code  76477 non-null  object\n",
      " 10  Number of Citations within 3 Years  76477 non-null  int64 \n",
      " 11  Number of Citations within 5 Years  76477 non-null  int64 \n",
      " 12  Number of Citing Patents            76477 non-null  int64 \n",
      " 13  Number of Cited Patents             76477 non-null  int32 \n",
      " 14  Patent Validity                     76477 non-null  object\n",
      " 15  Number of Litigation Cases          76477 non-null  int64 \n",
      " 16  Patent Value                        76477 non-null  int64 \n",
      "dtypes: int32(3), int64(6), object(8)\n",
      "memory usage: 11.6+ MB\n"
     ]
    }
   ],
   "source": [
    "df.info()"
   ]
  },
  {
   "cell_type": "code",
   "execution_count": 11,
   "id": "64ee15ca-1751-49c9-be81-dd6a1b30e628",
   "metadata": {},
   "outputs": [],
   "source": [
    "china_provinces = [\n",
    "\"Beijing\",\n",
    "\"Tianjin\",\n",
    "\"Hebei\",\n",
    "\"Shanxi\",\n",
    "\"Inner Mongolia\",\n",
    "\"Liaoning\",\n",
    "\"Jilin\",\n",
    "\"Heilongjiang\",\n",
    "\"Shanghai\",\n",
    "\"Jiangsu\",\n",
    "\"Zhejiang\",\n",
    "\"Anhui\",\n",
    "\"Fujian\",\n",
    "\"Jiangxi\",\n",
    "\"Shandong\",\n",
    "\"Henan\",\n",
    "\"Hubei\",\n",
    "\"Hunan\",\n",
    "\"Guangdong\",\n",
    "\"Guangxi\",\n",
    "\"Hainan\",\n",
    "\"Chongqing\",\n",
    "\"Sichuan\",\n",
    "\"Guizhou\",\n",
    "\"Yunnan\",\n",
    "\"Tibet\",\n",
    "\"Shaanxi\",\n",
    "\"Gansu\",\n",
    "\"Qinghai\",\n",
    "\"Ningxia\",\n",
    "\"Xinjiang\"]"
   ]
  },
  {
   "cell_type": "code",
   "execution_count": 12,
   "id": "381fdfe1-119a-41c5-82cd-33c1b54685ff",
   "metadata": {},
   "outputs": [
    {
     "name": "stdout",
     "output_type": "stream",
     "text": [
      "<class 'pandas.core.frame.DataFrame'>\n",
      "Int64Index: 72037 entries, 1 to 251889\n",
      "Data columns (total 17 columns):\n",
      " #   Column                              Non-Null Count  Dtype \n",
      "---  ------                              --------------  ----- \n",
      " 0   标题                                  72037 non-null  object\n",
      " 1   Industry Chain Position             72037 non-null  object\n",
      " 2   Primary Technical Branch            72037 non-null  object\n",
      " 3   Patent Type                         72037 non-null  object\n",
      " 4   Publication Country                 72037 non-null  object\n",
      " 5   Publication Date                    72037 non-null  int64 \n",
      " 6   Number of Claims                    72037 non-null  int32 \n",
      " 7   Number of Document Pages            72037 non-null  int32 \n",
      " 8   IPC                                 72037 non-null  object\n",
      " 9   Applicant's Province and City Code  72037 non-null  object\n",
      " 10  Number of Citations within 3 Years  72037 non-null  int64 \n",
      " 11  Number of Citations within 5 Years  72037 non-null  int64 \n",
      " 12  Number of Citing Patents            72037 non-null  int64 \n",
      " 13  Number of Cited Patents             72037 non-null  int32 \n",
      " 14  Patent Validity                     72037 non-null  object\n",
      " 15  Number of Litigation Cases          72037 non-null  int64 \n",
      " 16  Patent Value                        72037 non-null  int64 \n",
      "dtypes: int32(3), int64(6), object(8)\n",
      "memory usage: 9.1+ MB\n"
     ]
    }
   ],
   "source": [
    "df = df[df[\"Applicant's Province and City Code\"].isin(china_provinces)]\n",
    "df.info()"
   ]
  },
  {
   "cell_type": "code",
   "execution_count": 13,
   "id": "633585d5-f765-4edf-8351-83e7989d6aa3",
   "metadata": {},
   "outputs": [],
   "source": [
    "df[\"IPC\"]=df[\"IPC\"].map(lambda x: x.replace(\" \",\"\").split('|')[0].split(\"/\")[0])"
   ]
  },
  {
   "cell_type": "code",
   "execution_count": 14,
   "id": "ddf5de9e-8b8f-4b5a-8cc4-a3d0377d53ef",
   "metadata": {},
   "outputs": [],
   "source": [
    "df[\"Patent Value Classification\"]=\"large\"\n",
    "df.loc[df[\"Patent Value\"]<10000,\"Patent Value Classification\"]=\"small\""
   ]
  },
  {
   "cell_type": "code",
   "execution_count": 15,
   "id": "052ac352-c1ae-4c6c-adde-8decb1e38d5a",
   "metadata": {},
   "outputs": [
    {
     "data": {
      "text/html": [
       "<div>\n",
       "<style scoped>\n",
       "    .dataframe tbody tr th:only-of-type {\n",
       "        vertical-align: middle;\n",
       "    }\n",
       "\n",
       "    .dataframe tbody tr th {\n",
       "        vertical-align: top;\n",
       "    }\n",
       "\n",
       "    .dataframe thead th {\n",
       "        text-align: right;\n",
       "    }\n",
       "</style>\n",
       "<table border=\"1\" class=\"dataframe\">\n",
       "  <thead>\n",
       "    <tr style=\"text-align: right;\">\n",
       "      <th></th>\n",
       "      <th>标题</th>\n",
       "      <th>Industry Chain Position</th>\n",
       "      <th>Primary Technical Branch</th>\n",
       "      <th>Patent Type</th>\n",
       "      <th>Publication Country</th>\n",
       "      <th>IPC</th>\n",
       "      <th>Applicant's Province and City Code</th>\n",
       "      <th>Patent Validity</th>\n",
       "      <th>Patent Value Classification</th>\n",
       "    </tr>\n",
       "  </thead>\n",
       "  <tbody>\n",
       "    <tr>\n",
       "      <th>count</th>\n",
       "      <td>72037</td>\n",
       "      <td>72037</td>\n",
       "      <td>72037</td>\n",
       "      <td>72037</td>\n",
       "      <td>72037</td>\n",
       "      <td>72037</td>\n",
       "      <td>72037</td>\n",
       "      <td>72037</td>\n",
       "      <td>72037</td>\n",
       "    </tr>\n",
       "    <tr>\n",
       "      <th>unique</th>\n",
       "      <td>31951</td>\n",
       "      <td>3</td>\n",
       "      <td>12</td>\n",
       "      <td>3</td>\n",
       "      <td>1</td>\n",
       "      <td>15</td>\n",
       "      <td>31</td>\n",
       "      <td>3</td>\n",
       "      <td>2</td>\n",
       "    </tr>\n",
       "    <tr>\n",
       "      <th>top</th>\n",
       "      <td>一种电梯</td>\n",
       "      <td>Midstream</td>\n",
       "      <td>Application Market</td>\n",
       "      <td>Utility Model Patent</td>\n",
       "      <td>China</td>\n",
       "      <td>B66B5</td>\n",
       "      <td>Jiangsu</td>\n",
       "      <td>Valid</td>\n",
       "      <td>small</td>\n",
       "    </tr>\n",
       "    <tr>\n",
       "      <th>freq</th>\n",
       "      <td>72</td>\n",
       "      <td>26566</td>\n",
       "      <td>19435</td>\n",
       "      <td>48844</td>\n",
       "      <td>72037</td>\n",
       "      <td>19687</td>\n",
       "      <td>17087</td>\n",
       "      <td>58248</td>\n",
       "      <td>62972</td>\n",
       "    </tr>\n",
       "  </tbody>\n",
       "</table>\n",
       "</div>"
      ],
      "text/plain": [
       "           标题 Industry Chain Position Primary Technical Branch  \\\n",
       "count   72037                   72037                    72037   \n",
       "unique  31951                       3                       12   \n",
       "top      一种电梯               Midstream       Application Market   \n",
       "freq       72                   26566                    19435   \n",
       "\n",
       "                 Patent Type Publication Country    IPC  \\\n",
       "count                  72037               72037  72037   \n",
       "unique                     3                   1     15   \n",
       "top     Utility Model Patent               China  B66B5   \n",
       "freq                   48844               72037  19687   \n",
       "\n",
       "       Applicant's Province and City Code Patent Validity  \\\n",
       "count                               72037           72037   \n",
       "unique                                 31               3   \n",
       "top                               Jiangsu           Valid   \n",
       "freq                                17087           58248   \n",
       "\n",
       "       Patent Value Classification  \n",
       "count                        72037  \n",
       "unique                           2  \n",
       "top                          small  \n",
       "freq                         62972  "
      ]
     },
     "execution_count": 15,
     "metadata": {},
     "output_type": "execute_result"
    }
   ],
   "source": [
    "df.select_dtypes(include=[\"object\"]).describe()"
   ]
  },
  {
   "cell_type": "code",
   "execution_count": null,
   "id": "a2ea1232-c335-4cd7-8d4e-933ac7a3caa6",
   "metadata": {},
   "outputs": [],
   "source": []
  },
  {
   "cell_type": "code",
   "execution_count": 16,
   "id": "25beda87-f560-4ed8-a8f0-dfda261e7bbc",
   "metadata": {},
   "outputs": [],
   "source": [
    "df.to_excel(\"./Data/model_inputs.xlsx\",index=False)\n",
    "df.to_csv(\"./Data/model_inputs.CSV\",index=False)"
   ]
  }
 ],
 "metadata": {
  "kernelspec": {
   "display_name": "Python 3 (ipykernel)",
   "language": "python",
   "name": "python3"
  },
  "language_info": {
   "codemirror_mode": {
    "name": "ipython",
    "version": 3
   },
   "file_extension": ".py",
   "mimetype": "text/x-python",
   "name": "python",
   "nbconvert_exporter": "python",
   "pygments_lexer": "ipython3",
   "version": "3.10.7"
  }
 },
 "nbformat": 4,
 "nbformat_minor": 5
}
