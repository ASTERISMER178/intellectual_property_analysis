{
 "cells": [
  {
   "cell_type": "code",
   "execution_count": 1,
   "id": "d3a7936b",
   "metadata": {},
   "outputs": [],
   "source": [
    "import pandas as pd\n",
    "import numpy as np\n"
   ]
  },
  {
   "cell_type": "code",
   "execution_count": 2,
   "id": "b06aba2c",
   "metadata": {},
   "outputs": [],
   "source": [
    "from sklearn.preprocessing import OneHotEncoder\n",
    "from sklearn.preprocessing import StandardScaler\n",
    "from sklearn.model_selection import train_test_split"
   ]
  },
  {
   "cell_type": "code",
   "execution_count": 3,
   "id": "903aa060",
   "metadata": {},
   "outputs": [],
   "source": [
    "df = pd.read_excel('./Data/datapro1.xlsx')"
   ]
  },
  {
   "cell_type": "code",
   "execution_count": 4,
   "id": "cc0b719d",
   "metadata": {},
   "outputs": [],
   "source": [
    "# list(df)"
   ]
  },
  {
   "cell_type": "code",
   "execution_count": null,
   "id": "0f6511cf-7789-4009-9b8e-409e2cd8a9d5",
   "metadata": {},
   "outputs": [],
   "source": []
  },
  {
   "cell_type": "code",
   "execution_count": 5,
   "id": "d801e087",
   "metadata": {},
   "outputs": [],
   "source": [
    "cat_columns = [\n",
    " '产业链位置',\n",
    " '一级技术分支',\n",
    " '专利类型',\n",
    " '申请人省市代码',\n",
    " '专利有效性',\n",
    "]"
   ]
  },
  {
   "cell_type": "code",
   "execution_count": 6,
   "id": "8d6e4f73",
   "metadata": {},
   "outputs": [
    {
     "data": {
      "text/plain": [
       "array([[0., 0., 0., ..., 0., 0., 1.],\n",
       "       [0., 0., 0., ..., 0., 0., 1.],\n",
       "       [0., 0., 0., ..., 0., 1., 0.],\n",
       "       ...,\n",
       "       [1., 0., 0., ..., 0., 0., 1.],\n",
       "       [1., 0., 0., ..., 0., 0., 1.],\n",
       "       [1., 0., 0., ..., 0., 0., 1.]])"
      ]
     },
     "execution_count": 6,
     "metadata": {},
     "output_type": "execute_result"
    }
   ],
   "source": [
    "ohEncoder = OneHotEncoder(drop='first')\n",
    "cat_features = ohEncoder.fit_transform(df[cat_columns]).toarray()\n",
    "cat_features"
   ]
  },
  {
   "cell_type": "code",
   "execution_count": 7,
   "id": "6e5d1929",
   "metadata": {},
   "outputs": [],
   "source": [
    "num_columns = [ \n",
    " '3年内被引用次数',\n",
    " '5年内被引用次数',\n",
    " '引用专利数量',\n",
    " '被引用专利数量',\n",
    " '公开(公告)日',\n",
    " '权利要求数量',\n",
    " '文献页数',\n",
    " '诉讼案件数'\n",
    "]"
   ]
  },
  {
   "cell_type": "code",
   "execution_count": 8,
   "id": "23a624aa",
   "metadata": {},
   "outputs": [
    {
     "data": {
      "text/plain": [
       "array([[-0.35565498, -0.35553307, -0.4584354 , ..., -0.96108065,\n",
       "        -0.5745365 , -0.01858091],\n",
       "       [-0.35565498, -0.35553307, -0.4584354 , ..., -0.61086388,\n",
       "        -1.06995799, -0.01858091],\n",
       "       [-0.35565498, -0.35553307, -0.4584354 , ...,  1.14021993,\n",
       "         1.6548602 , -0.01858091],\n",
       "       ...,\n",
       "       [-0.35565498, -0.35553307, -0.4584354 , ...,  0.4397864 ,\n",
       "        -0.5745365 , -0.01858091],\n",
       "       [-0.35565498, -0.35553307, -0.4584354 , ..., -0.26064712,\n",
       "        -0.07911501, -0.01858091],\n",
       "       [-0.35565498, -0.35553307, -0.12499838, ..., -0.26064712,\n",
       "        -0.32682576, -0.01858091]])"
      ]
     },
     "execution_count": 8,
     "metadata": {},
     "output_type": "execute_result"
    }
   ],
   "source": [
    "stdScaler = StandardScaler()\n",
    "num_features = stdScaler.fit_transform(df[num_columns])\n",
    "num_features"
   ]
  },
  {
   "cell_type": "code",
   "execution_count": 9,
   "id": "9995fb43",
   "metadata": {},
   "outputs": [
    {
     "data": {
      "text/plain": [
       "(72026, 55)"
      ]
     },
     "execution_count": 9,
     "metadata": {},
     "output_type": "execute_result"
    }
   ],
   "source": [
    "X = np.hstack([cat_features, num_features])\n",
    "X.shape"
   ]
  },
  {
   "cell_type": "code",
   "execution_count": 10,
   "id": "65b71393",
   "metadata": {},
   "outputs": [
    {
     "data": {
      "text/plain": [
       "(72026,)"
      ]
     },
     "execution_count": 10,
     "metadata": {},
     "output_type": "execute_result"
    }
   ],
   "source": [
    "y = df['专利价值'].to_numpy()\n",
    "y.shape"
   ]
  },
  {
   "cell_type": "code",
   "execution_count": 11,
   "id": "2af288bd",
   "metadata": {},
   "outputs": [],
   "source": [
    "X_train, X_test, y_train, y_test = train_test_split(X, y,test_size=0.3)\n"
   ]
  },
  {
   "cell_type": "code",
   "execution_count": 12,
   "id": "cb26d721",
   "metadata": {},
   "outputs": [
    {
     "data": {
      "text/plain": [
       "((57620, 55), (14406, 55), (57620,), (14406,))"
      ]
     },
     "execution_count": 12,
     "metadata": {},
     "output_type": "execute_result"
    }
   ],
   "source": [
    "X_train.shape, X_test.shape, y_train.shape, y_test.shape"
   ]
  },
  {
   "cell_type": "code",
   "execution_count": 13,
   "id": "954774d7",
   "metadata": {},
   "outputs": [
    {
     "data": {
      "text/html": [
       "<style>#sk-container-id-1 {color: black;}#sk-container-id-1 pre{padding: 0;}#sk-container-id-1 div.sk-toggleable {background-color: white;}#sk-container-id-1 label.sk-toggleable__label {cursor: pointer;display: block;width: 100%;margin-bottom: 0;padding: 0.3em;box-sizing: border-box;text-align: center;}#sk-container-id-1 label.sk-toggleable__label-arrow:before {content: \"▸\";float: left;margin-right: 0.25em;color: #696969;}#sk-container-id-1 label.sk-toggleable__label-arrow:hover:before {color: black;}#sk-container-id-1 div.sk-estimator:hover label.sk-toggleable__label-arrow:before {color: black;}#sk-container-id-1 div.sk-toggleable__content {max-height: 0;max-width: 0;overflow: hidden;text-align: left;background-color: #f0f8ff;}#sk-container-id-1 div.sk-toggleable__content pre {margin: 0.2em;color: black;border-radius: 0.25em;background-color: #f0f8ff;}#sk-container-id-1 input.sk-toggleable__control:checked~div.sk-toggleable__content {max-height: 200px;max-width: 100%;overflow: auto;}#sk-container-id-1 input.sk-toggleable__control:checked~label.sk-toggleable__label-arrow:before {content: \"▾\";}#sk-container-id-1 div.sk-estimator input.sk-toggleable__control:checked~label.sk-toggleable__label {background-color: #d4ebff;}#sk-container-id-1 div.sk-label input.sk-toggleable__control:checked~label.sk-toggleable__label {background-color: #d4ebff;}#sk-container-id-1 input.sk-hidden--visually {border: 0;clip: rect(1px 1px 1px 1px);clip: rect(1px, 1px, 1px, 1px);height: 1px;margin: -1px;overflow: hidden;padding: 0;position: absolute;width: 1px;}#sk-container-id-1 div.sk-estimator {font-family: monospace;background-color: #f0f8ff;border: 1px dotted black;border-radius: 0.25em;box-sizing: border-box;margin-bottom: 0.5em;}#sk-container-id-1 div.sk-estimator:hover {background-color: #d4ebff;}#sk-container-id-1 div.sk-parallel-item::after {content: \"\";width: 100%;border-bottom: 1px solid gray;flex-grow: 1;}#sk-container-id-1 div.sk-label:hover label.sk-toggleable__label {background-color: #d4ebff;}#sk-container-id-1 div.sk-serial::before {content: \"\";position: absolute;border-left: 1px solid gray;box-sizing: border-box;top: 0;bottom: 0;left: 50%;z-index: 0;}#sk-container-id-1 div.sk-serial {display: flex;flex-direction: column;align-items: center;background-color: white;padding-right: 0.2em;padding-left: 0.2em;position: relative;}#sk-container-id-1 div.sk-item {position: relative;z-index: 1;}#sk-container-id-1 div.sk-parallel {display: flex;align-items: stretch;justify-content: center;background-color: white;position: relative;}#sk-container-id-1 div.sk-item::before, #sk-container-id-1 div.sk-parallel-item::before {content: \"\";position: absolute;border-left: 1px solid gray;box-sizing: border-box;top: 0;bottom: 0;left: 50%;z-index: -1;}#sk-container-id-1 div.sk-parallel-item {display: flex;flex-direction: column;z-index: 1;position: relative;background-color: white;}#sk-container-id-1 div.sk-parallel-item:first-child::after {align-self: flex-end;width: 50%;}#sk-container-id-1 div.sk-parallel-item:last-child::after {align-self: flex-start;width: 50%;}#sk-container-id-1 div.sk-parallel-item:only-child::after {width: 0;}#sk-container-id-1 div.sk-dashed-wrapped {border: 1px dashed gray;margin: 0 0.4em 0.5em 0.4em;box-sizing: border-box;padding-bottom: 0.4em;background-color: white;}#sk-container-id-1 div.sk-label label {font-family: monospace;font-weight: bold;display: inline-block;line-height: 1.2em;}#sk-container-id-1 div.sk-label-container {text-align: center;}#sk-container-id-1 div.sk-container {/* jupyter's `normalize.less` sets `[hidden] { display: none; }` but bootstrap.min.css set `[hidden] { display: none !important; }` so we also need the `!important` here to be able to override the default hidden behavior on the sphinx rendered scikit-learn.org. See: https://github.com/scikit-learn/scikit-learn/issues/21755 */display: inline-block !important;position: relative;}#sk-container-id-1 div.sk-text-repr-fallback {display: none;}</style><div id=\"sk-container-id-1\" class=\"sk-top-container\"><div class=\"sk-text-repr-fallback\"><pre>LinearRegression()</pre><b>In a Jupyter environment, please rerun this cell to show the HTML representation or trust the notebook. <br />On GitHub, the HTML representation is unable to render, please try loading this page with nbviewer.org.</b></div><div class=\"sk-container\" hidden><div class=\"sk-item\"><div class=\"sk-estimator sk-toggleable\"><input class=\"sk-toggleable__control sk-hidden--visually\" id=\"sk-estimator-id-1\" type=\"checkbox\" checked><label for=\"sk-estimator-id-1\" class=\"sk-toggleable__label sk-toggleable__label-arrow\">LinearRegression</label><div class=\"sk-toggleable__content\"><pre>LinearRegression()</pre></div></div></div></div></div>"
      ],
      "text/plain": [
       "LinearRegression()"
      ]
     },
     "execution_count": 13,
     "metadata": {},
     "output_type": "execute_result"
    }
   ],
   "source": [
    "from sklearn.linear_model import LinearRegression\n",
    "LR =  LinearRegression()\n",
    "LR.fit(X_train, y_train)"
   ]
  },
  {
   "cell_type": "code",
   "execution_count": 14,
   "id": "f63aee4a",
   "metadata": {},
   "outputs": [],
   "source": [
    "y_pred_lr = LR.predict(X_test)"
   ]
  },
  {
   "cell_type": "code",
   "execution_count": 15,
   "id": "0641d6c7",
   "metadata": {},
   "outputs": [
    {
     "data": {
      "text/html": [
       "<style>#sk-container-id-2 {color: black;}#sk-container-id-2 pre{padding: 0;}#sk-container-id-2 div.sk-toggleable {background-color: white;}#sk-container-id-2 label.sk-toggleable__label {cursor: pointer;display: block;width: 100%;margin-bottom: 0;padding: 0.3em;box-sizing: border-box;text-align: center;}#sk-container-id-2 label.sk-toggleable__label-arrow:before {content: \"▸\";float: left;margin-right: 0.25em;color: #696969;}#sk-container-id-2 label.sk-toggleable__label-arrow:hover:before {color: black;}#sk-container-id-2 div.sk-estimator:hover label.sk-toggleable__label-arrow:before {color: black;}#sk-container-id-2 div.sk-toggleable__content {max-height: 0;max-width: 0;overflow: hidden;text-align: left;background-color: #f0f8ff;}#sk-container-id-2 div.sk-toggleable__content pre {margin: 0.2em;color: black;border-radius: 0.25em;background-color: #f0f8ff;}#sk-container-id-2 input.sk-toggleable__control:checked~div.sk-toggleable__content {max-height: 200px;max-width: 100%;overflow: auto;}#sk-container-id-2 input.sk-toggleable__control:checked~label.sk-toggleable__label-arrow:before {content: \"▾\";}#sk-container-id-2 div.sk-estimator input.sk-toggleable__control:checked~label.sk-toggleable__label {background-color: #d4ebff;}#sk-container-id-2 div.sk-label input.sk-toggleable__control:checked~label.sk-toggleable__label {background-color: #d4ebff;}#sk-container-id-2 input.sk-hidden--visually {border: 0;clip: rect(1px 1px 1px 1px);clip: rect(1px, 1px, 1px, 1px);height: 1px;margin: -1px;overflow: hidden;padding: 0;position: absolute;width: 1px;}#sk-container-id-2 div.sk-estimator {font-family: monospace;background-color: #f0f8ff;border: 1px dotted black;border-radius: 0.25em;box-sizing: border-box;margin-bottom: 0.5em;}#sk-container-id-2 div.sk-estimator:hover {background-color: #d4ebff;}#sk-container-id-2 div.sk-parallel-item::after {content: \"\";width: 100%;border-bottom: 1px solid gray;flex-grow: 1;}#sk-container-id-2 div.sk-label:hover label.sk-toggleable__label {background-color: #d4ebff;}#sk-container-id-2 div.sk-serial::before {content: \"\";position: absolute;border-left: 1px solid gray;box-sizing: border-box;top: 0;bottom: 0;left: 50%;z-index: 0;}#sk-container-id-2 div.sk-serial {display: flex;flex-direction: column;align-items: center;background-color: white;padding-right: 0.2em;padding-left: 0.2em;position: relative;}#sk-container-id-2 div.sk-item {position: relative;z-index: 1;}#sk-container-id-2 div.sk-parallel {display: flex;align-items: stretch;justify-content: center;background-color: white;position: relative;}#sk-container-id-2 div.sk-item::before, #sk-container-id-2 div.sk-parallel-item::before {content: \"\";position: absolute;border-left: 1px solid gray;box-sizing: border-box;top: 0;bottom: 0;left: 50%;z-index: -1;}#sk-container-id-2 div.sk-parallel-item {display: flex;flex-direction: column;z-index: 1;position: relative;background-color: white;}#sk-container-id-2 div.sk-parallel-item:first-child::after {align-self: flex-end;width: 50%;}#sk-container-id-2 div.sk-parallel-item:last-child::after {align-self: flex-start;width: 50%;}#sk-container-id-2 div.sk-parallel-item:only-child::after {width: 0;}#sk-container-id-2 div.sk-dashed-wrapped {border: 1px dashed gray;margin: 0 0.4em 0.5em 0.4em;box-sizing: border-box;padding-bottom: 0.4em;background-color: white;}#sk-container-id-2 div.sk-label label {font-family: monospace;font-weight: bold;display: inline-block;line-height: 1.2em;}#sk-container-id-2 div.sk-label-container {text-align: center;}#sk-container-id-2 div.sk-container {/* jupyter's `normalize.less` sets `[hidden] { display: none; }` but bootstrap.min.css set `[hidden] { display: none !important; }` so we also need the `!important` here to be able to override the default hidden behavior on the sphinx rendered scikit-learn.org. See: https://github.com/scikit-learn/scikit-learn/issues/21755 */display: inline-block !important;position: relative;}#sk-container-id-2 div.sk-text-repr-fallback {display: none;}</style><div id=\"sk-container-id-2\" class=\"sk-top-container\"><div class=\"sk-text-repr-fallback\"><pre>SGDRegressor()</pre><b>In a Jupyter environment, please rerun this cell to show the HTML representation or trust the notebook. <br />On GitHub, the HTML representation is unable to render, please try loading this page with nbviewer.org.</b></div><div class=\"sk-container\" hidden><div class=\"sk-item\"><div class=\"sk-estimator sk-toggleable\"><input class=\"sk-toggleable__control sk-hidden--visually\" id=\"sk-estimator-id-2\" type=\"checkbox\" checked><label for=\"sk-estimator-id-2\" class=\"sk-toggleable__label sk-toggleable__label-arrow\">SGDRegressor</label><div class=\"sk-toggleable__content\"><pre>SGDRegressor()</pre></div></div></div></div></div>"
      ],
      "text/plain": [
       "SGDRegressor()"
      ]
     },
     "execution_count": 15,
     "metadata": {},
     "output_type": "execute_result"
    }
   ],
   "source": [
    "from sklearn.linear_model import SGDRegressor\n",
    "SGDR =  SGDRegressor()\n",
    "SGDR.fit(X_train, y_train)"
   ]
  },
  {
   "cell_type": "code",
   "execution_count": 16,
   "id": "0d21164d",
   "metadata": {},
   "outputs": [
    {
     "data": {
      "text/plain": [
       "array([  2885.2584999 ,   -485.26964767,  12637.48612086, ...,\n",
       "       127130.40860418,  -9129.76589874,   1594.44537756])"
      ]
     },
     "execution_count": 16,
     "metadata": {},
     "output_type": "execute_result"
    }
   ],
   "source": [
    "y_pred_sgdr = SGDR.predict(X_test)\n",
    "y_pred_sgdr"
   ]
  },
  {
   "cell_type": "code",
   "execution_count": 17,
   "id": "fbae89f6",
   "metadata": {},
   "outputs": [
    {
     "data": {
      "text/html": [
       "<style>#sk-container-id-3 {color: black;}#sk-container-id-3 pre{padding: 0;}#sk-container-id-3 div.sk-toggleable {background-color: white;}#sk-container-id-3 label.sk-toggleable__label {cursor: pointer;display: block;width: 100%;margin-bottom: 0;padding: 0.3em;box-sizing: border-box;text-align: center;}#sk-container-id-3 label.sk-toggleable__label-arrow:before {content: \"▸\";float: left;margin-right: 0.25em;color: #696969;}#sk-container-id-3 label.sk-toggleable__label-arrow:hover:before {color: black;}#sk-container-id-3 div.sk-estimator:hover label.sk-toggleable__label-arrow:before {color: black;}#sk-container-id-3 div.sk-toggleable__content {max-height: 0;max-width: 0;overflow: hidden;text-align: left;background-color: #f0f8ff;}#sk-container-id-3 div.sk-toggleable__content pre {margin: 0.2em;color: black;border-radius: 0.25em;background-color: #f0f8ff;}#sk-container-id-3 input.sk-toggleable__control:checked~div.sk-toggleable__content {max-height: 200px;max-width: 100%;overflow: auto;}#sk-container-id-3 input.sk-toggleable__control:checked~label.sk-toggleable__label-arrow:before {content: \"▾\";}#sk-container-id-3 div.sk-estimator input.sk-toggleable__control:checked~label.sk-toggleable__label {background-color: #d4ebff;}#sk-container-id-3 div.sk-label input.sk-toggleable__control:checked~label.sk-toggleable__label {background-color: #d4ebff;}#sk-container-id-3 input.sk-hidden--visually {border: 0;clip: rect(1px 1px 1px 1px);clip: rect(1px, 1px, 1px, 1px);height: 1px;margin: -1px;overflow: hidden;padding: 0;position: absolute;width: 1px;}#sk-container-id-3 div.sk-estimator {font-family: monospace;background-color: #f0f8ff;border: 1px dotted black;border-radius: 0.25em;box-sizing: border-box;margin-bottom: 0.5em;}#sk-container-id-3 div.sk-estimator:hover {background-color: #d4ebff;}#sk-container-id-3 div.sk-parallel-item::after {content: \"\";width: 100%;border-bottom: 1px solid gray;flex-grow: 1;}#sk-container-id-3 div.sk-label:hover label.sk-toggleable__label {background-color: #d4ebff;}#sk-container-id-3 div.sk-serial::before {content: \"\";position: absolute;border-left: 1px solid gray;box-sizing: border-box;top: 0;bottom: 0;left: 50%;z-index: 0;}#sk-container-id-3 div.sk-serial {display: flex;flex-direction: column;align-items: center;background-color: white;padding-right: 0.2em;padding-left: 0.2em;position: relative;}#sk-container-id-3 div.sk-item {position: relative;z-index: 1;}#sk-container-id-3 div.sk-parallel {display: flex;align-items: stretch;justify-content: center;background-color: white;position: relative;}#sk-container-id-3 div.sk-item::before, #sk-container-id-3 div.sk-parallel-item::before {content: \"\";position: absolute;border-left: 1px solid gray;box-sizing: border-box;top: 0;bottom: 0;left: 50%;z-index: -1;}#sk-container-id-3 div.sk-parallel-item {display: flex;flex-direction: column;z-index: 1;position: relative;background-color: white;}#sk-container-id-3 div.sk-parallel-item:first-child::after {align-self: flex-end;width: 50%;}#sk-container-id-3 div.sk-parallel-item:last-child::after {align-self: flex-start;width: 50%;}#sk-container-id-3 div.sk-parallel-item:only-child::after {width: 0;}#sk-container-id-3 div.sk-dashed-wrapped {border: 1px dashed gray;margin: 0 0.4em 0.5em 0.4em;box-sizing: border-box;padding-bottom: 0.4em;background-color: white;}#sk-container-id-3 div.sk-label label {font-family: monospace;font-weight: bold;display: inline-block;line-height: 1.2em;}#sk-container-id-3 div.sk-label-container {text-align: center;}#sk-container-id-3 div.sk-container {/* jupyter's `normalize.less` sets `[hidden] { display: none; }` but bootstrap.min.css set `[hidden] { display: none !important; }` so we also need the `!important` here to be able to override the default hidden behavior on the sphinx rendered scikit-learn.org. See: https://github.com/scikit-learn/scikit-learn/issues/21755 */display: inline-block !important;position: relative;}#sk-container-id-3 div.sk-text-repr-fallback {display: none;}</style><div id=\"sk-container-id-3\" class=\"sk-top-container\"><div class=\"sk-text-repr-fallback\"><pre>ElasticNet()</pre><b>In a Jupyter environment, please rerun this cell to show the HTML representation or trust the notebook. <br />On GitHub, the HTML representation is unable to render, please try loading this page with nbviewer.org.</b></div><div class=\"sk-container\" hidden><div class=\"sk-item\"><div class=\"sk-estimator sk-toggleable\"><input class=\"sk-toggleable__control sk-hidden--visually\" id=\"sk-estimator-id-3\" type=\"checkbox\" checked><label for=\"sk-estimator-id-3\" class=\"sk-toggleable__label sk-toggleable__label-arrow\">ElasticNet</label><div class=\"sk-toggleable__content\"><pre>ElasticNet()</pre></div></div></div></div></div>"
      ],
      "text/plain": [
       "ElasticNet()"
      ]
     },
     "execution_count": 17,
     "metadata": {},
     "output_type": "execute_result"
    }
   ],
   "source": [
    "from sklearn.linear_model import ElasticNet\n",
    "EN = ElasticNet()\n",
    "EN.fit(X_train, y_train)"
   ]
  },
  {
   "cell_type": "code",
   "execution_count": 18,
   "id": "a71b5ecc",
   "metadata": {},
   "outputs": [
    {
     "data": {
      "text/plain": [
       "array([10533.63192145,  9227.2172808 , 23528.09202746, ...,\n",
       "       97369.73038716,  1448.83914113,  8912.7893526 ])"
      ]
     },
     "execution_count": 18,
     "metadata": {},
     "output_type": "execute_result"
    }
   ],
   "source": [
    "y_pred_en = EN.predict(X_test)\n",
    "y_pred_en"
   ]
  },
  {
   "cell_type": "code",
   "execution_count": 19,
   "id": "2c22de12",
   "metadata": {},
   "outputs": [
    {
     "data": {
      "text/html": [
       "<style>#sk-container-id-4 {color: black;}#sk-container-id-4 pre{padding: 0;}#sk-container-id-4 div.sk-toggleable {background-color: white;}#sk-container-id-4 label.sk-toggleable__label {cursor: pointer;display: block;width: 100%;margin-bottom: 0;padding: 0.3em;box-sizing: border-box;text-align: center;}#sk-container-id-4 label.sk-toggleable__label-arrow:before {content: \"▸\";float: left;margin-right: 0.25em;color: #696969;}#sk-container-id-4 label.sk-toggleable__label-arrow:hover:before {color: black;}#sk-container-id-4 div.sk-estimator:hover label.sk-toggleable__label-arrow:before {color: black;}#sk-container-id-4 div.sk-toggleable__content {max-height: 0;max-width: 0;overflow: hidden;text-align: left;background-color: #f0f8ff;}#sk-container-id-4 div.sk-toggleable__content pre {margin: 0.2em;color: black;border-radius: 0.25em;background-color: #f0f8ff;}#sk-container-id-4 input.sk-toggleable__control:checked~div.sk-toggleable__content {max-height: 200px;max-width: 100%;overflow: auto;}#sk-container-id-4 input.sk-toggleable__control:checked~label.sk-toggleable__label-arrow:before {content: \"▾\";}#sk-container-id-4 div.sk-estimator input.sk-toggleable__control:checked~label.sk-toggleable__label {background-color: #d4ebff;}#sk-container-id-4 div.sk-label input.sk-toggleable__control:checked~label.sk-toggleable__label {background-color: #d4ebff;}#sk-container-id-4 input.sk-hidden--visually {border: 0;clip: rect(1px 1px 1px 1px);clip: rect(1px, 1px, 1px, 1px);height: 1px;margin: -1px;overflow: hidden;padding: 0;position: absolute;width: 1px;}#sk-container-id-4 div.sk-estimator {font-family: monospace;background-color: #f0f8ff;border: 1px dotted black;border-radius: 0.25em;box-sizing: border-box;margin-bottom: 0.5em;}#sk-container-id-4 div.sk-estimator:hover {background-color: #d4ebff;}#sk-container-id-4 div.sk-parallel-item::after {content: \"\";width: 100%;border-bottom: 1px solid gray;flex-grow: 1;}#sk-container-id-4 div.sk-label:hover label.sk-toggleable__label {background-color: #d4ebff;}#sk-container-id-4 div.sk-serial::before {content: \"\";position: absolute;border-left: 1px solid gray;box-sizing: border-box;top: 0;bottom: 0;left: 50%;z-index: 0;}#sk-container-id-4 div.sk-serial {display: flex;flex-direction: column;align-items: center;background-color: white;padding-right: 0.2em;padding-left: 0.2em;position: relative;}#sk-container-id-4 div.sk-item {position: relative;z-index: 1;}#sk-container-id-4 div.sk-parallel {display: flex;align-items: stretch;justify-content: center;background-color: white;position: relative;}#sk-container-id-4 div.sk-item::before, #sk-container-id-4 div.sk-parallel-item::before {content: \"\";position: absolute;border-left: 1px solid gray;box-sizing: border-box;top: 0;bottom: 0;left: 50%;z-index: -1;}#sk-container-id-4 div.sk-parallel-item {display: flex;flex-direction: column;z-index: 1;position: relative;background-color: white;}#sk-container-id-4 div.sk-parallel-item:first-child::after {align-self: flex-end;width: 50%;}#sk-container-id-4 div.sk-parallel-item:last-child::after {align-self: flex-start;width: 50%;}#sk-container-id-4 div.sk-parallel-item:only-child::after {width: 0;}#sk-container-id-4 div.sk-dashed-wrapped {border: 1px dashed gray;margin: 0 0.4em 0.5em 0.4em;box-sizing: border-box;padding-bottom: 0.4em;background-color: white;}#sk-container-id-4 div.sk-label label {font-family: monospace;font-weight: bold;display: inline-block;line-height: 1.2em;}#sk-container-id-4 div.sk-label-container {text-align: center;}#sk-container-id-4 div.sk-container {/* jupyter's `normalize.less` sets `[hidden] { display: none; }` but bootstrap.min.css set `[hidden] { display: none !important; }` so we also need the `!important` here to be able to override the default hidden behavior on the sphinx rendered scikit-learn.org. See: https://github.com/scikit-learn/scikit-learn/issues/21755 */display: inline-block !important;position: relative;}#sk-container-id-4 div.sk-text-repr-fallback {display: none;}</style><div id=\"sk-container-id-4\" class=\"sk-top-container\"><div class=\"sk-text-repr-fallback\"><pre>BayesianRidge()</pre><b>In a Jupyter environment, please rerun this cell to show the HTML representation or trust the notebook. <br />On GitHub, the HTML representation is unable to render, please try loading this page with nbviewer.org.</b></div><div class=\"sk-container\" hidden><div class=\"sk-item\"><div class=\"sk-estimator sk-toggleable\"><input class=\"sk-toggleable__control sk-hidden--visually\" id=\"sk-estimator-id-4\" type=\"checkbox\" checked><label for=\"sk-estimator-id-4\" class=\"sk-toggleable__label sk-toggleable__label-arrow\">BayesianRidge</label><div class=\"sk-toggleable__content\"><pre>BayesianRidge()</pre></div></div></div></div></div>"
      ],
      "text/plain": [
       "BayesianRidge()"
      ]
     },
     "execution_count": 19,
     "metadata": {},
     "output_type": "execute_result"
    }
   ],
   "source": [
    "from sklearn.linear_model import BayesianRidge\n",
    "BR = BayesianRidge()\n",
    "BR.fit(X_train, y_train)"
   ]
  },
  {
   "cell_type": "code",
   "execution_count": 20,
   "id": "10cb0dc2",
   "metadata": {},
   "outputs": [
    {
     "data": {
      "text/plain": [
       "array([  1328.5262825 ,   -721.15541257,  13570.62954879, ...,\n",
       "       117691.71981891,  -7582.92650162,   1968.5927481 ])"
      ]
     },
     "execution_count": 20,
     "metadata": {},
     "output_type": "execute_result"
    }
   ],
   "source": [
    "y_pred_br = BR.predict(X_test)\n",
    "y_pred_br"
   ]
  },
  {
   "cell_type": "code",
   "execution_count": 21,
   "id": "ce286837",
   "metadata": {},
   "outputs": [
    {
     "name": "stdout",
     "output_type": "stream",
     "text": [
      "[LightGBM] [Info] Total Bins 297\n",
      "[LightGBM] [Info] Number of data points in the train set: 57620, number of used features: 53\n",
      "[LightGBM] [Info] Start training from score 19858.491843\n"
     ]
    },
    {
     "data": {
      "text/html": [
       "<style>#sk-container-id-5 {color: black;}#sk-container-id-5 pre{padding: 0;}#sk-container-id-5 div.sk-toggleable {background-color: white;}#sk-container-id-5 label.sk-toggleable__label {cursor: pointer;display: block;width: 100%;margin-bottom: 0;padding: 0.3em;box-sizing: border-box;text-align: center;}#sk-container-id-5 label.sk-toggleable__label-arrow:before {content: \"▸\";float: left;margin-right: 0.25em;color: #696969;}#sk-container-id-5 label.sk-toggleable__label-arrow:hover:before {color: black;}#sk-container-id-5 div.sk-estimator:hover label.sk-toggleable__label-arrow:before {color: black;}#sk-container-id-5 div.sk-toggleable__content {max-height: 0;max-width: 0;overflow: hidden;text-align: left;background-color: #f0f8ff;}#sk-container-id-5 div.sk-toggleable__content pre {margin: 0.2em;color: black;border-radius: 0.25em;background-color: #f0f8ff;}#sk-container-id-5 input.sk-toggleable__control:checked~div.sk-toggleable__content {max-height: 200px;max-width: 100%;overflow: auto;}#sk-container-id-5 input.sk-toggleable__control:checked~label.sk-toggleable__label-arrow:before {content: \"▾\";}#sk-container-id-5 div.sk-estimator input.sk-toggleable__control:checked~label.sk-toggleable__label {background-color: #d4ebff;}#sk-container-id-5 div.sk-label input.sk-toggleable__control:checked~label.sk-toggleable__label {background-color: #d4ebff;}#sk-container-id-5 input.sk-hidden--visually {border: 0;clip: rect(1px 1px 1px 1px);clip: rect(1px, 1px, 1px, 1px);height: 1px;margin: -1px;overflow: hidden;padding: 0;position: absolute;width: 1px;}#sk-container-id-5 div.sk-estimator {font-family: monospace;background-color: #f0f8ff;border: 1px dotted black;border-radius: 0.25em;box-sizing: border-box;margin-bottom: 0.5em;}#sk-container-id-5 div.sk-estimator:hover {background-color: #d4ebff;}#sk-container-id-5 div.sk-parallel-item::after {content: \"\";width: 100%;border-bottom: 1px solid gray;flex-grow: 1;}#sk-container-id-5 div.sk-label:hover label.sk-toggleable__label {background-color: #d4ebff;}#sk-container-id-5 div.sk-serial::before {content: \"\";position: absolute;border-left: 1px solid gray;box-sizing: border-box;top: 0;bottom: 0;left: 50%;z-index: 0;}#sk-container-id-5 div.sk-serial {display: flex;flex-direction: column;align-items: center;background-color: white;padding-right: 0.2em;padding-left: 0.2em;position: relative;}#sk-container-id-5 div.sk-item {position: relative;z-index: 1;}#sk-container-id-5 div.sk-parallel {display: flex;align-items: stretch;justify-content: center;background-color: white;position: relative;}#sk-container-id-5 div.sk-item::before, #sk-container-id-5 div.sk-parallel-item::before {content: \"\";position: absolute;border-left: 1px solid gray;box-sizing: border-box;top: 0;bottom: 0;left: 50%;z-index: -1;}#sk-container-id-5 div.sk-parallel-item {display: flex;flex-direction: column;z-index: 1;position: relative;background-color: white;}#sk-container-id-5 div.sk-parallel-item:first-child::after {align-self: flex-end;width: 50%;}#sk-container-id-5 div.sk-parallel-item:last-child::after {align-self: flex-start;width: 50%;}#sk-container-id-5 div.sk-parallel-item:only-child::after {width: 0;}#sk-container-id-5 div.sk-dashed-wrapped {border: 1px dashed gray;margin: 0 0.4em 0.5em 0.4em;box-sizing: border-box;padding-bottom: 0.4em;background-color: white;}#sk-container-id-5 div.sk-label label {font-family: monospace;font-weight: bold;display: inline-block;line-height: 1.2em;}#sk-container-id-5 div.sk-label-container {text-align: center;}#sk-container-id-5 div.sk-container {/* jupyter's `normalize.less` sets `[hidden] { display: none; }` but bootstrap.min.css set `[hidden] { display: none !important; }` so we also need the `!important` here to be able to override the default hidden behavior on the sphinx rendered scikit-learn.org. See: https://github.com/scikit-learn/scikit-learn/issues/21755 */display: inline-block !important;position: relative;}#sk-container-id-5 div.sk-text-repr-fallback {display: none;}</style><div id=\"sk-container-id-5\" class=\"sk-top-container\"><div class=\"sk-text-repr-fallback\"><pre>LGBMRegressor(force_row_wise=True)</pre><b>In a Jupyter environment, please rerun this cell to show the HTML representation or trust the notebook. <br />On GitHub, the HTML representation is unable to render, please try loading this page with nbviewer.org.</b></div><div class=\"sk-container\" hidden><div class=\"sk-item\"><div class=\"sk-estimator sk-toggleable\"><input class=\"sk-toggleable__control sk-hidden--visually\" id=\"sk-estimator-id-5\" type=\"checkbox\" checked><label for=\"sk-estimator-id-5\" class=\"sk-toggleable__label sk-toggleable__label-arrow\">LGBMRegressor</label><div class=\"sk-toggleable__content\"><pre>LGBMRegressor(force_row_wise=True)</pre></div></div></div></div></div>"
      ],
      "text/plain": [
       "LGBMRegressor(force_row_wise=True)"
      ]
     },
     "execution_count": 21,
     "metadata": {},
     "output_type": "execute_result"
    }
   ],
   "source": [
    "from lightgbm import LGBMRegressor\n",
    "LGBMR = LGBMRegressor(force_row_wise=True)\n",
    "LGBMR.fit(X_train, y_train)"
   ]
  },
  {
   "cell_type": "code",
   "execution_count": 22,
   "id": "a5405273",
   "metadata": {},
   "outputs": [
    {
     "data": {
      "text/plain": [
       "array([  3653.35119387,   3440.76087534,   4346.79961542, ...,\n",
       "       122573.50121474,   3440.76087534,   3440.76087534])"
      ]
     },
     "execution_count": 22,
     "metadata": {},
     "output_type": "execute_result"
    }
   ],
   "source": [
    "y_pred_lgbmr = LGBMR.predict(X_test)\n",
    "y_pred_lgbmr"
   ]
  },
  {
   "cell_type": "code",
   "execution_count": 23,
   "id": "662685ce",
   "metadata": {},
   "outputs": [
    {
     "data": {
      "text/html": [
       "<style>#sk-container-id-6 {color: black;}#sk-container-id-6 pre{padding: 0;}#sk-container-id-6 div.sk-toggleable {background-color: white;}#sk-container-id-6 label.sk-toggleable__label {cursor: pointer;display: block;width: 100%;margin-bottom: 0;padding: 0.3em;box-sizing: border-box;text-align: center;}#sk-container-id-6 label.sk-toggleable__label-arrow:before {content: \"▸\";float: left;margin-right: 0.25em;color: #696969;}#sk-container-id-6 label.sk-toggleable__label-arrow:hover:before {color: black;}#sk-container-id-6 div.sk-estimator:hover label.sk-toggleable__label-arrow:before {color: black;}#sk-container-id-6 div.sk-toggleable__content {max-height: 0;max-width: 0;overflow: hidden;text-align: left;background-color: #f0f8ff;}#sk-container-id-6 div.sk-toggleable__content pre {margin: 0.2em;color: black;border-radius: 0.25em;background-color: #f0f8ff;}#sk-container-id-6 input.sk-toggleable__control:checked~div.sk-toggleable__content {max-height: 200px;max-width: 100%;overflow: auto;}#sk-container-id-6 input.sk-toggleable__control:checked~label.sk-toggleable__label-arrow:before {content: \"▾\";}#sk-container-id-6 div.sk-estimator input.sk-toggleable__control:checked~label.sk-toggleable__label {background-color: #d4ebff;}#sk-container-id-6 div.sk-label input.sk-toggleable__control:checked~label.sk-toggleable__label {background-color: #d4ebff;}#sk-container-id-6 input.sk-hidden--visually {border: 0;clip: rect(1px 1px 1px 1px);clip: rect(1px, 1px, 1px, 1px);height: 1px;margin: -1px;overflow: hidden;padding: 0;position: absolute;width: 1px;}#sk-container-id-6 div.sk-estimator {font-family: monospace;background-color: #f0f8ff;border: 1px dotted black;border-radius: 0.25em;box-sizing: border-box;margin-bottom: 0.5em;}#sk-container-id-6 div.sk-estimator:hover {background-color: #d4ebff;}#sk-container-id-6 div.sk-parallel-item::after {content: \"\";width: 100%;border-bottom: 1px solid gray;flex-grow: 1;}#sk-container-id-6 div.sk-label:hover label.sk-toggleable__label {background-color: #d4ebff;}#sk-container-id-6 div.sk-serial::before {content: \"\";position: absolute;border-left: 1px solid gray;box-sizing: border-box;top: 0;bottom: 0;left: 50%;z-index: 0;}#sk-container-id-6 div.sk-serial {display: flex;flex-direction: column;align-items: center;background-color: white;padding-right: 0.2em;padding-left: 0.2em;position: relative;}#sk-container-id-6 div.sk-item {position: relative;z-index: 1;}#sk-container-id-6 div.sk-parallel {display: flex;align-items: stretch;justify-content: center;background-color: white;position: relative;}#sk-container-id-6 div.sk-item::before, #sk-container-id-6 div.sk-parallel-item::before {content: \"\";position: absolute;border-left: 1px solid gray;box-sizing: border-box;top: 0;bottom: 0;left: 50%;z-index: -1;}#sk-container-id-6 div.sk-parallel-item {display: flex;flex-direction: column;z-index: 1;position: relative;background-color: white;}#sk-container-id-6 div.sk-parallel-item:first-child::after {align-self: flex-end;width: 50%;}#sk-container-id-6 div.sk-parallel-item:last-child::after {align-self: flex-start;width: 50%;}#sk-container-id-6 div.sk-parallel-item:only-child::after {width: 0;}#sk-container-id-6 div.sk-dashed-wrapped {border: 1px dashed gray;margin: 0 0.4em 0.5em 0.4em;box-sizing: border-box;padding-bottom: 0.4em;background-color: white;}#sk-container-id-6 div.sk-label label {font-family: monospace;font-weight: bold;display: inline-block;line-height: 1.2em;}#sk-container-id-6 div.sk-label-container {text-align: center;}#sk-container-id-6 div.sk-container {/* jupyter's `normalize.less` sets `[hidden] { display: none; }` but bootstrap.min.css set `[hidden] { display: none !important; }` so we also need the `!important` here to be able to override the default hidden behavior on the sphinx rendered scikit-learn.org. See: https://github.com/scikit-learn/scikit-learn/issues/21755 */display: inline-block !important;position: relative;}#sk-container-id-6 div.sk-text-repr-fallback {display: none;}</style><div id=\"sk-container-id-6\" class=\"sk-top-container\"><div class=\"sk-text-repr-fallback\"><pre>XGBRegressor(base_score=None, booster=None, callbacks=None,\n",
       "             colsample_bylevel=None, colsample_bynode=None,\n",
       "             colsample_bytree=None, device=None, early_stopping_rounds=None,\n",
       "             enable_categorical=False, eval_metric=None, feature_types=None,\n",
       "             gamma=None, grow_policy=None, importance_type=None,\n",
       "             interaction_constraints=None, learning_rate=None, max_bin=None,\n",
       "             max_cat_threshold=None, max_cat_to_onehot=None,\n",
       "             max_delta_step=None, max_depth=None, max_leaves=None,\n",
       "             min_child_weight=None, missing=nan, monotone_constraints=None,\n",
       "             multi_strategy=None, n_estimators=None, n_jobs=None,\n",
       "             num_parallel_tree=None, random_state=None, ...)</pre><b>In a Jupyter environment, please rerun this cell to show the HTML representation or trust the notebook. <br />On GitHub, the HTML representation is unable to render, please try loading this page with nbviewer.org.</b></div><div class=\"sk-container\" hidden><div class=\"sk-item\"><div class=\"sk-estimator sk-toggleable\"><input class=\"sk-toggleable__control sk-hidden--visually\" id=\"sk-estimator-id-6\" type=\"checkbox\" checked><label for=\"sk-estimator-id-6\" class=\"sk-toggleable__label sk-toggleable__label-arrow\">XGBRegressor</label><div class=\"sk-toggleable__content\"><pre>XGBRegressor(base_score=None, booster=None, callbacks=None,\n",
       "             colsample_bylevel=None, colsample_bynode=None,\n",
       "             colsample_bytree=None, device=None, early_stopping_rounds=None,\n",
       "             enable_categorical=False, eval_metric=None, feature_types=None,\n",
       "             gamma=None, grow_policy=None, importance_type=None,\n",
       "             interaction_constraints=None, learning_rate=None, max_bin=None,\n",
       "             max_cat_threshold=None, max_cat_to_onehot=None,\n",
       "             max_delta_step=None, max_depth=None, max_leaves=None,\n",
       "             min_child_weight=None, missing=nan, monotone_constraints=None,\n",
       "             multi_strategy=None, n_estimators=None, n_jobs=None,\n",
       "             num_parallel_tree=None, random_state=None, ...)</pre></div></div></div></div></div>"
      ],
      "text/plain": [
       "XGBRegressor(base_score=None, booster=None, callbacks=None,\n",
       "             colsample_bylevel=None, colsample_bynode=None,\n",
       "             colsample_bytree=None, device=None, early_stopping_rounds=None,\n",
       "             enable_categorical=False, eval_metric=None, feature_types=None,\n",
       "             gamma=None, grow_policy=None, importance_type=None,\n",
       "             interaction_constraints=None, learning_rate=None, max_bin=None,\n",
       "             max_cat_threshold=None, max_cat_to_onehot=None,\n",
       "             max_delta_step=None, max_depth=None, max_leaves=None,\n",
       "             min_child_weight=None, missing=nan, monotone_constraints=None,\n",
       "             multi_strategy=None, n_estimators=None, n_jobs=None,\n",
       "             num_parallel_tree=None, random_state=None, ...)"
      ]
     },
     "execution_count": 23,
     "metadata": {},
     "output_type": "execute_result"
    }
   ],
   "source": [
    "from xgboost.sklearn import XGBRegressor\n",
    "XGBR=XGBRegressor()\n",
    "XGBR.fit(X_train, y_train)"
   ]
  },
  {
   "cell_type": "code",
   "execution_count": 24,
   "id": "0717e0f7",
   "metadata": {},
   "outputs": [
    {
     "data": {
      "text/plain": [
       "array([  3282.6956,   3359.2744,   3467.0754, ..., 127409.16  ,\n",
       "         3203.753 ,   3309.9312], dtype=float32)"
      ]
     },
     "execution_count": 24,
     "metadata": {},
     "output_type": "execute_result"
    }
   ],
   "source": [
    "y_pred_xgbr = XGBR.predict(X_test)\n",
    "y_pred_xgbr"
   ]
  },
  {
   "cell_type": "code",
   "execution_count": 25,
   "id": "5c86812f",
   "metadata": {},
   "outputs": [
    {
     "name": "stdout",
     "output_type": "stream",
     "text": [
      "Learning rate set to 0.077687\n",
      "0:\tlearn: 101005.5301103\ttotal: 152ms\tremaining: 2m 32s\n",
      "1:\tlearn: 97128.7105302\ttotal: 156ms\tremaining: 1m 18s\n",
      "2:\tlearn: 93775.9604492\ttotal: 161ms\tremaining: 53.5s\n",
      "3:\tlearn: 90680.8160252\ttotal: 165ms\tremaining: 41s\n",
      "4:\tlearn: 87965.4675645\ttotal: 169ms\tremaining: 33.7s\n",
      "5:\tlearn: 85528.1594429\ttotal: 174ms\tremaining: 28.8s\n",
      "6:\tlearn: 83236.9926387\ttotal: 178ms\tremaining: 25.3s\n",
      "7:\tlearn: 81284.1779623\ttotal: 182ms\tremaining: 22.6s\n",
      "8:\tlearn: 79515.7185941\ttotal: 186ms\tremaining: 20.5s\n",
      "9:\tlearn: 77925.3575692\ttotal: 191ms\tremaining: 18.9s\n",
      "10:\tlearn: 76503.6870370\ttotal: 195ms\tremaining: 17.5s\n",
      "11:\tlearn: 75238.6219464\ttotal: 201ms\tremaining: 16.5s\n",
      "12:\tlearn: 74096.3571584\ttotal: 207ms\tremaining: 15.7s\n",
      "13:\tlearn: 73115.7561469\ttotal: 212ms\tremaining: 14.9s\n",
      "14:\tlearn: 72229.0868867\ttotal: 218ms\tremaining: 14.3s\n",
      "15:\tlearn: 71419.6550075\ttotal: 223ms\tremaining: 13.7s\n",
      "16:\tlearn: 70694.5150483\ttotal: 228ms\tremaining: 13.2s\n",
      "17:\tlearn: 70014.5718937\ttotal: 233ms\tremaining: 12.7s\n",
      "18:\tlearn: 69458.6719907\ttotal: 237ms\tremaining: 12.3s\n",
      "19:\tlearn: 68954.5776993\ttotal: 242ms\tremaining: 11.8s\n",
      "20:\tlearn: 68328.2818817\ttotal: 246ms\tremaining: 11.5s\n",
      "21:\tlearn: 67867.9406780\ttotal: 250ms\tremaining: 11.1s\n",
      "22:\tlearn: 67445.9617276\ttotal: 254ms\tremaining: 10.8s\n",
      "23:\tlearn: 67112.1917459\ttotal: 258ms\tremaining: 10.5s\n",
      "24:\tlearn: 66648.9147741\ttotal: 262ms\tremaining: 10.2s\n",
      "25:\tlearn: 66312.5154702\ttotal: 265ms\tremaining: 9.94s\n",
      "26:\tlearn: 65928.7819402\ttotal: 269ms\tremaining: 9.7s\n",
      "27:\tlearn: 65720.2488216\ttotal: 273ms\tremaining: 9.48s\n",
      "28:\tlearn: 65519.4347917\ttotal: 276ms\tremaining: 9.26s\n",
      "29:\tlearn: 65321.8781426\ttotal: 280ms\tremaining: 9.05s\n",
      "30:\tlearn: 65032.6078680\ttotal: 283ms\tremaining: 8.86s\n",
      "31:\tlearn: 64827.6116122\ttotal: 287ms\tremaining: 8.68s\n",
      "32:\tlearn: 64689.4420228\ttotal: 290ms\tremaining: 8.5s\n",
      "33:\tlearn: 64463.2289894\ttotal: 294ms\tremaining: 8.35s\n",
      "34:\tlearn: 64229.4269655\ttotal: 297ms\tremaining: 8.19s\n",
      "35:\tlearn: 64089.0750987\ttotal: 301ms\tremaining: 8.05s\n",
      "36:\tlearn: 63929.4893817\ttotal: 304ms\tremaining: 7.92s\n",
      "37:\tlearn: 63668.6829888\ttotal: 308ms\tremaining: 7.8s\n",
      "38:\tlearn: 63536.6516187\ttotal: 312ms\tremaining: 7.68s\n",
      "39:\tlearn: 63430.7814268\ttotal: 315ms\tremaining: 7.56s\n",
      "40:\tlearn: 63285.0303605\ttotal: 319ms\tremaining: 7.45s\n",
      "41:\tlearn: 63170.1596984\ttotal: 322ms\tremaining: 7.35s\n",
      "42:\tlearn: 63069.9049046\ttotal: 326ms\tremaining: 7.25s\n",
      "43:\tlearn: 62958.0027716\ttotal: 329ms\tremaining: 7.15s\n",
      "44:\tlearn: 62813.2824761\ttotal: 333ms\tremaining: 7.06s\n",
      "45:\tlearn: 62718.8954265\ttotal: 336ms\tremaining: 6.98s\n",
      "46:\tlearn: 62590.0954869\ttotal: 340ms\tremaining: 6.89s\n",
      "47:\tlearn: 62481.3211390\ttotal: 344ms\tremaining: 6.83s\n",
      "48:\tlearn: 62388.9297443\ttotal: 349ms\tremaining: 6.77s\n",
      "49:\tlearn: 62133.0473611\ttotal: 353ms\tremaining: 6.71s\n",
      "50:\tlearn: 62039.5808655\ttotal: 357ms\tremaining: 6.64s\n",
      "51:\tlearn: 61958.5093426\ttotal: 361ms\tremaining: 6.57s\n",
      "52:\tlearn: 61838.4465015\ttotal: 364ms\tremaining: 6.51s\n",
      "53:\tlearn: 61735.2744156\ttotal: 368ms\tremaining: 6.44s\n",
      "54:\tlearn: 61670.9189729\ttotal: 371ms\tremaining: 6.38s\n",
      "55:\tlearn: 61611.4865184\ttotal: 375ms\tremaining: 6.32s\n",
      "56:\tlearn: 61591.2139256\ttotal: 378ms\tremaining: 6.26s\n",
      "57:\tlearn: 61415.3261555\ttotal: 382ms\tremaining: 6.21s\n",
      "58:\tlearn: 61306.4576243\ttotal: 386ms\tremaining: 6.15s\n",
      "59:\tlearn: 61255.0936762\ttotal: 389ms\tremaining: 6.1s\n",
      "60:\tlearn: 61202.4609049\ttotal: 393ms\tremaining: 6.05s\n",
      "61:\tlearn: 61121.5118365\ttotal: 396ms\tremaining: 6s\n",
      "62:\tlearn: 61072.0358936\ttotal: 401ms\tremaining: 5.96s\n",
      "63:\tlearn: 60996.2112672\ttotal: 405ms\tremaining: 5.93s\n",
      "64:\tlearn: 60912.6948902\ttotal: 409ms\tremaining: 5.89s\n",
      "65:\tlearn: 60869.0195980\ttotal: 414ms\tremaining: 5.86s\n",
      "66:\tlearn: 60791.9880347\ttotal: 419ms\tremaining: 5.83s\n",
      "67:\tlearn: 60064.9327173\ttotal: 424ms\tremaining: 5.81s\n",
      "68:\tlearn: 59965.5580737\ttotal: 429ms\tremaining: 5.78s\n",
      "69:\tlearn: 59897.2987588\ttotal: 433ms\tremaining: 5.75s\n",
      "70:\tlearn: 59842.1604351\ttotal: 437ms\tremaining: 5.72s\n",
      "71:\tlearn: 59675.6713381\ttotal: 441ms\tremaining: 5.69s\n",
      "72:\tlearn: 59604.5208617\ttotal: 445ms\tremaining: 5.65s\n",
      "73:\tlearn: 59532.0884537\ttotal: 449ms\tremaining: 5.62s\n",
      "74:\tlearn: 59525.1442228\ttotal: 453ms\tremaining: 5.58s\n",
      "75:\tlearn: 59517.3525044\ttotal: 457ms\tremaining: 5.55s\n",
      "76:\tlearn: 59492.0207693\ttotal: 460ms\tremaining: 5.52s\n",
      "77:\tlearn: 59425.6826719\ttotal: 465ms\tremaining: 5.49s\n",
      "78:\tlearn: 59377.3413353\ttotal: 469ms\tremaining: 5.47s\n",
      "79:\tlearn: 59312.5413781\ttotal: 473ms\tremaining: 5.44s\n",
      "80:\tlearn: 59174.1481186\ttotal: 478ms\tremaining: 5.42s\n",
      "81:\tlearn: 59115.5682553\ttotal: 482ms\tremaining: 5.39s\n",
      "82:\tlearn: 58988.7223939\ttotal: 486ms\tremaining: 5.37s\n",
      "83:\tlearn: 58932.3181053\ttotal: 490ms\tremaining: 5.34s\n",
      "84:\tlearn: 58250.5268742\ttotal: 494ms\tremaining: 5.32s\n",
      "85:\tlearn: 58196.0817857\ttotal: 499ms\tremaining: 5.3s\n",
      "86:\tlearn: 58137.2039547\ttotal: 503ms\tremaining: 5.28s\n",
      "87:\tlearn: 58059.9263057\ttotal: 508ms\tremaining: 5.26s\n",
      "88:\tlearn: 57981.0990358\ttotal: 513ms\tremaining: 5.25s\n",
      "89:\tlearn: 57968.5693946\ttotal: 518ms\tremaining: 5.23s\n",
      "90:\tlearn: 57918.7775866\ttotal: 522ms\tremaining: 5.22s\n",
      "91:\tlearn: 57855.4564360\ttotal: 527ms\tremaining: 5.2s\n",
      "92:\tlearn: 57818.7601296\ttotal: 531ms\tremaining: 5.18s\n",
      "93:\tlearn: 57684.8714389\ttotal: 537ms\tremaining: 5.17s\n",
      "94:\tlearn: 57631.9132991\ttotal: 541ms\tremaining: 5.16s\n",
      "95:\tlearn: 57570.9056779\ttotal: 546ms\tremaining: 5.14s\n",
      "96:\tlearn: 56941.8764877\ttotal: 550ms\tremaining: 5.12s\n",
      "97:\tlearn: 56910.8487293\ttotal: 553ms\tremaining: 5.09s\n",
      "98:\tlearn: 56903.0236230\ttotal: 557ms\tremaining: 5.07s\n",
      "99:\tlearn: 56850.4960324\ttotal: 560ms\tremaining: 5.04s\n",
      "100:\tlearn: 56833.0676183\ttotal: 564ms\tremaining: 5.02s\n",
      "101:\tlearn: 56777.4898917\ttotal: 568ms\tremaining: 5s\n",
      "102:\tlearn: 56765.8361683\ttotal: 571ms\tremaining: 4.97s\n",
      "103:\tlearn: 56589.7352852\ttotal: 575ms\tremaining: 4.95s\n",
      "104:\tlearn: 56585.1642072\ttotal: 578ms\tremaining: 4.92s\n",
      "105:\tlearn: 56523.0344389\ttotal: 582ms\tremaining: 4.91s\n",
      "106:\tlearn: 56480.8528892\ttotal: 586ms\tremaining: 4.89s\n",
      "107:\tlearn: 56353.2125988\ttotal: 590ms\tremaining: 4.87s\n",
      "108:\tlearn: 56240.4998851\ttotal: 594ms\tremaining: 4.85s\n",
      "109:\tlearn: 56041.8198033\ttotal: 598ms\tremaining: 4.84s\n",
      "110:\tlearn: 55990.0784883\ttotal: 601ms\tremaining: 4.82s\n",
      "111:\tlearn: 55986.1225271\ttotal: 605ms\tremaining: 4.79s\n",
      "112:\tlearn: 55855.0915939\ttotal: 609ms\tremaining: 4.78s\n",
      "113:\tlearn: 55850.3734801\ttotal: 613ms\tremaining: 4.77s\n",
      "114:\tlearn: 55795.2866567\ttotal: 617ms\tremaining: 4.75s\n",
      "115:\tlearn: 55749.0056098\ttotal: 621ms\tremaining: 4.74s\n",
      "116:\tlearn: 55576.3768373\ttotal: 626ms\tremaining: 4.72s\n",
      "117:\tlearn: 55571.3465877\ttotal: 631ms\tremaining: 4.71s\n",
      "118:\tlearn: 55516.0650259\ttotal: 635ms\tremaining: 4.7s\n",
      "119:\tlearn: 55442.4910021\ttotal: 638ms\tremaining: 4.68s\n",
      "120:\tlearn: 55396.7466138\ttotal: 642ms\tremaining: 4.67s\n",
      "121:\tlearn: 55367.8345494\ttotal: 646ms\tremaining: 4.65s\n",
      "122:\tlearn: 55287.9608972\ttotal: 650ms\tremaining: 4.63s\n",
      "123:\tlearn: 55241.1254133\ttotal: 653ms\tremaining: 4.62s\n",
      "124:\tlearn: 55181.9600247\ttotal: 657ms\tremaining: 4.6s\n",
      "125:\tlearn: 55135.9864629\ttotal: 661ms\tremaining: 4.58s\n",
      "126:\tlearn: 55074.5704656\ttotal: 665ms\tremaining: 4.57s\n",
      "127:\tlearn: 54972.7917738\ttotal: 668ms\tremaining: 4.55s\n",
      "128:\tlearn: 54765.6737131\ttotal: 672ms\tremaining: 4.54s\n",
      "129:\tlearn: 54744.0173046\ttotal: 676ms\tremaining: 4.52s\n",
      "130:\tlearn: 54706.7881065\ttotal: 680ms\tremaining: 4.51s\n",
      "131:\tlearn: 54623.7539793\ttotal: 683ms\tremaining: 4.49s\n",
      "132:\tlearn: 54517.4349602\ttotal: 687ms\tremaining: 4.48s\n",
      "133:\tlearn: 54497.4615223\ttotal: 691ms\tremaining: 4.47s\n",
      "134:\tlearn: 54463.6708155\ttotal: 695ms\tremaining: 4.45s\n",
      "135:\tlearn: 54425.1384526\ttotal: 698ms\tremaining: 4.44s\n",
      "136:\tlearn: 54421.8365649\ttotal: 703ms\tremaining: 4.42s\n",
      "137:\tlearn: 54414.7747903\ttotal: 706ms\tremaining: 4.41s\n",
      "138:\tlearn: 54377.4518920\ttotal: 710ms\tremaining: 4.4s\n",
      "139:\tlearn: 54364.7266554\ttotal: 713ms\tremaining: 4.38s\n",
      "140:\tlearn: 54328.8549051\ttotal: 717ms\tremaining: 4.37s\n",
      "141:\tlearn: 54294.3777697\ttotal: 721ms\tremaining: 4.36s\n",
      "142:\tlearn: 54248.0643164\ttotal: 725ms\tremaining: 4.34s\n",
      "143:\tlearn: 54231.7271262\ttotal: 729ms\tremaining: 4.33s\n",
      "144:\tlearn: 54223.1254912\ttotal: 733ms\tremaining: 4.32s\n",
      "145:\tlearn: 54190.1939890\ttotal: 736ms\tremaining: 4.3s\n",
      "146:\tlearn: 54005.9054516\ttotal: 740ms\tremaining: 4.29s\n",
      "147:\tlearn: 53965.5909331\ttotal: 744ms\tremaining: 4.28s\n",
      "148:\tlearn: 53930.5062076\ttotal: 747ms\tremaining: 4.27s\n",
      "149:\tlearn: 53892.8123017\ttotal: 751ms\tremaining: 4.26s\n",
      "150:\tlearn: 53749.6648414\ttotal: 755ms\tremaining: 4.24s\n",
      "151:\tlearn: 53719.5738481\ttotal: 759ms\tremaining: 4.23s\n",
      "152:\tlearn: 53655.4595863\ttotal: 763ms\tremaining: 4.22s\n",
      "153:\tlearn: 53628.6140496\ttotal: 767ms\tremaining: 4.21s\n",
      "154:\tlearn: 53622.2555010\ttotal: 770ms\tremaining: 4.2s\n",
      "155:\tlearn: 53614.4919769\ttotal: 773ms\tremaining: 4.18s\n",
      "156:\tlearn: 53585.0889151\ttotal: 777ms\tremaining: 4.17s\n",
      "157:\tlearn: 53579.0007773\ttotal: 780ms\tremaining: 4.16s\n",
      "158:\tlearn: 53552.6330027\ttotal: 784ms\tremaining: 4.15s\n",
      "159:\tlearn: 53546.8391065\ttotal: 787ms\tremaining: 4.13s\n",
      "160:\tlearn: 53381.9064829\ttotal: 791ms\tremaining: 4.12s\n",
      "161:\tlearn: 53348.0981965\ttotal: 795ms\tremaining: 4.11s\n",
      "162:\tlearn: 53175.3614476\ttotal: 799ms\tremaining: 4.1s\n",
      "163:\tlearn: 53128.2453444\ttotal: 803ms\tremaining: 4.09s\n",
      "164:\tlearn: 53100.7490155\ttotal: 807ms\tremaining: 4.08s\n",
      "165:\tlearn: 53032.0543916\ttotal: 811ms\tremaining: 4.07s\n",
      "166:\tlearn: 53018.4117800\ttotal: 815ms\tremaining: 4.07s\n",
      "167:\tlearn: 53012.8142399\ttotal: 819ms\tremaining: 4.05s\n",
      "168:\tlearn: 52988.2347406\ttotal: 823ms\tremaining: 4.05s\n",
      "169:\tlearn: 52981.2954337\ttotal: 827ms\tremaining: 4.04s\n",
      "170:\tlearn: 52976.1528443\ttotal: 830ms\tremaining: 4.02s\n",
      "171:\tlearn: 52746.7052697\ttotal: 834ms\tremaining: 4.01s\n",
      "172:\tlearn: 52740.3358980\ttotal: 838ms\tremaining: 4s\n",
      "173:\tlearn: 52677.7910974\ttotal: 841ms\tremaining: 3.99s\n",
      "174:\tlearn: 52644.3274975\ttotal: 845ms\tremaining: 3.98s\n",
      "175:\tlearn: 52441.4631576\ttotal: 849ms\tremaining: 3.97s\n",
      "176:\tlearn: 52436.5873235\ttotal: 852ms\tremaining: 3.96s\n",
      "177:\tlearn: 52404.8502605\ttotal: 856ms\tremaining: 3.95s\n",
      "178:\tlearn: 52400.2299416\ttotal: 859ms\tremaining: 3.94s\n",
      "179:\tlearn: 52370.2584150\ttotal: 863ms\tremaining: 3.93s\n",
      "180:\tlearn: 52236.0939442\ttotal: 867ms\tremaining: 3.92s\n",
      "181:\tlearn: 52213.2864765\ttotal: 871ms\tremaining: 3.91s\n",
      "182:\tlearn: 52184.8881306\ttotal: 874ms\tremaining: 3.9s\n",
      "183:\tlearn: 52116.8639411\ttotal: 878ms\tremaining: 3.89s\n",
      "184:\tlearn: 52093.0631477\ttotal: 882ms\tremaining: 3.88s\n",
      "185:\tlearn: 52067.1085213\ttotal: 886ms\tremaining: 3.88s\n",
      "186:\tlearn: 52054.9669348\ttotal: 889ms\tremaining: 3.87s\n",
      "187:\tlearn: 52024.6868072\ttotal: 893ms\tremaining: 3.86s\n",
      "188:\tlearn: 52006.0757116\ttotal: 897ms\tremaining: 3.85s\n",
      "189:\tlearn: 51921.2602044\ttotal: 901ms\tremaining: 3.84s\n",
      "190:\tlearn: 51897.4829065\ttotal: 905ms\tremaining: 3.83s\n",
      "191:\tlearn: 51857.2859971\ttotal: 909ms\tremaining: 3.82s\n",
      "192:\tlearn: 51742.9500596\ttotal: 912ms\tremaining: 3.81s\n",
      "193:\tlearn: 51671.7547520\ttotal: 916ms\tremaining: 3.81s\n",
      "194:\tlearn: 51647.7387861\ttotal: 920ms\tremaining: 3.8s\n",
      "195:\tlearn: 51596.0692238\ttotal: 923ms\tremaining: 3.79s\n",
      "196:\tlearn: 51575.2811152\ttotal: 927ms\tremaining: 3.78s\n",
      "197:\tlearn: 51563.9701260\ttotal: 931ms\tremaining: 3.77s\n",
      "198:\tlearn: 51384.8680699\ttotal: 935ms\tremaining: 3.76s\n",
      "199:\tlearn: 51365.7588305\ttotal: 939ms\tremaining: 3.75s\n",
      "200:\tlearn: 51318.2643171\ttotal: 942ms\tremaining: 3.75s\n",
      "201:\tlearn: 51296.1885838\ttotal: 946ms\tremaining: 3.74s\n",
      "202:\tlearn: 51154.7711709\ttotal: 950ms\tremaining: 3.73s\n",
      "203:\tlearn: 51135.4297016\ttotal: 954ms\tremaining: 3.72s\n",
      "204:\tlearn: 51113.6294483\ttotal: 957ms\tremaining: 3.71s\n",
      "205:\tlearn: 50980.2176604\ttotal: 961ms\tremaining: 3.7s\n",
      "206:\tlearn: 50961.6092134\ttotal: 965ms\tremaining: 3.7s\n",
      "207:\tlearn: 50898.5482343\ttotal: 969ms\tremaining: 3.69s\n",
      "208:\tlearn: 50878.9387266\ttotal: 972ms\tremaining: 3.68s\n",
      "209:\tlearn: 50861.7151216\ttotal: 976ms\tremaining: 3.67s\n",
      "210:\tlearn: 50821.7736203\ttotal: 980ms\tremaining: 3.67s\n",
      "211:\tlearn: 50707.7126838\ttotal: 984ms\tremaining: 3.66s\n",
      "212:\tlearn: 50638.2802206\ttotal: 988ms\tremaining: 3.65s\n",
      "213:\tlearn: 50623.5369325\ttotal: 992ms\tremaining: 3.64s\n",
      "214:\tlearn: 50611.2123650\ttotal: 995ms\tremaining: 3.63s\n",
      "215:\tlearn: 50565.6611558\ttotal: 999ms\tremaining: 3.63s\n",
      "216:\tlearn: 50530.4628292\ttotal: 1s\tremaining: 3.62s\n",
      "217:\tlearn: 50512.4553936\ttotal: 1.01s\tremaining: 3.61s\n",
      "218:\tlearn: 50496.9311317\ttotal: 1.01s\tremaining: 3.61s\n",
      "219:\tlearn: 50455.8869176\ttotal: 1.02s\tremaining: 3.6s\n",
      "220:\tlearn: 50439.8535780\ttotal: 1.02s\tremaining: 3.6s\n",
      "221:\tlearn: 50434.9909202\ttotal: 1.02s\tremaining: 3.59s\n",
      "222:\tlearn: 50419.4540483\ttotal: 1.03s\tremaining: 3.58s\n",
      "223:\tlearn: 50359.5234376\ttotal: 1.03s\tremaining: 3.57s\n",
      "224:\tlearn: 50344.0992538\ttotal: 1.03s\tremaining: 3.57s\n",
      "225:\tlearn: 50339.3929432\ttotal: 1.04s\tremaining: 3.56s\n",
      "226:\tlearn: 50324.7428815\ttotal: 1.04s\tremaining: 3.55s\n",
      "227:\tlearn: 50299.8002497\ttotal: 1.05s\tremaining: 3.54s\n",
      "228:\tlearn: 50253.1988529\ttotal: 1.05s\tremaining: 3.54s\n",
      "229:\tlearn: 50248.5245079\ttotal: 1.05s\tremaining: 3.53s\n",
      "230:\tlearn: 50244.0386207\ttotal: 1.06s\tremaining: 3.52s\n",
      "231:\tlearn: 50129.7782337\ttotal: 1.06s\tremaining: 3.51s\n",
      "232:\tlearn: 49887.9896751\ttotal: 1.06s\tremaining: 3.5s\n",
      "233:\tlearn: 49858.6040597\ttotal: 1.07s\tremaining: 3.5s\n",
      "234:\tlearn: 49843.9565284\ttotal: 1.07s\tremaining: 3.49s\n",
      "235:\tlearn: 49828.4459485\ttotal: 1.07s\tremaining: 3.48s\n",
      "236:\tlearn: 49813.1593022\ttotal: 1.08s\tremaining: 3.48s\n",
      "237:\tlearn: 49785.6262830\ttotal: 1.08s\tremaining: 3.47s\n",
      "238:\tlearn: 49717.4895757\ttotal: 1.09s\tremaining: 3.46s\n",
      "239:\tlearn: 49593.7665962\ttotal: 1.09s\tremaining: 3.45s\n",
      "240:\tlearn: 49573.6987819\ttotal: 1.09s\tremaining: 3.45s\n",
      "241:\tlearn: 49430.7244883\ttotal: 1.1s\tremaining: 3.44s\n",
      "242:\tlearn: 49405.1559900\ttotal: 1.1s\tremaining: 3.43s\n",
      "243:\tlearn: 49361.6327980\ttotal: 1.1s\tremaining: 3.42s\n",
      "244:\tlearn: 49345.7080038\ttotal: 1.11s\tremaining: 3.42s\n",
      "245:\tlearn: 49326.6905074\ttotal: 1.11s\tremaining: 3.41s\n",
      "246:\tlearn: 48917.6076458\ttotal: 1.12s\tremaining: 3.4s\n",
      "247:\tlearn: 48913.2790833\ttotal: 1.12s\tremaining: 3.4s\n",
      "248:\tlearn: 48888.9312591\ttotal: 1.12s\tremaining: 3.39s\n",
      "249:\tlearn: 48861.2141690\ttotal: 1.13s\tremaining: 3.38s\n",
      "250:\tlearn: 48845.9981001\ttotal: 1.13s\tremaining: 3.38s\n",
      "251:\tlearn: 48831.5974031\ttotal: 1.14s\tremaining: 3.37s\n",
      "252:\tlearn: 48693.3531462\ttotal: 1.14s\tremaining: 3.36s\n",
      "253:\tlearn: 48575.7480903\ttotal: 1.14s\tremaining: 3.36s\n",
      "254:\tlearn: 48562.0318964\ttotal: 1.15s\tremaining: 3.35s\n",
      "255:\tlearn: 48535.1995371\ttotal: 1.15s\tremaining: 3.34s\n",
      "256:\tlearn: 48521.2877522\ttotal: 1.15s\tremaining: 3.34s\n",
      "257:\tlearn: 48508.7573678\ttotal: 1.16s\tremaining: 3.33s\n",
      "258:\tlearn: 48398.5589231\ttotal: 1.16s\tremaining: 3.32s\n",
      "259:\tlearn: 48358.7948536\ttotal: 1.17s\tremaining: 3.32s\n",
      "260:\tlearn: 48341.9011004\ttotal: 1.17s\tremaining: 3.31s\n",
      "261:\tlearn: 48300.9342088\ttotal: 1.17s\tremaining: 3.3s\n",
      "262:\tlearn: 48292.1580781\ttotal: 1.18s\tremaining: 3.3s\n",
      "263:\tlearn: 48180.8589443\ttotal: 1.18s\tremaining: 3.29s\n",
      "264:\tlearn: 48157.4621558\ttotal: 1.18s\tremaining: 3.28s\n",
      "265:\tlearn: 48145.3296265\ttotal: 1.19s\tremaining: 3.28s\n",
      "266:\tlearn: 48133.5804282\ttotal: 1.19s\tremaining: 3.27s\n",
      "267:\tlearn: 48087.7944057\ttotal: 1.19s\tremaining: 3.26s\n",
      "268:\tlearn: 48077.6202318\ttotal: 1.2s\tremaining: 3.26s\n",
      "269:\tlearn: 47911.2696646\ttotal: 1.2s\tremaining: 3.25s\n",
      "270:\tlearn: 47890.8494793\ttotal: 1.21s\tremaining: 3.25s\n",
      "271:\tlearn: 47834.3512612\ttotal: 1.21s\tremaining: 3.24s\n",
      "272:\tlearn: 47822.5984464\ttotal: 1.22s\tremaining: 3.24s\n",
      "273:\tlearn: 47814.7689623\ttotal: 1.22s\tremaining: 3.23s\n",
      "274:\tlearn: 47767.9236682\ttotal: 1.22s\tremaining: 3.23s\n",
      "275:\tlearn: 47741.8802941\ttotal: 1.23s\tremaining: 3.22s\n",
      "276:\tlearn: 47730.1484713\ttotal: 1.23s\tremaining: 3.22s\n",
      "277:\tlearn: 47712.0621747\ttotal: 1.24s\tremaining: 3.21s\n",
      "278:\tlearn: 47604.4304009\ttotal: 1.24s\tremaining: 3.21s\n",
      "279:\tlearn: 47590.1987256\ttotal: 1.25s\tremaining: 3.21s\n",
      "280:\tlearn: 47578.0479540\ttotal: 1.25s\tremaining: 3.2s\n",
      "281:\tlearn: 47250.3869150\ttotal: 1.26s\tremaining: 3.2s\n",
      "282:\tlearn: 47150.3255085\ttotal: 1.26s\tremaining: 3.2s\n",
      "283:\tlearn: 47139.0051542\ttotal: 1.27s\tremaining: 3.19s\n",
      "284:\tlearn: 47100.4230315\ttotal: 1.27s\tremaining: 3.19s\n",
      "285:\tlearn: 47093.7898728\ttotal: 1.28s\tremaining: 3.19s\n",
      "286:\tlearn: 47002.1035925\ttotal: 1.28s\tremaining: 3.19s\n",
      "287:\tlearn: 46997.2522966\ttotal: 1.29s\tremaining: 3.19s\n",
      "288:\tlearn: 46979.0360867\ttotal: 1.29s\tremaining: 3.19s\n",
      "289:\tlearn: 46963.4212623\ttotal: 1.3s\tremaining: 3.18s\n",
      "290:\tlearn: 46954.8520708\ttotal: 1.31s\tremaining: 3.18s\n",
      "291:\tlearn: 46943.5238089\ttotal: 1.31s\tremaining: 3.18s\n",
      "292:\tlearn: 46906.9201831\ttotal: 1.32s\tremaining: 3.17s\n",
      "293:\tlearn: 46613.5664471\ttotal: 1.32s\tremaining: 3.18s\n",
      "294:\tlearn: 46576.2542188\ttotal: 1.33s\tremaining: 3.18s\n",
      "295:\tlearn: 46566.2195361\ttotal: 1.33s\tremaining: 3.17s\n",
      "296:\tlearn: 46561.3182187\ttotal: 1.34s\tremaining: 3.17s\n",
      "297:\tlearn: 46291.6858925\ttotal: 1.34s\tremaining: 3.17s\n",
      "298:\tlearn: 46281.1582500\ttotal: 1.35s\tremaining: 3.16s\n",
      "299:\tlearn: 46267.1452721\ttotal: 1.35s\tremaining: 3.16s\n",
      "300:\tlearn: 46262.4629008\ttotal: 1.36s\tremaining: 3.15s\n",
      "301:\tlearn: 46260.1653033\ttotal: 1.36s\tremaining: 3.15s\n",
      "302:\tlearn: 46233.9523903\ttotal: 1.37s\tremaining: 3.14s\n",
      "303:\tlearn: 46185.0796357\ttotal: 1.37s\tremaining: 3.14s\n",
      "304:\tlearn: 46127.1656964\ttotal: 1.38s\tremaining: 3.13s\n",
      "305:\tlearn: 46117.0303686\ttotal: 1.38s\tremaining: 3.13s\n",
      "306:\tlearn: 46105.8406125\ttotal: 1.38s\tremaining: 3.12s\n",
      "307:\tlearn: 46104.2122857\ttotal: 1.39s\tremaining: 3.12s\n",
      "308:\tlearn: 46020.5080991\ttotal: 1.39s\tremaining: 3.11s\n",
      "309:\tlearn: 45987.2818795\ttotal: 1.4s\tremaining: 3.11s\n",
      "310:\tlearn: 45973.1364483\ttotal: 1.4s\tremaining: 3.1s\n",
      "311:\tlearn: 45932.7294370\ttotal: 1.41s\tremaining: 3.1s\n",
      "312:\tlearn: 45923.0039458\ttotal: 1.41s\tremaining: 3.1s\n",
      "313:\tlearn: 45921.5807976\ttotal: 1.41s\tremaining: 3.09s\n",
      "314:\tlearn: 45674.0067578\ttotal: 1.42s\tremaining: 3.09s\n",
      "315:\tlearn: 45667.8950614\ttotal: 1.42s\tremaining: 3.08s\n",
      "316:\tlearn: 45658.2651078\ttotal: 1.43s\tremaining: 3.08s\n",
      "317:\tlearn: 45656.6466893\ttotal: 1.43s\tremaining: 3.07s\n",
      "318:\tlearn: 45626.1280329\ttotal: 1.44s\tremaining: 3.06s\n",
      "319:\tlearn: 45606.0213508\ttotal: 1.44s\tremaining: 3.06s\n",
      "320:\tlearn: 45588.1322727\ttotal: 1.44s\tremaining: 3.06s\n",
      "321:\tlearn: 45578.8760243\ttotal: 1.45s\tremaining: 3.05s\n",
      "322:\tlearn: 45351.6282788\ttotal: 1.45s\tremaining: 3.04s\n",
      "323:\tlearn: 45348.4303159\ttotal: 1.46s\tremaining: 3.04s\n",
      "324:\tlearn: 45343.9331323\ttotal: 1.46s\tremaining: 3.03s\n",
      "325:\tlearn: 45248.4253187\ttotal: 1.46s\tremaining: 3.03s\n",
      "326:\tlearn: 45246.5755763\ttotal: 1.47s\tremaining: 3.02s\n",
      "327:\tlearn: 45234.3119315\ttotal: 1.47s\tremaining: 3.02s\n",
      "328:\tlearn: 45191.8962016\ttotal: 1.48s\tremaining: 3.01s\n",
      "329:\tlearn: 45188.9930538\ttotal: 1.48s\tremaining: 3.01s\n",
      "330:\tlearn: 45182.1571932\ttotal: 1.49s\tremaining: 3s\n",
      "331:\tlearn: 45149.6303261\ttotal: 1.49s\tremaining: 3s\n",
      "332:\tlearn: 45137.6058574\ttotal: 1.5s\tremaining: 2.99s\n",
      "333:\tlearn: 45112.2466042\ttotal: 1.5s\tremaining: 2.99s\n",
      "334:\tlearn: 45074.7378536\ttotal: 1.5s\tremaining: 2.98s\n",
      "335:\tlearn: 45043.7934735\ttotal: 1.51s\tremaining: 2.98s\n",
      "336:\tlearn: 45003.7074867\ttotal: 1.51s\tremaining: 2.98s\n",
      "337:\tlearn: 44992.1471552\ttotal: 1.52s\tremaining: 2.97s\n",
      "338:\tlearn: 44925.8322183\ttotal: 1.52s\tremaining: 2.96s\n",
      "339:\tlearn: 44923.2942962\ttotal: 1.52s\tremaining: 2.96s\n",
      "340:\tlearn: 44920.0096261\ttotal: 1.53s\tremaining: 2.95s\n",
      "341:\tlearn: 44906.3452583\ttotal: 1.53s\tremaining: 2.95s\n",
      "342:\tlearn: 44882.1531253\ttotal: 1.54s\tremaining: 2.94s\n",
      "343:\tlearn: 44876.5275788\ttotal: 1.54s\tremaining: 2.94s\n",
      "344:\tlearn: 44858.5035555\ttotal: 1.54s\tremaining: 2.93s\n",
      "345:\tlearn: 44822.3456253\ttotal: 1.55s\tremaining: 2.93s\n",
      "346:\tlearn: 44808.7944735\ttotal: 1.55s\tremaining: 2.92s\n",
      "347:\tlearn: 44605.3971439\ttotal: 1.56s\tremaining: 2.92s\n",
      "348:\tlearn: 44602.2463710\ttotal: 1.56s\tremaining: 2.91s\n",
      "349:\tlearn: 44584.0847054\ttotal: 1.56s\tremaining: 2.9s\n",
      "350:\tlearn: 44548.7899764\ttotal: 1.57s\tremaining: 2.9s\n",
      "351:\tlearn: 44524.9229701\ttotal: 1.57s\tremaining: 2.9s\n",
      "352:\tlearn: 44470.8125120\ttotal: 1.58s\tremaining: 2.89s\n",
      "353:\tlearn: 44437.2184206\ttotal: 1.58s\tremaining: 2.88s\n",
      "354:\tlearn: 44414.2570623\ttotal: 1.58s\tremaining: 2.88s\n",
      "355:\tlearn: 44382.9066850\ttotal: 1.59s\tremaining: 2.87s\n",
      "356:\tlearn: 44372.0848977\ttotal: 1.59s\tremaining: 2.87s\n",
      "357:\tlearn: 44366.6971067\ttotal: 1.6s\tremaining: 2.86s\n",
      "358:\tlearn: 44359.0234717\ttotal: 1.6s\tremaining: 2.86s\n",
      "359:\tlearn: 44355.3849671\ttotal: 1.6s\tremaining: 2.85s\n",
      "360:\tlearn: 44250.6529002\ttotal: 1.61s\tremaining: 2.85s\n",
      "361:\tlearn: 44246.5905410\ttotal: 1.61s\tremaining: 2.84s\n",
      "362:\tlearn: 44243.7011188\ttotal: 1.62s\tremaining: 2.84s\n",
      "363:\tlearn: 44239.9262880\ttotal: 1.62s\tremaining: 2.83s\n",
      "364:\tlearn: 44236.3001411\ttotal: 1.62s\tremaining: 2.83s\n",
      "365:\tlearn: 44232.8079476\ttotal: 1.63s\tremaining: 2.82s\n",
      "366:\tlearn: 44229.4752806\ttotal: 1.63s\tremaining: 2.81s\n",
      "367:\tlearn: 44226.3077850\ttotal: 1.63s\tremaining: 2.81s\n",
      "368:\tlearn: 44223.2938483\ttotal: 1.64s\tremaining: 2.8s\n",
      "369:\tlearn: 44220.4419237\ttotal: 1.64s\tremaining: 2.79s\n",
      "370:\tlearn: 44182.6307879\ttotal: 1.64s\tremaining: 2.79s\n",
      "371:\tlearn: 44179.9071840\ttotal: 1.65s\tremaining: 2.78s\n",
      "372:\tlearn: 44177.3076430\ttotal: 1.65s\tremaining: 2.77s\n",
      "373:\tlearn: 44174.6800373\ttotal: 1.65s\tremaining: 2.77s\n",
      "374:\tlearn: 44158.1485006\ttotal: 1.66s\tremaining: 2.77s\n",
      "375:\tlearn: 44155.6628340\ttotal: 1.66s\tremaining: 2.76s\n",
      "376:\tlearn: 44153.2871578\ttotal: 1.67s\tremaining: 2.75s\n",
      "377:\tlearn: 44151.0151794\ttotal: 1.67s\tremaining: 2.75s\n",
      "378:\tlearn: 44148.4542744\ttotal: 1.67s\tremaining: 2.74s\n",
      "379:\tlearn: 44096.9036776\ttotal: 1.68s\tremaining: 2.73s\n",
      "380:\tlearn: 44014.6573182\ttotal: 1.68s\tremaining: 2.73s\n",
      "381:\tlearn: 44012.4779144\ttotal: 1.68s\tremaining: 2.73s\n",
      "382:\tlearn: 44008.6191958\ttotal: 1.69s\tremaining: 2.72s\n",
      "383:\tlearn: 44006.2035408\ttotal: 1.69s\tremaining: 2.71s\n",
      "384:\tlearn: 43992.4361244\ttotal: 1.7s\tremaining: 2.71s\n",
      "385:\tlearn: 43990.3451572\ttotal: 1.7s\tremaining: 2.7s\n",
      "386:\tlearn: 43986.9590389\ttotal: 1.7s\tremaining: 2.69s\n",
      "387:\tlearn: 43912.0496899\ttotal: 1.71s\tremaining: 2.69s\n",
      "388:\tlearn: 43904.6339380\ttotal: 1.71s\tremaining: 2.68s\n",
      "389:\tlearn: 43895.4514898\ttotal: 1.71s\tremaining: 2.68s\n",
      "390:\tlearn: 43893.4946115\ttotal: 1.72s\tremaining: 2.67s\n",
      "391:\tlearn: 43885.7604862\ttotal: 1.72s\tremaining: 2.67s\n",
      "392:\tlearn: 43792.3795959\ttotal: 1.72s\tremaining: 2.66s\n",
      "393:\tlearn: 43790.3635451\ttotal: 1.73s\tremaining: 2.65s\n",
      "394:\tlearn: 43788.0404657\ttotal: 1.73s\tremaining: 2.65s\n",
      "395:\tlearn: 43786.4161445\ttotal: 1.73s\tremaining: 2.64s\n",
      "396:\tlearn: 43780.6261528\ttotal: 1.74s\tremaining: 2.64s\n",
      "397:\tlearn: 43769.8802469\ttotal: 1.74s\tremaining: 2.63s\n",
      "398:\tlearn: 43768.3578687\ttotal: 1.74s\tremaining: 2.63s\n",
      "399:\tlearn: 43733.8426085\ttotal: 1.75s\tremaining: 2.62s\n",
      "400:\tlearn: 43704.9495360\ttotal: 1.75s\tremaining: 2.62s\n",
      "401:\tlearn: 43651.2679255\ttotal: 1.75s\tremaining: 2.61s\n",
      "402:\tlearn: 43649.3955894\ttotal: 1.76s\tremaining: 2.6s\n",
      "403:\tlearn: 43616.1202881\ttotal: 1.76s\tremaining: 2.6s\n",
      "404:\tlearn: 43614.3313673\ttotal: 1.76s\tremaining: 2.59s\n",
      "405:\tlearn: 43587.6487219\ttotal: 1.77s\tremaining: 2.59s\n",
      "406:\tlearn: 43562.7178694\ttotal: 1.77s\tremaining: 2.58s\n",
      "407:\tlearn: 43561.0035184\ttotal: 1.78s\tremaining: 2.58s\n",
      "408:\tlearn: 43552.3775556\ttotal: 1.78s\tremaining: 2.57s\n",
      "409:\tlearn: 43549.4494341\ttotal: 1.78s\tremaining: 2.57s\n",
      "410:\tlearn: 43541.4631644\ttotal: 1.79s\tremaining: 2.56s\n",
      "411:\tlearn: 43510.7287295\ttotal: 1.79s\tremaining: 2.56s\n",
      "412:\tlearn: 43494.5679656\ttotal: 1.79s\tremaining: 2.55s\n",
      "413:\tlearn: 43493.5264070\ttotal: 1.8s\tremaining: 2.54s\n",
      "414:\tlearn: 43413.7635908\ttotal: 1.8s\tremaining: 2.54s\n",
      "415:\tlearn: 43375.3667528\ttotal: 1.81s\tremaining: 2.54s\n",
      "416:\tlearn: 43372.2417908\ttotal: 1.81s\tremaining: 2.53s\n",
      "417:\tlearn: 43179.6925126\ttotal: 1.81s\tremaining: 2.53s\n",
      "418:\tlearn: 43165.6276489\ttotal: 1.82s\tremaining: 2.52s\n",
      "419:\tlearn: 43161.9174333\ttotal: 1.82s\tremaining: 2.52s\n",
      "420:\tlearn: 43089.2656164\ttotal: 1.83s\tremaining: 2.51s\n",
      "421:\tlearn: 43080.8608109\ttotal: 1.83s\tremaining: 2.51s\n",
      "422:\tlearn: 43079.7347552\ttotal: 1.83s\tremaining: 2.5s\n",
      "423:\tlearn: 43068.2430534\ttotal: 1.84s\tremaining: 2.5s\n",
      "424:\tlearn: 43055.4601098\ttotal: 1.84s\tremaining: 2.49s\n",
      "425:\tlearn: 43048.7053379\ttotal: 1.85s\tremaining: 2.49s\n",
      "426:\tlearn: 43047.7030807\ttotal: 1.85s\tremaining: 2.48s\n",
      "427:\tlearn: 43039.7099702\ttotal: 1.85s\tremaining: 2.48s\n",
      "428:\tlearn: 43038.0837734\ttotal: 1.86s\tremaining: 2.47s\n",
      "429:\tlearn: 43031.2046304\ttotal: 1.86s\tremaining: 2.47s\n",
      "430:\tlearn: 43020.9531152\ttotal: 1.86s\tremaining: 2.46s\n",
      "431:\tlearn: 43014.7112248\ttotal: 1.87s\tremaining: 2.46s\n",
      "432:\tlearn: 43011.6849699\ttotal: 1.87s\tremaining: 2.45s\n",
      "433:\tlearn: 43003.3410650\ttotal: 1.88s\tremaining: 2.45s\n",
      "434:\tlearn: 42988.9640350\ttotal: 1.88s\tremaining: 2.44s\n",
      "435:\tlearn: 42953.7873626\ttotal: 1.88s\tremaining: 2.44s\n",
      "436:\tlearn: 42926.0961281\ttotal: 1.89s\tremaining: 2.43s\n",
      "437:\tlearn: 42913.4323013\ttotal: 1.89s\tremaining: 2.42s\n",
      "438:\tlearn: 42878.2801172\ttotal: 1.89s\tremaining: 2.42s\n",
      "439:\tlearn: 42870.2464336\ttotal: 1.9s\tremaining: 2.42s\n",
      "440:\tlearn: 42811.8942913\ttotal: 1.9s\tremaining: 2.41s\n",
      "441:\tlearn: 42802.4303068\ttotal: 1.91s\tremaining: 2.4s\n",
      "442:\tlearn: 42800.0974833\ttotal: 1.91s\tremaining: 2.4s\n",
      "443:\tlearn: 42798.6393647\ttotal: 1.91s\tremaining: 2.39s\n",
      "444:\tlearn: 42781.9482117\ttotal: 1.92s\tremaining: 2.39s\n",
      "445:\tlearn: 42753.4584102\ttotal: 1.92s\tremaining: 2.38s\n",
      "446:\tlearn: 42752.0684009\ttotal: 1.92s\tremaining: 2.38s\n",
      "447:\tlearn: 42750.7348641\ttotal: 1.93s\tremaining: 2.37s\n",
      "448:\tlearn: 42748.9126453\ttotal: 1.93s\tremaining: 2.37s\n",
      "449:\tlearn: 42647.3520593\ttotal: 1.93s\tremaining: 2.36s\n",
      "450:\tlearn: 42646.3864785\ttotal: 1.94s\tremaining: 2.36s\n",
      "451:\tlearn: 42644.2838585\ttotal: 1.94s\tremaining: 2.35s\n",
      "452:\tlearn: 42627.4173338\ttotal: 1.94s\tremaining: 2.35s\n",
      "453:\tlearn: 42625.6227478\ttotal: 1.95s\tremaining: 2.34s\n",
      "454:\tlearn: 42623.9374996\ttotal: 1.95s\tremaining: 2.34s\n",
      "455:\tlearn: 42615.9822429\ttotal: 1.95s\tremaining: 2.33s\n",
      "456:\tlearn: 42608.3713220\ttotal: 1.96s\tremaining: 2.33s\n",
      "457:\tlearn: 42606.6455847\ttotal: 1.96s\tremaining: 2.32s\n",
      "458:\tlearn: 42471.3259358\ttotal: 1.96s\tremaining: 2.31s\n",
      "459:\tlearn: 42460.0926523\ttotal: 1.97s\tremaining: 2.31s\n",
      "460:\tlearn: 42453.8836393\ttotal: 1.97s\tremaining: 2.31s\n",
      "461:\tlearn: 42423.4086547\ttotal: 1.98s\tremaining: 2.3s\n",
      "462:\tlearn: 42408.0561286\ttotal: 1.98s\tremaining: 2.29s\n",
      "463:\tlearn: 42398.0082401\ttotal: 1.98s\tremaining: 2.29s\n",
      "464:\tlearn: 42238.5454318\ttotal: 1.99s\tremaining: 2.29s\n",
      "465:\tlearn: 42228.1455311\ttotal: 1.99s\tremaining: 2.28s\n",
      "466:\tlearn: 42225.9785362\ttotal: 1.99s\tremaining: 2.27s\n",
      "467:\tlearn: 42224.8251772\ttotal: 2s\tremaining: 2.27s\n",
      "468:\tlearn: 42217.5311063\ttotal: 2s\tremaining: 2.27s\n",
      "469:\tlearn: 42210.0249077\ttotal: 2s\tremaining: 2.26s\n",
      "470:\tlearn: 42140.9365713\ttotal: 2.01s\tremaining: 2.26s\n",
      "471:\tlearn: 42085.8831864\ttotal: 2.01s\tremaining: 2.25s\n",
      "472:\tlearn: 42084.0433201\ttotal: 2.02s\tremaining: 2.25s\n",
      "473:\tlearn: 42081.8288870\ttotal: 2.02s\tremaining: 2.24s\n",
      "474:\tlearn: 42080.7269139\ttotal: 2.02s\tremaining: 2.24s\n",
      "475:\tlearn: 41936.3353455\ttotal: 2.03s\tremaining: 2.23s\n",
      "476:\tlearn: 41927.0478850\ttotal: 2.03s\tremaining: 2.23s\n",
      "477:\tlearn: 41899.4283741\ttotal: 2.04s\tremaining: 2.22s\n",
      "478:\tlearn: 41896.8829511\ttotal: 2.04s\tremaining: 2.22s\n",
      "479:\tlearn: 41882.7629039\ttotal: 2.04s\tremaining: 2.21s\n",
      "480:\tlearn: 41865.9982100\ttotal: 2.05s\tremaining: 2.21s\n",
      "481:\tlearn: 41864.5432015\ttotal: 2.05s\tremaining: 2.21s\n",
      "482:\tlearn: 41856.4424583\ttotal: 2.06s\tremaining: 2.2s\n",
      "483:\tlearn: 41855.0455788\ttotal: 2.06s\tremaining: 2.19s\n",
      "484:\tlearn: 41853.7069738\ttotal: 2.06s\tremaining: 2.19s\n",
      "485:\tlearn: 41849.8514938\ttotal: 2.07s\tremaining: 2.19s\n",
      "486:\tlearn: 41848.0202993\ttotal: 2.07s\tremaining: 2.18s\n",
      "487:\tlearn: 41846.7583359\ttotal: 2.07s\tremaining: 2.18s\n",
      "488:\tlearn: 41845.5480406\ttotal: 2.08s\tremaining: 2.17s\n",
      "489:\tlearn: 41834.7321516\ttotal: 2.08s\tremaining: 2.17s\n",
      "490:\tlearn: 41833.5688977\ttotal: 2.08s\tremaining: 2.16s\n",
      "491:\tlearn: 41832.4529448\ttotal: 2.09s\tremaining: 2.16s\n",
      "492:\tlearn: 41830.3701533\ttotal: 2.09s\tremaining: 2.15s\n",
      "493:\tlearn: 41823.7274646\ttotal: 2.1s\tremaining: 2.15s\n",
      "494:\tlearn: 41822.6605149\ttotal: 2.1s\tremaining: 2.14s\n",
      "495:\tlearn: 41821.6368656\ttotal: 2.1s\tremaining: 2.14s\n",
      "496:\tlearn: 41820.1462657\ttotal: 2.11s\tremaining: 2.13s\n",
      "497:\tlearn: 41790.5168868\ttotal: 2.11s\tremaining: 2.13s\n",
      "498:\tlearn: 41789.5312980\ttotal: 2.11s\tremaining: 2.12s\n",
      "499:\tlearn: 41705.6040054\ttotal: 2.12s\tremaining: 2.12s\n",
      "500:\tlearn: 41573.3543651\ttotal: 2.12s\tremaining: 2.11s\n",
      "501:\tlearn: 41565.4293756\ttotal: 2.13s\tremaining: 2.11s\n",
      "502:\tlearn: 41498.9308403\ttotal: 2.13s\tremaining: 2.1s\n",
      "503:\tlearn: 41497.9746314\ttotal: 2.13s\tremaining: 2.1s\n",
      "504:\tlearn: 41485.8677994\ttotal: 2.14s\tremaining: 2.09s\n",
      "505:\tlearn: 41476.9019711\ttotal: 2.14s\tremaining: 2.09s\n",
      "506:\tlearn: 41416.0859278\ttotal: 2.14s\tremaining: 2.08s\n",
      "507:\tlearn: 41392.9095719\ttotal: 2.15s\tremaining: 2.08s\n",
      "508:\tlearn: 41384.1950925\ttotal: 2.15s\tremaining: 2.08s\n",
      "509:\tlearn: 41374.2337707\ttotal: 2.15s\tremaining: 2.07s\n",
      "510:\tlearn: 41355.5465484\ttotal: 2.16s\tremaining: 2.07s\n",
      "511:\tlearn: 41331.0804501\ttotal: 2.16s\tremaining: 2.06s\n",
      "512:\tlearn: 41324.4025104\ttotal: 2.17s\tremaining: 2.06s\n",
      "513:\tlearn: 41322.4488658\ttotal: 2.17s\tremaining: 2.05s\n",
      "514:\tlearn: 41320.0101071\ttotal: 2.17s\tremaining: 2.05s\n",
      "515:\tlearn: 41299.5412798\ttotal: 2.18s\tremaining: 2.04s\n",
      "516:\tlearn: 41277.8821802\ttotal: 2.18s\tremaining: 2.04s\n",
      "517:\tlearn: 41276.9683234\ttotal: 2.19s\tremaining: 2.03s\n",
      "518:\tlearn: 41252.9852865\ttotal: 2.19s\tremaining: 2.03s\n",
      "519:\tlearn: 41247.4282925\ttotal: 2.19s\tremaining: 2.02s\n",
      "520:\tlearn: 41239.5074049\ttotal: 2.2s\tremaining: 2.02s\n",
      "521:\tlearn: 41230.7984310\ttotal: 2.2s\tremaining: 2.02s\n",
      "522:\tlearn: 41223.1162721\ttotal: 2.21s\tremaining: 2.01s\n",
      "523:\tlearn: 41204.1940071\ttotal: 2.21s\tremaining: 2.01s\n",
      "524:\tlearn: 41202.4420522\ttotal: 2.21s\tremaining: 2s\n",
      "525:\tlearn: 41195.1814489\ttotal: 2.22s\tremaining: 2s\n",
      "526:\tlearn: 41178.8104724\ttotal: 2.22s\tremaining: 1.99s\n",
      "527:\tlearn: 41174.8332318\ttotal: 2.23s\tremaining: 1.99s\n",
      "528:\tlearn: 41167.5485350\ttotal: 2.23s\tremaining: 1.99s\n",
      "529:\tlearn: 41166.3378918\ttotal: 2.23s\tremaining: 1.98s\n",
      "530:\tlearn: 41164.1929651\ttotal: 2.24s\tremaining: 1.98s\n",
      "531:\tlearn: 41141.5517166\ttotal: 2.24s\tremaining: 1.97s\n",
      "532:\tlearn: 41055.2324756\ttotal: 2.25s\tremaining: 1.97s\n",
      "533:\tlearn: 41053.5090868\ttotal: 2.25s\tremaining: 1.96s\n",
      "534:\tlearn: 41032.1117674\ttotal: 2.25s\tremaining: 1.96s\n",
      "535:\tlearn: 41030.5203701\ttotal: 2.26s\tremaining: 1.95s\n",
      "536:\tlearn: 41015.6520688\ttotal: 2.26s\tremaining: 1.95s\n",
      "537:\tlearn: 41011.9732084\ttotal: 2.26s\tremaining: 1.94s\n",
      "538:\tlearn: 40997.5165497\ttotal: 2.27s\tremaining: 1.94s\n",
      "539:\tlearn: 40943.6854956\ttotal: 2.27s\tremaining: 1.94s\n",
      "540:\tlearn: 40934.8751017\ttotal: 2.27s\tremaining: 1.93s\n",
      "541:\tlearn: 40933.7596729\ttotal: 2.28s\tremaining: 1.93s\n",
      "542:\tlearn: 40932.1719154\ttotal: 2.28s\tremaining: 1.92s\n",
      "543:\tlearn: 40931.0707217\ttotal: 2.29s\tremaining: 1.92s\n",
      "544:\tlearn: 40917.7654101\ttotal: 2.29s\tremaining: 1.91s\n",
      "545:\tlearn: 40916.7107665\ttotal: 2.29s\tremaining: 1.91s\n",
      "546:\tlearn: 40915.8763896\ttotal: 2.3s\tremaining: 1.9s\n",
      "547:\tlearn: 40915.0690105\ttotal: 2.3s\tremaining: 1.9s\n",
      "548:\tlearn: 40913.5828733\ttotal: 2.3s\tremaining: 1.89s\n",
      "549:\tlearn: 40912.8079163\ttotal: 2.31s\tremaining: 1.89s\n",
      "550:\tlearn: 40900.4321074\ttotal: 2.31s\tremaining: 1.88s\n",
      "551:\tlearn: 40779.9814540\ttotal: 2.32s\tremaining: 1.88s\n",
      "552:\tlearn: 40775.1531266\ttotal: 2.32s\tremaining: 1.88s\n",
      "553:\tlearn: 40767.8153155\ttotal: 2.33s\tremaining: 1.87s\n",
      "554:\tlearn: 40759.4059386\ttotal: 2.33s\tremaining: 1.87s\n",
      "555:\tlearn: 40684.7245809\ttotal: 2.33s\tremaining: 1.86s\n",
      "556:\tlearn: 40666.4689166\ttotal: 2.34s\tremaining: 1.86s\n",
      "557:\tlearn: 40649.6494751\ttotal: 2.34s\tremaining: 1.86s\n",
      "558:\tlearn: 40644.9316868\ttotal: 2.35s\tremaining: 1.85s\n",
      "559:\tlearn: 40544.3295910\ttotal: 2.35s\tremaining: 1.85s\n",
      "560:\tlearn: 40483.1255785\ttotal: 2.36s\tremaining: 1.85s\n",
      "561:\tlearn: 40467.6306006\ttotal: 2.36s\tremaining: 1.84s\n",
      "562:\tlearn: 40461.9784743\ttotal: 2.37s\tremaining: 1.84s\n",
      "563:\tlearn: 40353.2775683\ttotal: 2.37s\tremaining: 1.83s\n",
      "564:\tlearn: 40349.0541784\ttotal: 2.38s\tremaining: 1.83s\n",
      "565:\tlearn: 40335.1319975\ttotal: 2.38s\tremaining: 1.83s\n",
      "566:\tlearn: 40313.7245302\ttotal: 2.39s\tremaining: 1.82s\n",
      "567:\tlearn: 40305.6965890\ttotal: 2.39s\tremaining: 1.82s\n",
      "568:\tlearn: 40292.6566387\ttotal: 2.4s\tremaining: 1.81s\n",
      "569:\tlearn: 40280.8814212\ttotal: 2.4s\tremaining: 1.81s\n",
      "570:\tlearn: 40274.1747839\ttotal: 2.41s\tremaining: 1.81s\n",
      "571:\tlearn: 40272.9836963\ttotal: 2.41s\tremaining: 1.8s\n",
      "572:\tlearn: 40272.0932485\ttotal: 2.42s\tremaining: 1.8s\n",
      "573:\tlearn: 40269.1785569\ttotal: 2.42s\tremaining: 1.8s\n",
      "574:\tlearn: 40236.3451738\ttotal: 2.43s\tremaining: 1.79s\n",
      "575:\tlearn: 40221.8319897\ttotal: 2.43s\tremaining: 1.79s\n",
      "576:\tlearn: 40220.4417552\ttotal: 2.44s\tremaining: 1.79s\n",
      "577:\tlearn: 40219.3652522\ttotal: 2.44s\tremaining: 1.78s\n",
      "578:\tlearn: 40201.7762892\ttotal: 2.45s\tremaining: 1.78s\n",
      "579:\tlearn: 40200.9472973\ttotal: 2.45s\tremaining: 1.77s\n",
      "580:\tlearn: 40133.2043107\ttotal: 2.46s\tremaining: 1.77s\n",
      "581:\tlearn: 40079.4358523\ttotal: 2.46s\tremaining: 1.77s\n",
      "582:\tlearn: 40078.6187596\ttotal: 2.46s\tremaining: 1.76s\n",
      "583:\tlearn: 40068.0026183\ttotal: 2.47s\tremaining: 1.76s\n",
      "584:\tlearn: 40067.2495441\ttotal: 2.47s\tremaining: 1.75s\n",
      "585:\tlearn: 40034.9238887\ttotal: 2.48s\tremaining: 1.75s\n",
      "586:\tlearn: 40026.1998751\ttotal: 2.48s\tremaining: 1.74s\n",
      "587:\tlearn: 40007.0236767\ttotal: 2.48s\tremaining: 1.74s\n",
      "588:\tlearn: 39959.7503806\ttotal: 2.49s\tremaining: 1.74s\n",
      "589:\tlearn: 39955.7049820\ttotal: 2.49s\tremaining: 1.73s\n",
      "590:\tlearn: 39927.5867510\ttotal: 2.5s\tremaining: 1.73s\n",
      "591:\tlearn: 39885.9910146\ttotal: 2.5s\tremaining: 1.72s\n",
      "592:\tlearn: 39882.5220126\ttotal: 2.5s\tremaining: 1.72s\n",
      "593:\tlearn: 39869.0899736\ttotal: 2.51s\tremaining: 1.71s\n",
      "594:\tlearn: 39846.6286241\ttotal: 2.51s\tremaining: 1.71s\n",
      "595:\tlearn: 39825.3860380\ttotal: 2.51s\tremaining: 1.7s\n",
      "596:\tlearn: 39822.6023775\ttotal: 2.52s\tremaining: 1.7s\n",
      "597:\tlearn: 39811.4305901\ttotal: 2.52s\tremaining: 1.7s\n",
      "598:\tlearn: 39791.1592507\ttotal: 2.53s\tremaining: 1.69s\n",
      "599:\tlearn: 39778.9699534\ttotal: 2.53s\tremaining: 1.69s\n",
      "600:\tlearn: 39771.9275241\ttotal: 2.53s\tremaining: 1.68s\n",
      "601:\tlearn: 39751.6005832\ttotal: 2.54s\tremaining: 1.68s\n",
      "602:\tlearn: 39744.6782474\ttotal: 2.54s\tremaining: 1.67s\n",
      "603:\tlearn: 39742.5791740\ttotal: 2.54s\tremaining: 1.67s\n",
      "604:\tlearn: 39735.7113504\ttotal: 2.55s\tremaining: 1.66s\n",
      "605:\tlearn: 39731.4235598\ttotal: 2.55s\tremaining: 1.66s\n",
      "606:\tlearn: 39730.7558778\ttotal: 2.56s\tremaining: 1.66s\n",
      "607:\tlearn: 39704.9713369\ttotal: 2.56s\tremaining: 1.65s\n",
      "608:\tlearn: 39704.1910853\ttotal: 2.56s\tremaining: 1.65s\n",
      "609:\tlearn: 39695.1658133\ttotal: 2.57s\tremaining: 1.64s\n",
      "610:\tlearn: 39689.7120868\ttotal: 2.57s\tremaining: 1.64s\n",
      "611:\tlearn: 39678.6812637\ttotal: 2.57s\tremaining: 1.63s\n",
      "612:\tlearn: 39673.1921655\ttotal: 2.58s\tremaining: 1.63s\n",
      "613:\tlearn: 39657.0949997\ttotal: 2.58s\tremaining: 1.62s\n",
      "614:\tlearn: 39611.4245241\ttotal: 2.59s\tremaining: 1.62s\n",
      "615:\tlearn: 39604.9013547\ttotal: 2.59s\tremaining: 1.61s\n",
      "616:\tlearn: 39585.5367833\ttotal: 2.59s\tremaining: 1.61s\n",
      "617:\tlearn: 39572.9430934\ttotal: 2.6s\tremaining: 1.6s\n",
      "618:\tlearn: 39568.0847017\ttotal: 2.6s\tremaining: 1.6s\n",
      "619:\tlearn: 39559.9824967\ttotal: 2.6s\tremaining: 1.6s\n",
      "620:\tlearn: 39554.4426393\ttotal: 2.61s\tremaining: 1.59s\n",
      "621:\tlearn: 39536.4632399\ttotal: 2.61s\tremaining: 1.59s\n",
      "622:\tlearn: 39528.2482016\ttotal: 2.62s\tremaining: 1.58s\n",
      "623:\tlearn: 39514.3998920\ttotal: 2.62s\tremaining: 1.58s\n",
      "624:\tlearn: 39494.5014489\ttotal: 2.63s\tremaining: 1.58s\n",
      "625:\tlearn: 39488.9288067\ttotal: 2.63s\tremaining: 1.57s\n",
      "626:\tlearn: 39477.3784007\ttotal: 2.63s\tremaining: 1.57s\n",
      "627:\tlearn: 39373.7800743\ttotal: 2.64s\tremaining: 1.56s\n",
      "628:\tlearn: 39365.3292228\ttotal: 2.64s\tremaining: 1.56s\n",
      "629:\tlearn: 39357.6272655\ttotal: 2.65s\tremaining: 1.55s\n",
      "630:\tlearn: 39354.3427855\ttotal: 2.65s\tremaining: 1.55s\n",
      "631:\tlearn: 39336.4056300\ttotal: 2.65s\tremaining: 1.55s\n",
      "632:\tlearn: 39333.2518506\ttotal: 2.66s\tremaining: 1.54s\n",
      "633:\tlearn: 39325.6961786\ttotal: 2.66s\tremaining: 1.54s\n",
      "634:\tlearn: 39323.3793687\ttotal: 2.67s\tremaining: 1.53s\n",
      "635:\tlearn: 39316.7358167\ttotal: 2.67s\tremaining: 1.53s\n",
      "636:\tlearn: 39301.3139550\ttotal: 2.67s\tremaining: 1.52s\n",
      "637:\tlearn: 39300.1799761\ttotal: 2.68s\tremaining: 1.52s\n",
      "638:\tlearn: 39280.3903786\ttotal: 2.68s\tremaining: 1.51s\n",
      "639:\tlearn: 39273.8321021\ttotal: 2.69s\tremaining: 1.51s\n",
      "640:\tlearn: 39270.9138374\ttotal: 2.69s\tremaining: 1.5s\n",
      "641:\tlearn: 39264.5836713\ttotal: 2.69s\tremaining: 1.5s\n",
      "642:\tlearn: 39260.3979609\ttotal: 2.7s\tremaining: 1.5s\n",
      "643:\tlearn: 39245.0828958\ttotal: 2.7s\tremaining: 1.49s\n",
      "644:\tlearn: 39229.6383277\ttotal: 2.7s\tremaining: 1.49s\n",
      "645:\tlearn: 39191.6366042\ttotal: 2.71s\tremaining: 1.48s\n",
      "646:\tlearn: 39181.2356528\ttotal: 2.71s\tremaining: 1.48s\n",
      "647:\tlearn: 39130.4976666\ttotal: 2.71s\tremaining: 1.48s\n",
      "648:\tlearn: 39119.2872490\ttotal: 2.72s\tremaining: 1.47s\n",
      "649:\tlearn: 39114.6217624\ttotal: 2.72s\tremaining: 1.47s\n",
      "650:\tlearn: 39104.6111731\ttotal: 2.73s\tremaining: 1.46s\n",
      "651:\tlearn: 39016.4901832\ttotal: 2.73s\tremaining: 1.46s\n",
      "652:\tlearn: 39006.2516666\ttotal: 2.73s\tremaining: 1.45s\n",
      "653:\tlearn: 38957.9297560\ttotal: 2.74s\tremaining: 1.45s\n",
      "654:\tlearn: 38904.2740364\ttotal: 2.74s\tremaining: 1.44s\n",
      "655:\tlearn: 38887.3424885\ttotal: 2.75s\tremaining: 1.44s\n",
      "656:\tlearn: 38884.7949346\ttotal: 2.75s\tremaining: 1.44s\n",
      "657:\tlearn: 38883.7130157\ttotal: 2.75s\tremaining: 1.43s\n",
      "658:\tlearn: 38877.0880254\ttotal: 2.76s\tremaining: 1.43s\n",
      "659:\tlearn: 38871.4074617\ttotal: 2.76s\tremaining: 1.42s\n",
      "660:\tlearn: 38853.6775814\ttotal: 2.77s\tremaining: 1.42s\n",
      "661:\tlearn: 38799.3886842\ttotal: 2.77s\tremaining: 1.41s\n",
      "662:\tlearn: 38787.2708599\ttotal: 2.77s\tremaining: 1.41s\n",
      "663:\tlearn: 38766.9289529\ttotal: 2.78s\tremaining: 1.41s\n",
      "664:\tlearn: 38757.2999420\ttotal: 2.78s\tremaining: 1.4s\n",
      "665:\tlearn: 38742.2858533\ttotal: 2.78s\tremaining: 1.4s\n",
      "666:\tlearn: 38713.1743567\ttotal: 2.79s\tremaining: 1.39s\n",
      "667:\tlearn: 38668.5786247\ttotal: 2.79s\tremaining: 1.39s\n",
      "668:\tlearn: 38660.3519731\ttotal: 2.79s\tremaining: 1.38s\n",
      "669:\tlearn: 38651.7433233\ttotal: 2.8s\tremaining: 1.38s\n",
      "670:\tlearn: 38634.3210646\ttotal: 2.8s\tremaining: 1.37s\n",
      "671:\tlearn: 38633.1274661\ttotal: 2.81s\tremaining: 1.37s\n",
      "672:\tlearn: 38632.1454944\ttotal: 2.81s\tremaining: 1.36s\n",
      "673:\tlearn: 38617.5315033\ttotal: 2.81s\tremaining: 1.36s\n",
      "674:\tlearn: 38604.1071641\ttotal: 2.82s\tremaining: 1.36s\n",
      "675:\tlearn: 38577.2607895\ttotal: 2.82s\tremaining: 1.35s\n",
      "676:\tlearn: 38562.9804498\ttotal: 2.83s\tremaining: 1.35s\n",
      "677:\tlearn: 38556.7421043\ttotal: 2.83s\tremaining: 1.34s\n",
      "678:\tlearn: 38544.3242568\ttotal: 2.84s\tremaining: 1.34s\n",
      "679:\tlearn: 38540.2011253\ttotal: 2.84s\tremaining: 1.34s\n",
      "680:\tlearn: 38524.6883486\ttotal: 2.84s\tremaining: 1.33s\n",
      "681:\tlearn: 38515.3915975\ttotal: 2.85s\tremaining: 1.33s\n",
      "682:\tlearn: 38511.1796241\ttotal: 2.85s\tremaining: 1.32s\n",
      "683:\tlearn: 38492.6218466\ttotal: 2.86s\tremaining: 1.32s\n",
      "684:\tlearn: 38487.5896300\ttotal: 2.86s\tremaining: 1.31s\n",
      "685:\tlearn: 38482.7825612\ttotal: 2.86s\tremaining: 1.31s\n",
      "686:\tlearn: 38470.4346274\ttotal: 2.87s\tremaining: 1.31s\n",
      "687:\tlearn: 38456.9551075\ttotal: 2.87s\tremaining: 1.3s\n",
      "688:\tlearn: 38454.8235276\ttotal: 2.87s\tremaining: 1.3s\n",
      "689:\tlearn: 38444.8757079\ttotal: 2.88s\tremaining: 1.29s\n",
      "690:\tlearn: 38440.3156465\ttotal: 2.88s\tremaining: 1.29s\n",
      "691:\tlearn: 38391.1459520\ttotal: 2.88s\tremaining: 1.28s\n",
      "692:\tlearn: 38380.4317557\ttotal: 2.89s\tremaining: 1.28s\n",
      "693:\tlearn: 38379.5908659\ttotal: 2.89s\tremaining: 1.27s\n",
      "694:\tlearn: 38375.2129529\ttotal: 2.9s\tremaining: 1.27s\n",
      "695:\tlearn: 38355.3164237\ttotal: 2.9s\tremaining: 1.27s\n",
      "696:\tlearn: 38344.3555847\ttotal: 2.9s\tremaining: 1.26s\n",
      "697:\tlearn: 38340.1971958\ttotal: 2.91s\tremaining: 1.26s\n",
      "698:\tlearn: 38331.0738334\ttotal: 2.91s\tremaining: 1.25s\n",
      "699:\tlearn: 38330.4451450\ttotal: 2.91s\tremaining: 1.25s\n",
      "700:\tlearn: 38329.8494469\ttotal: 2.92s\tremaining: 1.24s\n",
      "701:\tlearn: 38329.2844808\ttotal: 2.92s\tremaining: 1.24s\n",
      "702:\tlearn: 38328.7481938\ttotal: 2.92s\tremaining: 1.24s\n",
      "703:\tlearn: 38327.6303863\ttotal: 2.93s\tremaining: 1.23s\n",
      "704:\tlearn: 38327.1314195\ttotal: 2.93s\tremaining: 1.23s\n",
      "705:\tlearn: 38326.6579412\ttotal: 2.93s\tremaining: 1.22s\n",
      "706:\tlearn: 38326.2084419\ttotal: 2.94s\tremaining: 1.22s\n",
      "707:\tlearn: 38307.0921791\ttotal: 2.94s\tremaining: 1.21s\n",
      "708:\tlearn: 38291.1567078\ttotal: 2.94s\tremaining: 1.21s\n",
      "709:\tlearn: 38290.2105324\ttotal: 2.95s\tremaining: 1.2s\n",
      "710:\tlearn: 38289.7989902\ttotal: 2.95s\tremaining: 1.2s\n",
      "711:\tlearn: 38263.7655190\ttotal: 2.95s\tremaining: 1.19s\n",
      "712:\tlearn: 38245.3412219\ttotal: 2.96s\tremaining: 1.19s\n",
      "713:\tlearn: 38204.2117462\ttotal: 2.96s\tremaining: 1.19s\n",
      "714:\tlearn: 38182.0217391\ttotal: 2.96s\tremaining: 1.18s\n",
      "715:\tlearn: 38181.0854280\ttotal: 2.97s\tremaining: 1.18s\n",
      "716:\tlearn: 38171.3642028\ttotal: 2.97s\tremaining: 1.17s\n",
      "717:\tlearn: 38133.8517561\ttotal: 2.98s\tremaining: 1.17s\n",
      "718:\tlearn: 38128.5966211\ttotal: 2.98s\tremaining: 1.16s\n",
      "719:\tlearn: 38095.1463655\ttotal: 2.98s\tremaining: 1.16s\n",
      "720:\tlearn: 38086.0497640\ttotal: 2.99s\tremaining: 1.16s\n",
      "721:\tlearn: 38083.0800806\ttotal: 2.99s\tremaining: 1.15s\n",
      "722:\tlearn: 38080.3959999\ttotal: 2.99s\tremaining: 1.15s\n",
      "723:\tlearn: 38069.7051993\ttotal: 3s\tremaining: 1.14s\n",
      "724:\tlearn: 38039.9581165\ttotal: 3s\tremaining: 1.14s\n",
      "725:\tlearn: 38038.3207916\ttotal: 3s\tremaining: 1.13s\n",
      "726:\tlearn: 38025.2859390\ttotal: 3.01s\tremaining: 1.13s\n",
      "727:\tlearn: 37996.0650365\ttotal: 3.01s\tremaining: 1.13s\n",
      "728:\tlearn: 37984.4883281\ttotal: 3.02s\tremaining: 1.12s\n",
      "729:\tlearn: 37981.3795679\ttotal: 3.02s\tremaining: 1.12s\n",
      "730:\tlearn: 37978.8437631\ttotal: 3.02s\tremaining: 1.11s\n",
      "731:\tlearn: 37969.4822530\ttotal: 3.03s\tremaining: 1.11s\n",
      "732:\tlearn: 37962.4605750\ttotal: 3.03s\tremaining: 1.1s\n",
      "733:\tlearn: 37945.1867375\ttotal: 3.04s\tremaining: 1.1s\n",
      "734:\tlearn: 37933.7970938\ttotal: 3.04s\tremaining: 1.1s\n",
      "735:\tlearn: 37931.4764080\ttotal: 3.04s\tremaining: 1.09s\n",
      "736:\tlearn: 37928.7348537\ttotal: 3.05s\tremaining: 1.09s\n",
      "737:\tlearn: 37922.6744296\ttotal: 3.08s\tremaining: 1.09s\n",
      "738:\tlearn: 37917.1697701\ttotal: 3.09s\tremaining: 1.09s\n",
      "739:\tlearn: 37897.2157667\ttotal: 3.09s\tremaining: 1.09s\n",
      "740:\tlearn: 37894.4989977\ttotal: 3.1s\tremaining: 1.08s\n",
      "741:\tlearn: 37878.1213006\ttotal: 3.1s\tremaining: 1.08s\n",
      "742:\tlearn: 37869.4871552\ttotal: 3.11s\tremaining: 1.07s\n",
      "743:\tlearn: 37859.4024856\ttotal: 3.11s\tremaining: 1.07s\n",
      "744:\tlearn: 37857.1488021\ttotal: 3.12s\tremaining: 1.07s\n",
      "745:\tlearn: 37852.1331687\ttotal: 3.12s\tremaining: 1.06s\n",
      "746:\tlearn: 37848.3512057\ttotal: 3.13s\tremaining: 1.06s\n",
      "747:\tlearn: 37838.1966716\ttotal: 3.13s\tremaining: 1.05s\n",
      "748:\tlearn: 37795.5732813\ttotal: 3.14s\tremaining: 1.05s\n",
      "749:\tlearn: 37794.9665083\ttotal: 3.14s\tremaining: 1.05s\n",
      "750:\tlearn: 37794.2802770\ttotal: 3.14s\tremaining: 1.04s\n",
      "751:\tlearn: 37784.7131219\ttotal: 3.15s\tremaining: 1.04s\n",
      "752:\tlearn: 37779.8390078\ttotal: 3.15s\tremaining: 1.03s\n",
      "753:\tlearn: 37771.9526179\ttotal: 3.16s\tremaining: 1.03s\n",
      "754:\tlearn: 37771.4080754\ttotal: 3.16s\tremaining: 1.02s\n",
      "755:\tlearn: 37756.4835962\ttotal: 3.17s\tremaining: 1.02s\n",
      "756:\tlearn: 37755.7511138\ttotal: 3.17s\tremaining: 1.02s\n",
      "757:\tlearn: 37674.8980229\ttotal: 3.17s\tremaining: 1.01s\n",
      "758:\tlearn: 37671.9206073\ttotal: 3.18s\tremaining: 1.01s\n",
      "759:\tlearn: 37657.9831847\ttotal: 3.18s\tremaining: 1s\n",
      "760:\tlearn: 37657.5275480\ttotal: 3.19s\tremaining: 1s\n",
      "761:\tlearn: 37655.6722204\ttotal: 3.19s\tremaining: 998ms\n",
      "762:\tlearn: 37652.4469060\ttotal: 3.2s\tremaining: 994ms\n",
      "763:\tlearn: 37644.6741732\ttotal: 3.2s\tremaining: 990ms\n",
      "764:\tlearn: 37643.2860219\ttotal: 3.21s\tremaining: 986ms\n",
      "765:\tlearn: 37637.1860983\ttotal: 3.21s\tremaining: 982ms\n",
      "766:\tlearn: 37635.9238843\ttotal: 3.22s\tremaining: 978ms\n",
      "767:\tlearn: 37623.7926178\ttotal: 3.22s\tremaining: 974ms\n",
      "768:\tlearn: 37616.8776495\ttotal: 3.23s\tremaining: 970ms\n",
      "769:\tlearn: 37593.4364437\ttotal: 3.23s\tremaining: 966ms\n",
      "770:\tlearn: 37584.8772438\ttotal: 3.24s\tremaining: 962ms\n",
      "771:\tlearn: 37580.8708140\ttotal: 3.25s\tremaining: 959ms\n",
      "772:\tlearn: 37572.6964268\ttotal: 3.25s\tremaining: 955ms\n",
      "773:\tlearn: 37563.1165671\ttotal: 3.26s\tremaining: 951ms\n",
      "774:\tlearn: 37557.0738184\ttotal: 3.26s\tremaining: 947ms\n",
      "775:\tlearn: 37552.3562596\ttotal: 3.27s\tremaining: 943ms\n",
      "776:\tlearn: 37544.4209332\ttotal: 3.27s\tremaining: 939ms\n",
      "777:\tlearn: 37543.0459002\ttotal: 3.28s\tremaining: 935ms\n",
      "778:\tlearn: 37537.9686121\ttotal: 3.28s\tremaining: 931ms\n",
      "779:\tlearn: 37535.2889438\ttotal: 3.29s\tremaining: 927ms\n",
      "780:\tlearn: 37531.1480733\ttotal: 3.29s\tremaining: 922ms\n",
      "781:\tlearn: 37528.2633625\ttotal: 3.29s\tremaining: 918ms\n",
      "782:\tlearn: 37520.7603639\ttotal: 3.3s\tremaining: 914ms\n",
      "783:\tlearn: 37505.0309489\ttotal: 3.3s\tremaining: 910ms\n",
      "784:\tlearn: 37503.9084767\ttotal: 3.31s\tremaining: 906ms\n",
      "785:\tlearn: 37501.3196368\ttotal: 3.31s\tremaining: 902ms\n",
      "786:\tlearn: 37493.1621099\ttotal: 3.32s\tremaining: 898ms\n",
      "787:\tlearn: 37463.0530640\ttotal: 3.32s\tremaining: 894ms\n",
      "788:\tlearn: 37448.5165557\ttotal: 3.33s\tremaining: 890ms\n",
      "789:\tlearn: 37428.8344142\ttotal: 3.33s\tremaining: 886ms\n",
      "790:\tlearn: 37424.7223528\ttotal: 3.34s\tremaining: 882ms\n",
      "791:\tlearn: 37419.1235260\ttotal: 3.34s\tremaining: 877ms\n",
      "792:\tlearn: 37411.1877385\ttotal: 3.35s\tremaining: 873ms\n",
      "793:\tlearn: 37406.7390637\ttotal: 3.35s\tremaining: 869ms\n",
      "794:\tlearn: 37399.1375146\ttotal: 3.35s\tremaining: 865ms\n",
      "795:\tlearn: 37397.0797106\ttotal: 3.36s\tremaining: 861ms\n",
      "796:\tlearn: 37384.3260848\ttotal: 3.36s\tremaining: 857ms\n",
      "797:\tlearn: 37379.8991589\ttotal: 3.37s\tremaining: 852ms\n",
      "798:\tlearn: 37375.1935934\ttotal: 3.37s\tremaining: 848ms\n",
      "799:\tlearn: 37367.1150232\ttotal: 3.39s\tremaining: 848ms\n",
      "800:\tlearn: 37362.5184758\ttotal: 3.4s\tremaining: 844ms\n",
      "801:\tlearn: 37361.4504132\ttotal: 3.4s\tremaining: 840ms\n",
      "802:\tlearn: 37354.4462002\ttotal: 3.4s\tremaining: 836ms\n",
      "803:\tlearn: 37352.4792135\ttotal: 3.41s\tremaining: 831ms\n",
      "804:\tlearn: 37288.1806724\ttotal: 3.42s\tremaining: 827ms\n",
      "805:\tlearn: 37284.6699059\ttotal: 3.42s\tremaining: 824ms\n",
      "806:\tlearn: 37282.0304386\ttotal: 3.43s\tremaining: 820ms\n",
      "807:\tlearn: 37276.4664956\ttotal: 3.44s\tremaining: 816ms\n",
      "808:\tlearn: 37275.8484932\ttotal: 3.44s\tremaining: 813ms\n",
      "809:\tlearn: 37275.3179834\ttotal: 3.45s\tremaining: 809ms\n",
      "810:\tlearn: 37274.6618899\ttotal: 3.45s\tremaining: 805ms\n",
      "811:\tlearn: 37253.9110633\ttotal: 3.46s\tremaining: 801ms\n",
      "812:\tlearn: 37251.0280116\ttotal: 3.46s\tremaining: 797ms\n",
      "813:\tlearn: 37247.1564106\ttotal: 3.47s\tremaining: 793ms\n",
      "814:\tlearn: 37239.7845713\ttotal: 3.47s\tremaining: 788ms\n",
      "815:\tlearn: 37218.1552783\ttotal: 3.48s\tremaining: 784ms\n",
      "816:\tlearn: 37214.4391538\ttotal: 3.48s\tremaining: 780ms\n",
      "817:\tlearn: 37200.5174031\ttotal: 3.49s\tremaining: 776ms\n",
      "818:\tlearn: 37143.4226194\ttotal: 3.49s\tremaining: 771ms\n",
      "819:\tlearn: 37142.4219269\ttotal: 3.5s\tremaining: 767ms\n",
      "820:\tlearn: 37124.6288359\ttotal: 3.5s\tremaining: 763ms\n",
      "821:\tlearn: 37116.8748739\ttotal: 3.5s\tremaining: 759ms\n",
      "822:\tlearn: 37111.5672964\ttotal: 3.51s\tremaining: 754ms\n",
      "823:\tlearn: 37095.3261801\ttotal: 3.51s\tremaining: 750ms\n",
      "824:\tlearn: 37088.9923220\ttotal: 3.52s\tremaining: 746ms\n",
      "825:\tlearn: 37069.3609528\ttotal: 3.52s\tremaining: 742ms\n",
      "826:\tlearn: 37068.6113466\ttotal: 3.52s\tremaining: 737ms\n",
      "827:\tlearn: 37062.3190968\ttotal: 3.53s\tremaining: 733ms\n",
      "828:\tlearn: 37056.5286039\ttotal: 3.53s\tremaining: 729ms\n",
      "829:\tlearn: 37049.6001535\ttotal: 3.54s\tremaining: 724ms\n",
      "830:\tlearn: 37047.2639363\ttotal: 3.54s\tremaining: 720ms\n",
      "831:\tlearn: 37040.5303381\ttotal: 3.54s\tremaining: 716ms\n",
      "832:\tlearn: 37034.3243179\ttotal: 3.55s\tremaining: 711ms\n",
      "833:\tlearn: 37015.8581761\ttotal: 3.55s\tremaining: 707ms\n",
      "834:\tlearn: 37010.5204587\ttotal: 3.56s\tremaining: 703ms\n",
      "835:\tlearn: 37005.6006536\ttotal: 3.56s\tremaining: 699ms\n",
      "836:\tlearn: 37002.0441180\ttotal: 3.56s\tremaining: 694ms\n",
      "837:\tlearn: 36997.5001113\ttotal: 3.57s\tremaining: 690ms\n",
      "838:\tlearn: 36995.2926448\ttotal: 3.57s\tremaining: 686ms\n",
      "839:\tlearn: 36990.9705006\ttotal: 3.58s\tremaining: 681ms\n",
      "840:\tlearn: 36987.5820450\ttotal: 3.58s\tremaining: 677ms\n",
      "841:\tlearn: 36971.6327002\ttotal: 3.59s\tremaining: 673ms\n",
      "842:\tlearn: 36958.3637393\ttotal: 3.59s\tremaining: 669ms\n",
      "843:\tlearn: 36951.1071789\ttotal: 3.6s\tremaining: 665ms\n",
      "844:\tlearn: 36950.4396049\ttotal: 3.6s\tremaining: 661ms\n",
      "845:\tlearn: 36948.8360176\ttotal: 3.6s\tremaining: 656ms\n",
      "846:\tlearn: 36941.6409920\ttotal: 3.61s\tremaining: 652ms\n",
      "847:\tlearn: 36941.1363382\ttotal: 3.61s\tremaining: 648ms\n",
      "848:\tlearn: 36939.3915568\ttotal: 3.62s\tremaining: 644ms\n",
      "849:\tlearn: 36935.9444672\ttotal: 3.62s\tremaining: 640ms\n",
      "850:\tlearn: 36935.3760070\ttotal: 3.63s\tremaining: 635ms\n",
      "851:\tlearn: 36934.1070079\ttotal: 3.63s\tremaining: 631ms\n",
      "852:\tlearn: 36931.0709893\ttotal: 3.64s\tremaining: 627ms\n",
      "853:\tlearn: 36924.1618815\ttotal: 3.64s\tremaining: 623ms\n",
      "854:\tlearn: 36922.8217416\ttotal: 3.65s\tremaining: 619ms\n",
      "855:\tlearn: 36917.5110390\ttotal: 3.65s\tremaining: 615ms\n",
      "856:\tlearn: 36900.0844629\ttotal: 3.66s\tremaining: 610ms\n",
      "857:\tlearn: 36895.9095326\ttotal: 3.66s\tremaining: 606ms\n",
      "858:\tlearn: 36892.0514233\ttotal: 3.67s\tremaining: 602ms\n",
      "859:\tlearn: 36888.4832681\ttotal: 3.67s\tremaining: 598ms\n",
      "860:\tlearn: 36881.8038774\ttotal: 3.67s\tremaining: 593ms\n",
      "861:\tlearn: 36876.2946622\ttotal: 3.68s\tremaining: 589ms\n",
      "862:\tlearn: 36871.3751536\ttotal: 3.68s\tremaining: 585ms\n",
      "863:\tlearn: 36863.9882116\ttotal: 3.69s\tremaining: 581ms\n",
      "864:\tlearn: 36861.4477334\ttotal: 3.69s\tremaining: 576ms\n",
      "865:\tlearn: 36849.0729146\ttotal: 3.7s\tremaining: 572ms\n",
      "866:\tlearn: 36848.3981085\ttotal: 3.7s\tremaining: 568ms\n",
      "867:\tlearn: 36847.8278555\ttotal: 3.71s\tremaining: 563ms\n",
      "868:\tlearn: 36843.3752291\ttotal: 3.71s\tremaining: 559ms\n",
      "869:\tlearn: 36836.9612227\ttotal: 3.71s\tremaining: 555ms\n",
      "870:\tlearn: 36835.5961158\ttotal: 3.72s\tremaining: 551ms\n",
      "871:\tlearn: 36823.0402390\ttotal: 3.72s\tremaining: 546ms\n",
      "872:\tlearn: 36820.5673461\ttotal: 3.73s\tremaining: 542ms\n",
      "873:\tlearn: 36815.5703297\ttotal: 3.73s\tremaining: 538ms\n",
      "874:\tlearn: 36804.4582019\ttotal: 3.73s\tremaining: 533ms\n",
      "875:\tlearn: 36799.9643050\ttotal: 3.74s\tremaining: 529ms\n",
      "876:\tlearn: 36792.4629939\ttotal: 3.74s\tremaining: 525ms\n",
      "877:\tlearn: 36791.0752512\ttotal: 3.75s\tremaining: 521ms\n",
      "878:\tlearn: 36769.7535775\ttotal: 3.75s\tremaining: 516ms\n",
      "879:\tlearn: 36764.1741293\ttotal: 3.75s\tremaining: 512ms\n",
      "880:\tlearn: 36761.0981488\ttotal: 3.76s\tremaining: 508ms\n",
      "881:\tlearn: 36743.7805989\ttotal: 3.76s\tremaining: 503ms\n",
      "882:\tlearn: 36739.8257996\ttotal: 3.76s\tremaining: 499ms\n",
      "883:\tlearn: 36730.3014228\ttotal: 3.77s\tremaining: 495ms\n",
      "884:\tlearn: 36723.4986892\ttotal: 3.77s\tremaining: 490ms\n",
      "885:\tlearn: 36718.8179894\ttotal: 3.78s\tremaining: 486ms\n",
      "886:\tlearn: 36709.7057869\ttotal: 3.78s\tremaining: 482ms\n",
      "887:\tlearn: 36708.5415220\ttotal: 3.78s\tremaining: 477ms\n",
      "888:\tlearn: 36703.3356817\ttotal: 3.79s\tremaining: 473ms\n",
      "889:\tlearn: 36700.1991827\ttotal: 3.79s\tremaining: 469ms\n",
      "890:\tlearn: 36697.9865550\ttotal: 3.79s\tremaining: 464ms\n",
      "891:\tlearn: 36679.2309884\ttotal: 3.8s\tremaining: 460ms\n",
      "892:\tlearn: 36672.6480321\ttotal: 3.8s\tremaining: 456ms\n",
      "893:\tlearn: 36660.7040349\ttotal: 3.81s\tremaining: 451ms\n",
      "894:\tlearn: 36650.9594981\ttotal: 3.81s\tremaining: 447ms\n",
      "895:\tlearn: 36643.3586580\ttotal: 3.81s\tremaining: 443ms\n",
      "896:\tlearn: 36634.5710235\ttotal: 3.82s\tremaining: 438ms\n",
      "897:\tlearn: 36623.6911361\ttotal: 3.82s\tremaining: 434ms\n",
      "898:\tlearn: 36616.9732902\ttotal: 3.83s\tremaining: 430ms\n",
      "899:\tlearn: 36589.6574385\ttotal: 3.83s\tremaining: 426ms\n",
      "900:\tlearn: 36586.0108602\ttotal: 3.83s\tremaining: 421ms\n",
      "901:\tlearn: 36575.9505205\ttotal: 3.84s\tremaining: 417ms\n",
      "902:\tlearn: 36564.6906066\ttotal: 3.84s\tremaining: 413ms\n",
      "903:\tlearn: 36561.9284614\ttotal: 3.85s\tremaining: 409ms\n",
      "904:\tlearn: 36558.9441345\ttotal: 3.85s\tremaining: 404ms\n",
      "905:\tlearn: 36550.0278983\ttotal: 3.86s\tremaining: 400ms\n",
      "906:\tlearn: 36543.1007225\ttotal: 3.86s\tremaining: 396ms\n",
      "907:\tlearn: 36541.1841978\ttotal: 3.87s\tremaining: 392ms\n",
      "908:\tlearn: 36522.3341759\ttotal: 3.87s\tremaining: 387ms\n",
      "909:\tlearn: 36510.5714276\ttotal: 3.87s\tremaining: 383ms\n",
      "910:\tlearn: 36501.6838413\ttotal: 3.88s\tremaining: 379ms\n",
      "911:\tlearn: 36498.5758629\ttotal: 3.88s\tremaining: 375ms\n",
      "912:\tlearn: 36484.3405632\ttotal: 3.88s\tremaining: 370ms\n",
      "913:\tlearn: 36480.6073726\ttotal: 3.89s\tremaining: 366ms\n",
      "914:\tlearn: 36477.2255108\ttotal: 3.89s\tremaining: 362ms\n",
      "915:\tlearn: 36474.3749146\ttotal: 3.9s\tremaining: 357ms\n",
      "916:\tlearn: 36466.2180041\ttotal: 3.9s\tremaining: 353ms\n",
      "917:\tlearn: 36460.6276769\ttotal: 3.9s\tremaining: 349ms\n",
      "918:\tlearn: 36449.3296044\ttotal: 3.91s\tremaining: 344ms\n",
      "919:\tlearn: 36438.9086434\ttotal: 3.91s\tremaining: 340ms\n",
      "920:\tlearn: 36436.2276651\ttotal: 3.92s\tremaining: 336ms\n",
      "921:\tlearn: 36413.9772665\ttotal: 3.92s\tremaining: 332ms\n",
      "922:\tlearn: 36413.0213963\ttotal: 3.92s\tremaining: 327ms\n",
      "923:\tlearn: 36409.5935901\ttotal: 3.93s\tremaining: 323ms\n",
      "924:\tlearn: 36404.1599252\ttotal: 3.93s\tremaining: 319ms\n",
      "925:\tlearn: 36399.6319789\ttotal: 3.93s\tremaining: 314ms\n",
      "926:\tlearn: 36395.6253075\ttotal: 3.94s\tremaining: 310ms\n",
      "927:\tlearn: 36392.7719207\ttotal: 3.94s\tremaining: 306ms\n",
      "928:\tlearn: 36392.2937389\ttotal: 3.94s\tremaining: 301ms\n",
      "929:\tlearn: 36389.0531465\ttotal: 3.95s\tremaining: 297ms\n",
      "930:\tlearn: 36380.1160759\ttotal: 3.95s\tremaining: 293ms\n",
      "931:\tlearn: 36369.6935705\ttotal: 3.96s\tremaining: 289ms\n",
      "932:\tlearn: 36364.1257817\ttotal: 3.96s\tremaining: 284ms\n",
      "933:\tlearn: 36353.4414698\ttotal: 3.96s\tremaining: 280ms\n",
      "934:\tlearn: 36333.5607960\ttotal: 3.97s\tremaining: 276ms\n",
      "935:\tlearn: 36332.5379672\ttotal: 3.97s\tremaining: 271ms\n",
      "936:\tlearn: 36318.0777280\ttotal: 3.97s\tremaining: 267ms\n",
      "937:\tlearn: 36310.4516958\ttotal: 3.98s\tremaining: 263ms\n",
      "938:\tlearn: 36309.3593080\ttotal: 3.98s\tremaining: 259ms\n",
      "939:\tlearn: 36301.5124092\ttotal: 3.98s\tremaining: 254ms\n",
      "940:\tlearn: 36298.9579747\ttotal: 3.99s\tremaining: 250ms\n",
      "941:\tlearn: 36296.7085131\ttotal: 3.99s\tremaining: 246ms\n",
      "942:\tlearn: 36291.9931501\ttotal: 4s\tremaining: 242ms\n",
      "943:\tlearn: 36289.0861044\ttotal: 4s\tremaining: 237ms\n",
      "944:\tlearn: 36286.4522084\ttotal: 4s\tremaining: 233ms\n",
      "945:\tlearn: 36228.7090741\ttotal: 4.01s\tremaining: 229ms\n",
      "946:\tlearn: 36224.6344303\ttotal: 4.01s\tremaining: 225ms\n",
      "947:\tlearn: 36218.9285900\ttotal: 4.02s\tremaining: 220ms\n",
      "948:\tlearn: 36199.7719628\ttotal: 4.02s\tremaining: 216ms\n",
      "949:\tlearn: 36196.2110704\ttotal: 4.03s\tremaining: 212ms\n",
      "950:\tlearn: 36186.9675543\ttotal: 4.03s\tremaining: 208ms\n",
      "951:\tlearn: 36134.1642983\ttotal: 4.03s\tremaining: 203ms\n",
      "952:\tlearn: 35990.3465788\ttotal: 4.04s\tremaining: 199ms\n",
      "953:\tlearn: 35986.0134403\ttotal: 4.04s\tremaining: 195ms\n",
      "954:\tlearn: 35979.2315366\ttotal: 4.05s\tremaining: 191ms\n",
      "955:\tlearn: 35967.0300098\ttotal: 4.05s\tremaining: 186ms\n",
      "956:\tlearn: 35911.7352737\ttotal: 4.05s\tremaining: 182ms\n",
      "957:\tlearn: 35908.5108832\ttotal: 4.06s\tremaining: 178ms\n",
      "958:\tlearn: 35886.8028914\ttotal: 4.06s\tremaining: 174ms\n",
      "959:\tlearn: 35882.1506013\ttotal: 4.07s\tremaining: 170ms\n",
      "960:\tlearn: 35851.0284343\ttotal: 4.07s\tremaining: 165ms\n",
      "961:\tlearn: 35840.4409969\ttotal: 4.08s\tremaining: 161ms\n",
      "962:\tlearn: 35830.2750372\ttotal: 4.08s\tremaining: 157ms\n",
      "963:\tlearn: 35822.4609909\ttotal: 4.08s\tremaining: 152ms\n",
      "964:\tlearn: 35807.5247275\ttotal: 4.09s\tremaining: 148ms\n",
      "965:\tlearn: 35803.9547874\ttotal: 4.09s\tremaining: 144ms\n",
      "966:\tlearn: 35791.6308603\ttotal: 4.09s\tremaining: 140ms\n",
      "967:\tlearn: 35772.8565280\ttotal: 4.1s\tremaining: 135ms\n",
      "968:\tlearn: 35765.3880417\ttotal: 4.1s\tremaining: 131ms\n",
      "969:\tlearn: 35762.9574020\ttotal: 4.11s\tremaining: 127ms\n",
      "970:\tlearn: 35710.4316021\ttotal: 4.11s\tremaining: 123ms\n",
      "971:\tlearn: 35650.1932041\ttotal: 4.11s\tremaining: 118ms\n",
      "972:\tlearn: 35646.2998141\ttotal: 4.12s\tremaining: 114ms\n",
      "973:\tlearn: 35642.0377140\ttotal: 4.12s\tremaining: 110ms\n",
      "974:\tlearn: 35636.3691981\ttotal: 4.12s\tremaining: 106ms\n",
      "975:\tlearn: 35633.8054257\ttotal: 4.13s\tremaining: 102ms\n",
      "976:\tlearn: 35614.9730449\ttotal: 4.13s\tremaining: 97.3ms\n",
      "977:\tlearn: 35590.5113315\ttotal: 4.14s\tremaining: 93ms\n",
      "978:\tlearn: 35583.5727246\ttotal: 4.14s\tremaining: 88.8ms\n",
      "979:\tlearn: 35553.2280559\ttotal: 4.14s\tremaining: 84.6ms\n",
      "980:\tlearn: 35488.0047843\ttotal: 4.15s\tremaining: 80.3ms\n",
      "981:\tlearn: 35482.0577024\ttotal: 4.15s\tremaining: 76.1ms\n",
      "982:\tlearn: 35473.9761969\ttotal: 4.16s\tremaining: 71.9ms\n",
      "983:\tlearn: 35460.0549047\ttotal: 4.16s\tremaining: 67.6ms\n",
      "984:\tlearn: 35437.9149926\ttotal: 4.16s\tremaining: 63.4ms\n",
      "985:\tlearn: 35429.9754432\ttotal: 4.17s\tremaining: 59.2ms\n",
      "986:\tlearn: 35428.5894973\ttotal: 4.17s\tremaining: 54.9ms\n",
      "987:\tlearn: 35421.8333911\ttotal: 4.17s\tremaining: 50.7ms\n",
      "988:\tlearn: 35400.0265932\ttotal: 4.18s\tremaining: 46.5ms\n",
      "989:\tlearn: 35393.9790946\ttotal: 4.18s\tremaining: 42.2ms\n",
      "990:\tlearn: 35388.9357189\ttotal: 4.18s\tremaining: 38ms\n",
      "991:\tlearn: 35368.0892455\ttotal: 4.19s\tremaining: 33.8ms\n",
      "992:\tlearn: 35363.6270930\ttotal: 4.19s\tremaining: 29.6ms\n",
      "993:\tlearn: 35340.9686828\ttotal: 4.2s\tremaining: 25.3ms\n",
      "994:\tlearn: 35338.8510937\ttotal: 4.2s\tremaining: 21.1ms\n",
      "995:\tlearn: 35305.4624858\ttotal: 4.2s\tremaining: 16.9ms\n",
      "996:\tlearn: 35300.4044811\ttotal: 4.21s\tremaining: 12.7ms\n",
      "997:\tlearn: 35295.6143609\ttotal: 4.21s\tremaining: 8.44ms\n",
      "998:\tlearn: 35289.5045004\ttotal: 4.22s\tremaining: 4.22ms\n",
      "999:\tlearn: 35288.1726115\ttotal: 4.22s\tremaining: 0us\n"
     ]
    },
    {
     "data": {
      "text/plain": [
       "<catboost.core.CatBoostRegressor at 0x212f4c97160>"
      ]
     },
     "execution_count": 25,
     "metadata": {},
     "output_type": "execute_result"
    }
   ],
   "source": [
    "from catboost import CatBoostRegressor\n",
    "CBR = CatBoostRegressor()\n",
    "CBR.fit(X_train, y_train)"
   ]
  },
  {
   "cell_type": "code",
   "execution_count": 26,
   "id": "4af92f83",
   "metadata": {},
   "outputs": [
    {
     "data": {
      "text/plain": [
       "array([  3914.3665095 ,   3217.06461124,   5166.73494647, ...,\n",
       "       143914.36713986,   3182.20278758,   3684.38135417])"
      ]
     },
     "execution_count": 26,
     "metadata": {},
     "output_type": "execute_result"
    }
   ],
   "source": [
    "y_pred_cbr = CBR.predict(X_test)\n",
    "y_pred_cbr"
   ]
  },
  {
   "cell_type": "code",
   "execution_count": 27,
   "id": "6cbc0fca",
   "metadata": {},
   "outputs": [],
   "source": [
    "# from sklearn.kernel_ridge import KernelRidge\n",
    "# KR = KernelRidge()\n",
    "# KR.fit(X_train, y_train)"
   ]
  },
  {
   "cell_type": "code",
   "execution_count": 28,
   "id": "b2bbdc99",
   "metadata": {},
   "outputs": [],
   "source": [
    "# y_pred_kr = KR.predict(X_test)"
   ]
  },
  {
   "cell_type": "code",
   "execution_count": 29,
   "id": "7b2d57f5",
   "metadata": {},
   "outputs": [
    {
     "data": {
      "text/html": [
       "<style>#sk-container-id-7 {color: black;}#sk-container-id-7 pre{padding: 0;}#sk-container-id-7 div.sk-toggleable {background-color: white;}#sk-container-id-7 label.sk-toggleable__label {cursor: pointer;display: block;width: 100%;margin-bottom: 0;padding: 0.3em;box-sizing: border-box;text-align: center;}#sk-container-id-7 label.sk-toggleable__label-arrow:before {content: \"▸\";float: left;margin-right: 0.25em;color: #696969;}#sk-container-id-7 label.sk-toggleable__label-arrow:hover:before {color: black;}#sk-container-id-7 div.sk-estimator:hover label.sk-toggleable__label-arrow:before {color: black;}#sk-container-id-7 div.sk-toggleable__content {max-height: 0;max-width: 0;overflow: hidden;text-align: left;background-color: #f0f8ff;}#sk-container-id-7 div.sk-toggleable__content pre {margin: 0.2em;color: black;border-radius: 0.25em;background-color: #f0f8ff;}#sk-container-id-7 input.sk-toggleable__control:checked~div.sk-toggleable__content {max-height: 200px;max-width: 100%;overflow: auto;}#sk-container-id-7 input.sk-toggleable__control:checked~label.sk-toggleable__label-arrow:before {content: \"▾\";}#sk-container-id-7 div.sk-estimator input.sk-toggleable__control:checked~label.sk-toggleable__label {background-color: #d4ebff;}#sk-container-id-7 div.sk-label input.sk-toggleable__control:checked~label.sk-toggleable__label {background-color: #d4ebff;}#sk-container-id-7 input.sk-hidden--visually {border: 0;clip: rect(1px 1px 1px 1px);clip: rect(1px, 1px, 1px, 1px);height: 1px;margin: -1px;overflow: hidden;padding: 0;position: absolute;width: 1px;}#sk-container-id-7 div.sk-estimator {font-family: monospace;background-color: #f0f8ff;border: 1px dotted black;border-radius: 0.25em;box-sizing: border-box;margin-bottom: 0.5em;}#sk-container-id-7 div.sk-estimator:hover {background-color: #d4ebff;}#sk-container-id-7 div.sk-parallel-item::after {content: \"\";width: 100%;border-bottom: 1px solid gray;flex-grow: 1;}#sk-container-id-7 div.sk-label:hover label.sk-toggleable__label {background-color: #d4ebff;}#sk-container-id-7 div.sk-serial::before {content: \"\";position: absolute;border-left: 1px solid gray;box-sizing: border-box;top: 0;bottom: 0;left: 50%;z-index: 0;}#sk-container-id-7 div.sk-serial {display: flex;flex-direction: column;align-items: center;background-color: white;padding-right: 0.2em;padding-left: 0.2em;position: relative;}#sk-container-id-7 div.sk-item {position: relative;z-index: 1;}#sk-container-id-7 div.sk-parallel {display: flex;align-items: stretch;justify-content: center;background-color: white;position: relative;}#sk-container-id-7 div.sk-item::before, #sk-container-id-7 div.sk-parallel-item::before {content: \"\";position: absolute;border-left: 1px solid gray;box-sizing: border-box;top: 0;bottom: 0;left: 50%;z-index: -1;}#sk-container-id-7 div.sk-parallel-item {display: flex;flex-direction: column;z-index: 1;position: relative;background-color: white;}#sk-container-id-7 div.sk-parallel-item:first-child::after {align-self: flex-end;width: 50%;}#sk-container-id-7 div.sk-parallel-item:last-child::after {align-self: flex-start;width: 50%;}#sk-container-id-7 div.sk-parallel-item:only-child::after {width: 0;}#sk-container-id-7 div.sk-dashed-wrapped {border: 1px dashed gray;margin: 0 0.4em 0.5em 0.4em;box-sizing: border-box;padding-bottom: 0.4em;background-color: white;}#sk-container-id-7 div.sk-label label {font-family: monospace;font-weight: bold;display: inline-block;line-height: 1.2em;}#sk-container-id-7 div.sk-label-container {text-align: center;}#sk-container-id-7 div.sk-container {/* jupyter's `normalize.less` sets `[hidden] { display: none; }` but bootstrap.min.css set `[hidden] { display: none !important; }` so we also need the `!important` here to be able to override the default hidden behavior on the sphinx rendered scikit-learn.org. See: https://github.com/scikit-learn/scikit-learn/issues/21755 */display: inline-block !important;position: relative;}#sk-container-id-7 div.sk-text-repr-fallback {display: none;}</style><div id=\"sk-container-id-7\" class=\"sk-top-container\"><div class=\"sk-text-repr-fallback\"><pre>RandomForestRegressor(n_estimators=500, n_jobs=-1, random_state=42)</pre><b>In a Jupyter environment, please rerun this cell to show the HTML representation or trust the notebook. <br />On GitHub, the HTML representation is unable to render, please try loading this page with nbviewer.org.</b></div><div class=\"sk-container\" hidden><div class=\"sk-item\"><div class=\"sk-estimator sk-toggleable\"><input class=\"sk-toggleable__control sk-hidden--visually\" id=\"sk-estimator-id-7\" type=\"checkbox\" checked><label for=\"sk-estimator-id-7\" class=\"sk-toggleable__label sk-toggleable__label-arrow\">RandomForestRegressor</label><div class=\"sk-toggleable__content\"><pre>RandomForestRegressor(n_estimators=500, n_jobs=-1, random_state=42)</pre></div></div></div></div></div>"
      ],
      "text/plain": [
       "RandomForestRegressor(n_estimators=500, n_jobs=-1, random_state=42)"
      ]
     },
     "execution_count": 29,
     "metadata": {},
     "output_type": "execute_result"
    }
   ],
   "source": [
    "from sklearn.ensemble import RandomForestRegressor\n",
    "RFR = RandomForestRegressor(n_estimators=500,random_state=42, n_jobs=-1)\n",
    "RFR.fit(X_train, y_train)"
   ]
  },
  {
   "cell_type": "code",
   "execution_count": 39,
   "id": "ed278350-0bb6-44db-81bf-a422589419fd",
   "metadata": {},
   "outputs": [
    {
     "data": {
      "text/plain": [
       "0.7668816165737848"
      ]
     },
     "execution_count": 39,
     "metadata": {},
     "output_type": "execute_result"
    }
   ],
   "source": [
    "RFR.score(X_test,y_test)"
   ]
  },
  {
   "cell_type": "code",
   "execution_count": 42,
   "id": "05e89c2e-e0c1-4d63-ae27-5f797db5f1ec",
   "metadata": {},
   "outputs": [],
   "source": [
    "from sklearn.model_selection import cross_val_score\n",
    "# 使用交叉验证评估模型性能\n",
    "cv_scores = cross_val_score(RFR, X_train, y_train, cv=10, scoring='neg_mean_squared_error')\n",
    "\n",
    "# 计算均方根误差（Root Mean Squared Error，RMSE）的平均值\n",
    "rmse_scores = (-cv_scores)**0.5\n",
    "average_rmse = rmse_scores.mean()"
   ]
  },
  {
   "cell_type": "code",
   "execution_count": 43,
   "id": "3292f2d5-3588-4c48-b31a-efdaf59e9eb4",
   "metadata": {},
   "outputs": [
    {
     "data": {
      "text/plain": [
       "48405.90850277023"
      ]
     },
     "execution_count": 43,
     "metadata": {},
     "output_type": "execute_result"
    }
   ],
   "source": [
    "average_rmse"
   ]
  },
  {
   "cell_type": "code",
   "execution_count": 30,
   "id": "cac1ea04",
   "metadata": {},
   "outputs": [
    {
     "data": {
      "text/plain": [
       "array([  3397.1968254 ,   3375.85      ,   3485.65714286, ...,\n",
       "       138370.        ,   3300.80380952,   3339.01074648])"
      ]
     },
     "execution_count": 30,
     "metadata": {},
     "output_type": "execute_result"
    }
   ],
   "source": [
    "y_pred_rfr = RFR.predict(X_test)\n",
    "y_pred_rfr"
   ]
  },
  {
   "cell_type": "code",
   "execution_count": 31,
   "id": "276de1a4",
   "metadata": {},
   "outputs": [
    {
     "data": {
      "text/html": [
       "<style>#sk-container-id-8 {color: black;}#sk-container-id-8 pre{padding: 0;}#sk-container-id-8 div.sk-toggleable {background-color: white;}#sk-container-id-8 label.sk-toggleable__label {cursor: pointer;display: block;width: 100%;margin-bottom: 0;padding: 0.3em;box-sizing: border-box;text-align: center;}#sk-container-id-8 label.sk-toggleable__label-arrow:before {content: \"▸\";float: left;margin-right: 0.25em;color: #696969;}#sk-container-id-8 label.sk-toggleable__label-arrow:hover:before {color: black;}#sk-container-id-8 div.sk-estimator:hover label.sk-toggleable__label-arrow:before {color: black;}#sk-container-id-8 div.sk-toggleable__content {max-height: 0;max-width: 0;overflow: hidden;text-align: left;background-color: #f0f8ff;}#sk-container-id-8 div.sk-toggleable__content pre {margin: 0.2em;color: black;border-radius: 0.25em;background-color: #f0f8ff;}#sk-container-id-8 input.sk-toggleable__control:checked~div.sk-toggleable__content {max-height: 200px;max-width: 100%;overflow: auto;}#sk-container-id-8 input.sk-toggleable__control:checked~label.sk-toggleable__label-arrow:before {content: \"▾\";}#sk-container-id-8 div.sk-estimator input.sk-toggleable__control:checked~label.sk-toggleable__label {background-color: #d4ebff;}#sk-container-id-8 div.sk-label input.sk-toggleable__control:checked~label.sk-toggleable__label {background-color: #d4ebff;}#sk-container-id-8 input.sk-hidden--visually {border: 0;clip: rect(1px 1px 1px 1px);clip: rect(1px, 1px, 1px, 1px);height: 1px;margin: -1px;overflow: hidden;padding: 0;position: absolute;width: 1px;}#sk-container-id-8 div.sk-estimator {font-family: monospace;background-color: #f0f8ff;border: 1px dotted black;border-radius: 0.25em;box-sizing: border-box;margin-bottom: 0.5em;}#sk-container-id-8 div.sk-estimator:hover {background-color: #d4ebff;}#sk-container-id-8 div.sk-parallel-item::after {content: \"\";width: 100%;border-bottom: 1px solid gray;flex-grow: 1;}#sk-container-id-8 div.sk-label:hover label.sk-toggleable__label {background-color: #d4ebff;}#sk-container-id-8 div.sk-serial::before {content: \"\";position: absolute;border-left: 1px solid gray;box-sizing: border-box;top: 0;bottom: 0;left: 50%;z-index: 0;}#sk-container-id-8 div.sk-serial {display: flex;flex-direction: column;align-items: center;background-color: white;padding-right: 0.2em;padding-left: 0.2em;position: relative;}#sk-container-id-8 div.sk-item {position: relative;z-index: 1;}#sk-container-id-8 div.sk-parallel {display: flex;align-items: stretch;justify-content: center;background-color: white;position: relative;}#sk-container-id-8 div.sk-item::before, #sk-container-id-8 div.sk-parallel-item::before {content: \"\";position: absolute;border-left: 1px solid gray;box-sizing: border-box;top: 0;bottom: 0;left: 50%;z-index: -1;}#sk-container-id-8 div.sk-parallel-item {display: flex;flex-direction: column;z-index: 1;position: relative;background-color: white;}#sk-container-id-8 div.sk-parallel-item:first-child::after {align-self: flex-end;width: 50%;}#sk-container-id-8 div.sk-parallel-item:last-child::after {align-self: flex-start;width: 50%;}#sk-container-id-8 div.sk-parallel-item:only-child::after {width: 0;}#sk-container-id-8 div.sk-dashed-wrapped {border: 1px dashed gray;margin: 0 0.4em 0.5em 0.4em;box-sizing: border-box;padding-bottom: 0.4em;background-color: white;}#sk-container-id-8 div.sk-label label {font-family: monospace;font-weight: bold;display: inline-block;line-height: 1.2em;}#sk-container-id-8 div.sk-label-container {text-align: center;}#sk-container-id-8 div.sk-container {/* jupyter's `normalize.less` sets `[hidden] { display: none; }` but bootstrap.min.css set `[hidden] { display: none !important; }` so we also need the `!important` here to be able to override the default hidden behavior on the sphinx rendered scikit-learn.org. See: https://github.com/scikit-learn/scikit-learn/issues/21755 */display: inline-block !important;position: relative;}#sk-container-id-8 div.sk-text-repr-fallback {display: none;}</style><div id=\"sk-container-id-8\" class=\"sk-top-container\"><div class=\"sk-text-repr-fallback\"><pre>GradientBoostingRegressor()</pre><b>In a Jupyter environment, please rerun this cell to show the HTML representation or trust the notebook. <br />On GitHub, the HTML representation is unable to render, please try loading this page with nbviewer.org.</b></div><div class=\"sk-container\" hidden><div class=\"sk-item\"><div class=\"sk-estimator sk-toggleable\"><input class=\"sk-toggleable__control sk-hidden--visually\" id=\"sk-estimator-id-8\" type=\"checkbox\" checked><label for=\"sk-estimator-id-8\" class=\"sk-toggleable__label sk-toggleable__label-arrow\">GradientBoostingRegressor</label><div class=\"sk-toggleable__content\"><pre>GradientBoostingRegressor()</pre></div></div></div></div></div>"
      ],
      "text/plain": [
       "GradientBoostingRegressor()"
      ]
     },
     "execution_count": 31,
     "metadata": {},
     "output_type": "execute_result"
    }
   ],
   "source": [
    "from sklearn.ensemble import GradientBoostingRegressor\n",
    "GBR = GradientBoostingRegressor()\n",
    "GBR.fit(X_train, y_train)"
   ]
  },
  {
   "cell_type": "code",
   "execution_count": 32,
   "id": "baf9f5d9",
   "metadata": {},
   "outputs": [
    {
     "data": {
      "text/plain": [
       "array([3.13784230e+03, 2.35270663e+03, 1.27322400e+02, ...,\n",
       "       1.37796906e+05, 2.46184555e+03, 2.35270663e+03])"
      ]
     },
     "execution_count": 32,
     "metadata": {},
     "output_type": "execute_result"
    }
   ],
   "source": [
    "y_pred_gbr = GBR.predict(X_test)\n",
    "y_pred_gbr"
   ]
  },
  {
   "cell_type": "code",
   "execution_count": 33,
   "id": "40869dd3",
   "metadata": {},
   "outputs": [
    {
     "data": {
      "text/html": [
       "<style>#sk-container-id-9 {color: black;}#sk-container-id-9 pre{padding: 0;}#sk-container-id-9 div.sk-toggleable {background-color: white;}#sk-container-id-9 label.sk-toggleable__label {cursor: pointer;display: block;width: 100%;margin-bottom: 0;padding: 0.3em;box-sizing: border-box;text-align: center;}#sk-container-id-9 label.sk-toggleable__label-arrow:before {content: \"▸\";float: left;margin-right: 0.25em;color: #696969;}#sk-container-id-9 label.sk-toggleable__label-arrow:hover:before {color: black;}#sk-container-id-9 div.sk-estimator:hover label.sk-toggleable__label-arrow:before {color: black;}#sk-container-id-9 div.sk-toggleable__content {max-height: 0;max-width: 0;overflow: hidden;text-align: left;background-color: #f0f8ff;}#sk-container-id-9 div.sk-toggleable__content pre {margin: 0.2em;color: black;border-radius: 0.25em;background-color: #f0f8ff;}#sk-container-id-9 input.sk-toggleable__control:checked~div.sk-toggleable__content {max-height: 200px;max-width: 100%;overflow: auto;}#sk-container-id-9 input.sk-toggleable__control:checked~label.sk-toggleable__label-arrow:before {content: \"▾\";}#sk-container-id-9 div.sk-estimator input.sk-toggleable__control:checked~label.sk-toggleable__label {background-color: #d4ebff;}#sk-container-id-9 div.sk-label input.sk-toggleable__control:checked~label.sk-toggleable__label {background-color: #d4ebff;}#sk-container-id-9 input.sk-hidden--visually {border: 0;clip: rect(1px 1px 1px 1px);clip: rect(1px, 1px, 1px, 1px);height: 1px;margin: -1px;overflow: hidden;padding: 0;position: absolute;width: 1px;}#sk-container-id-9 div.sk-estimator {font-family: monospace;background-color: #f0f8ff;border: 1px dotted black;border-radius: 0.25em;box-sizing: border-box;margin-bottom: 0.5em;}#sk-container-id-9 div.sk-estimator:hover {background-color: #d4ebff;}#sk-container-id-9 div.sk-parallel-item::after {content: \"\";width: 100%;border-bottom: 1px solid gray;flex-grow: 1;}#sk-container-id-9 div.sk-label:hover label.sk-toggleable__label {background-color: #d4ebff;}#sk-container-id-9 div.sk-serial::before {content: \"\";position: absolute;border-left: 1px solid gray;box-sizing: border-box;top: 0;bottom: 0;left: 50%;z-index: 0;}#sk-container-id-9 div.sk-serial {display: flex;flex-direction: column;align-items: center;background-color: white;padding-right: 0.2em;padding-left: 0.2em;position: relative;}#sk-container-id-9 div.sk-item {position: relative;z-index: 1;}#sk-container-id-9 div.sk-parallel {display: flex;align-items: stretch;justify-content: center;background-color: white;position: relative;}#sk-container-id-9 div.sk-item::before, #sk-container-id-9 div.sk-parallel-item::before {content: \"\";position: absolute;border-left: 1px solid gray;box-sizing: border-box;top: 0;bottom: 0;left: 50%;z-index: -1;}#sk-container-id-9 div.sk-parallel-item {display: flex;flex-direction: column;z-index: 1;position: relative;background-color: white;}#sk-container-id-9 div.sk-parallel-item:first-child::after {align-self: flex-end;width: 50%;}#sk-container-id-9 div.sk-parallel-item:last-child::after {align-self: flex-start;width: 50%;}#sk-container-id-9 div.sk-parallel-item:only-child::after {width: 0;}#sk-container-id-9 div.sk-dashed-wrapped {border: 1px dashed gray;margin: 0 0.4em 0.5em 0.4em;box-sizing: border-box;padding-bottom: 0.4em;background-color: white;}#sk-container-id-9 div.sk-label label {font-family: monospace;font-weight: bold;display: inline-block;line-height: 1.2em;}#sk-container-id-9 div.sk-label-container {text-align: center;}#sk-container-id-9 div.sk-container {/* jupyter's `normalize.less` sets `[hidden] { display: none; }` but bootstrap.min.css set `[hidden] { display: none !important; }` so we also need the `!important` here to be able to override the default hidden behavior on the sphinx rendered scikit-learn.org. See: https://github.com/scikit-learn/scikit-learn/issues/21755 */display: inline-block !important;position: relative;}#sk-container-id-9 div.sk-text-repr-fallback {display: none;}</style><div id=\"sk-container-id-9\" class=\"sk-top-container\"><div class=\"sk-text-repr-fallback\"><pre>SVR()</pre><b>In a Jupyter environment, please rerun this cell to show the HTML representation or trust the notebook. <br />On GitHub, the HTML representation is unable to render, please try loading this page with nbviewer.org.</b></div><div class=\"sk-container\" hidden><div class=\"sk-item\"><div class=\"sk-estimator sk-toggleable\"><input class=\"sk-toggleable__control sk-hidden--visually\" id=\"sk-estimator-id-9\" type=\"checkbox\" checked><label for=\"sk-estimator-id-9\" class=\"sk-toggleable__label sk-toggleable__label-arrow\">SVR</label><div class=\"sk-toggleable__content\"><pre>SVR()</pre></div></div></div></div></div>"
      ],
      "text/plain": [
       "SVR()"
      ]
     },
     "execution_count": 33,
     "metadata": {},
     "output_type": "execute_result"
    }
   ],
   "source": [
    "from sklearn.svm import SVR\n",
    "SVR = SVR()\n",
    "SVR.fit(X_train, y_train)"
   ]
  },
  {
   "cell_type": "code",
   "execution_count": 34,
   "id": "72edc0f3",
   "metadata": {},
   "outputs": [
    {
     "data": {
      "text/plain": [
       "array([3314.85419705, 3312.26350948, 3406.29996826, ..., 4252.67708914,\n",
       "       3298.63299251, 3302.91172905])"
      ]
     },
     "execution_count": 34,
     "metadata": {},
     "output_type": "execute_result"
    }
   ],
   "source": [
    "y_pred_svr = SVR.predict(X_test)\n",
    "y_pred_svr"
   ]
  },
  {
   "cell_type": "code",
   "execution_count": 35,
   "id": "0b6574de",
   "metadata": {},
   "outputs": [],
   "source": [
    "result_df = pd.DataFrame({\n",
    "    \"y_test\":y_test,\n",
    "    \"differ_lr\":abs(y_pred_lr-y_test),\n",
    "    \"differ_sgdr\":abs(y_pred_sgdr-y_test),\n",
    "    \"differ_en\":abs(y_pred_en-y_test),\n",
    "    \"differ_br\":abs(y_pred_br-y_test),\n",
    "    \"differ_lgbmr\":abs(y_pred_lgbmr-y_test),\n",
    "    \"differ_xgbr\":abs(y_pred_xgbr-y_test),\n",
    "    \"differ_cbr\":abs(y_pred_cbr-y_test),\n",
    "#     \"differ_kr\":abs(y_pred_kr-y_test),\n",
    "    \"differ_rfr\":abs(y_pred_rfr-y_test),\n",
    "    \"differ_gbr\":abs(y_pred_gbr-y_test),\n",
    "    \"differ_svr\":abs(y_pred_svr-y_test),\n",
    " })"
   ]
  },
  {
   "cell_type": "code",
   "execution_count": 36,
   "id": "9a0d1315",
   "metadata": {},
   "outputs": [],
   "source": [
    "r_df = result_df.describe(percentiles=[0.5,0.6,0.7,0.8,0.9]).transpose()\n",
    "rcolumns_l = ['mean', 'std', '50%', '60%', '70%', '80%', '90%']"
   ]
  },
  {
   "cell_type": "code",
   "execution_count": 37,
   "id": "db14cbbe",
   "metadata": {},
   "outputs": [
    {
     "data": {
      "text/html": [
       "<div>\n",
       "<style scoped>\n",
       "    .dataframe tbody tr th:only-of-type {\n",
       "        vertical-align: middle;\n",
       "    }\n",
       "\n",
       "    .dataframe tbody tr th {\n",
       "        vertical-align: top;\n",
       "    }\n",
       "\n",
       "    .dataframe thead th {\n",
       "        text-align: right;\n",
       "    }\n",
       "</style>\n",
       "<table border=\"1\" class=\"dataframe\">\n",
       "  <thead>\n",
       "    <tr style=\"text-align: right;\">\n",
       "      <th></th>\n",
       "      <th>mean</th>\n",
       "      <th>std</th>\n",
       "      <th>50%</th>\n",
       "      <th>60%</th>\n",
       "      <th>70%</th>\n",
       "      <th>80%</th>\n",
       "      <th>90%</th>\n",
       "    </tr>\n",
       "  </thead>\n",
       "  <tbody>\n",
       "    <tr>\n",
       "      <th>y_test</th>\n",
       "      <td>20118.05</td>\n",
       "      <td>99430.15</td>\n",
       "      <td>3400.00</td>\n",
       "      <td>3400.00</td>\n",
       "      <td>3400.00</td>\n",
       "      <td>3500.00</td>\n",
       "      <td>41000.00</td>\n",
       "    </tr>\n",
       "    <tr>\n",
       "      <th>differ_lr</th>\n",
       "      <td>23735.37</td>\n",
       "      <td>85685.45</td>\n",
       "      <td>9567.44</td>\n",
       "      <td>11831.58</td>\n",
       "      <td>14481.34</td>\n",
       "      <td>19130.57</td>\n",
       "      <td>42608.89</td>\n",
       "    </tr>\n",
       "    <tr>\n",
       "      <th>differ_sgdr</th>\n",
       "      <td>24407.41</td>\n",
       "      <td>85540.25</td>\n",
       "      <td>10367.17</td>\n",
       "      <td>12865.94</td>\n",
       "      <td>15867.04</td>\n",
       "      <td>20390.98</td>\n",
       "      <td>44008.25</td>\n",
       "    </tr>\n",
       "    <tr>\n",
       "      <th>differ_en</th>\n",
       "      <td>22291.60</td>\n",
       "      <td>92832.18</td>\n",
       "      <td>10184.09</td>\n",
       "      <td>13433.36</td>\n",
       "      <td>17393.51</td>\n",
       "      <td>23139.66</td>\n",
       "      <td>36027.89</td>\n",
       "    </tr>\n",
       "    <tr>\n",
       "      <th>differ_br</th>\n",
       "      <td>23719.21</td>\n",
       "      <td>85674.33</td>\n",
       "      <td>9575.55</td>\n",
       "      <td>11816.49</td>\n",
       "      <td>14508.78</td>\n",
       "      <td>19147.70</td>\n",
       "      <td>42612.32</td>\n",
       "    </tr>\n",
       "    <tr>\n",
       "      <th>differ_lgbmr</th>\n",
       "      <td>10777.32</td>\n",
       "      <td>50616.94</td>\n",
       "      <td>175.76</td>\n",
       "      <td>254.88</td>\n",
       "      <td>367.92</td>\n",
       "      <td>1395.27</td>\n",
       "      <td>28769.40</td>\n",
       "    </tr>\n",
       "    <tr>\n",
       "      <th>differ_xgbr</th>\n",
       "      <td>9554.61</td>\n",
       "      <td>49729.43</td>\n",
       "      <td>280.69</td>\n",
       "      <td>424.98</td>\n",
       "      <td>776.29</td>\n",
       "      <td>3111.60</td>\n",
       "      <td>23692.80</td>\n",
       "    </tr>\n",
       "    <tr>\n",
       "      <th>differ_cbr</th>\n",
       "      <td>10118.99</td>\n",
       "      <td>43542.23</td>\n",
       "      <td>755.69</td>\n",
       "      <td>1110.34</td>\n",
       "      <td>1811.75</td>\n",
       "      <td>4058.08</td>\n",
       "      <td>26465.29</td>\n",
       "    </tr>\n",
       "    <tr>\n",
       "      <th>differ_rfr</th>\n",
       "      <td>7468.99</td>\n",
       "      <td>47422.58</td>\n",
       "      <td>40.66</td>\n",
       "      <td>54.50</td>\n",
       "      <td>74.99</td>\n",
       "      <td>143.19</td>\n",
       "      <td>13864.50</td>\n",
       "    </tr>\n",
       "    <tr>\n",
       "      <th>differ_gbr</th>\n",
       "      <td>13020.44</td>\n",
       "      <td>58553.11</td>\n",
       "      <td>857.92</td>\n",
       "      <td>954.94</td>\n",
       "      <td>1154.11</td>\n",
       "      <td>5915.42</td>\n",
       "      <td>31937.92</td>\n",
       "    </tr>\n",
       "    <tr>\n",
       "      <th>differ_svr</th>\n",
       "      <td>16681.50</td>\n",
       "      <td>99321.18</td>\n",
       "      <td>54.73</td>\n",
       "      <td>73.28</td>\n",
       "      <td>92.83</td>\n",
       "      <td>139.92</td>\n",
       "      <td>36568.66</td>\n",
       "    </tr>\n",
       "  </tbody>\n",
       "</table>\n",
       "</div>"
      ],
      "text/plain": [
       "                  mean       std       50%       60%       70%       80%  \\\n",
       "y_test        20118.05  99430.15   3400.00   3400.00   3400.00   3500.00   \n",
       "differ_lr     23735.37  85685.45   9567.44  11831.58  14481.34  19130.57   \n",
       "differ_sgdr   24407.41  85540.25  10367.17  12865.94  15867.04  20390.98   \n",
       "differ_en     22291.60  92832.18  10184.09  13433.36  17393.51  23139.66   \n",
       "differ_br     23719.21  85674.33   9575.55  11816.49  14508.78  19147.70   \n",
       "differ_lgbmr  10777.32  50616.94    175.76    254.88    367.92   1395.27   \n",
       "differ_xgbr    9554.61  49729.43    280.69    424.98    776.29   3111.60   \n",
       "differ_cbr    10118.99  43542.23    755.69   1110.34   1811.75   4058.08   \n",
       "differ_rfr     7468.99  47422.58     40.66     54.50     74.99    143.19   \n",
       "differ_gbr    13020.44  58553.11    857.92    954.94   1154.11   5915.42   \n",
       "differ_svr    16681.50  99321.18     54.73     73.28     92.83    139.92   \n",
       "\n",
       "                   90%  \n",
       "y_test        41000.00  \n",
       "differ_lr     42608.89  \n",
       "differ_sgdr   44008.25  \n",
       "differ_en     36027.89  \n",
       "differ_br     42612.32  \n",
       "differ_lgbmr  28769.40  \n",
       "differ_xgbr   23692.80  \n",
       "differ_cbr    26465.29  \n",
       "differ_rfr    13864.50  \n",
       "differ_gbr    31937.92  \n",
       "differ_svr    36568.66  "
      ]
     },
     "execution_count": 37,
     "metadata": {},
     "output_type": "execute_result"
    }
   ],
   "source": [
    "r_df[rcolumns_l].round(decimals=2)"
   ]
  },
  {
   "cell_type": "code",
   "execution_count": 42,
   "id": "8f8583b0",
   "metadata": {},
   "outputs": [],
   "source": [
    "result_df.to_excel('./Data/result.xlsx',index=False)"
   ]
  },
  {
   "cell_type": "code",
   "execution_count": null,
   "id": "4008abdb",
   "metadata": {},
   "outputs": [],
   "source": []
  }
 ],
 "metadata": {
  "kernelspec": {
   "display_name": "Python 3 (ipykernel)",
   "language": "python",
   "name": "python3"
  },
  "language_info": {
   "codemirror_mode": {
    "name": "ipython",
    "version": 3
   },
   "file_extension": ".py",
   "mimetype": "text/x-python",
   "name": "python",
   "nbconvert_exporter": "python",
   "pygments_lexer": "ipython3",
   "version": "3.10.7"
  }
 },
 "nbformat": 4,
 "nbformat_minor": 5
}
