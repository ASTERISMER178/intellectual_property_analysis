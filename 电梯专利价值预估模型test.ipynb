{
 "cells": [
  {
   "cell_type": "code",
   "execution_count": 1,
   "id": "d3a7936b",
   "metadata": {},
   "outputs": [],
   "source": [
    "import pandas as pd\n",
    "import numpy as np\n",
    "import random"
   ]
  },
  {
   "cell_type": "code",
   "execution_count": 2,
   "id": "b06aba2c",
   "metadata": {},
   "outputs": [],
   "source": [
    "from sklearn.preprocessing import OneHotEncoder\n",
    "from sklearn.preprocessing import StandardScaler\n",
    "from sklearn.model_selection import train_test_split"
   ]
  },
  {
   "cell_type": "code",
   "execution_count": 3,
   "id": "903aa060",
   "metadata": {},
   "outputs": [],
   "source": [
    "df = pd.read_excel('./Data/datapro1.xlsx')"
   ]
  },
  {
   "cell_type": "code",
   "execution_count": 4,
   "id": "cc0b719d",
   "metadata": {},
   "outputs": [],
   "source": [
    "# 1. 选择符合条件的数据点\n",
    "df1 = df[df['专利价值'] < 5000]\n",
    "df2=df[df['专利价值'] > 5000]\n",
    "# 2. 从符合条件的数据点中随机选择，这里选择 10 个数据点作为示例\n",
    "df3 = df1.sample(n=10000, random_state=random.seed(42))\n",
    "df = pd.concat([df2, df3], axis=0, ignore_index=True)"
   ]
  },
  {
   "cell_type": "code",
   "execution_count": 5,
   "id": "f9fe2d75-275c-421b-ad3e-afb575c92747",
   "metadata": {},
   "outputs": [
    {
     "name": "stdout",
     "output_type": "stream",
     "text": [
      "<class 'pandas.core.frame.DataFrame'>\n",
      "RangeIndex: 19065 entries, 0 to 19064\n",
      "Data columns (total 17 columns):\n",
      " #   Column      Non-Null Count  Dtype  \n",
      "---  ------      --------------  -----  \n",
      " 0   标题          19065 non-null  object \n",
      " 1   产业链位置       19065 non-null  object \n",
      " 2   一级技术分支      19065 non-null  object \n",
      " 3   专利类型        19065 non-null  object \n",
      " 4   公开国别        19065 non-null  object \n",
      " 5   公开(公告)日     19065 non-null  int64  \n",
      " 6   权利要求数量      19065 non-null  int64  \n",
      " 7   文献页数        19065 non-null  int64  \n",
      " 8   申请人省市代码     19065 non-null  object \n",
      " 9   3年内被引用次数    19065 non-null  int64  \n",
      " 10  5年内被引用次数    19065 non-null  int64  \n",
      " 11  引用专利数量      19065 non-null  int64  \n",
      " 12  被引用专利数量     19065 non-null  int64  \n",
      " 13  专利有效性       19065 non-null  object \n",
      " 14  诉讼案件数       19065 non-null  int64  \n",
      " 15  专利价值        19065 non-null  int64  \n",
      " 16  专利价值（对数变换）  19065 non-null  float64\n",
      "dtypes: float64(1), int64(9), object(7)\n",
      "memory usage: 2.5+ MB\n"
     ]
    }
   ],
   "source": [
    "df.info()"
   ]
  },
  {
   "cell_type": "code",
   "execution_count": 6,
   "id": "d801e087",
   "metadata": {},
   "outputs": [],
   "source": [
    "cat_columns = [\n",
    " '产业链位置',\n",
    " '一级技术分支',\n",
    " '专利类型',\n",
    " '申请人省市代码',\n",
    " '专利有效性',\n",
    "\"公开(公告)日\"\n",
    "]"
   ]
  },
  {
   "cell_type": "code",
   "execution_count": 7,
   "id": "8d6e4f73",
   "metadata": {},
   "outputs": [
    {
     "data": {
      "text/plain": [
       "array([[0., 0., 0., ..., 0., 1., 0.],\n",
       "       [0., 0., 0., ..., 0., 0., 0.],\n",
       "       [0., 0., 0., ..., 0., 0., 0.],\n",
       "       ...,\n",
       "       [1., 0., 0., ..., 0., 1., 0.],\n",
       "       [0., 1., 0., ..., 0., 1., 0.],\n",
       "       [0., 1., 1., ..., 1., 0., 0.]])"
      ]
     },
     "execution_count": 7,
     "metadata": {},
     "output_type": "execute_result"
    }
   ],
   "source": [
    "ohEncoder = OneHotEncoder(drop='first')\n",
    "cat_features = ohEncoder.fit_transform(df[cat_columns]).toarray()\n",
    "cat_features"
   ]
  },
  {
   "cell_type": "code",
   "execution_count": 8,
   "id": "6e5d1929",
   "metadata": {},
   "outputs": [],
   "source": [
    "num_columns = [ \n",
    " '3年内被引用次数',\n",
    " '5年内被引用次数',\n",
    " '引用专利数量',\n",
    " '被引用专利数量',\n",
    " '权利要求数量',\n",
    " '文献页数',\n",
    " '诉讼案件数'\n",
    "]"
   ]
  },
  {
   "cell_type": "code",
   "execution_count": 9,
   "id": "23a624aa",
   "metadata": {},
   "outputs": [
    {
     "data": {
      "text/plain": [
       "array([[-0.30455925, -0.30010572,  0.96333486, ...,  0.41077646,\n",
       "         0.39072592, -0.02921079],\n",
       "       [-0.30455925, -0.30010572,  3.27756395, ..., -1.7237992 ,\n",
       "         0.17595283, -0.02921079],\n",
       "       [-0.30455925, -0.30010572,  0.44906173, ...,  1.02065522,\n",
       "         0.605499  , -0.02921079],\n",
       "       ...,\n",
       "       [-0.30455925, -0.30010572, -0.57948453, ...,  0.71571584,\n",
       "         1.46459133, -0.02921079],\n",
       "       [-0.30455925, -0.30010572, -0.83662109, ...,  1.02065522,\n",
       "        -0.03882025, -0.02921079],\n",
       "       [-0.30455925, -0.30010572, -0.83662109, ..., -0.50404168,\n",
       "        -0.46836642, -0.02921079]])"
      ]
     },
     "execution_count": 9,
     "metadata": {},
     "output_type": "execute_result"
    }
   ],
   "source": [
    "stdScaler = StandardScaler()\n",
    "num_features = stdScaler.fit_transform(df[num_columns])\n",
    "num_features"
   ]
  },
  {
   "cell_type": "code",
   "execution_count": 10,
   "id": "9995fb43",
   "metadata": {},
   "outputs": [
    {
     "data": {
      "text/plain": [
       "(19065, 71)"
      ]
     },
     "execution_count": 10,
     "metadata": {},
     "output_type": "execute_result"
    }
   ],
   "source": [
    "X = np.hstack([cat_features, num_features])\n",
    "X.shape"
   ]
  },
  {
   "cell_type": "code",
   "execution_count": 11,
   "id": "65b71393",
   "metadata": {},
   "outputs": [
    {
     "data": {
      "text/plain": [
       "(19065,)"
      ]
     },
     "execution_count": 11,
     "metadata": {},
     "output_type": "execute_result"
    }
   ],
   "source": [
    "y = df['专利价值'].to_numpy()\n",
    "y.shape"
   ]
  },
  {
   "cell_type": "code",
   "execution_count": 12,
   "id": "2af288bd",
   "metadata": {},
   "outputs": [],
   "source": [
    "X_train, X_test, y_train, y_test = train_test_split(X, y,test_size=0.3)\n"
   ]
  },
  {
   "cell_type": "code",
   "execution_count": 13,
   "id": "cb26d721",
   "metadata": {},
   "outputs": [
    {
     "data": {
      "text/plain": [
       "((13345, 71), (5720, 71), (13345,), (5720,))"
      ]
     },
     "execution_count": 13,
     "metadata": {},
     "output_type": "execute_result"
    }
   ],
   "source": [
    "X_train.shape, X_test.shape, y_train.shape, y_test.shape"
   ]
  },
  {
   "cell_type": "code",
   "execution_count": 14,
   "id": "954774d7",
   "metadata": {},
   "outputs": [
    {
     "data": {
      "text/html": [
       "<style>#sk-container-id-1 {color: black;}#sk-container-id-1 pre{padding: 0;}#sk-container-id-1 div.sk-toggleable {background-color: white;}#sk-container-id-1 label.sk-toggleable__label {cursor: pointer;display: block;width: 100%;margin-bottom: 0;padding: 0.3em;box-sizing: border-box;text-align: center;}#sk-container-id-1 label.sk-toggleable__label-arrow:before {content: \"▸\";float: left;margin-right: 0.25em;color: #696969;}#sk-container-id-1 label.sk-toggleable__label-arrow:hover:before {color: black;}#sk-container-id-1 div.sk-estimator:hover label.sk-toggleable__label-arrow:before {color: black;}#sk-container-id-1 div.sk-toggleable__content {max-height: 0;max-width: 0;overflow: hidden;text-align: left;background-color: #f0f8ff;}#sk-container-id-1 div.sk-toggleable__content pre {margin: 0.2em;color: black;border-radius: 0.25em;background-color: #f0f8ff;}#sk-container-id-1 input.sk-toggleable__control:checked~div.sk-toggleable__content {max-height: 200px;max-width: 100%;overflow: auto;}#sk-container-id-1 input.sk-toggleable__control:checked~label.sk-toggleable__label-arrow:before {content: \"▾\";}#sk-container-id-1 div.sk-estimator input.sk-toggleable__control:checked~label.sk-toggleable__label {background-color: #d4ebff;}#sk-container-id-1 div.sk-label input.sk-toggleable__control:checked~label.sk-toggleable__label {background-color: #d4ebff;}#sk-container-id-1 input.sk-hidden--visually {border: 0;clip: rect(1px 1px 1px 1px);clip: rect(1px, 1px, 1px, 1px);height: 1px;margin: -1px;overflow: hidden;padding: 0;position: absolute;width: 1px;}#sk-container-id-1 div.sk-estimator {font-family: monospace;background-color: #f0f8ff;border: 1px dotted black;border-radius: 0.25em;box-sizing: border-box;margin-bottom: 0.5em;}#sk-container-id-1 div.sk-estimator:hover {background-color: #d4ebff;}#sk-container-id-1 div.sk-parallel-item::after {content: \"\";width: 100%;border-bottom: 1px solid gray;flex-grow: 1;}#sk-container-id-1 div.sk-label:hover label.sk-toggleable__label {background-color: #d4ebff;}#sk-container-id-1 div.sk-serial::before {content: \"\";position: absolute;border-left: 1px solid gray;box-sizing: border-box;top: 0;bottom: 0;left: 50%;z-index: 0;}#sk-container-id-1 div.sk-serial {display: flex;flex-direction: column;align-items: center;background-color: white;padding-right: 0.2em;padding-left: 0.2em;position: relative;}#sk-container-id-1 div.sk-item {position: relative;z-index: 1;}#sk-container-id-1 div.sk-parallel {display: flex;align-items: stretch;justify-content: center;background-color: white;position: relative;}#sk-container-id-1 div.sk-item::before, #sk-container-id-1 div.sk-parallel-item::before {content: \"\";position: absolute;border-left: 1px solid gray;box-sizing: border-box;top: 0;bottom: 0;left: 50%;z-index: -1;}#sk-container-id-1 div.sk-parallel-item {display: flex;flex-direction: column;z-index: 1;position: relative;background-color: white;}#sk-container-id-1 div.sk-parallel-item:first-child::after {align-self: flex-end;width: 50%;}#sk-container-id-1 div.sk-parallel-item:last-child::after {align-self: flex-start;width: 50%;}#sk-container-id-1 div.sk-parallel-item:only-child::after {width: 0;}#sk-container-id-1 div.sk-dashed-wrapped {border: 1px dashed gray;margin: 0 0.4em 0.5em 0.4em;box-sizing: border-box;padding-bottom: 0.4em;background-color: white;}#sk-container-id-1 div.sk-label label {font-family: monospace;font-weight: bold;display: inline-block;line-height: 1.2em;}#sk-container-id-1 div.sk-label-container {text-align: center;}#sk-container-id-1 div.sk-container {/* jupyter's `normalize.less` sets `[hidden] { display: none; }` but bootstrap.min.css set `[hidden] { display: none !important; }` so we also need the `!important` here to be able to override the default hidden behavior on the sphinx rendered scikit-learn.org. See: https://github.com/scikit-learn/scikit-learn/issues/21755 */display: inline-block !important;position: relative;}#sk-container-id-1 div.sk-text-repr-fallback {display: none;}</style><div id=\"sk-container-id-1\" class=\"sk-top-container\"><div class=\"sk-text-repr-fallback\"><pre>LinearRegression()</pre><b>In a Jupyter environment, please rerun this cell to show the HTML representation or trust the notebook. <br />On GitHub, the HTML representation is unable to render, please try loading this page with nbviewer.org.</b></div><div class=\"sk-container\" hidden><div class=\"sk-item\"><div class=\"sk-estimator sk-toggleable\"><input class=\"sk-toggleable__control sk-hidden--visually\" id=\"sk-estimator-id-1\" type=\"checkbox\" checked><label for=\"sk-estimator-id-1\" class=\"sk-toggleable__label sk-toggleable__label-arrow\">LinearRegression</label><div class=\"sk-toggleable__content\"><pre>LinearRegression()</pre></div></div></div></div></div>"
      ],
      "text/plain": [
       "LinearRegression()"
      ]
     },
     "execution_count": 14,
     "metadata": {},
     "output_type": "execute_result"
    }
   ],
   "source": [
    "from sklearn.linear_model import LinearRegression\n",
    "LR =  LinearRegression()\n",
    "LR.fit(X_train, y_train)"
   ]
  },
  {
   "cell_type": "code",
   "execution_count": 15,
   "id": "f63aee4a",
   "metadata": {},
   "outputs": [],
   "source": [
    "y_pred_lr = LR.predict(X_test)"
   ]
  },
  {
   "cell_type": "code",
   "execution_count": 16,
   "id": "0641d6c7",
   "metadata": {},
   "outputs": [
    {
     "data": {
      "text/html": [
       "<style>#sk-container-id-2 {color: black;}#sk-container-id-2 pre{padding: 0;}#sk-container-id-2 div.sk-toggleable {background-color: white;}#sk-container-id-2 label.sk-toggleable__label {cursor: pointer;display: block;width: 100%;margin-bottom: 0;padding: 0.3em;box-sizing: border-box;text-align: center;}#sk-container-id-2 label.sk-toggleable__label-arrow:before {content: \"▸\";float: left;margin-right: 0.25em;color: #696969;}#sk-container-id-2 label.sk-toggleable__label-arrow:hover:before {color: black;}#sk-container-id-2 div.sk-estimator:hover label.sk-toggleable__label-arrow:before {color: black;}#sk-container-id-2 div.sk-toggleable__content {max-height: 0;max-width: 0;overflow: hidden;text-align: left;background-color: #f0f8ff;}#sk-container-id-2 div.sk-toggleable__content pre {margin: 0.2em;color: black;border-radius: 0.25em;background-color: #f0f8ff;}#sk-container-id-2 input.sk-toggleable__control:checked~div.sk-toggleable__content {max-height: 200px;max-width: 100%;overflow: auto;}#sk-container-id-2 input.sk-toggleable__control:checked~label.sk-toggleable__label-arrow:before {content: \"▾\";}#sk-container-id-2 div.sk-estimator input.sk-toggleable__control:checked~label.sk-toggleable__label {background-color: #d4ebff;}#sk-container-id-2 div.sk-label input.sk-toggleable__control:checked~label.sk-toggleable__label {background-color: #d4ebff;}#sk-container-id-2 input.sk-hidden--visually {border: 0;clip: rect(1px 1px 1px 1px);clip: rect(1px, 1px, 1px, 1px);height: 1px;margin: -1px;overflow: hidden;padding: 0;position: absolute;width: 1px;}#sk-container-id-2 div.sk-estimator {font-family: monospace;background-color: #f0f8ff;border: 1px dotted black;border-radius: 0.25em;box-sizing: border-box;margin-bottom: 0.5em;}#sk-container-id-2 div.sk-estimator:hover {background-color: #d4ebff;}#sk-container-id-2 div.sk-parallel-item::after {content: \"\";width: 100%;border-bottom: 1px solid gray;flex-grow: 1;}#sk-container-id-2 div.sk-label:hover label.sk-toggleable__label {background-color: #d4ebff;}#sk-container-id-2 div.sk-serial::before {content: \"\";position: absolute;border-left: 1px solid gray;box-sizing: border-box;top: 0;bottom: 0;left: 50%;z-index: 0;}#sk-container-id-2 div.sk-serial {display: flex;flex-direction: column;align-items: center;background-color: white;padding-right: 0.2em;padding-left: 0.2em;position: relative;}#sk-container-id-2 div.sk-item {position: relative;z-index: 1;}#sk-container-id-2 div.sk-parallel {display: flex;align-items: stretch;justify-content: center;background-color: white;position: relative;}#sk-container-id-2 div.sk-item::before, #sk-container-id-2 div.sk-parallel-item::before {content: \"\";position: absolute;border-left: 1px solid gray;box-sizing: border-box;top: 0;bottom: 0;left: 50%;z-index: -1;}#sk-container-id-2 div.sk-parallel-item {display: flex;flex-direction: column;z-index: 1;position: relative;background-color: white;}#sk-container-id-2 div.sk-parallel-item:first-child::after {align-self: flex-end;width: 50%;}#sk-container-id-2 div.sk-parallel-item:last-child::after {align-self: flex-start;width: 50%;}#sk-container-id-2 div.sk-parallel-item:only-child::after {width: 0;}#sk-container-id-2 div.sk-dashed-wrapped {border: 1px dashed gray;margin: 0 0.4em 0.5em 0.4em;box-sizing: border-box;padding-bottom: 0.4em;background-color: white;}#sk-container-id-2 div.sk-label label {font-family: monospace;font-weight: bold;display: inline-block;line-height: 1.2em;}#sk-container-id-2 div.sk-label-container {text-align: center;}#sk-container-id-2 div.sk-container {/* jupyter's `normalize.less` sets `[hidden] { display: none; }` but bootstrap.min.css set `[hidden] { display: none !important; }` so we also need the `!important` here to be able to override the default hidden behavior on the sphinx rendered scikit-learn.org. See: https://github.com/scikit-learn/scikit-learn/issues/21755 */display: inline-block !important;position: relative;}#sk-container-id-2 div.sk-text-repr-fallback {display: none;}</style><div id=\"sk-container-id-2\" class=\"sk-top-container\"><div class=\"sk-text-repr-fallback\"><pre>SGDRegressor()</pre><b>In a Jupyter environment, please rerun this cell to show the HTML representation or trust the notebook. <br />On GitHub, the HTML representation is unable to render, please try loading this page with nbviewer.org.</b></div><div class=\"sk-container\" hidden><div class=\"sk-item\"><div class=\"sk-estimator sk-toggleable\"><input class=\"sk-toggleable__control sk-hidden--visually\" id=\"sk-estimator-id-2\" type=\"checkbox\" checked><label for=\"sk-estimator-id-2\" class=\"sk-toggleable__label sk-toggleable__label-arrow\">SGDRegressor</label><div class=\"sk-toggleable__content\"><pre>SGDRegressor()</pre></div></div></div></div></div>"
      ],
      "text/plain": [
       "SGDRegressor()"
      ]
     },
     "execution_count": 16,
     "metadata": {},
     "output_type": "execute_result"
    }
   ],
   "source": [
    "from sklearn.linear_model import SGDRegressor\n",
    "SGDR =  SGDRegressor()\n",
    "SGDR.fit(X_train, y_train)"
   ]
  },
  {
   "cell_type": "code",
   "execution_count": 17,
   "id": "0d21164d",
   "metadata": {},
   "outputs": [
    {
     "data": {
      "text/plain": [
       "array([-24143.43519055,  10632.18817862,  90029.2429933 , ...,\n",
       "        80541.77428264,  -4400.16684551,  29241.33440162])"
      ]
     },
     "execution_count": 17,
     "metadata": {},
     "output_type": "execute_result"
    }
   ],
   "source": [
    "y_pred_sgdr = SGDR.predict(X_test)\n",
    "y_pred_sgdr"
   ]
  },
  {
   "cell_type": "code",
   "execution_count": 18,
   "id": "fbae89f6",
   "metadata": {},
   "outputs": [
    {
     "data": {
      "text/html": [
       "<style>#sk-container-id-3 {color: black;}#sk-container-id-3 pre{padding: 0;}#sk-container-id-3 div.sk-toggleable {background-color: white;}#sk-container-id-3 label.sk-toggleable__label {cursor: pointer;display: block;width: 100%;margin-bottom: 0;padding: 0.3em;box-sizing: border-box;text-align: center;}#sk-container-id-3 label.sk-toggleable__label-arrow:before {content: \"▸\";float: left;margin-right: 0.25em;color: #696969;}#sk-container-id-3 label.sk-toggleable__label-arrow:hover:before {color: black;}#sk-container-id-3 div.sk-estimator:hover label.sk-toggleable__label-arrow:before {color: black;}#sk-container-id-3 div.sk-toggleable__content {max-height: 0;max-width: 0;overflow: hidden;text-align: left;background-color: #f0f8ff;}#sk-container-id-3 div.sk-toggleable__content pre {margin: 0.2em;color: black;border-radius: 0.25em;background-color: #f0f8ff;}#sk-container-id-3 input.sk-toggleable__control:checked~div.sk-toggleable__content {max-height: 200px;max-width: 100%;overflow: auto;}#sk-container-id-3 input.sk-toggleable__control:checked~label.sk-toggleable__label-arrow:before {content: \"▾\";}#sk-container-id-3 div.sk-estimator input.sk-toggleable__control:checked~label.sk-toggleable__label {background-color: #d4ebff;}#sk-container-id-3 div.sk-label input.sk-toggleable__control:checked~label.sk-toggleable__label {background-color: #d4ebff;}#sk-container-id-3 input.sk-hidden--visually {border: 0;clip: rect(1px 1px 1px 1px);clip: rect(1px, 1px, 1px, 1px);height: 1px;margin: -1px;overflow: hidden;padding: 0;position: absolute;width: 1px;}#sk-container-id-3 div.sk-estimator {font-family: monospace;background-color: #f0f8ff;border: 1px dotted black;border-radius: 0.25em;box-sizing: border-box;margin-bottom: 0.5em;}#sk-container-id-3 div.sk-estimator:hover {background-color: #d4ebff;}#sk-container-id-3 div.sk-parallel-item::after {content: \"\";width: 100%;border-bottom: 1px solid gray;flex-grow: 1;}#sk-container-id-3 div.sk-label:hover label.sk-toggleable__label {background-color: #d4ebff;}#sk-container-id-3 div.sk-serial::before {content: \"\";position: absolute;border-left: 1px solid gray;box-sizing: border-box;top: 0;bottom: 0;left: 50%;z-index: 0;}#sk-container-id-3 div.sk-serial {display: flex;flex-direction: column;align-items: center;background-color: white;padding-right: 0.2em;padding-left: 0.2em;position: relative;}#sk-container-id-3 div.sk-item {position: relative;z-index: 1;}#sk-container-id-3 div.sk-parallel {display: flex;align-items: stretch;justify-content: center;background-color: white;position: relative;}#sk-container-id-3 div.sk-item::before, #sk-container-id-3 div.sk-parallel-item::before {content: \"\";position: absolute;border-left: 1px solid gray;box-sizing: border-box;top: 0;bottom: 0;left: 50%;z-index: -1;}#sk-container-id-3 div.sk-parallel-item {display: flex;flex-direction: column;z-index: 1;position: relative;background-color: white;}#sk-container-id-3 div.sk-parallel-item:first-child::after {align-self: flex-end;width: 50%;}#sk-container-id-3 div.sk-parallel-item:last-child::after {align-self: flex-start;width: 50%;}#sk-container-id-3 div.sk-parallel-item:only-child::after {width: 0;}#sk-container-id-3 div.sk-dashed-wrapped {border: 1px dashed gray;margin: 0 0.4em 0.5em 0.4em;box-sizing: border-box;padding-bottom: 0.4em;background-color: white;}#sk-container-id-3 div.sk-label label {font-family: monospace;font-weight: bold;display: inline-block;line-height: 1.2em;}#sk-container-id-3 div.sk-label-container {text-align: center;}#sk-container-id-3 div.sk-container {/* jupyter's `normalize.less` sets `[hidden] { display: none; }` but bootstrap.min.css set `[hidden] { display: none !important; }` so we also need the `!important` here to be able to override the default hidden behavior on the sphinx rendered scikit-learn.org. See: https://github.com/scikit-learn/scikit-learn/issues/21755 */display: inline-block !important;position: relative;}#sk-container-id-3 div.sk-text-repr-fallback {display: none;}</style><div id=\"sk-container-id-3\" class=\"sk-top-container\"><div class=\"sk-text-repr-fallback\"><pre>ElasticNet()</pre><b>In a Jupyter environment, please rerun this cell to show the HTML representation or trust the notebook. <br />On GitHub, the HTML representation is unable to render, please try loading this page with nbviewer.org.</b></div><div class=\"sk-container\" hidden><div class=\"sk-item\"><div class=\"sk-estimator sk-toggleable\"><input class=\"sk-toggleable__control sk-hidden--visually\" id=\"sk-estimator-id-3\" type=\"checkbox\" checked><label for=\"sk-estimator-id-3\" class=\"sk-toggleable__label sk-toggleable__label-arrow\">ElasticNet</label><div class=\"sk-toggleable__content\"><pre>ElasticNet()</pre></div></div></div></div></div>"
      ],
      "text/plain": [
       "ElasticNet()"
      ]
     },
     "execution_count": 18,
     "metadata": {},
     "output_type": "execute_result"
    }
   ],
   "source": [
    "from sklearn.linear_model import ElasticNet\n",
    "EN = ElasticNet()\n",
    "EN.fit(X_train, y_train)"
   ]
  },
  {
   "cell_type": "code",
   "execution_count": 19,
   "id": "a71b5ecc",
   "metadata": {},
   "outputs": [
    {
     "data": {
      "text/plain": [
       "array([13641.45084182, 59381.95118794, 91178.46482643, ...,\n",
       "       65821.11595452, 35765.83375779, 31822.90729049])"
      ]
     },
     "execution_count": 19,
     "metadata": {},
     "output_type": "execute_result"
    }
   ],
   "source": [
    "y_pred_en = EN.predict(X_test)\n",
    "y_pred_en"
   ]
  },
  {
   "cell_type": "code",
   "execution_count": 20,
   "id": "2c22de12",
   "metadata": {},
   "outputs": [
    {
     "data": {
      "text/html": [
       "<style>#sk-container-id-4 {color: black;}#sk-container-id-4 pre{padding: 0;}#sk-container-id-4 div.sk-toggleable {background-color: white;}#sk-container-id-4 label.sk-toggleable__label {cursor: pointer;display: block;width: 100%;margin-bottom: 0;padding: 0.3em;box-sizing: border-box;text-align: center;}#sk-container-id-4 label.sk-toggleable__label-arrow:before {content: \"▸\";float: left;margin-right: 0.25em;color: #696969;}#sk-container-id-4 label.sk-toggleable__label-arrow:hover:before {color: black;}#sk-container-id-4 div.sk-estimator:hover label.sk-toggleable__label-arrow:before {color: black;}#sk-container-id-4 div.sk-toggleable__content {max-height: 0;max-width: 0;overflow: hidden;text-align: left;background-color: #f0f8ff;}#sk-container-id-4 div.sk-toggleable__content pre {margin: 0.2em;color: black;border-radius: 0.25em;background-color: #f0f8ff;}#sk-container-id-4 input.sk-toggleable__control:checked~div.sk-toggleable__content {max-height: 200px;max-width: 100%;overflow: auto;}#sk-container-id-4 input.sk-toggleable__control:checked~label.sk-toggleable__label-arrow:before {content: \"▾\";}#sk-container-id-4 div.sk-estimator input.sk-toggleable__control:checked~label.sk-toggleable__label {background-color: #d4ebff;}#sk-container-id-4 div.sk-label input.sk-toggleable__control:checked~label.sk-toggleable__label {background-color: #d4ebff;}#sk-container-id-4 input.sk-hidden--visually {border: 0;clip: rect(1px 1px 1px 1px);clip: rect(1px, 1px, 1px, 1px);height: 1px;margin: -1px;overflow: hidden;padding: 0;position: absolute;width: 1px;}#sk-container-id-4 div.sk-estimator {font-family: monospace;background-color: #f0f8ff;border: 1px dotted black;border-radius: 0.25em;box-sizing: border-box;margin-bottom: 0.5em;}#sk-container-id-4 div.sk-estimator:hover {background-color: #d4ebff;}#sk-container-id-4 div.sk-parallel-item::after {content: \"\";width: 100%;border-bottom: 1px solid gray;flex-grow: 1;}#sk-container-id-4 div.sk-label:hover label.sk-toggleable__label {background-color: #d4ebff;}#sk-container-id-4 div.sk-serial::before {content: \"\";position: absolute;border-left: 1px solid gray;box-sizing: border-box;top: 0;bottom: 0;left: 50%;z-index: 0;}#sk-container-id-4 div.sk-serial {display: flex;flex-direction: column;align-items: center;background-color: white;padding-right: 0.2em;padding-left: 0.2em;position: relative;}#sk-container-id-4 div.sk-item {position: relative;z-index: 1;}#sk-container-id-4 div.sk-parallel {display: flex;align-items: stretch;justify-content: center;background-color: white;position: relative;}#sk-container-id-4 div.sk-item::before, #sk-container-id-4 div.sk-parallel-item::before {content: \"\";position: absolute;border-left: 1px solid gray;box-sizing: border-box;top: 0;bottom: 0;left: 50%;z-index: -1;}#sk-container-id-4 div.sk-parallel-item {display: flex;flex-direction: column;z-index: 1;position: relative;background-color: white;}#sk-container-id-4 div.sk-parallel-item:first-child::after {align-self: flex-end;width: 50%;}#sk-container-id-4 div.sk-parallel-item:last-child::after {align-self: flex-start;width: 50%;}#sk-container-id-4 div.sk-parallel-item:only-child::after {width: 0;}#sk-container-id-4 div.sk-dashed-wrapped {border: 1px dashed gray;margin: 0 0.4em 0.5em 0.4em;box-sizing: border-box;padding-bottom: 0.4em;background-color: white;}#sk-container-id-4 div.sk-label label {font-family: monospace;font-weight: bold;display: inline-block;line-height: 1.2em;}#sk-container-id-4 div.sk-label-container {text-align: center;}#sk-container-id-4 div.sk-container {/* jupyter's `normalize.less` sets `[hidden] { display: none; }` but bootstrap.min.css set `[hidden] { display: none !important; }` so we also need the `!important` here to be able to override the default hidden behavior on the sphinx rendered scikit-learn.org. See: https://github.com/scikit-learn/scikit-learn/issues/21755 */display: inline-block !important;position: relative;}#sk-container-id-4 div.sk-text-repr-fallback {display: none;}</style><div id=\"sk-container-id-4\" class=\"sk-top-container\"><div class=\"sk-text-repr-fallback\"><pre>BayesianRidge()</pre><b>In a Jupyter environment, please rerun this cell to show the HTML representation or trust the notebook. <br />On GitHub, the HTML representation is unable to render, please try loading this page with nbviewer.org.</b></div><div class=\"sk-container\" hidden><div class=\"sk-item\"><div class=\"sk-estimator sk-toggleable\"><input class=\"sk-toggleable__control sk-hidden--visually\" id=\"sk-estimator-id-4\" type=\"checkbox\" checked><label for=\"sk-estimator-id-4\" class=\"sk-toggleable__label sk-toggleable__label-arrow\">BayesianRidge</label><div class=\"sk-toggleable__content\"><pre>BayesianRidge()</pre></div></div></div></div></div>"
      ],
      "text/plain": [
       "BayesianRidge()"
      ]
     },
     "execution_count": 20,
     "metadata": {},
     "output_type": "execute_result"
    }
   ],
   "source": [
    "from sklearn.linear_model import BayesianRidge\n",
    "BR = BayesianRidge()\n",
    "BR.fit(X_train, y_train)"
   ]
  },
  {
   "cell_type": "code",
   "execution_count": 21,
   "id": "10cb0dc2",
   "metadata": {},
   "outputs": [
    {
     "data": {
      "text/plain": [
       "array([-22209.66493918,  15357.40469739,  86652.60623017, ...,\n",
       "        80870.4191716 ,  -1779.91675652,  30227.33299187])"
      ]
     },
     "execution_count": 21,
     "metadata": {},
     "output_type": "execute_result"
    }
   ],
   "source": [
    "y_pred_br = BR.predict(X_test)\n",
    "y_pred_br"
   ]
  },
  {
   "cell_type": "code",
   "execution_count": 22,
   "id": "ce286837",
   "metadata": {},
   "outputs": [
    {
     "name": "stdout",
     "output_type": "stream",
     "text": [
      "[LightGBM] [Info] Total Bins 271\n",
      "[LightGBM] [Info] Number of data points in the train set: 13345, number of used features: 64\n",
      "[LightGBM] [Info] Start training from score 67070.760584\n"
     ]
    },
    {
     "data": {
      "text/html": [
       "<style>#sk-container-id-5 {color: black;}#sk-container-id-5 pre{padding: 0;}#sk-container-id-5 div.sk-toggleable {background-color: white;}#sk-container-id-5 label.sk-toggleable__label {cursor: pointer;display: block;width: 100%;margin-bottom: 0;padding: 0.3em;box-sizing: border-box;text-align: center;}#sk-container-id-5 label.sk-toggleable__label-arrow:before {content: \"▸\";float: left;margin-right: 0.25em;color: #696969;}#sk-container-id-5 label.sk-toggleable__label-arrow:hover:before {color: black;}#sk-container-id-5 div.sk-estimator:hover label.sk-toggleable__label-arrow:before {color: black;}#sk-container-id-5 div.sk-toggleable__content {max-height: 0;max-width: 0;overflow: hidden;text-align: left;background-color: #f0f8ff;}#sk-container-id-5 div.sk-toggleable__content pre {margin: 0.2em;color: black;border-radius: 0.25em;background-color: #f0f8ff;}#sk-container-id-5 input.sk-toggleable__control:checked~div.sk-toggleable__content {max-height: 200px;max-width: 100%;overflow: auto;}#sk-container-id-5 input.sk-toggleable__control:checked~label.sk-toggleable__label-arrow:before {content: \"▾\";}#sk-container-id-5 div.sk-estimator input.sk-toggleable__control:checked~label.sk-toggleable__label {background-color: #d4ebff;}#sk-container-id-5 div.sk-label input.sk-toggleable__control:checked~label.sk-toggleable__label {background-color: #d4ebff;}#sk-container-id-5 input.sk-hidden--visually {border: 0;clip: rect(1px 1px 1px 1px);clip: rect(1px, 1px, 1px, 1px);height: 1px;margin: -1px;overflow: hidden;padding: 0;position: absolute;width: 1px;}#sk-container-id-5 div.sk-estimator {font-family: monospace;background-color: #f0f8ff;border: 1px dotted black;border-radius: 0.25em;box-sizing: border-box;margin-bottom: 0.5em;}#sk-container-id-5 div.sk-estimator:hover {background-color: #d4ebff;}#sk-container-id-5 div.sk-parallel-item::after {content: \"\";width: 100%;border-bottom: 1px solid gray;flex-grow: 1;}#sk-container-id-5 div.sk-label:hover label.sk-toggleable__label {background-color: #d4ebff;}#sk-container-id-5 div.sk-serial::before {content: \"\";position: absolute;border-left: 1px solid gray;box-sizing: border-box;top: 0;bottom: 0;left: 50%;z-index: 0;}#sk-container-id-5 div.sk-serial {display: flex;flex-direction: column;align-items: center;background-color: white;padding-right: 0.2em;padding-left: 0.2em;position: relative;}#sk-container-id-5 div.sk-item {position: relative;z-index: 1;}#sk-container-id-5 div.sk-parallel {display: flex;align-items: stretch;justify-content: center;background-color: white;position: relative;}#sk-container-id-5 div.sk-item::before, #sk-container-id-5 div.sk-parallel-item::before {content: \"\";position: absolute;border-left: 1px solid gray;box-sizing: border-box;top: 0;bottom: 0;left: 50%;z-index: -1;}#sk-container-id-5 div.sk-parallel-item {display: flex;flex-direction: column;z-index: 1;position: relative;background-color: white;}#sk-container-id-5 div.sk-parallel-item:first-child::after {align-self: flex-end;width: 50%;}#sk-container-id-5 div.sk-parallel-item:last-child::after {align-self: flex-start;width: 50%;}#sk-container-id-5 div.sk-parallel-item:only-child::after {width: 0;}#sk-container-id-5 div.sk-dashed-wrapped {border: 1px dashed gray;margin: 0 0.4em 0.5em 0.4em;box-sizing: border-box;padding-bottom: 0.4em;background-color: white;}#sk-container-id-5 div.sk-label label {font-family: monospace;font-weight: bold;display: inline-block;line-height: 1.2em;}#sk-container-id-5 div.sk-label-container {text-align: center;}#sk-container-id-5 div.sk-container {/* jupyter's `normalize.less` sets `[hidden] { display: none; }` but bootstrap.min.css set `[hidden] { display: none !important; }` so we also need the `!important` here to be able to override the default hidden behavior on the sphinx rendered scikit-learn.org. See: https://github.com/scikit-learn/scikit-learn/issues/21755 */display: inline-block !important;position: relative;}#sk-container-id-5 div.sk-text-repr-fallback {display: none;}</style><div id=\"sk-container-id-5\" class=\"sk-top-container\"><div class=\"sk-text-repr-fallback\"><pre>LGBMRegressor(force_row_wise=True)</pre><b>In a Jupyter environment, please rerun this cell to show the HTML representation or trust the notebook. <br />On GitHub, the HTML representation is unable to render, please try loading this page with nbviewer.org.</b></div><div class=\"sk-container\" hidden><div class=\"sk-item\"><div class=\"sk-estimator sk-toggleable\"><input class=\"sk-toggleable__control sk-hidden--visually\" id=\"sk-estimator-id-5\" type=\"checkbox\" checked><label for=\"sk-estimator-id-5\" class=\"sk-toggleable__label sk-toggleable__label-arrow\">LGBMRegressor</label><div class=\"sk-toggleable__content\"><pre>LGBMRegressor(force_row_wise=True)</pre></div></div></div></div></div>"
      ],
      "text/plain": [
       "LGBMRegressor(force_row_wise=True)"
      ]
     },
     "execution_count": 22,
     "metadata": {},
     "output_type": "execute_result"
    }
   ],
   "source": [
    "from lightgbm import LGBMRegressor\n",
    "LGBMR = LGBMRegressor(force_row_wise=True)\n",
    "LGBMR.fit(X_train, y_train)"
   ]
  },
  {
   "cell_type": "code",
   "execution_count": 23,
   "id": "a5405273",
   "metadata": {},
   "outputs": [
    {
     "data": {
      "text/plain": [
       "array([ 2868.35947926,  5138.80451399, 66157.25792159, ...,\n",
       "       91516.81944637,  4642.15180738,  2501.23130174])"
      ]
     },
     "execution_count": 23,
     "metadata": {},
     "output_type": "execute_result"
    }
   ],
   "source": [
    "y_pred_lgbmr = LGBMR.predict(X_test)\n",
    "y_pred_lgbmr"
   ]
  },
  {
   "cell_type": "code",
   "execution_count": 24,
   "id": "662685ce",
   "metadata": {},
   "outputs": [
    {
     "data": {
      "text/html": [
       "<style>#sk-container-id-6 {color: black;}#sk-container-id-6 pre{padding: 0;}#sk-container-id-6 div.sk-toggleable {background-color: white;}#sk-container-id-6 label.sk-toggleable__label {cursor: pointer;display: block;width: 100%;margin-bottom: 0;padding: 0.3em;box-sizing: border-box;text-align: center;}#sk-container-id-6 label.sk-toggleable__label-arrow:before {content: \"▸\";float: left;margin-right: 0.25em;color: #696969;}#sk-container-id-6 label.sk-toggleable__label-arrow:hover:before {color: black;}#sk-container-id-6 div.sk-estimator:hover label.sk-toggleable__label-arrow:before {color: black;}#sk-container-id-6 div.sk-toggleable__content {max-height: 0;max-width: 0;overflow: hidden;text-align: left;background-color: #f0f8ff;}#sk-container-id-6 div.sk-toggleable__content pre {margin: 0.2em;color: black;border-radius: 0.25em;background-color: #f0f8ff;}#sk-container-id-6 input.sk-toggleable__control:checked~div.sk-toggleable__content {max-height: 200px;max-width: 100%;overflow: auto;}#sk-container-id-6 input.sk-toggleable__control:checked~label.sk-toggleable__label-arrow:before {content: \"▾\";}#sk-container-id-6 div.sk-estimator input.sk-toggleable__control:checked~label.sk-toggleable__label {background-color: #d4ebff;}#sk-container-id-6 div.sk-label input.sk-toggleable__control:checked~label.sk-toggleable__label {background-color: #d4ebff;}#sk-container-id-6 input.sk-hidden--visually {border: 0;clip: rect(1px 1px 1px 1px);clip: rect(1px, 1px, 1px, 1px);height: 1px;margin: -1px;overflow: hidden;padding: 0;position: absolute;width: 1px;}#sk-container-id-6 div.sk-estimator {font-family: monospace;background-color: #f0f8ff;border: 1px dotted black;border-radius: 0.25em;box-sizing: border-box;margin-bottom: 0.5em;}#sk-container-id-6 div.sk-estimator:hover {background-color: #d4ebff;}#sk-container-id-6 div.sk-parallel-item::after {content: \"\";width: 100%;border-bottom: 1px solid gray;flex-grow: 1;}#sk-container-id-6 div.sk-label:hover label.sk-toggleable__label {background-color: #d4ebff;}#sk-container-id-6 div.sk-serial::before {content: \"\";position: absolute;border-left: 1px solid gray;box-sizing: border-box;top: 0;bottom: 0;left: 50%;z-index: 0;}#sk-container-id-6 div.sk-serial {display: flex;flex-direction: column;align-items: center;background-color: white;padding-right: 0.2em;padding-left: 0.2em;position: relative;}#sk-container-id-6 div.sk-item {position: relative;z-index: 1;}#sk-container-id-6 div.sk-parallel {display: flex;align-items: stretch;justify-content: center;background-color: white;position: relative;}#sk-container-id-6 div.sk-item::before, #sk-container-id-6 div.sk-parallel-item::before {content: \"\";position: absolute;border-left: 1px solid gray;box-sizing: border-box;top: 0;bottom: 0;left: 50%;z-index: -1;}#sk-container-id-6 div.sk-parallel-item {display: flex;flex-direction: column;z-index: 1;position: relative;background-color: white;}#sk-container-id-6 div.sk-parallel-item:first-child::after {align-self: flex-end;width: 50%;}#sk-container-id-6 div.sk-parallel-item:last-child::after {align-self: flex-start;width: 50%;}#sk-container-id-6 div.sk-parallel-item:only-child::after {width: 0;}#sk-container-id-6 div.sk-dashed-wrapped {border: 1px dashed gray;margin: 0 0.4em 0.5em 0.4em;box-sizing: border-box;padding-bottom: 0.4em;background-color: white;}#sk-container-id-6 div.sk-label label {font-family: monospace;font-weight: bold;display: inline-block;line-height: 1.2em;}#sk-container-id-6 div.sk-label-container {text-align: center;}#sk-container-id-6 div.sk-container {/* jupyter's `normalize.less` sets `[hidden] { display: none; }` but bootstrap.min.css set `[hidden] { display: none !important; }` so we also need the `!important` here to be able to override the default hidden behavior on the sphinx rendered scikit-learn.org. See: https://github.com/scikit-learn/scikit-learn/issues/21755 */display: inline-block !important;position: relative;}#sk-container-id-6 div.sk-text-repr-fallback {display: none;}</style><div id=\"sk-container-id-6\" class=\"sk-top-container\"><div class=\"sk-text-repr-fallback\"><pre>XGBRegressor(base_score=None, booster=None, callbacks=None,\n",
       "             colsample_bylevel=None, colsample_bynode=None,\n",
       "             colsample_bytree=None, device=None, early_stopping_rounds=None,\n",
       "             enable_categorical=False, eval_metric=None, feature_types=None,\n",
       "             gamma=None, grow_policy=None, importance_type=None,\n",
       "             interaction_constraints=None, learning_rate=None, max_bin=None,\n",
       "             max_cat_threshold=None, max_cat_to_onehot=None,\n",
       "             max_delta_step=None, max_depth=None, max_leaves=None,\n",
       "             min_child_weight=None, missing=nan, monotone_constraints=None,\n",
       "             multi_strategy=None, n_estimators=None, n_jobs=None,\n",
       "             num_parallel_tree=None, random_state=None, ...)</pre><b>In a Jupyter environment, please rerun this cell to show the HTML representation or trust the notebook. <br />On GitHub, the HTML representation is unable to render, please try loading this page with nbviewer.org.</b></div><div class=\"sk-container\" hidden><div class=\"sk-item\"><div class=\"sk-estimator sk-toggleable\"><input class=\"sk-toggleable__control sk-hidden--visually\" id=\"sk-estimator-id-6\" type=\"checkbox\" checked><label for=\"sk-estimator-id-6\" class=\"sk-toggleable__label sk-toggleable__label-arrow\">XGBRegressor</label><div class=\"sk-toggleable__content\"><pre>XGBRegressor(base_score=None, booster=None, callbacks=None,\n",
       "             colsample_bylevel=None, colsample_bynode=None,\n",
       "             colsample_bytree=None, device=None, early_stopping_rounds=None,\n",
       "             enable_categorical=False, eval_metric=None, feature_types=None,\n",
       "             gamma=None, grow_policy=None, importance_type=None,\n",
       "             interaction_constraints=None, learning_rate=None, max_bin=None,\n",
       "             max_cat_threshold=None, max_cat_to_onehot=None,\n",
       "             max_delta_step=None, max_depth=None, max_leaves=None,\n",
       "             min_child_weight=None, missing=nan, monotone_constraints=None,\n",
       "             multi_strategy=None, n_estimators=None, n_jobs=None,\n",
       "             num_parallel_tree=None, random_state=None, ...)</pre></div></div></div></div></div>"
      ],
      "text/plain": [
       "XGBRegressor(base_score=None, booster=None, callbacks=None,\n",
       "             colsample_bylevel=None, colsample_bynode=None,\n",
       "             colsample_bytree=None, device=None, early_stopping_rounds=None,\n",
       "             enable_categorical=False, eval_metric=None, feature_types=None,\n",
       "             gamma=None, grow_policy=None, importance_type=None,\n",
       "             interaction_constraints=None, learning_rate=None, max_bin=None,\n",
       "             max_cat_threshold=None, max_cat_to_onehot=None,\n",
       "             max_delta_step=None, max_depth=None, max_leaves=None,\n",
       "             min_child_weight=None, missing=nan, monotone_constraints=None,\n",
       "             multi_strategy=None, n_estimators=None, n_jobs=None,\n",
       "             num_parallel_tree=None, random_state=None, ...)"
      ]
     },
     "execution_count": 24,
     "metadata": {},
     "output_type": "execute_result"
    }
   ],
   "source": [
    "from xgboost.sklearn import XGBRegressor\n",
    "XGBR=XGBRegressor()\n",
    "XGBR.fit(X_train, y_train)"
   ]
  },
  {
   "cell_type": "code",
   "execution_count": 25,
   "id": "0717e0f7",
   "metadata": {},
   "outputs": [
    {
     "data": {
      "text/plain": [
       "array([ 4738.144 ,  3154.084 , 60340.223 , ..., 96617.586 ,  3203.3738,\n",
       "       -3168.8682], dtype=float32)"
      ]
     },
     "execution_count": 25,
     "metadata": {},
     "output_type": "execute_result"
    }
   ],
   "source": [
    "y_pred_xgbr = XGBR.predict(X_test)\n",
    "y_pred_xgbr"
   ]
  },
  {
   "cell_type": "code",
   "execution_count": 26,
   "id": "5c86812f",
   "metadata": {},
   "outputs": [
    {
     "name": "stdout",
     "output_type": "stream",
     "text": [
      "Learning rate set to 0.061657\n",
      "0:\tlearn: 193830.3054407\ttotal: 140ms\tremaining: 2m 19s\n",
      "1:\tlearn: 186523.4223629\ttotal: 142ms\tremaining: 1m 10s\n",
      "2:\tlearn: 179718.7550132\ttotal: 144ms\tremaining: 47.9s\n",
      "3:\tlearn: 173948.5920632\ttotal: 146ms\tremaining: 36.3s\n",
      "4:\tlearn: 168358.8068144\ttotal: 148ms\tremaining: 29.4s\n",
      "5:\tlearn: 163616.8930949\ttotal: 150ms\tremaining: 24.8s\n",
      "6:\tlearn: 159254.1742081\ttotal: 152ms\tremaining: 21.5s\n",
      "7:\tlearn: 154843.1860820\ttotal: 154ms\tremaining: 19s\n",
      "8:\tlearn: 150785.3711684\ttotal: 155ms\tremaining: 17.1s\n",
      "9:\tlearn: 147177.7641317\ttotal: 157ms\tremaining: 15.6s\n",
      "10:\tlearn: 143946.3329430\ttotal: 159ms\tremaining: 14.3s\n",
      "11:\tlearn: 141137.3454941\ttotal: 161ms\tremaining: 13.3s\n",
      "12:\tlearn: 138421.5046631\ttotal: 164ms\tremaining: 12.4s\n",
      "13:\tlearn: 135845.8991576\ttotal: 166ms\tremaining: 11.7s\n",
      "14:\tlearn: 133578.5683067\ttotal: 168ms\tremaining: 11s\n",
      "15:\tlearn: 131226.6999273\ttotal: 170ms\tremaining: 10.4s\n",
      "16:\tlearn: 129460.6405508\ttotal: 171ms\tremaining: 9.91s\n",
      "17:\tlearn: 127470.5200686\ttotal: 173ms\tremaining: 9.45s\n",
      "18:\tlearn: 125850.0533519\ttotal: 175ms\tremaining: 9.04s\n",
      "19:\tlearn: 124278.2539135\ttotal: 177ms\tremaining: 8.68s\n",
      "20:\tlearn: 122632.6047659\ttotal: 179ms\tremaining: 8.34s\n",
      "21:\tlearn: 121401.0401572\ttotal: 181ms\tremaining: 8.04s\n",
      "22:\tlearn: 120172.6968707\ttotal: 183ms\tremaining: 7.77s\n",
      "23:\tlearn: 119124.8718209\ttotal: 185ms\tremaining: 7.52s\n",
      "24:\tlearn: 118117.8902023\ttotal: 187ms\tremaining: 7.29s\n",
      "25:\tlearn: 117236.0691984\ttotal: 189ms\tremaining: 7.07s\n",
      "26:\tlearn: 116457.9016062\ttotal: 191ms\tremaining: 6.87s\n",
      "27:\tlearn: 115697.9177118\ttotal: 192ms\tremaining: 6.68s\n",
      "28:\tlearn: 114955.9759223\ttotal: 194ms\tremaining: 6.5s\n",
      "29:\tlearn: 114367.5617652\ttotal: 196ms\tremaining: 6.34s\n",
      "30:\tlearn: 113793.2652553\ttotal: 199ms\tremaining: 6.21s\n",
      "31:\tlearn: 113283.9820458\ttotal: 201ms\tremaining: 6.08s\n",
      "32:\tlearn: 112615.1952841\ttotal: 203ms\tremaining: 5.96s\n",
      "33:\tlearn: 112230.2859501\ttotal: 205ms\tremaining: 5.83s\n",
      "34:\tlearn: 111752.4608362\ttotal: 208ms\tremaining: 5.74s\n",
      "35:\tlearn: 111344.5979758\ttotal: 211ms\tremaining: 5.64s\n",
      "36:\tlearn: 110992.1384658\ttotal: 213ms\tremaining: 5.54s\n",
      "37:\tlearn: 110649.4358079\ttotal: 215ms\tremaining: 5.44s\n",
      "38:\tlearn: 109511.3030871\ttotal: 217ms\tremaining: 5.34s\n",
      "39:\tlearn: 109155.8412734\ttotal: 219ms\tremaining: 5.24s\n",
      "40:\tlearn: 108889.0086817\ttotal: 220ms\tremaining: 5.16s\n",
      "41:\tlearn: 108552.1399728\ttotal: 223ms\tremaining: 5.08s\n",
      "42:\tlearn: 108230.9479734\ttotal: 224ms\tremaining: 5s\n",
      "43:\tlearn: 107934.3114176\ttotal: 226ms\tremaining: 4.92s\n",
      "44:\tlearn: 107748.0265887\ttotal: 228ms\tremaining: 4.84s\n",
      "45:\tlearn: 107530.7743210\ttotal: 230ms\tremaining: 4.77s\n",
      "46:\tlearn: 107305.3379211\ttotal: 232ms\tremaining: 4.7s\n",
      "47:\tlearn: 107033.6649815\ttotal: 234ms\tremaining: 4.63s\n",
      "48:\tlearn: 106767.6488120\ttotal: 235ms\tremaining: 4.57s\n",
      "49:\tlearn: 106644.4540774\ttotal: 237ms\tremaining: 4.5s\n",
      "50:\tlearn: 106477.8825233\ttotal: 238ms\tremaining: 4.44s\n",
      "51:\tlearn: 106302.8176378\ttotal: 240ms\tremaining: 4.38s\n",
      "52:\tlearn: 106172.2230625\ttotal: 242ms\tremaining: 4.32s\n",
      "53:\tlearn: 105946.1540604\ttotal: 244ms\tremaining: 4.27s\n",
      "54:\tlearn: 105851.7837644\ttotal: 246ms\tremaining: 4.22s\n",
      "55:\tlearn: 105660.5812439\ttotal: 247ms\tremaining: 4.17s\n",
      "56:\tlearn: 105463.2163851\ttotal: 249ms\tremaining: 4.12s\n",
      "57:\tlearn: 105271.0489633\ttotal: 251ms\tremaining: 4.08s\n",
      "58:\tlearn: 105009.3351706\ttotal: 253ms\tremaining: 4.03s\n",
      "59:\tlearn: 104795.1172895\ttotal: 254ms\tremaining: 3.99s\n",
      "60:\tlearn: 104709.8739744\ttotal: 256ms\tremaining: 3.94s\n",
      "61:\tlearn: 104574.2494292\ttotal: 258ms\tremaining: 3.9s\n",
      "62:\tlearn: 103651.4774450\ttotal: 260ms\tremaining: 3.86s\n",
      "63:\tlearn: 102758.5133980\ttotal: 262ms\tremaining: 3.83s\n",
      "64:\tlearn: 102685.0470610\ttotal: 263ms\tremaining: 3.79s\n",
      "65:\tlearn: 102497.9652124\ttotal: 265ms\tremaining: 3.75s\n",
      "66:\tlearn: 102352.4865465\ttotal: 267ms\tremaining: 3.72s\n",
      "67:\tlearn: 102216.5288894\ttotal: 269ms\tremaining: 3.68s\n",
      "68:\tlearn: 102097.2935997\ttotal: 270ms\tremaining: 3.65s\n",
      "69:\tlearn: 101950.0017487\ttotal: 272ms\tremaining: 3.61s\n",
      "70:\tlearn: 101507.7705997\ttotal: 274ms\tremaining: 3.58s\n",
      "71:\tlearn: 101382.2102448\ttotal: 275ms\tremaining: 3.55s\n",
      "72:\tlearn: 101268.5462914\ttotal: 277ms\tremaining: 3.52s\n",
      "73:\tlearn: 101182.9300445\ttotal: 279ms\tremaining: 3.49s\n",
      "74:\tlearn: 100995.8388200\ttotal: 281ms\tremaining: 3.46s\n",
      "75:\tlearn: 100694.8748792\ttotal: 283ms\tremaining: 3.44s\n",
      "76:\tlearn: 100471.3797512\ttotal: 285ms\tremaining: 3.41s\n",
      "77:\tlearn: 100120.4127746\ttotal: 286ms\tremaining: 3.38s\n",
      "78:\tlearn: 99968.5425883\ttotal: 288ms\tremaining: 3.36s\n",
      "79:\tlearn: 99895.9558333\ttotal: 290ms\tremaining: 3.33s\n",
      "80:\tlearn: 99765.7412850\ttotal: 292ms\tremaining: 3.31s\n",
      "81:\tlearn: 99102.9291547\ttotal: 294ms\tremaining: 3.29s\n",
      "82:\tlearn: 98781.8056796\ttotal: 296ms\tremaining: 3.27s\n",
      "83:\tlearn: 98721.5626445\ttotal: 297ms\tremaining: 3.24s\n",
      "84:\tlearn: 98648.4586796\ttotal: 299ms\tremaining: 3.22s\n",
      "85:\tlearn: 98497.1714366\ttotal: 301ms\tremaining: 3.2s\n",
      "86:\tlearn: 98456.4018953\ttotal: 303ms\tremaining: 3.17s\n",
      "87:\tlearn: 98343.9898899\ttotal: 304ms\tremaining: 3.15s\n",
      "88:\tlearn: 98249.9325266\ttotal: 306ms\tremaining: 3.13s\n",
      "89:\tlearn: 98169.4435442\ttotal: 308ms\tremaining: 3.11s\n",
      "90:\tlearn: 97888.8015109\ttotal: 310ms\tremaining: 3.09s\n",
      "91:\tlearn: 97759.1307654\ttotal: 311ms\tremaining: 3.07s\n",
      "92:\tlearn: 97207.9908394\ttotal: 313ms\tremaining: 3.05s\n",
      "93:\tlearn: 96989.4393568\ttotal: 315ms\tremaining: 3.04s\n",
      "94:\tlearn: 96816.8173965\ttotal: 317ms\tremaining: 3.02s\n",
      "95:\tlearn: 96721.1009574\ttotal: 319ms\tremaining: 3s\n",
      "96:\tlearn: 96589.5628566\ttotal: 321ms\tremaining: 2.98s\n",
      "97:\tlearn: 96332.7445286\ttotal: 323ms\tremaining: 2.97s\n",
      "98:\tlearn: 96269.1823144\ttotal: 324ms\tremaining: 2.95s\n",
      "99:\tlearn: 96124.6256088\ttotal: 326ms\tremaining: 2.94s\n",
      "100:\tlearn: 96069.7582865\ttotal: 328ms\tremaining: 2.92s\n",
      "101:\tlearn: 96031.2113415\ttotal: 330ms\tremaining: 2.9s\n",
      "102:\tlearn: 96006.0417957\ttotal: 331ms\tremaining: 2.88s\n",
      "103:\tlearn: 95968.2523844\ttotal: 333ms\tremaining: 2.87s\n",
      "104:\tlearn: 95932.7279431\ttotal: 335ms\tremaining: 2.85s\n",
      "105:\tlearn: 95800.2236978\ttotal: 337ms\tremaining: 2.84s\n",
      "106:\tlearn: 95714.0189683\ttotal: 338ms\tremaining: 2.82s\n",
      "107:\tlearn: 95676.7473747\ttotal: 340ms\tremaining: 2.81s\n",
      "108:\tlearn: 95513.3549943\ttotal: 342ms\tremaining: 2.79s\n",
      "109:\tlearn: 95407.7799876\ttotal: 344ms\tremaining: 2.78s\n",
      "110:\tlearn: 95323.9896025\ttotal: 345ms\tremaining: 2.77s\n",
      "111:\tlearn: 95250.5377523\ttotal: 347ms\tremaining: 2.75s\n",
      "112:\tlearn: 95193.9998663\ttotal: 349ms\tremaining: 2.74s\n",
      "113:\tlearn: 95089.7183755\ttotal: 350ms\tremaining: 2.72s\n",
      "114:\tlearn: 95062.5019025\ttotal: 352ms\tremaining: 2.71s\n",
      "115:\tlearn: 94903.5764509\ttotal: 354ms\tremaining: 2.7s\n",
      "116:\tlearn: 94870.8481438\ttotal: 356ms\tremaining: 2.68s\n",
      "117:\tlearn: 94753.3315220\ttotal: 358ms\tremaining: 2.67s\n",
      "118:\tlearn: 94568.2195195\ttotal: 360ms\tremaining: 2.66s\n",
      "119:\tlearn: 94492.7797528\ttotal: 361ms\tremaining: 2.65s\n",
      "120:\tlearn: 94472.9010888\ttotal: 363ms\tremaining: 2.64s\n",
      "121:\tlearn: 94419.3457183\ttotal: 365ms\tremaining: 2.62s\n",
      "122:\tlearn: 94400.8763074\ttotal: 366ms\tremaining: 2.61s\n",
      "123:\tlearn: 94368.8796582\ttotal: 368ms\tremaining: 2.6s\n",
      "124:\tlearn: 94277.1305123\ttotal: 370ms\tremaining: 2.59s\n",
      "125:\tlearn: 94244.0499665\ttotal: 371ms\tremaining: 2.58s\n",
      "126:\tlearn: 94112.8456777\ttotal: 373ms\tremaining: 2.56s\n",
      "127:\tlearn: 94037.6890957\ttotal: 375ms\tremaining: 2.55s\n",
      "128:\tlearn: 93807.2964024\ttotal: 377ms\tremaining: 2.54s\n",
      "129:\tlearn: 93781.0004154\ttotal: 378ms\tremaining: 2.53s\n",
      "130:\tlearn: 93734.0249727\ttotal: 380ms\tremaining: 2.52s\n",
      "131:\tlearn: 93584.0020172\ttotal: 382ms\tremaining: 2.51s\n",
      "132:\tlearn: 93344.0291767\ttotal: 384ms\tremaining: 2.5s\n",
      "133:\tlearn: 92993.7924423\ttotal: 385ms\tremaining: 2.49s\n",
      "134:\tlearn: 92915.0121908\ttotal: 387ms\tremaining: 2.48s\n",
      "135:\tlearn: 92826.1533858\ttotal: 389ms\tremaining: 2.47s\n",
      "136:\tlearn: 92724.1708735\ttotal: 391ms\tremaining: 2.46s\n",
      "137:\tlearn: 92580.3606763\ttotal: 393ms\tremaining: 2.45s\n",
      "138:\tlearn: 92491.9339175\ttotal: 395ms\tremaining: 2.44s\n",
      "139:\tlearn: 91788.8641242\ttotal: 397ms\tremaining: 2.44s\n",
      "140:\tlearn: 91723.0983581\ttotal: 399ms\tremaining: 2.43s\n",
      "141:\tlearn: 91559.5166173\ttotal: 401ms\tremaining: 2.42s\n",
      "142:\tlearn: 91517.3617315\ttotal: 403ms\tremaining: 2.41s\n",
      "143:\tlearn: 91189.3317109\ttotal: 405ms\tremaining: 2.4s\n",
      "144:\tlearn: 91176.3128954\ttotal: 406ms\tremaining: 2.4s\n",
      "145:\tlearn: 91162.2548374\ttotal: 408ms\tremaining: 2.39s\n",
      "146:\tlearn: 91118.1561328\ttotal: 411ms\tremaining: 2.38s\n",
      "147:\tlearn: 90487.5122772\ttotal: 414ms\tremaining: 2.38s\n",
      "148:\tlearn: 90419.7670805\ttotal: 417ms\tremaining: 2.38s\n",
      "149:\tlearn: 89781.7473722\ttotal: 419ms\tremaining: 2.37s\n",
      "150:\tlearn: 89216.7084973\ttotal: 420ms\tremaining: 2.36s\n",
      "151:\tlearn: 89122.9714537\ttotal: 422ms\tremaining: 2.36s\n",
      "152:\tlearn: 88602.6834724\ttotal: 424ms\tremaining: 2.35s\n",
      "153:\tlearn: 88060.4208962\ttotal: 426ms\tremaining: 2.34s\n",
      "154:\tlearn: 87917.0184635\ttotal: 428ms\tremaining: 2.33s\n",
      "155:\tlearn: 87824.8644939\ttotal: 430ms\tremaining: 2.33s\n",
      "156:\tlearn: 87701.7685952\ttotal: 432ms\tremaining: 2.32s\n",
      "157:\tlearn: 87636.9353423\ttotal: 434ms\tremaining: 2.31s\n",
      "158:\tlearn: 87508.5559330\ttotal: 436ms\tremaining: 2.31s\n",
      "159:\tlearn: 87445.5452234\ttotal: 438ms\tremaining: 2.3s\n",
      "160:\tlearn: 87322.2715992\ttotal: 440ms\tremaining: 2.29s\n",
      "161:\tlearn: 87251.3460293\ttotal: 442ms\tremaining: 2.28s\n",
      "162:\tlearn: 87198.7307344\ttotal: 443ms\tremaining: 2.28s\n",
      "163:\tlearn: 87096.1588460\ttotal: 445ms\tremaining: 2.27s\n",
      "164:\tlearn: 86998.3096521\ttotal: 447ms\tremaining: 2.26s\n",
      "165:\tlearn: 86918.6050362\ttotal: 449ms\tremaining: 2.25s\n",
      "166:\tlearn: 86444.5753245\ttotal: 451ms\tremaining: 2.25s\n",
      "167:\tlearn: 86316.0935679\ttotal: 453ms\tremaining: 2.24s\n",
      "168:\tlearn: 86204.3603153\ttotal: 455ms\tremaining: 2.23s\n",
      "169:\tlearn: 86063.1392131\ttotal: 456ms\tremaining: 2.23s\n",
      "170:\tlearn: 85955.1973519\ttotal: 458ms\tremaining: 2.22s\n",
      "171:\tlearn: 85891.7829479\ttotal: 460ms\tremaining: 2.21s\n",
      "172:\tlearn: 85766.4428499\ttotal: 462ms\tremaining: 2.21s\n",
      "173:\tlearn: 85683.8107716\ttotal: 464ms\tremaining: 2.2s\n",
      "174:\tlearn: 85193.9404582\ttotal: 465ms\tremaining: 2.19s\n",
      "175:\tlearn: 85076.6336088\ttotal: 467ms\tremaining: 2.19s\n",
      "176:\tlearn: 84981.2313399\ttotal: 469ms\tremaining: 2.18s\n",
      "177:\tlearn: 84890.3717709\ttotal: 471ms\tremaining: 2.17s\n",
      "178:\tlearn: 84427.9428445\ttotal: 473ms\tremaining: 2.17s\n",
      "179:\tlearn: 84336.0000476\ttotal: 475ms\tremaining: 2.16s\n",
      "180:\tlearn: 84230.4335808\ttotal: 477ms\tremaining: 2.16s\n",
      "181:\tlearn: 84135.0127840\ttotal: 478ms\tremaining: 2.15s\n",
      "182:\tlearn: 84049.1623147\ttotal: 480ms\tremaining: 2.14s\n",
      "183:\tlearn: 83988.5274196\ttotal: 482ms\tremaining: 2.14s\n",
      "184:\tlearn: 83905.5396870\ttotal: 483ms\tremaining: 2.13s\n",
      "185:\tlearn: 83808.8854124\ttotal: 485ms\tremaining: 2.12s\n",
      "186:\tlearn: 83716.5846543\ttotal: 487ms\tremaining: 2.12s\n",
      "187:\tlearn: 83621.0789605\ttotal: 489ms\tremaining: 2.11s\n",
      "188:\tlearn: 83529.6834488\ttotal: 491ms\tremaining: 2.1s\n",
      "189:\tlearn: 83407.4741022\ttotal: 492ms\tremaining: 2.1s\n",
      "190:\tlearn: 83334.3551585\ttotal: 494ms\tremaining: 2.09s\n",
      "191:\tlearn: 83276.8575656\ttotal: 496ms\tremaining: 2.09s\n",
      "192:\tlearn: 83191.6744451\ttotal: 498ms\tremaining: 2.08s\n",
      "193:\tlearn: 82752.8425688\ttotal: 500ms\tremaining: 2.08s\n",
      "194:\tlearn: 82672.7999263\ttotal: 502ms\tremaining: 2.07s\n",
      "195:\tlearn: 82559.0327518\ttotal: 504ms\tremaining: 2.07s\n",
      "196:\tlearn: 82487.9626092\ttotal: 506ms\tremaining: 2.06s\n",
      "197:\tlearn: 82411.7609683\ttotal: 508ms\tremaining: 2.06s\n",
      "198:\tlearn: 82338.6329401\ttotal: 509ms\tremaining: 2.05s\n",
      "199:\tlearn: 82283.7722613\ttotal: 512ms\tremaining: 2.05s\n",
      "200:\tlearn: 82224.0147238\ttotal: 514ms\tremaining: 2.04s\n",
      "201:\tlearn: 82107.7741588\ttotal: 516ms\tremaining: 2.04s\n",
      "202:\tlearn: 81710.9821592\ttotal: 517ms\tremaining: 2.03s\n",
      "203:\tlearn: 81431.0950274\ttotal: 519ms\tremaining: 2.03s\n",
      "204:\tlearn: 81340.3714048\ttotal: 521ms\tremaining: 2.02s\n",
      "205:\tlearn: 81296.2688607\ttotal: 523ms\tremaining: 2.01s\n",
      "206:\tlearn: 81227.4494539\ttotal: 525ms\tremaining: 2.01s\n",
      "207:\tlearn: 81161.3804631\ttotal: 526ms\tremaining: 2s\n",
      "208:\tlearn: 80805.0686110\ttotal: 528ms\tremaining: 2s\n",
      "209:\tlearn: 80782.4239913\ttotal: 530ms\tremaining: 1.99s\n",
      "210:\tlearn: 80672.1382659\ttotal: 532ms\tremaining: 1.99s\n",
      "211:\tlearn: 80608.3118641\ttotal: 533ms\tremaining: 1.98s\n",
      "212:\tlearn: 80556.3250373\ttotal: 535ms\tremaining: 1.98s\n",
      "213:\tlearn: 80508.2101855\ttotal: 537ms\tremaining: 1.97s\n",
      "214:\tlearn: 80442.4405689\ttotal: 539ms\tremaining: 1.97s\n",
      "215:\tlearn: 80381.0391008\ttotal: 540ms\tremaining: 1.96s\n",
      "216:\tlearn: 80270.4027408\ttotal: 542ms\tremaining: 1.96s\n",
      "217:\tlearn: 80236.9099691\ttotal: 544ms\tremaining: 1.95s\n",
      "218:\tlearn: 80195.1978559\ttotal: 546ms\tremaining: 1.95s\n",
      "219:\tlearn: 79862.7191070\ttotal: 548ms\tremaining: 1.94s\n",
      "220:\tlearn: 79805.7738993\ttotal: 550ms\tremaining: 1.94s\n",
      "221:\tlearn: 79746.4047866\ttotal: 552ms\tremaining: 1.93s\n",
      "222:\tlearn: 79702.1681328\ttotal: 554ms\tremaining: 1.93s\n",
      "223:\tlearn: 79692.2877415\ttotal: 555ms\tremaining: 1.92s\n",
      "224:\tlearn: 79635.2513950\ttotal: 557ms\tremaining: 1.92s\n",
      "225:\tlearn: 79587.1758453\ttotal: 559ms\tremaining: 1.91s\n",
      "226:\tlearn: 79577.9134610\ttotal: 561ms\tremaining: 1.91s\n",
      "227:\tlearn: 79461.8409068\ttotal: 562ms\tremaining: 1.9s\n",
      "228:\tlearn: 79406.9331426\ttotal: 564ms\tremaining: 1.9s\n",
      "229:\tlearn: 79092.8484630\ttotal: 566ms\tremaining: 1.9s\n",
      "230:\tlearn: 79083.9440331\ttotal: 568ms\tremaining: 1.89s\n",
      "231:\tlearn: 79030.9770635\ttotal: 570ms\tremaining: 1.89s\n",
      "232:\tlearn: 79010.3137126\ttotal: 571ms\tremaining: 1.88s\n",
      "233:\tlearn: 78985.0868099\ttotal: 573ms\tremaining: 1.88s\n",
      "234:\tlearn: 78941.2616503\ttotal: 575ms\tremaining: 1.87s\n",
      "235:\tlearn: 78901.3036200\ttotal: 577ms\tremaining: 1.87s\n",
      "236:\tlearn: 78774.3834505\ttotal: 579ms\tremaining: 1.86s\n",
      "237:\tlearn: 78725.7129850\ttotal: 581ms\tremaining: 1.86s\n",
      "238:\tlearn: 78707.0562037\ttotal: 583ms\tremaining: 1.85s\n",
      "239:\tlearn: 78698.4498237\ttotal: 584ms\tremaining: 1.85s\n",
      "240:\tlearn: 78607.9115238\ttotal: 586ms\tremaining: 1.84s\n",
      "241:\tlearn: 78561.5823812\ttotal: 588ms\tremaining: 1.84s\n",
      "242:\tlearn: 78488.7634691\ttotal: 590ms\tremaining: 1.84s\n",
      "243:\tlearn: 78480.9062043\ttotal: 592ms\tremaining: 1.83s\n",
      "244:\tlearn: 78457.0993859\ttotal: 594ms\tremaining: 1.83s\n",
      "245:\tlearn: 78420.3358348\ttotal: 596ms\tremaining: 1.83s\n",
      "246:\tlearn: 78375.4306818\ttotal: 598ms\tremaining: 1.82s\n",
      "247:\tlearn: 78317.3771753\ttotal: 600ms\tremaining: 1.82s\n",
      "248:\tlearn: 78272.7519974\ttotal: 602ms\tremaining: 1.82s\n",
      "249:\tlearn: 78230.2580257\ttotal: 604ms\tremaining: 1.81s\n",
      "250:\tlearn: 78196.6555713\ttotal: 606ms\tremaining: 1.81s\n",
      "251:\tlearn: 78131.1444656\ttotal: 608ms\tremaining: 1.8s\n",
      "252:\tlearn: 78123.8570044\ttotal: 610ms\tremaining: 1.8s\n",
      "253:\tlearn: 78056.4200563\ttotal: 612ms\tremaining: 1.8s\n",
      "254:\tlearn: 77937.8797771\ttotal: 614ms\tremaining: 1.79s\n",
      "255:\tlearn: 77899.1427218\ttotal: 616ms\tremaining: 1.79s\n",
      "256:\tlearn: 77832.6907374\ttotal: 617ms\tremaining: 1.78s\n",
      "257:\tlearn: 77796.1777235\ttotal: 619ms\tremaining: 1.78s\n",
      "258:\tlearn: 77779.9280215\ttotal: 621ms\tremaining: 1.78s\n",
      "259:\tlearn: 77762.4485531\ttotal: 623ms\tremaining: 1.77s\n",
      "260:\tlearn: 77746.9421831\ttotal: 625ms\tremaining: 1.77s\n",
      "261:\tlearn: 77740.2068287\ttotal: 627ms\tremaining: 1.76s\n",
      "262:\tlearn: 77663.9318174\ttotal: 628ms\tremaining: 1.76s\n",
      "263:\tlearn: 77623.3202678\ttotal: 630ms\tremaining: 1.76s\n",
      "264:\tlearn: 77575.1668352\ttotal: 632ms\tremaining: 1.75s\n",
      "265:\tlearn: 77536.0956782\ttotal: 634ms\tremaining: 1.75s\n",
      "266:\tlearn: 77518.2170025\ttotal: 636ms\tremaining: 1.75s\n",
      "267:\tlearn: 77457.1499793\ttotal: 638ms\tremaining: 1.74s\n",
      "268:\tlearn: 77406.8237388\ttotal: 640ms\tremaining: 1.74s\n",
      "269:\tlearn: 77344.3932529\ttotal: 641ms\tremaining: 1.73s\n",
      "270:\tlearn: 77286.1464636\ttotal: 643ms\tremaining: 1.73s\n",
      "271:\tlearn: 77209.4252353\ttotal: 645ms\tremaining: 1.73s\n",
      "272:\tlearn: 77119.1894686\ttotal: 647ms\tremaining: 1.72s\n",
      "273:\tlearn: 77111.4959177\ttotal: 649ms\tremaining: 1.72s\n",
      "274:\tlearn: 77074.4535417\ttotal: 651ms\tremaining: 1.72s\n",
      "275:\tlearn: 77038.7524988\ttotal: 652ms\tremaining: 1.71s\n",
      "276:\tlearn: 77003.1189949\ttotal: 654ms\tremaining: 1.71s\n",
      "277:\tlearn: 76703.3928116\ttotal: 656ms\tremaining: 1.7s\n",
      "278:\tlearn: 76679.8490473\ttotal: 658ms\tremaining: 1.7s\n",
      "279:\tlearn: 76611.1759764\ttotal: 660ms\tremaining: 1.7s\n",
      "280:\tlearn: 76532.6942859\ttotal: 661ms\tremaining: 1.69s\n",
      "281:\tlearn: 76477.2560347\ttotal: 663ms\tremaining: 1.69s\n",
      "282:\tlearn: 76329.9889049\ttotal: 665ms\tremaining: 1.69s\n",
      "283:\tlearn: 76295.6962431\ttotal: 667ms\tremaining: 1.68s\n",
      "284:\tlearn: 76252.7705867\ttotal: 669ms\tremaining: 1.68s\n",
      "285:\tlearn: 76223.6615381\ttotal: 671ms\tremaining: 1.68s\n",
      "286:\tlearn: 76160.3859003\ttotal: 673ms\tremaining: 1.67s\n",
      "287:\tlearn: 76119.6862100\ttotal: 674ms\tremaining: 1.67s\n",
      "288:\tlearn: 76084.9630778\ttotal: 676ms\tremaining: 1.66s\n",
      "289:\tlearn: 76026.1411403\ttotal: 678ms\tremaining: 1.66s\n",
      "290:\tlearn: 75977.5170614\ttotal: 680ms\tremaining: 1.66s\n",
      "291:\tlearn: 75936.4953172\ttotal: 682ms\tremaining: 1.65s\n",
      "292:\tlearn: 75862.8394118\ttotal: 684ms\tremaining: 1.65s\n",
      "293:\tlearn: 75832.8281469\ttotal: 686ms\tremaining: 1.65s\n",
      "294:\tlearn: 75799.6855485\ttotal: 688ms\tremaining: 1.65s\n",
      "295:\tlearn: 75767.8069338\ttotal: 690ms\tremaining: 1.64s\n",
      "296:\tlearn: 75478.2430207\ttotal: 692ms\tremaining: 1.64s\n",
      "297:\tlearn: 75447.4611192\ttotal: 694ms\tremaining: 1.63s\n",
      "298:\tlearn: 75174.8550680\ttotal: 696ms\tremaining: 1.63s\n",
      "299:\tlearn: 75161.2531395\ttotal: 697ms\tremaining: 1.63s\n",
      "300:\tlearn: 75127.4790599\ttotal: 699ms\tremaining: 1.62s\n",
      "301:\tlearn: 75035.8203432\ttotal: 701ms\tremaining: 1.62s\n",
      "302:\tlearn: 75006.0299721\ttotal: 703ms\tremaining: 1.62s\n",
      "303:\tlearn: 74964.2588849\ttotal: 705ms\tremaining: 1.61s\n",
      "304:\tlearn: 74913.9833252\ttotal: 707ms\tremaining: 1.61s\n",
      "305:\tlearn: 74882.2593821\ttotal: 709ms\tremaining: 1.61s\n",
      "306:\tlearn: 74807.1986602\ttotal: 711ms\tremaining: 1.6s\n",
      "307:\tlearn: 74791.0116817\ttotal: 713ms\tremaining: 1.6s\n",
      "308:\tlearn: 74767.1425286\ttotal: 714ms\tremaining: 1.6s\n",
      "309:\tlearn: 74752.6702102\ttotal: 716ms\tremaining: 1.59s\n",
      "310:\tlearn: 74686.3829625\ttotal: 718ms\tremaining: 1.59s\n",
      "311:\tlearn: 74669.5171337\ttotal: 720ms\tremaining: 1.59s\n",
      "312:\tlearn: 74641.1409454\ttotal: 722ms\tremaining: 1.58s\n",
      "313:\tlearn: 74628.5375350\ttotal: 723ms\tremaining: 1.58s\n",
      "314:\tlearn: 74612.8966142\ttotal: 725ms\tremaining: 1.58s\n",
      "315:\tlearn: 74603.1653140\ttotal: 727ms\tremaining: 1.57s\n",
      "316:\tlearn: 74581.9847287\ttotal: 729ms\tremaining: 1.57s\n",
      "317:\tlearn: 74528.3478844\ttotal: 731ms\tremaining: 1.57s\n",
      "318:\tlearn: 74493.8514084\ttotal: 732ms\tremaining: 1.56s\n",
      "319:\tlearn: 74455.0546987\ttotal: 734ms\tremaining: 1.56s\n",
      "320:\tlearn: 74426.8590763\ttotal: 736ms\tremaining: 1.56s\n",
      "321:\tlearn: 74167.1893746\ttotal: 738ms\tremaining: 1.55s\n",
      "322:\tlearn: 74086.7016425\ttotal: 740ms\tremaining: 1.55s\n",
      "323:\tlearn: 74064.3455779\ttotal: 742ms\tremaining: 1.55s\n",
      "324:\tlearn: 74050.3962578\ttotal: 743ms\tremaining: 1.54s\n",
      "325:\tlearn: 74022.9227743\ttotal: 745ms\tremaining: 1.54s\n",
      "326:\tlearn: 73954.5054240\ttotal: 747ms\tremaining: 1.54s\n",
      "327:\tlearn: 73892.7700534\ttotal: 749ms\tremaining: 1.53s\n",
      "328:\tlearn: 73865.2504671\ttotal: 751ms\tremaining: 1.53s\n",
      "329:\tlearn: 73818.4394863\ttotal: 753ms\tremaining: 1.53s\n",
      "330:\tlearn: 73804.0288165\ttotal: 754ms\tremaining: 1.52s\n",
      "331:\tlearn: 73783.2673814\ttotal: 756ms\tremaining: 1.52s\n",
      "332:\tlearn: 73760.2252141\ttotal: 758ms\tremaining: 1.52s\n",
      "333:\tlearn: 73695.3746979\ttotal: 760ms\tremaining: 1.51s\n",
      "334:\tlearn: 73642.4041091\ttotal: 762ms\tremaining: 1.51s\n",
      "335:\tlearn: 73573.8285293\ttotal: 764ms\tremaining: 1.51s\n",
      "336:\tlearn: 73498.1636007\ttotal: 765ms\tremaining: 1.5s\n",
      "337:\tlearn: 73455.3361449\ttotal: 767ms\tremaining: 1.5s\n",
      "338:\tlearn: 73420.4609391\ttotal: 769ms\tremaining: 1.5s\n",
      "339:\tlearn: 73388.3795230\ttotal: 771ms\tremaining: 1.5s\n",
      "340:\tlearn: 73362.3906417\ttotal: 772ms\tremaining: 1.49s\n",
      "341:\tlearn: 73338.7069009\ttotal: 774ms\tremaining: 1.49s\n",
      "342:\tlearn: 73298.6652799\ttotal: 776ms\tremaining: 1.49s\n",
      "343:\tlearn: 73173.1389244\ttotal: 778ms\tremaining: 1.48s\n",
      "344:\tlearn: 73147.1995563\ttotal: 780ms\tremaining: 1.48s\n",
      "345:\tlearn: 73117.4404539\ttotal: 782ms\tremaining: 1.48s\n",
      "346:\tlearn: 73097.2515490\ttotal: 784ms\tremaining: 1.48s\n",
      "347:\tlearn: 73072.2224722\ttotal: 786ms\tremaining: 1.47s\n",
      "348:\tlearn: 72836.3001451\ttotal: 788ms\tremaining: 1.47s\n",
      "349:\tlearn: 72812.1269419\ttotal: 789ms\tremaining: 1.47s\n",
      "350:\tlearn: 72755.6313288\ttotal: 792ms\tremaining: 1.46s\n",
      "351:\tlearn: 72747.7650837\ttotal: 794ms\tremaining: 1.46s\n",
      "352:\tlearn: 72511.9461029\ttotal: 796ms\tremaining: 1.46s\n",
      "353:\tlearn: 72488.5888218\ttotal: 798ms\tremaining: 1.46s\n",
      "354:\tlearn: 72480.7072095\ttotal: 800ms\tremaining: 1.45s\n",
      "355:\tlearn: 72264.8465019\ttotal: 802ms\tremaining: 1.45s\n",
      "356:\tlearn: 72204.8973308\ttotal: 804ms\tremaining: 1.45s\n",
      "357:\tlearn: 72187.4575409\ttotal: 806ms\tremaining: 1.45s\n",
      "358:\tlearn: 72152.0136748\ttotal: 808ms\tremaining: 1.44s\n",
      "359:\tlearn: 72129.4109806\ttotal: 810ms\tremaining: 1.44s\n",
      "360:\tlearn: 71930.6946676\ttotal: 812ms\tremaining: 1.44s\n",
      "361:\tlearn: 71907.0294826\ttotal: 814ms\tremaining: 1.44s\n",
      "362:\tlearn: 71885.1866167\ttotal: 816ms\tremaining: 1.43s\n",
      "363:\tlearn: 71877.8873250\ttotal: 818ms\tremaining: 1.43s\n",
      "364:\tlearn: 71870.8159534\ttotal: 820ms\tremaining: 1.43s\n",
      "365:\tlearn: 71863.7998327\ttotal: 822ms\tremaining: 1.42s\n",
      "366:\tlearn: 71846.4886415\ttotal: 824ms\tremaining: 1.42s\n",
      "367:\tlearn: 71794.3680360\ttotal: 826ms\tremaining: 1.42s\n",
      "368:\tlearn: 71725.3928116\ttotal: 828ms\tremaining: 1.42s\n",
      "369:\tlearn: 71704.2832840\ttotal: 830ms\tremaining: 1.41s\n",
      "370:\tlearn: 71630.2960321\ttotal: 832ms\tremaining: 1.41s\n",
      "371:\tlearn: 71591.5289768\ttotal: 834ms\tremaining: 1.41s\n",
      "372:\tlearn: 71570.6019420\ttotal: 836ms\tremaining: 1.4s\n",
      "373:\tlearn: 71563.9462511\ttotal: 838ms\tremaining: 1.4s\n",
      "374:\tlearn: 71365.6341408\ttotal: 839ms\tremaining: 1.4s\n",
      "375:\tlearn: 71333.8010090\ttotal: 841ms\tremaining: 1.4s\n",
      "376:\tlearn: 71181.4224967\ttotal: 843ms\tremaining: 1.39s\n",
      "377:\tlearn: 71144.2387563\ttotal: 845ms\tremaining: 1.39s\n",
      "378:\tlearn: 70966.5070603\ttotal: 847ms\tremaining: 1.39s\n",
      "379:\tlearn: 70793.3961356\ttotal: 848ms\tremaining: 1.38s\n",
      "380:\tlearn: 70751.6730533\ttotal: 850ms\tremaining: 1.38s\n",
      "381:\tlearn: 70745.0546453\ttotal: 852ms\tremaining: 1.38s\n",
      "382:\tlearn: 70717.4141551\ttotal: 853ms\tremaining: 1.37s\n",
      "383:\tlearn: 70698.6498509\ttotal: 855ms\tremaining: 1.37s\n",
      "384:\tlearn: 70653.0975730\ttotal: 857ms\tremaining: 1.37s\n",
      "385:\tlearn: 70626.1009334\ttotal: 859ms\tremaining: 1.37s\n",
      "386:\tlearn: 70590.4772062\ttotal: 861ms\tremaining: 1.36s\n",
      "387:\tlearn: 70551.3672843\ttotal: 863ms\tremaining: 1.36s\n",
      "388:\tlearn: 70465.4134579\ttotal: 864ms\tremaining: 1.36s\n",
      "389:\tlearn: 70413.1871470\ttotal: 866ms\tremaining: 1.35s\n",
      "390:\tlearn: 70392.2339193\ttotal: 868ms\tremaining: 1.35s\n",
      "391:\tlearn: 70378.1965837\ttotal: 870ms\tremaining: 1.35s\n",
      "392:\tlearn: 70372.0694504\ttotal: 871ms\tremaining: 1.34s\n",
      "393:\tlearn: 70345.4594907\ttotal: 873ms\tremaining: 1.34s\n",
      "394:\tlearn: 70331.8719686\ttotal: 875ms\tremaining: 1.34s\n",
      "395:\tlearn: 70301.5870438\ttotal: 877ms\tremaining: 1.34s\n",
      "396:\tlearn: 70281.8956231\ttotal: 878ms\tremaining: 1.33s\n",
      "397:\tlearn: 70248.3674944\ttotal: 880ms\tremaining: 1.33s\n",
      "398:\tlearn: 70222.4001937\ttotal: 882ms\tremaining: 1.33s\n",
      "399:\tlearn: 70167.4172955\ttotal: 884ms\tremaining: 1.33s\n",
      "400:\tlearn: 70049.0051282\ttotal: 886ms\tremaining: 1.32s\n",
      "401:\tlearn: 69898.4438755\ttotal: 888ms\tremaining: 1.32s\n",
      "402:\tlearn: 69892.4659295\ttotal: 890ms\tremaining: 1.32s\n",
      "403:\tlearn: 69753.3379378\ttotal: 892ms\tremaining: 1.31s\n",
      "404:\tlearn: 69710.5841917\ttotal: 894ms\tremaining: 1.31s\n",
      "405:\tlearn: 69678.3780678\ttotal: 895ms\tremaining: 1.31s\n",
      "406:\tlearn: 69663.3527151\ttotal: 897ms\tremaining: 1.31s\n",
      "407:\tlearn: 69644.4765014\ttotal: 899ms\tremaining: 1.3s\n",
      "408:\tlearn: 69607.4336338\ttotal: 901ms\tremaining: 1.3s\n",
      "409:\tlearn: 69585.2654652\ttotal: 903ms\tremaining: 1.3s\n",
      "410:\tlearn: 69511.7385782\ttotal: 905ms\tremaining: 1.3s\n",
      "411:\tlearn: 69447.1433158\ttotal: 907ms\tremaining: 1.29s\n",
      "412:\tlearn: 69441.2504000\ttotal: 909ms\tremaining: 1.29s\n",
      "413:\tlearn: 69435.2180460\ttotal: 911ms\tremaining: 1.29s\n",
      "414:\tlearn: 69429.6789999\ttotal: 913ms\tremaining: 1.29s\n",
      "415:\tlearn: 69403.7891528\ttotal: 916ms\tremaining: 1.28s\n",
      "416:\tlearn: 69381.0517920\ttotal: 918ms\tremaining: 1.28s\n",
      "417:\tlearn: 69312.6283321\ttotal: 920ms\tremaining: 1.28s\n",
      "418:\tlearn: 69295.0146941\ttotal: 922ms\tremaining: 1.28s\n",
      "419:\tlearn: 69289.7195464\ttotal: 924ms\tremaining: 1.28s\n",
      "420:\tlearn: 69272.7165248\ttotal: 926ms\tremaining: 1.27s\n",
      "421:\tlearn: 69259.6453678\ttotal: 928ms\tremaining: 1.27s\n",
      "422:\tlearn: 69154.2379097\ttotal: 930ms\tremaining: 1.27s\n",
      "423:\tlearn: 69135.1663184\ttotal: 932ms\tremaining: 1.27s\n",
      "424:\tlearn: 69100.6491436\ttotal: 934ms\tremaining: 1.26s\n",
      "425:\tlearn: 69029.5763232\ttotal: 936ms\tremaining: 1.26s\n",
      "426:\tlearn: 68882.0308885\ttotal: 938ms\tremaining: 1.26s\n",
      "427:\tlearn: 68876.4774306\ttotal: 940ms\tremaining: 1.26s\n",
      "428:\tlearn: 68871.4710922\ttotal: 942ms\tremaining: 1.25s\n",
      "429:\tlearn: 68837.0429954\ttotal: 944ms\tremaining: 1.25s\n",
      "430:\tlearn: 68692.6659528\ttotal: 946ms\tremaining: 1.25s\n",
      "431:\tlearn: 68675.8019844\ttotal: 948ms\tremaining: 1.25s\n",
      "432:\tlearn: 68653.8167404\ttotal: 950ms\tremaining: 1.24s\n",
      "433:\tlearn: 68644.0096876\ttotal: 951ms\tremaining: 1.24s\n",
      "434:\tlearn: 68627.9901242\ttotal: 953ms\tremaining: 1.24s\n",
      "435:\tlearn: 68606.5343052\ttotal: 955ms\tremaining: 1.24s\n",
      "436:\tlearn: 68480.0138045\ttotal: 957ms\tremaining: 1.23s\n",
      "437:\tlearn: 68441.6179126\ttotal: 959ms\tremaining: 1.23s\n",
      "438:\tlearn: 68426.3135436\ttotal: 961ms\tremaining: 1.23s\n",
      "439:\tlearn: 68388.1887980\ttotal: 963ms\tremaining: 1.23s\n",
      "440:\tlearn: 68376.4405434\ttotal: 965ms\tremaining: 1.22s\n",
      "441:\tlearn: 68367.2914077\ttotal: 967ms\tremaining: 1.22s\n",
      "442:\tlearn: 68340.9224803\ttotal: 969ms\tremaining: 1.22s\n",
      "443:\tlearn: 68272.1773455\ttotal: 971ms\tremaining: 1.22s\n",
      "444:\tlearn: 68259.3833654\ttotal: 973ms\tremaining: 1.21s\n",
      "445:\tlearn: 68228.7696080\ttotal: 975ms\tremaining: 1.21s\n",
      "446:\tlearn: 68110.4375948\ttotal: 976ms\tremaining: 1.21s\n",
      "447:\tlearn: 68073.9911429\ttotal: 978ms\tremaining: 1.21s\n",
      "448:\tlearn: 68045.4897193\ttotal: 980ms\tremaining: 1.2s\n",
      "449:\tlearn: 68032.2976016\ttotal: 982ms\tremaining: 1.2s\n",
      "450:\tlearn: 67974.3702012\ttotal: 984ms\tremaining: 1.2s\n",
      "451:\tlearn: 67931.6145402\ttotal: 986ms\tremaining: 1.2s\n",
      "452:\tlearn: 67919.1736395\ttotal: 988ms\tremaining: 1.19s\n",
      "453:\tlearn: 67898.2705499\ttotal: 990ms\tremaining: 1.19s\n",
      "454:\tlearn: 67887.6646518\ttotal: 992ms\tremaining: 1.19s\n",
      "455:\tlearn: 67878.8638538\ttotal: 994ms\tremaining: 1.19s\n",
      "456:\tlearn: 67854.6587598\ttotal: 996ms\tremaining: 1.18s\n",
      "457:\tlearn: 67785.7740509\ttotal: 998ms\tremaining: 1.18s\n",
      "458:\tlearn: 67664.6379332\ttotal: 1s\tremaining: 1.18s\n",
      "459:\tlearn: 67652.0844479\ttotal: 1s\tremaining: 1.18s\n",
      "460:\tlearn: 67612.2953830\ttotal: 1s\tremaining: 1.17s\n",
      "461:\tlearn: 67600.1984147\ttotal: 1.01s\tremaining: 1.17s\n",
      "462:\tlearn: 67497.6885491\ttotal: 1.01s\tremaining: 1.17s\n",
      "463:\tlearn: 67483.4598275\ttotal: 1.01s\tremaining: 1.17s\n",
      "464:\tlearn: 67455.4728518\ttotal: 1.01s\tremaining: 1.17s\n",
      "465:\tlearn: 67442.0420094\ttotal: 1.01s\tremaining: 1.16s\n",
      "466:\tlearn: 67412.1429723\ttotal: 1.02s\tremaining: 1.16s\n",
      "467:\tlearn: 67385.1850021\ttotal: 1.02s\tremaining: 1.16s\n",
      "468:\tlearn: 67362.1570297\ttotal: 1.02s\tremaining: 1.16s\n",
      "469:\tlearn: 67346.7718387\ttotal: 1.02s\tremaining: 1.15s\n",
      "470:\tlearn: 67322.8978358\ttotal: 1.02s\tremaining: 1.15s\n",
      "471:\tlearn: 67277.1535495\ttotal: 1.03s\tremaining: 1.15s\n",
      "472:\tlearn: 67251.3670324\ttotal: 1.03s\tremaining: 1.15s\n",
      "473:\tlearn: 67242.6637646\ttotal: 1.03s\tremaining: 1.14s\n",
      "474:\tlearn: 67232.5391960\ttotal: 1.03s\tremaining: 1.14s\n",
      "475:\tlearn: 67196.1416076\ttotal: 1.03s\tremaining: 1.14s\n",
      "476:\tlearn: 67122.2093704\ttotal: 1.04s\tremaining: 1.14s\n",
      "477:\tlearn: 67089.4144806\ttotal: 1.04s\tremaining: 1.14s\n",
      "478:\tlearn: 67077.2173942\ttotal: 1.04s\tremaining: 1.13s\n",
      "479:\tlearn: 67057.7105782\ttotal: 1.04s\tremaining: 1.13s\n",
      "480:\tlearn: 67045.6710880\ttotal: 1.04s\tremaining: 1.13s\n",
      "481:\tlearn: 67033.8709207\ttotal: 1.05s\tremaining: 1.13s\n",
      "482:\tlearn: 67015.9722498\ttotal: 1.05s\tremaining: 1.12s\n",
      "483:\tlearn: 67004.5265156\ttotal: 1.05s\tremaining: 1.12s\n",
      "484:\tlearn: 66990.8268750\ttotal: 1.05s\tremaining: 1.12s\n",
      "485:\tlearn: 66973.2134025\ttotal: 1.05s\tremaining: 1.12s\n",
      "486:\tlearn: 66950.7062770\ttotal: 1.06s\tremaining: 1.11s\n",
      "487:\tlearn: 66936.0683767\ttotal: 1.06s\tremaining: 1.11s\n",
      "488:\tlearn: 66928.0749380\ttotal: 1.06s\tremaining: 1.11s\n",
      "489:\tlearn: 66891.9424035\ttotal: 1.06s\tremaining: 1.11s\n",
      "490:\tlearn: 66880.4999058\ttotal: 1.06s\tremaining: 1.1s\n",
      "491:\tlearn: 66875.2236195\ttotal: 1.07s\tremaining: 1.1s\n",
      "492:\tlearn: 66854.2901772\ttotal: 1.07s\tremaining: 1.1s\n",
      "493:\tlearn: 66741.0289545\ttotal: 1.07s\tremaining: 1.1s\n",
      "494:\tlearn: 66671.9252532\ttotal: 1.07s\tremaining: 1.09s\n",
      "495:\tlearn: 66662.8221787\ttotal: 1.07s\tremaining: 1.09s\n",
      "496:\tlearn: 66655.5291326\ttotal: 1.08s\tremaining: 1.09s\n",
      "497:\tlearn: 66633.7173553\ttotal: 1.08s\tremaining: 1.09s\n",
      "498:\tlearn: 66529.2094590\ttotal: 1.08s\tremaining: 1.09s\n",
      "499:\tlearn: 66525.1512257\ttotal: 1.08s\tremaining: 1.08s\n",
      "500:\tlearn: 66521.2201616\ttotal: 1.09s\tremaining: 1.08s\n",
      "501:\tlearn: 66510.0277392\ttotal: 1.09s\tremaining: 1.08s\n",
      "502:\tlearn: 66499.2585301\ttotal: 1.09s\tremaining: 1.08s\n",
      "503:\tlearn: 66492.6359920\ttotal: 1.09s\tremaining: 1.08s\n",
      "504:\tlearn: 66476.6018830\ttotal: 1.1s\tremaining: 1.07s\n",
      "505:\tlearn: 66421.9561291\ttotal: 1.1s\tremaining: 1.07s\n",
      "506:\tlearn: 66404.1469431\ttotal: 1.1s\tremaining: 1.07s\n",
      "507:\tlearn: 66353.9534079\ttotal: 1.1s\tremaining: 1.07s\n",
      "508:\tlearn: 66350.1272520\ttotal: 1.11s\tremaining: 1.07s\n",
      "509:\tlearn: 66346.4212619\ttotal: 1.11s\tremaining: 1.07s\n",
      "510:\tlearn: 66254.2666730\ttotal: 1.11s\tremaining: 1.06s\n",
      "511:\tlearn: 66218.8152510\ttotal: 1.12s\tremaining: 1.06s\n",
      "512:\tlearn: 66202.4044506\ttotal: 1.12s\tremaining: 1.06s\n",
      "513:\tlearn: 66170.9043672\ttotal: 1.12s\tremaining: 1.06s\n",
      "514:\tlearn: 66160.1185616\ttotal: 1.12s\tremaining: 1.06s\n",
      "515:\tlearn: 66144.6430368\ttotal: 1.13s\tremaining: 1.06s\n",
      "516:\tlearn: 66121.7666271\ttotal: 1.13s\tremaining: 1.05s\n",
      "517:\tlearn: 66067.8977466\ttotal: 1.13s\tremaining: 1.05s\n",
      "518:\tlearn: 66036.9425734\ttotal: 1.14s\tremaining: 1.05s\n",
      "519:\tlearn: 66033.3444095\ttotal: 1.14s\tremaining: 1.05s\n",
      "520:\tlearn: 66029.8591755\ttotal: 1.14s\tremaining: 1.05s\n",
      "521:\tlearn: 65935.6170182\ttotal: 1.14s\tremaining: 1.04s\n",
      "522:\tlearn: 65885.4285364\ttotal: 1.14s\tremaining: 1.04s\n",
      "523:\tlearn: 65857.0047398\ttotal: 1.15s\tremaining: 1.04s\n",
      "524:\tlearn: 65769.7177761\ttotal: 1.15s\tremaining: 1.04s\n",
      "525:\tlearn: 65721.7448799\ttotal: 1.15s\tremaining: 1.04s\n",
      "526:\tlearn: 65640.6165551\ttotal: 1.15s\tremaining: 1.03s\n",
      "527:\tlearn: 65554.7570887\ttotal: 1.16s\tremaining: 1.03s\n",
      "528:\tlearn: 65548.8613456\ttotal: 1.16s\tremaining: 1.03s\n",
      "529:\tlearn: 65502.2877014\ttotal: 1.16s\tremaining: 1.03s\n",
      "530:\tlearn: 65487.1677310\ttotal: 1.16s\tremaining: 1.02s\n",
      "531:\tlearn: 65401.6157252\ttotal: 1.16s\tremaining: 1.02s\n",
      "532:\tlearn: 65391.0147422\ttotal: 1.16s\tremaining: 1.02s\n",
      "533:\tlearn: 65347.9914048\ttotal: 1.17s\tremaining: 1.02s\n",
      "534:\tlearn: 65335.5332700\ttotal: 1.17s\tremaining: 1.01s\n",
      "535:\tlearn: 65290.7712461\ttotal: 1.17s\tremaining: 1.01s\n",
      "536:\tlearn: 65267.0855556\ttotal: 1.17s\tremaining: 1.01s\n",
      "537:\tlearn: 65213.8676004\ttotal: 1.17s\tremaining: 1.01s\n",
      "538:\tlearn: 65183.7421635\ttotal: 1.18s\tremaining: 1s\n",
      "539:\tlearn: 65110.1286213\ttotal: 1.18s\tremaining: 1s\n",
      "540:\tlearn: 65068.3589365\ttotal: 1.18s\tremaining: 1s\n",
      "541:\tlearn: 65054.2384200\ttotal: 1.18s\tremaining: 997ms\n",
      "542:\tlearn: 65044.4987500\ttotal: 1.18s\tremaining: 995ms\n",
      "543:\tlearn: 65021.3141201\ttotal: 1.18s\tremaining: 993ms\n",
      "544:\tlearn: 64985.7736700\ttotal: 1.19s\tremaining: 991ms\n",
      "545:\tlearn: 64959.5055585\ttotal: 1.19s\tremaining: 988ms\n",
      "546:\tlearn: 64943.8217719\ttotal: 1.19s\tremaining: 986ms\n",
      "547:\tlearn: 64930.6075458\ttotal: 1.19s\tremaining: 984ms\n",
      "548:\tlearn: 64875.5508009\ttotal: 1.19s\tremaining: 981ms\n",
      "549:\tlearn: 64847.4825149\ttotal: 1.2s\tremaining: 979ms\n",
      "550:\tlearn: 64769.3311784\ttotal: 1.2s\tremaining: 977ms\n",
      "551:\tlearn: 64748.5157824\ttotal: 1.2s\tremaining: 974ms\n",
      "552:\tlearn: 64736.5270881\ttotal: 1.2s\tremaining: 972ms\n",
      "553:\tlearn: 64679.2864959\ttotal: 1.2s\tremaining: 970ms\n",
      "554:\tlearn: 64664.7810733\ttotal: 1.21s\tremaining: 967ms\n",
      "555:\tlearn: 64615.6545496\ttotal: 1.21s\tremaining: 965ms\n",
      "556:\tlearn: 64575.3692010\ttotal: 1.21s\tremaining: 963ms\n",
      "557:\tlearn: 64564.1134119\ttotal: 1.21s\tremaining: 961ms\n",
      "558:\tlearn: 64517.7533052\ttotal: 1.21s\tremaining: 958ms\n",
      "559:\tlearn: 64447.4227397\ttotal: 1.22s\tremaining: 956ms\n",
      "560:\tlearn: 64429.2411805\ttotal: 1.22s\tremaining: 954ms\n",
      "561:\tlearn: 64364.0706476\ttotal: 1.22s\tremaining: 952ms\n",
      "562:\tlearn: 64356.7803079\ttotal: 1.22s\tremaining: 950ms\n",
      "563:\tlearn: 64326.1988227\ttotal: 1.23s\tremaining: 947ms\n",
      "564:\tlearn: 64265.5913904\ttotal: 1.23s\tremaining: 945ms\n",
      "565:\tlearn: 64221.8870305\ttotal: 1.23s\tremaining: 943ms\n",
      "566:\tlearn: 64216.5980736\ttotal: 1.23s\tremaining: 940ms\n",
      "567:\tlearn: 64162.5566096\ttotal: 1.23s\tremaining: 938ms\n",
      "568:\tlearn: 64142.1998029\ttotal: 1.23s\tremaining: 935ms\n",
      "569:\tlearn: 64109.0340430\ttotal: 1.24s\tremaining: 933ms\n",
      "570:\tlearn: 64053.7560962\ttotal: 1.24s\tremaining: 931ms\n",
      "571:\tlearn: 64036.7453947\ttotal: 1.24s\tremaining: 928ms\n",
      "572:\tlearn: 63962.1818055\ttotal: 1.24s\tremaining: 926ms\n",
      "573:\tlearn: 63950.9345399\ttotal: 1.24s\tremaining: 923ms\n",
      "574:\tlearn: 63834.7784443\ttotal: 1.25s\tremaining: 921ms\n",
      "575:\tlearn: 63817.2614482\ttotal: 1.25s\tremaining: 919ms\n",
      "576:\tlearn: 63778.5750781\ttotal: 1.25s\tremaining: 916ms\n",
      "577:\tlearn: 63773.5169310\ttotal: 1.25s\tremaining: 914ms\n",
      "578:\tlearn: 63768.6981516\ttotal: 1.25s\tremaining: 911ms\n",
      "579:\tlearn: 63753.9617354\ttotal: 1.25s\tremaining: 909ms\n",
      "580:\tlearn: 63708.7103547\ttotal: 1.26s\tremaining: 906ms\n",
      "581:\tlearn: 63701.6562174\ttotal: 1.26s\tremaining: 904ms\n",
      "582:\tlearn: 63689.3739296\ttotal: 1.26s\tremaining: 902ms\n",
      "583:\tlearn: 63676.8191994\ttotal: 1.26s\tremaining: 899ms\n",
      "584:\tlearn: 63645.2434122\ttotal: 1.26s\tremaining: 897ms\n",
      "585:\tlearn: 63628.0580428\ttotal: 1.27s\tremaining: 895ms\n",
      "586:\tlearn: 63608.8373764\ttotal: 1.27s\tremaining: 892ms\n",
      "587:\tlearn: 63579.5427730\ttotal: 1.27s\tremaining: 890ms\n",
      "588:\tlearn: 63555.9439666\ttotal: 1.27s\tremaining: 887ms\n",
      "589:\tlearn: 63543.9258571\ttotal: 1.27s\tremaining: 885ms\n",
      "590:\tlearn: 63527.2206781\ttotal: 1.27s\tremaining: 882ms\n",
      "591:\tlearn: 63493.8322032\ttotal: 1.28s\tremaining: 880ms\n",
      "592:\tlearn: 63490.0787256\ttotal: 1.28s\tremaining: 878ms\n",
      "593:\tlearn: 63468.4821302\ttotal: 1.28s\tremaining: 875ms\n",
      "594:\tlearn: 63417.1301142\ttotal: 1.28s\tremaining: 873ms\n",
      "595:\tlearn: 63403.2563118\ttotal: 1.28s\tremaining: 871ms\n",
      "596:\tlearn: 63398.8146735\ttotal: 1.28s\tremaining: 868ms\n",
      "597:\tlearn: 63351.4408087\ttotal: 1.29s\tremaining: 866ms\n",
      "598:\tlearn: 63289.1011226\ttotal: 1.29s\tremaining: 863ms\n",
      "599:\tlearn: 63222.5039650\ttotal: 1.29s\tremaining: 861ms\n",
      "600:\tlearn: 63212.3176874\ttotal: 1.29s\tremaining: 859ms\n",
      "601:\tlearn: 63193.5816571\ttotal: 1.29s\tremaining: 856ms\n",
      "602:\tlearn: 63172.5008268\ttotal: 1.3s\tremaining: 854ms\n",
      "603:\tlearn: 63135.0652090\ttotal: 1.3s\tremaining: 852ms\n",
      "604:\tlearn: 63125.1986776\ttotal: 1.3s\tremaining: 849ms\n",
      "605:\tlearn: 63115.6536110\ttotal: 1.3s\tremaining: 847ms\n",
      "606:\tlearn: 63098.5255762\ttotal: 1.3s\tremaining: 845ms\n",
      "607:\tlearn: 63040.9180748\ttotal: 1.31s\tremaining: 842ms\n",
      "608:\tlearn: 63002.8620294\ttotal: 1.31s\tremaining: 840ms\n",
      "609:\tlearn: 62981.6845122\ttotal: 1.31s\tremaining: 838ms\n",
      "610:\tlearn: 62961.4938748\ttotal: 1.31s\tremaining: 835ms\n",
      "611:\tlearn: 62902.4899726\ttotal: 1.31s\tremaining: 833ms\n",
      "612:\tlearn: 62893.2224125\ttotal: 1.31s\tremaining: 831ms\n",
      "613:\tlearn: 62874.0411399\ttotal: 1.32s\tremaining: 828ms\n",
      "614:\tlearn: 62844.5886390\ttotal: 1.32s\tremaining: 826ms\n",
      "615:\tlearn: 62827.8323867\ttotal: 1.32s\tremaining: 824ms\n",
      "616:\tlearn: 62818.8576684\ttotal: 1.32s\tremaining: 822ms\n",
      "617:\tlearn: 62802.9692084\ttotal: 1.33s\tremaining: 820ms\n",
      "618:\tlearn: 62792.8269544\ttotal: 1.33s\tremaining: 817ms\n",
      "619:\tlearn: 62747.4198256\ttotal: 1.33s\tremaining: 815ms\n",
      "620:\tlearn: 62744.8971175\ttotal: 1.33s\tremaining: 813ms\n",
      "621:\tlearn: 62729.0082064\ttotal: 1.33s\tremaining: 811ms\n",
      "622:\tlearn: 62726.5642826\ttotal: 1.33s\tremaining: 808ms\n",
      "623:\tlearn: 62717.7296601\ttotal: 1.34s\tremaining: 806ms\n",
      "624:\tlearn: 62709.0487201\ttotal: 1.34s\tremaining: 804ms\n",
      "625:\tlearn: 62694.1724853\ttotal: 1.34s\tremaining: 802ms\n",
      "626:\tlearn: 62685.7624600\ttotal: 1.34s\tremaining: 799ms\n",
      "627:\tlearn: 62669.9706847\ttotal: 1.34s\tremaining: 797ms\n",
      "628:\tlearn: 62577.6412725\ttotal: 1.35s\tremaining: 795ms\n",
      "629:\tlearn: 62545.2870415\ttotal: 1.35s\tremaining: 792ms\n",
      "630:\tlearn: 62542.9136818\ttotal: 1.35s\tremaining: 790ms\n",
      "631:\tlearn: 62540.6145287\ttotal: 1.35s\tremaining: 787ms\n",
      "632:\tlearn: 62538.3871893\ttotal: 1.35s\tremaining: 785ms\n",
      "633:\tlearn: 62494.3191422\ttotal: 1.35s\tremaining: 783ms\n",
      "634:\tlearn: 62476.5008861\ttotal: 1.36s\tremaining: 780ms\n",
      "635:\tlearn: 62454.0043227\ttotal: 1.36s\tremaining: 778ms\n",
      "636:\tlearn: 62405.5601265\ttotal: 1.36s\tremaining: 776ms\n",
      "637:\tlearn: 62392.1320133\ttotal: 1.36s\tremaining: 773ms\n",
      "638:\tlearn: 62381.7486131\ttotal: 1.36s\tremaining: 771ms\n",
      "639:\tlearn: 62373.8175346\ttotal: 1.37s\tremaining: 768ms\n",
      "640:\tlearn: 62366.1377579\ttotal: 1.37s\tremaining: 766ms\n",
      "641:\tlearn: 62358.6504240\ttotal: 1.37s\tremaining: 764ms\n",
      "642:\tlearn: 62334.3138228\ttotal: 1.37s\tremaining: 761ms\n",
      "643:\tlearn: 62318.9633008\ttotal: 1.37s\tremaining: 759ms\n",
      "644:\tlearn: 62260.5740548\ttotal: 1.38s\tremaining: 757ms\n",
      "645:\tlearn: 62258.4623044\ttotal: 1.38s\tremaining: 755ms\n",
      "646:\tlearn: 62256.4207846\ttotal: 1.38s\tremaining: 752ms\n",
      "647:\tlearn: 62231.2108761\ttotal: 1.38s\tremaining: 750ms\n",
      "648:\tlearn: 62211.7345943\ttotal: 1.38s\tremaining: 748ms\n",
      "649:\tlearn: 62202.5047243\ttotal: 1.39s\tremaining: 746ms\n",
      "650:\tlearn: 62193.3424755\ttotal: 1.39s\tremaining: 744ms\n",
      "651:\tlearn: 62186.5512370\ttotal: 1.39s\tremaining: 742ms\n",
      "652:\tlearn: 62145.3075899\ttotal: 1.39s\tremaining: 739ms\n",
      "653:\tlearn: 62125.3850411\ttotal: 1.39s\tremaining: 737ms\n",
      "654:\tlearn: 62093.0647117\ttotal: 1.4s\tremaining: 735ms\n",
      "655:\tlearn: 62057.8838521\ttotal: 1.4s\tremaining: 733ms\n",
      "656:\tlearn: 62004.9331461\ttotal: 1.4s\tremaining: 730ms\n",
      "657:\tlearn: 61986.6773210\ttotal: 1.4s\tremaining: 728ms\n",
      "658:\tlearn: 61971.2326979\ttotal: 1.4s\tremaining: 726ms\n",
      "659:\tlearn: 61964.7978433\ttotal: 1.41s\tremaining: 724ms\n",
      "660:\tlearn: 61949.3762764\ttotal: 1.41s\tremaining: 722ms\n",
      "661:\tlearn: 61943.1452524\ttotal: 1.41s\tremaining: 720ms\n",
      "662:\tlearn: 61903.4913339\ttotal: 1.41s\tremaining: 718ms\n",
      "663:\tlearn: 61883.9621273\ttotal: 1.41s\tremaining: 715ms\n",
      "664:\tlearn: 61846.7525656\ttotal: 1.42s\tremaining: 713ms\n",
      "665:\tlearn: 61797.2557210\ttotal: 1.42s\tremaining: 711ms\n",
      "666:\tlearn: 61762.9582952\ttotal: 1.42s\tremaining: 709ms\n",
      "667:\tlearn: 61742.9806309\ttotal: 1.42s\tremaining: 707ms\n",
      "668:\tlearn: 61715.1946386\ttotal: 1.42s\tremaining: 704ms\n",
      "669:\tlearn: 61665.7315035\ttotal: 1.43s\tremaining: 702ms\n",
      "670:\tlearn: 61662.9330168\ttotal: 1.43s\tremaining: 700ms\n",
      "671:\tlearn: 61645.1943986\ttotal: 1.43s\tremaining: 698ms\n",
      "672:\tlearn: 61632.6898225\ttotal: 1.43s\tremaining: 696ms\n",
      "673:\tlearn: 61603.3409900\ttotal: 1.43s\tremaining: 693ms\n",
      "674:\tlearn: 61575.3174378\ttotal: 1.44s\tremaining: 691ms\n",
      "675:\tlearn: 61545.6405964\ttotal: 1.44s\tremaining: 689ms\n",
      "676:\tlearn: 61517.3439642\ttotal: 1.44s\tremaining: 687ms\n",
      "677:\tlearn: 61467.3675477\ttotal: 1.44s\tremaining: 684ms\n",
      "678:\tlearn: 61434.2991490\ttotal: 1.44s\tremaining: 682ms\n",
      "679:\tlearn: 61422.4786748\ttotal: 1.45s\tremaining: 680ms\n",
      "680:\tlearn: 61398.0932726\ttotal: 1.45s\tremaining: 678ms\n",
      "681:\tlearn: 61347.7009088\ttotal: 1.45s\tremaining: 676ms\n",
      "682:\tlearn: 61301.9585126\ttotal: 1.45s\tremaining: 674ms\n",
      "683:\tlearn: 61287.9916460\ttotal: 1.45s\tremaining: 671ms\n",
      "684:\tlearn: 61261.5583307\ttotal: 1.46s\tremaining: 669ms\n",
      "685:\tlearn: 61244.8015790\ttotal: 1.46s\tremaining: 667ms\n",
      "686:\tlearn: 61227.3001102\ttotal: 1.46s\tremaining: 665ms\n",
      "687:\tlearn: 61215.3777506\ttotal: 1.46s\tremaining: 663ms\n",
      "688:\tlearn: 61204.8550023\ttotal: 1.46s\tremaining: 660ms\n",
      "689:\tlearn: 61187.0543327\ttotal: 1.46s\tremaining: 658ms\n",
      "690:\tlearn: 61100.2221777\ttotal: 1.47s\tremaining: 656ms\n",
      "691:\tlearn: 61071.7432342\ttotal: 1.47s\tremaining: 654ms\n",
      "692:\tlearn: 61055.1444324\ttotal: 1.47s\tremaining: 652ms\n",
      "693:\tlearn: 60993.6458132\ttotal: 1.47s\tremaining: 650ms\n",
      "694:\tlearn: 60976.9182890\ttotal: 1.48s\tremaining: 648ms\n",
      "695:\tlearn: 60950.1110667\ttotal: 1.48s\tremaining: 646ms\n",
      "696:\tlearn: 60917.2896315\ttotal: 1.48s\tremaining: 644ms\n",
      "697:\tlearn: 60887.1850454\ttotal: 1.48s\tremaining: 641ms\n",
      "698:\tlearn: 60868.8854719\ttotal: 1.48s\tremaining: 639ms\n",
      "699:\tlearn: 60853.2829949\ttotal: 1.49s\tremaining: 637ms\n",
      "700:\tlearn: 60835.9930113\ttotal: 1.49s\tremaining: 635ms\n",
      "701:\tlearn: 60822.5781241\ttotal: 1.49s\tremaining: 633ms\n",
      "702:\tlearn: 60775.3978190\ttotal: 1.49s\tremaining: 631ms\n",
      "703:\tlearn: 60769.6483202\ttotal: 1.49s\tremaining: 628ms\n",
      "704:\tlearn: 60764.0825643\ttotal: 1.5s\tremaining: 626ms\n",
      "705:\tlearn: 60719.2510295\ttotal: 1.5s\tremaining: 624ms\n",
      "706:\tlearn: 60713.8113181\ttotal: 1.5s\tremaining: 622ms\n",
      "707:\tlearn: 60708.5806122\ttotal: 1.5s\tremaining: 620ms\n",
      "708:\tlearn: 60675.1667177\ttotal: 1.5s\tremaining: 617ms\n",
      "709:\tlearn: 60648.1137275\ttotal: 1.51s\tremaining: 615ms\n",
      "710:\tlearn: 60633.4308010\ttotal: 1.51s\tremaining: 613ms\n",
      "711:\tlearn: 60624.1749068\ttotal: 1.51s\tremaining: 611ms\n",
      "712:\tlearn: 60606.5662647\ttotal: 1.51s\tremaining: 608ms\n",
      "713:\tlearn: 60601.4500173\ttotal: 1.51s\tremaining: 606ms\n",
      "714:\tlearn: 60593.4894635\ttotal: 1.51s\tremaining: 604ms\n",
      "715:\tlearn: 60569.1657649\ttotal: 1.52s\tremaining: 602ms\n",
      "716:\tlearn: 60544.4062464\ttotal: 1.52s\tremaining: 600ms\n",
      "717:\tlearn: 60521.5025904\ttotal: 1.52s\tremaining: 597ms\n",
      "718:\tlearn: 60516.3975470\ttotal: 1.52s\tremaining: 595ms\n",
      "719:\tlearn: 60494.9716467\ttotal: 1.52s\tremaining: 593ms\n",
      "720:\tlearn: 60485.6346304\ttotal: 1.52s\tremaining: 590ms\n",
      "721:\tlearn: 60462.7645653\ttotal: 1.53s\tremaining: 588ms\n",
      "722:\tlearn: 60441.1473661\ttotal: 1.53s\tremaining: 586ms\n",
      "723:\tlearn: 60435.8539688\ttotal: 1.53s\tremaining: 584ms\n",
      "724:\tlearn: 60420.2909625\ttotal: 1.53s\tremaining: 582ms\n",
      "725:\tlearn: 60392.7367387\ttotal: 1.53s\tremaining: 579ms\n",
      "726:\tlearn: 60380.6462984\ttotal: 1.54s\tremaining: 577ms\n",
      "727:\tlearn: 60337.6093842\ttotal: 1.54s\tremaining: 575ms\n",
      "728:\tlearn: 60325.1423543\ttotal: 1.54s\tremaining: 573ms\n",
      "729:\tlearn: 60310.7441881\ttotal: 1.54s\tremaining: 570ms\n",
      "730:\tlearn: 60292.3935426\ttotal: 1.54s\tremaining: 568ms\n",
      "731:\tlearn: 60283.2931536\ttotal: 1.54s\tremaining: 566ms\n",
      "732:\tlearn: 60268.2868182\ttotal: 1.55s\tremaining: 564ms\n",
      "733:\tlearn: 60257.1703241\ttotal: 1.55s\tremaining: 562ms\n",
      "734:\tlearn: 60248.4803669\ttotal: 1.55s\tremaining: 559ms\n",
      "735:\tlearn: 60227.7906734\ttotal: 1.55s\tremaining: 557ms\n",
      "736:\tlearn: 60204.4524813\ttotal: 1.55s\tremaining: 555ms\n",
      "737:\tlearn: 60200.6595076\ttotal: 1.56s\tremaining: 553ms\n",
      "738:\tlearn: 60179.9978503\ttotal: 1.56s\tremaining: 551ms\n",
      "739:\tlearn: 60162.3166282\ttotal: 1.56s\tremaining: 548ms\n",
      "740:\tlearn: 60158.7114788\ttotal: 1.56s\tremaining: 546ms\n",
      "741:\tlearn: 60117.7367752\ttotal: 1.56s\tremaining: 544ms\n",
      "742:\tlearn: 60098.6879479\ttotal: 1.57s\tremaining: 542ms\n",
      "743:\tlearn: 60081.7580315\ttotal: 1.57s\tremaining: 540ms\n",
      "744:\tlearn: 60078.4089565\ttotal: 1.57s\tremaining: 537ms\n",
      "745:\tlearn: 60020.2288838\ttotal: 1.57s\tremaining: 535ms\n",
      "746:\tlearn: 60007.2499170\ttotal: 1.57s\tremaining: 533ms\n",
      "747:\tlearn: 60003.9227596\ttotal: 1.57s\tremaining: 531ms\n",
      "748:\tlearn: 59963.5040785\ttotal: 1.58s\tremaining: 528ms\n",
      "749:\tlearn: 59931.2352677\ttotal: 1.58s\tremaining: 526ms\n",
      "750:\tlearn: 59876.2618247\ttotal: 1.58s\tremaining: 524ms\n",
      "751:\tlearn: 59856.1565782\ttotal: 1.58s\tremaining: 522ms\n",
      "752:\tlearn: 59801.4831633\ttotal: 1.58s\tremaining: 520ms\n",
      "753:\tlearn: 59758.9564211\ttotal: 1.59s\tremaining: 518ms\n",
      "754:\tlearn: 59753.7066407\ttotal: 1.59s\tremaining: 516ms\n",
      "755:\tlearn: 59745.7675273\ttotal: 1.59s\tremaining: 514ms\n",
      "756:\tlearn: 59729.4245031\ttotal: 1.59s\tremaining: 512ms\n",
      "757:\tlearn: 59687.7402987\ttotal: 1.6s\tremaining: 510ms\n",
      "758:\tlearn: 59663.0735187\ttotal: 1.6s\tremaining: 508ms\n",
      "759:\tlearn: 59623.1827045\ttotal: 1.6s\tremaining: 505ms\n",
      "760:\tlearn: 59579.9528471\ttotal: 1.6s\tremaining: 503ms\n",
      "761:\tlearn: 59499.6170002\ttotal: 1.6s\tremaining: 501ms\n",
      "762:\tlearn: 59490.6512854\ttotal: 1.61s\tremaining: 499ms\n",
      "763:\tlearn: 59483.1032723\ttotal: 1.61s\tremaining: 497ms\n",
      "764:\tlearn: 59430.9844736\ttotal: 1.61s\tremaining: 495ms\n",
      "765:\tlearn: 59391.9994620\ttotal: 1.61s\tremaining: 493ms\n",
      "766:\tlearn: 59380.4256792\ttotal: 1.61s\tremaining: 491ms\n",
      "767:\tlearn: 59361.2841069\ttotal: 1.62s\tremaining: 489ms\n",
      "768:\tlearn: 59326.0899730\ttotal: 1.62s\tremaining: 487ms\n",
      "769:\tlearn: 59276.8647493\ttotal: 1.62s\tremaining: 485ms\n",
      "770:\tlearn: 59266.3747603\ttotal: 1.62s\tremaining: 483ms\n",
      "771:\tlearn: 59251.7984158\ttotal: 1.63s\tremaining: 480ms\n",
      "772:\tlearn: 59220.3031145\ttotal: 1.63s\tremaining: 478ms\n",
      "773:\tlearn: 59215.5360067\ttotal: 1.63s\tremaining: 476ms\n",
      "774:\tlearn: 59198.4779372\ttotal: 1.63s\tremaining: 474ms\n",
      "775:\tlearn: 59184.1097234\ttotal: 1.63s\tremaining: 472ms\n",
      "776:\tlearn: 59172.0165290\ttotal: 1.64s\tremaining: 470ms\n",
      "777:\tlearn: 59156.9711091\ttotal: 1.64s\tremaining: 467ms\n",
      "778:\tlearn: 59133.6244076\ttotal: 1.64s\tremaining: 465ms\n",
      "779:\tlearn: 59109.8743739\ttotal: 1.64s\tremaining: 463ms\n",
      "780:\tlearn: 59098.6259099\ttotal: 1.65s\tremaining: 461ms\n",
      "781:\tlearn: 59083.7443903\ttotal: 1.65s\tremaining: 459ms\n",
      "782:\tlearn: 59068.6198263\ttotal: 1.65s\tremaining: 457ms\n",
      "783:\tlearn: 59054.0436275\ttotal: 1.65s\tremaining: 455ms\n",
      "784:\tlearn: 59038.0227105\ttotal: 1.65s\tremaining: 453ms\n",
      "785:\tlearn: 58998.8307258\ttotal: 1.65s\tremaining: 451ms\n",
      "786:\tlearn: 58968.2037366\ttotal: 1.66s\tremaining: 448ms\n",
      "787:\tlearn: 58958.9570617\ttotal: 1.66s\tremaining: 446ms\n",
      "788:\tlearn: 58949.2224039\ttotal: 1.66s\tremaining: 444ms\n",
      "789:\tlearn: 58939.8760554\ttotal: 1.66s\tremaining: 442ms\n",
      "790:\tlearn: 58915.8703549\ttotal: 1.66s\tremaining: 440ms\n",
      "791:\tlearn: 58900.7184157\ttotal: 1.67s\tremaining: 438ms\n",
      "792:\tlearn: 58873.1340482\ttotal: 1.67s\tremaining: 435ms\n",
      "793:\tlearn: 58854.5324692\ttotal: 1.67s\tremaining: 433ms\n",
      "794:\tlearn: 58847.9733214\ttotal: 1.67s\tremaining: 431ms\n",
      "795:\tlearn: 58822.9191088\ttotal: 1.67s\tremaining: 429ms\n",
      "796:\tlearn: 58801.4427456\ttotal: 1.68s\tremaining: 427ms\n",
      "797:\tlearn: 58779.1273457\ttotal: 1.68s\tremaining: 425ms\n",
      "798:\tlearn: 58770.2466270\ttotal: 1.68s\tremaining: 423ms\n",
      "799:\tlearn: 58757.1074517\ttotal: 1.68s\tremaining: 420ms\n",
      "800:\tlearn: 58733.9192798\ttotal: 1.68s\tremaining: 418ms\n",
      "801:\tlearn: 58722.5975494\ttotal: 1.69s\tremaining: 416ms\n",
      "802:\tlearn: 58676.5825226\ttotal: 1.69s\tremaining: 414ms\n",
      "803:\tlearn: 58673.7784145\ttotal: 1.69s\tremaining: 412ms\n",
      "804:\tlearn: 58636.3483805\ttotal: 1.69s\tremaining: 410ms\n",
      "805:\tlearn: 58618.5158005\ttotal: 1.69s\tremaining: 407ms\n",
      "806:\tlearn: 58603.7908917\ttotal: 1.69s\tremaining: 405ms\n",
      "807:\tlearn: 58590.1694568\ttotal: 1.7s\tremaining: 403ms\n",
      "808:\tlearn: 58584.0709816\ttotal: 1.7s\tremaining: 401ms\n",
      "809:\tlearn: 58575.3649994\ttotal: 1.7s\tremaining: 399ms\n",
      "810:\tlearn: 58556.5536187\ttotal: 1.7s\tremaining: 397ms\n",
      "811:\tlearn: 58546.2274994\ttotal: 1.7s\tremaining: 395ms\n",
      "812:\tlearn: 58531.8201390\ttotal: 1.71s\tremaining: 392ms\n",
      "813:\tlearn: 58514.7793964\ttotal: 1.71s\tremaining: 390ms\n",
      "814:\tlearn: 58501.3694605\ttotal: 1.71s\tremaining: 388ms\n",
      "815:\tlearn: 58494.1014927\ttotal: 1.71s\tremaining: 386ms\n",
      "816:\tlearn: 58481.0786029\ttotal: 1.71s\tremaining: 384ms\n",
      "817:\tlearn: 58444.2347751\ttotal: 1.72s\tremaining: 382ms\n",
      "818:\tlearn: 58407.7258380\ttotal: 1.72s\tremaining: 380ms\n",
      "819:\tlearn: 58396.9563600\ttotal: 1.72s\tremaining: 377ms\n",
      "820:\tlearn: 58379.3487955\ttotal: 1.72s\tremaining: 375ms\n",
      "821:\tlearn: 58331.2209081\ttotal: 1.72s\tremaining: 373ms\n",
      "822:\tlearn: 58325.7047034\ttotal: 1.73s\tremaining: 371ms\n",
      "823:\tlearn: 58312.7736447\ttotal: 1.73s\tremaining: 369ms\n",
      "824:\tlearn: 58269.1460319\ttotal: 1.73s\tremaining: 367ms\n",
      "825:\tlearn: 58259.1160934\ttotal: 1.73s\tremaining: 365ms\n",
      "826:\tlearn: 58239.1456601\ttotal: 1.73s\tremaining: 363ms\n",
      "827:\tlearn: 58205.8435213\ttotal: 1.74s\tremaining: 361ms\n",
      "828:\tlearn: 58137.0715471\ttotal: 1.74s\tremaining: 359ms\n",
      "829:\tlearn: 58130.7583507\ttotal: 1.74s\tremaining: 356ms\n",
      "830:\tlearn: 58123.7390046\ttotal: 1.74s\tremaining: 354ms\n",
      "831:\tlearn: 58109.6632027\ttotal: 1.74s\tremaining: 352ms\n",
      "832:\tlearn: 58099.9145459\ttotal: 1.75s\tremaining: 350ms\n",
      "833:\tlearn: 58095.7691828\ttotal: 1.75s\tremaining: 348ms\n",
      "834:\tlearn: 58087.3961724\ttotal: 1.75s\tremaining: 346ms\n",
      "835:\tlearn: 58078.4689017\ttotal: 1.75s\tremaining: 344ms\n",
      "836:\tlearn: 58060.3028828\ttotal: 1.75s\tremaining: 342ms\n",
      "837:\tlearn: 58026.7701740\ttotal: 1.76s\tremaining: 340ms\n",
      "838:\tlearn: 58022.7621185\ttotal: 1.76s\tremaining: 337ms\n",
      "839:\tlearn: 58014.8885563\ttotal: 1.76s\tremaining: 335ms\n",
      "840:\tlearn: 58005.7900749\ttotal: 1.76s\tremaining: 333ms\n",
      "841:\tlearn: 57918.3049009\ttotal: 1.76s\tremaining: 331ms\n",
      "842:\tlearn: 57900.4330533\ttotal: 1.77s\tremaining: 329ms\n",
      "843:\tlearn: 57897.6145831\ttotal: 1.77s\tremaining: 327ms\n",
      "844:\tlearn: 57884.1384954\ttotal: 1.77s\tremaining: 325ms\n",
      "845:\tlearn: 57870.5923903\ttotal: 1.77s\tremaining: 323ms\n",
      "846:\tlearn: 57861.6232839\ttotal: 1.77s\tremaining: 321ms\n",
      "847:\tlearn: 57848.6901830\ttotal: 1.78s\tremaining: 319ms\n",
      "848:\tlearn: 57841.2743675\ttotal: 1.78s\tremaining: 317ms\n",
      "849:\tlearn: 57832.6438256\ttotal: 1.78s\tremaining: 315ms\n",
      "850:\tlearn: 57824.3897631\ttotal: 1.78s\tremaining: 313ms\n",
      "851:\tlearn: 57820.0698602\ttotal: 1.79s\tremaining: 311ms\n",
      "852:\tlearn: 57808.9384801\ttotal: 1.79s\tremaining: 308ms\n",
      "853:\tlearn: 57798.0665058\ttotal: 1.79s\tremaining: 306ms\n",
      "854:\tlearn: 57762.3289490\ttotal: 1.79s\tremaining: 304ms\n",
      "855:\tlearn: 57739.7533724\ttotal: 1.8s\tremaining: 302ms\n",
      "856:\tlearn: 57733.2270652\ttotal: 1.8s\tremaining: 300ms\n",
      "857:\tlearn: 57719.6535988\ttotal: 1.8s\tremaining: 298ms\n",
      "858:\tlearn: 57678.5162580\ttotal: 1.8s\tremaining: 296ms\n",
      "859:\tlearn: 57669.5632434\ttotal: 1.81s\tremaining: 294ms\n",
      "860:\tlearn: 57657.3232982\ttotal: 1.81s\tremaining: 292ms\n",
      "861:\tlearn: 57618.4666171\ttotal: 1.81s\tremaining: 290ms\n",
      "862:\tlearn: 57603.6535277\ttotal: 1.81s\tremaining: 288ms\n",
      "863:\tlearn: 57569.2456337\ttotal: 1.82s\tremaining: 286ms\n",
      "864:\tlearn: 57556.0521241\ttotal: 1.82s\tremaining: 284ms\n",
      "865:\tlearn: 57540.5093192\ttotal: 1.82s\tremaining: 282ms\n",
      "866:\tlearn: 57525.4341306\ttotal: 1.82s\tremaining: 280ms\n",
      "867:\tlearn: 57509.4946376\ttotal: 1.82s\tremaining: 278ms\n",
      "868:\tlearn: 57487.5114462\ttotal: 1.83s\tremaining: 275ms\n",
      "869:\tlearn: 57470.0862402\ttotal: 1.83s\tremaining: 273ms\n",
      "870:\tlearn: 57449.2939802\ttotal: 1.83s\tremaining: 271ms\n",
      "871:\tlearn: 57425.9196100\ttotal: 1.83s\tremaining: 269ms\n",
      "872:\tlearn: 57406.6198696\ttotal: 1.83s\tremaining: 267ms\n",
      "873:\tlearn: 57393.9049337\ttotal: 1.84s\tremaining: 265ms\n",
      "874:\tlearn: 57391.5458766\ttotal: 1.84s\tremaining: 263ms\n",
      "875:\tlearn: 57363.0463140\ttotal: 1.84s\tremaining: 261ms\n",
      "876:\tlearn: 57332.9284834\ttotal: 1.84s\tremaining: 258ms\n",
      "877:\tlearn: 57313.6967873\ttotal: 1.84s\tremaining: 256ms\n",
      "878:\tlearn: 57276.8182079\ttotal: 1.85s\tremaining: 254ms\n",
      "879:\tlearn: 57274.5707374\ttotal: 1.85s\tremaining: 252ms\n",
      "880:\tlearn: 57233.3713492\ttotal: 1.85s\tremaining: 250ms\n",
      "881:\tlearn: 57229.7646501\ttotal: 1.85s\tremaining: 248ms\n",
      "882:\tlearn: 57217.6742329\ttotal: 1.85s\tremaining: 246ms\n",
      "883:\tlearn: 57210.5227679\ttotal: 1.85s\tremaining: 243ms\n",
      "884:\tlearn: 57195.9880312\ttotal: 1.86s\tremaining: 241ms\n",
      "885:\tlearn: 57181.1113853\ttotal: 1.86s\tremaining: 239ms\n",
      "886:\tlearn: 57169.7340918\ttotal: 1.86s\tremaining: 237ms\n",
      "887:\tlearn: 57137.6724003\ttotal: 1.86s\tremaining: 235ms\n",
      "888:\tlearn: 57126.2544716\ttotal: 1.86s\tremaining: 233ms\n",
      "889:\tlearn: 57118.8004946\ttotal: 1.87s\tremaining: 231ms\n",
      "890:\tlearn: 57110.0732262\ttotal: 1.87s\tremaining: 229ms\n",
      "891:\tlearn: 57098.5064461\ttotal: 1.87s\tremaining: 227ms\n",
      "892:\tlearn: 57064.4647403\ttotal: 1.87s\tremaining: 225ms\n",
      "893:\tlearn: 57056.2459456\ttotal: 1.88s\tremaining: 222ms\n",
      "894:\tlearn: 57045.3651299\ttotal: 1.88s\tremaining: 220ms\n",
      "895:\tlearn: 57036.5468845\ttotal: 1.88s\tremaining: 218ms\n",
      "896:\tlearn: 57005.7175785\ttotal: 1.88s\tremaining: 216ms\n",
      "897:\tlearn: 56992.4787699\ttotal: 1.88s\tremaining: 214ms\n",
      "898:\tlearn: 56982.1745526\ttotal: 1.89s\tremaining: 212ms\n",
      "899:\tlearn: 56975.9782149\ttotal: 1.89s\tremaining: 210ms\n",
      "900:\tlearn: 56952.6664332\ttotal: 1.89s\tremaining: 208ms\n",
      "901:\tlearn: 56950.8736170\ttotal: 1.89s\tremaining: 206ms\n",
      "902:\tlearn: 56921.2480733\ttotal: 1.89s\tremaining: 204ms\n",
      "903:\tlearn: 56914.5155725\ttotal: 1.9s\tremaining: 201ms\n",
      "904:\tlearn: 56904.0950014\ttotal: 1.9s\tremaining: 199ms\n",
      "905:\tlearn: 56849.0206997\ttotal: 1.9s\tremaining: 197ms\n",
      "906:\tlearn: 56842.7066240\ttotal: 1.9s\tremaining: 195ms\n",
      "907:\tlearn: 56831.0208049\ttotal: 1.91s\tremaining: 193ms\n",
      "908:\tlearn: 56818.2645962\ttotal: 1.91s\tremaining: 191ms\n",
      "909:\tlearn: 56810.7173668\ttotal: 1.91s\tremaining: 189ms\n",
      "910:\tlearn: 56789.2967904\ttotal: 1.91s\tremaining: 187ms\n",
      "911:\tlearn: 56773.0751153\ttotal: 1.91s\tremaining: 185ms\n",
      "912:\tlearn: 56754.3719538\ttotal: 1.91s\tremaining: 182ms\n",
      "913:\tlearn: 56740.1560135\ttotal: 1.92s\tremaining: 180ms\n",
      "914:\tlearn: 56732.3785117\ttotal: 1.92s\tremaining: 178ms\n",
      "915:\tlearn: 56724.6873676\ttotal: 1.92s\tremaining: 176ms\n",
      "916:\tlearn: 56678.8219310\ttotal: 1.92s\tremaining: 174ms\n",
      "917:\tlearn: 56668.3345420\ttotal: 1.92s\tremaining: 172ms\n",
      "918:\tlearn: 56652.9784235\ttotal: 1.93s\tremaining: 170ms\n",
      "919:\tlearn: 56643.5131224\ttotal: 1.93s\tremaining: 168ms\n",
      "920:\tlearn: 56631.2889417\ttotal: 1.93s\tremaining: 166ms\n",
      "921:\tlearn: 56621.5682275\ttotal: 1.93s\tremaining: 163ms\n",
      "922:\tlearn: 56609.2728115\ttotal: 1.93s\tremaining: 161ms\n",
      "923:\tlearn: 56602.0891752\ttotal: 1.94s\tremaining: 159ms\n",
      "924:\tlearn: 56588.3229662\ttotal: 1.94s\tremaining: 157ms\n",
      "925:\tlearn: 56562.1004379\ttotal: 1.94s\tremaining: 155ms\n",
      "926:\tlearn: 56551.6013131\ttotal: 1.94s\tremaining: 153ms\n",
      "927:\tlearn: 56526.2416789\ttotal: 1.94s\tremaining: 151ms\n",
      "928:\tlearn: 56491.2017705\ttotal: 1.95s\tremaining: 149ms\n",
      "929:\tlearn: 56483.3821901\ttotal: 1.95s\tremaining: 147ms\n",
      "930:\tlearn: 56454.8435178\ttotal: 1.95s\tremaining: 144ms\n",
      "931:\tlearn: 56446.8611816\ttotal: 1.95s\tremaining: 142ms\n",
      "932:\tlearn: 56441.2627050\ttotal: 1.95s\tremaining: 140ms\n",
      "933:\tlearn: 56400.7546913\ttotal: 1.96s\tremaining: 138ms\n",
      "934:\tlearn: 56385.7900273\ttotal: 1.96s\tremaining: 136ms\n",
      "935:\tlearn: 56378.1174904\ttotal: 1.96s\tremaining: 134ms\n",
      "936:\tlearn: 56358.4718151\ttotal: 1.96s\tremaining: 132ms\n",
      "937:\tlearn: 56346.6235981\ttotal: 1.96s\tremaining: 130ms\n",
      "938:\tlearn: 56323.3423333\ttotal: 1.96s\tremaining: 128ms\n",
      "939:\tlearn: 56297.2327527\ttotal: 1.97s\tremaining: 126ms\n",
      "940:\tlearn: 56253.4822618\ttotal: 1.97s\tremaining: 123ms\n",
      "941:\tlearn: 56230.0140967\ttotal: 1.97s\tremaining: 121ms\n",
      "942:\tlearn: 56219.8246825\ttotal: 1.97s\tremaining: 119ms\n",
      "943:\tlearn: 56213.4462216\ttotal: 1.98s\tremaining: 117ms\n",
      "944:\tlearn: 56195.0751822\ttotal: 1.98s\tremaining: 115ms\n",
      "945:\tlearn: 56182.8189142\ttotal: 1.98s\tremaining: 113ms\n",
      "946:\tlearn: 56168.1638936\ttotal: 1.98s\tremaining: 111ms\n",
      "947:\tlearn: 56134.8277784\ttotal: 1.98s\tremaining: 109ms\n",
      "948:\tlearn: 56121.7339466\ttotal: 1.99s\tremaining: 107ms\n",
      "949:\tlearn: 56114.5070820\ttotal: 1.99s\tremaining: 105ms\n",
      "950:\tlearn: 56101.4624323\ttotal: 1.99s\tremaining: 103ms\n",
      "951:\tlearn: 56073.3222648\ttotal: 1.99s\tremaining: 101ms\n",
      "952:\tlearn: 56055.1364549\ttotal: 2s\tremaining: 98.4ms\n",
      "953:\tlearn: 56045.3185347\ttotal: 2s\tremaining: 96.4ms\n",
      "954:\tlearn: 56014.7665525\ttotal: 2s\tremaining: 94.3ms\n",
      "955:\tlearn: 56004.8404892\ttotal: 2s\tremaining: 92.2ms\n",
      "956:\tlearn: 55988.2796626\ttotal: 2s\tremaining: 90.1ms\n",
      "957:\tlearn: 55966.5098245\ttotal: 2.01s\tremaining: 88ms\n",
      "958:\tlearn: 55957.1121992\ttotal: 2.01s\tremaining: 86ms\n",
      "959:\tlearn: 55949.5671786\ttotal: 2.01s\tremaining: 83.9ms\n",
      "960:\tlearn: 55942.7170702\ttotal: 2.02s\tremaining: 81.8ms\n",
      "961:\tlearn: 55931.5695618\ttotal: 2.02s\tremaining: 79.7ms\n",
      "962:\tlearn: 55922.5137746\ttotal: 2.02s\tremaining: 77.6ms\n",
      "963:\tlearn: 55916.3585145\ttotal: 2.02s\tremaining: 75.5ms\n",
      "964:\tlearn: 55902.2475794\ttotal: 2.02s\tremaining: 73.4ms\n",
      "965:\tlearn: 55887.5198806\ttotal: 2.03s\tremaining: 71.3ms\n",
      "966:\tlearn: 55880.1385940\ttotal: 2.03s\tremaining: 69.3ms\n",
      "967:\tlearn: 55862.8487628\ttotal: 2.03s\tremaining: 67.2ms\n",
      "968:\tlearn: 55857.3055962\ttotal: 2.03s\tremaining: 65.1ms\n",
      "969:\tlearn: 55834.0813296\ttotal: 2.04s\tremaining: 63ms\n",
      "970:\tlearn: 55820.5426096\ttotal: 2.04s\tremaining: 60.9ms\n",
      "971:\tlearn: 55802.1233889\ttotal: 2.04s\tremaining: 58.8ms\n",
      "972:\tlearn: 55796.5724779\ttotal: 2.04s\tremaining: 56.7ms\n",
      "973:\tlearn: 55786.2508303\ttotal: 2.04s\tremaining: 54.6ms\n",
      "974:\tlearn: 55775.4622105\ttotal: 2.04s\tremaining: 52.5ms\n",
      "975:\tlearn: 55762.2155573\ttotal: 2.05s\tremaining: 50.4ms\n",
      "976:\tlearn: 55751.2631711\ttotal: 2.05s\tremaining: 48.3ms\n",
      "977:\tlearn: 55734.7813827\ttotal: 2.05s\tremaining: 46.2ms\n",
      "978:\tlearn: 55721.2735794\ttotal: 2.05s\tremaining: 44.1ms\n",
      "979:\tlearn: 55713.5696162\ttotal: 2.06s\tremaining: 42ms\n",
      "980:\tlearn: 55707.8873853\ttotal: 2.06s\tremaining: 39.9ms\n",
      "981:\tlearn: 55697.7918923\ttotal: 2.06s\tremaining: 37.8ms\n",
      "982:\tlearn: 55684.1656799\ttotal: 2.06s\tremaining: 35.6ms\n",
      "983:\tlearn: 55679.5374658\ttotal: 2.06s\tremaining: 33.5ms\n",
      "984:\tlearn: 55667.3970139\ttotal: 2.06s\tremaining: 31.4ms\n",
      "985:\tlearn: 55660.1191395\ttotal: 2.07s\tremaining: 29.3ms\n",
      "986:\tlearn: 55645.3895706\ttotal: 2.07s\tremaining: 27.2ms\n",
      "987:\tlearn: 55638.3954829\ttotal: 2.07s\tremaining: 25.1ms\n",
      "988:\tlearn: 55615.7100147\ttotal: 2.07s\tremaining: 23.1ms\n",
      "989:\tlearn: 55586.1249067\ttotal: 2.07s\tremaining: 21ms\n",
      "990:\tlearn: 55576.5967435\ttotal: 2.08s\tremaining: 18.9ms\n",
      "991:\tlearn: 55550.6465600\ttotal: 2.08s\tremaining: 16.8ms\n",
      "992:\tlearn: 55539.3527164\ttotal: 2.08s\tremaining: 14.7ms\n",
      "993:\tlearn: 55522.2335239\ttotal: 2.08s\tremaining: 12.6ms\n",
      "994:\tlearn: 55512.4380127\ttotal: 2.08s\tremaining: 10.5ms\n",
      "995:\tlearn: 55509.3156447\ttotal: 2.09s\tremaining: 8.38ms\n",
      "996:\tlearn: 55502.5554390\ttotal: 2.09s\tremaining: 6.28ms\n",
      "997:\tlearn: 55496.9951787\ttotal: 2.09s\tremaining: 4.19ms\n",
      "998:\tlearn: 55485.4863330\ttotal: 2.09s\tremaining: 2.09ms\n",
      "999:\tlearn: 55472.1831795\ttotal: 2.09s\tremaining: 0us\n"
     ]
    },
    {
     "data": {
      "text/plain": [
       "<catboost.core.CatBoostRegressor at 0x18cf7987f10>"
      ]
     },
     "execution_count": 26,
     "metadata": {},
     "output_type": "execute_result"
    }
   ],
   "source": [
    "from catboost import CatBoostRegressor\n",
    "CBR = CatBoostRegressor()\n",
    "CBR.fit(X_train, y_train)"
   ]
  },
  {
   "cell_type": "code",
   "execution_count": 27,
   "id": "4af92f83",
   "metadata": {},
   "outputs": [
    {
     "data": {
      "text/plain": [
       "array([ 1.38557229e+03,  4.24669376e+03,  7.77559580e+04, ...,\n",
       "        9.48295978e+04, -4.09249956e+01, -2.32592875e+02])"
      ]
     },
     "execution_count": 27,
     "metadata": {},
     "output_type": "execute_result"
    }
   ],
   "source": [
    "y_pred_cbr = CBR.predict(X_test)\n",
    "y_pred_cbr"
   ]
  },
  {
   "cell_type": "code",
   "execution_count": 28,
   "id": "6cbc0fca",
   "metadata": {},
   "outputs": [],
   "source": [
    "# from sklearn.kernel_ridge import KernelRidge\n",
    "# KR = KernelRidge()\n",
    "# KR.fit(X_train, y_train)"
   ]
  },
  {
   "cell_type": "code",
   "execution_count": 29,
   "id": "b2bbdc99",
   "metadata": {},
   "outputs": [],
   "source": [
    "# y_pred_kr = KR.predict(X_test)"
   ]
  },
  {
   "cell_type": "code",
   "execution_count": 30,
   "id": "7b2d57f5",
   "metadata": {},
   "outputs": [
    {
     "data": {
      "text/html": [
       "<style>#sk-container-id-7 {color: black;}#sk-container-id-7 pre{padding: 0;}#sk-container-id-7 div.sk-toggleable {background-color: white;}#sk-container-id-7 label.sk-toggleable__label {cursor: pointer;display: block;width: 100%;margin-bottom: 0;padding: 0.3em;box-sizing: border-box;text-align: center;}#sk-container-id-7 label.sk-toggleable__label-arrow:before {content: \"▸\";float: left;margin-right: 0.25em;color: #696969;}#sk-container-id-7 label.sk-toggleable__label-arrow:hover:before {color: black;}#sk-container-id-7 div.sk-estimator:hover label.sk-toggleable__label-arrow:before {color: black;}#sk-container-id-7 div.sk-toggleable__content {max-height: 0;max-width: 0;overflow: hidden;text-align: left;background-color: #f0f8ff;}#sk-container-id-7 div.sk-toggleable__content pre {margin: 0.2em;color: black;border-radius: 0.25em;background-color: #f0f8ff;}#sk-container-id-7 input.sk-toggleable__control:checked~div.sk-toggleable__content {max-height: 200px;max-width: 100%;overflow: auto;}#sk-container-id-7 input.sk-toggleable__control:checked~label.sk-toggleable__label-arrow:before {content: \"▾\";}#sk-container-id-7 div.sk-estimator input.sk-toggleable__control:checked~label.sk-toggleable__label {background-color: #d4ebff;}#sk-container-id-7 div.sk-label input.sk-toggleable__control:checked~label.sk-toggleable__label {background-color: #d4ebff;}#sk-container-id-7 input.sk-hidden--visually {border: 0;clip: rect(1px 1px 1px 1px);clip: rect(1px, 1px, 1px, 1px);height: 1px;margin: -1px;overflow: hidden;padding: 0;position: absolute;width: 1px;}#sk-container-id-7 div.sk-estimator {font-family: monospace;background-color: #f0f8ff;border: 1px dotted black;border-radius: 0.25em;box-sizing: border-box;margin-bottom: 0.5em;}#sk-container-id-7 div.sk-estimator:hover {background-color: #d4ebff;}#sk-container-id-7 div.sk-parallel-item::after {content: \"\";width: 100%;border-bottom: 1px solid gray;flex-grow: 1;}#sk-container-id-7 div.sk-label:hover label.sk-toggleable__label {background-color: #d4ebff;}#sk-container-id-7 div.sk-serial::before {content: \"\";position: absolute;border-left: 1px solid gray;box-sizing: border-box;top: 0;bottom: 0;left: 50%;z-index: 0;}#sk-container-id-7 div.sk-serial {display: flex;flex-direction: column;align-items: center;background-color: white;padding-right: 0.2em;padding-left: 0.2em;position: relative;}#sk-container-id-7 div.sk-item {position: relative;z-index: 1;}#sk-container-id-7 div.sk-parallel {display: flex;align-items: stretch;justify-content: center;background-color: white;position: relative;}#sk-container-id-7 div.sk-item::before, #sk-container-id-7 div.sk-parallel-item::before {content: \"\";position: absolute;border-left: 1px solid gray;box-sizing: border-box;top: 0;bottom: 0;left: 50%;z-index: -1;}#sk-container-id-7 div.sk-parallel-item {display: flex;flex-direction: column;z-index: 1;position: relative;background-color: white;}#sk-container-id-7 div.sk-parallel-item:first-child::after {align-self: flex-end;width: 50%;}#sk-container-id-7 div.sk-parallel-item:last-child::after {align-self: flex-start;width: 50%;}#sk-container-id-7 div.sk-parallel-item:only-child::after {width: 0;}#sk-container-id-7 div.sk-dashed-wrapped {border: 1px dashed gray;margin: 0 0.4em 0.5em 0.4em;box-sizing: border-box;padding-bottom: 0.4em;background-color: white;}#sk-container-id-7 div.sk-label label {font-family: monospace;font-weight: bold;display: inline-block;line-height: 1.2em;}#sk-container-id-7 div.sk-label-container {text-align: center;}#sk-container-id-7 div.sk-container {/* jupyter's `normalize.less` sets `[hidden] { display: none; }` but bootstrap.min.css set `[hidden] { display: none !important; }` so we also need the `!important` here to be able to override the default hidden behavior on the sphinx rendered scikit-learn.org. See: https://github.com/scikit-learn/scikit-learn/issues/21755 */display: inline-block !important;position: relative;}#sk-container-id-7 div.sk-text-repr-fallback {display: none;}</style><div id=\"sk-container-id-7\" class=\"sk-top-container\"><div class=\"sk-text-repr-fallback\"><pre>RandomForestRegressor(n_estimators=500, n_jobs=-1, random_state=42)</pre><b>In a Jupyter environment, please rerun this cell to show the HTML representation or trust the notebook. <br />On GitHub, the HTML representation is unable to render, please try loading this page with nbviewer.org.</b></div><div class=\"sk-container\" hidden><div class=\"sk-item\"><div class=\"sk-estimator sk-toggleable\"><input class=\"sk-toggleable__control sk-hidden--visually\" id=\"sk-estimator-id-7\" type=\"checkbox\" checked><label for=\"sk-estimator-id-7\" class=\"sk-toggleable__label sk-toggleable__label-arrow\">RandomForestRegressor</label><div class=\"sk-toggleable__content\"><pre>RandomForestRegressor(n_estimators=500, n_jobs=-1, random_state=42)</pre></div></div></div></div></div>"
      ],
      "text/plain": [
       "RandomForestRegressor(n_estimators=500, n_jobs=-1, random_state=42)"
      ]
     },
     "execution_count": 30,
     "metadata": {},
     "output_type": "execute_result"
    }
   ],
   "source": [
    "from sklearn.ensemble import RandomForestRegressor\n",
    "RFR = RandomForestRegressor(n_estimators=500,random_state=42, n_jobs=-1)\n",
    "RFR.fit(X_train, y_train)"
   ]
  },
  {
   "cell_type": "code",
   "execution_count": 31,
   "id": "ed278350-0bb6-44db-81bf-a422589419fd",
   "metadata": {},
   "outputs": [
    {
     "data": {
      "text/plain": [
       "0.8200956482153396"
      ]
     },
     "execution_count": 31,
     "metadata": {},
     "output_type": "execute_result"
    }
   ],
   "source": [
    "RFR.score(X_test,y_test)"
   ]
  },
  {
   "cell_type": "code",
   "execution_count": 32,
   "id": "05e89c2e-e0c1-4d63-ae27-5f797db5f1ec",
   "metadata": {},
   "outputs": [],
   "source": [
    "from sklearn.model_selection import cross_val_score\n",
    "# 使用交叉验证评估模型性能\n",
    "cv_scores = cross_val_score(RFR, X_train, y_train, cv=10, scoring='neg_mean_squared_error')\n",
    "\n",
    "# 计算均方根误差（Root Mean Squared Error，RMSE）的平均值\n",
    "rmse_scores = (-cv_scores)**0.5\n",
    "average_rmse = rmse_scores.mean()"
   ]
  },
  {
   "cell_type": "code",
   "execution_count": 33,
   "id": "3292f2d5-3588-4c48-b31a-efdaf59e9eb4",
   "metadata": {},
   "outputs": [
    {
     "data": {
      "text/plain": [
       "97344.43265094126"
      ]
     },
     "execution_count": 33,
     "metadata": {},
     "output_type": "execute_result"
    }
   ],
   "source": [
    "average_rmse"
   ]
  },
  {
   "cell_type": "code",
   "execution_count": 34,
   "id": "cac1ea04",
   "metadata": {},
   "outputs": [
    {
     "data": {
      "text/plain": [
       "array([  3380.9       ,   3314.33333333,  51368.8       , ...,\n",
       "       113874.        ,   3318.69333333,   3356.06666667])"
      ]
     },
     "execution_count": 34,
     "metadata": {},
     "output_type": "execute_result"
    }
   ],
   "source": [
    "y_pred_rfr = RFR.predict(X_test)\n",
    "y_pred_rfr"
   ]
  },
  {
   "cell_type": "code",
   "execution_count": 35,
   "id": "276de1a4",
   "metadata": {},
   "outputs": [
    {
     "data": {
      "text/html": [
       "<style>#sk-container-id-8 {color: black;}#sk-container-id-8 pre{padding: 0;}#sk-container-id-8 div.sk-toggleable {background-color: white;}#sk-container-id-8 label.sk-toggleable__label {cursor: pointer;display: block;width: 100%;margin-bottom: 0;padding: 0.3em;box-sizing: border-box;text-align: center;}#sk-container-id-8 label.sk-toggleable__label-arrow:before {content: \"▸\";float: left;margin-right: 0.25em;color: #696969;}#sk-container-id-8 label.sk-toggleable__label-arrow:hover:before {color: black;}#sk-container-id-8 div.sk-estimator:hover label.sk-toggleable__label-arrow:before {color: black;}#sk-container-id-8 div.sk-toggleable__content {max-height: 0;max-width: 0;overflow: hidden;text-align: left;background-color: #f0f8ff;}#sk-container-id-8 div.sk-toggleable__content pre {margin: 0.2em;color: black;border-radius: 0.25em;background-color: #f0f8ff;}#sk-container-id-8 input.sk-toggleable__control:checked~div.sk-toggleable__content {max-height: 200px;max-width: 100%;overflow: auto;}#sk-container-id-8 input.sk-toggleable__control:checked~label.sk-toggleable__label-arrow:before {content: \"▾\";}#sk-container-id-8 div.sk-estimator input.sk-toggleable__control:checked~label.sk-toggleable__label {background-color: #d4ebff;}#sk-container-id-8 div.sk-label input.sk-toggleable__control:checked~label.sk-toggleable__label {background-color: #d4ebff;}#sk-container-id-8 input.sk-hidden--visually {border: 0;clip: rect(1px 1px 1px 1px);clip: rect(1px, 1px, 1px, 1px);height: 1px;margin: -1px;overflow: hidden;padding: 0;position: absolute;width: 1px;}#sk-container-id-8 div.sk-estimator {font-family: monospace;background-color: #f0f8ff;border: 1px dotted black;border-radius: 0.25em;box-sizing: border-box;margin-bottom: 0.5em;}#sk-container-id-8 div.sk-estimator:hover {background-color: #d4ebff;}#sk-container-id-8 div.sk-parallel-item::after {content: \"\";width: 100%;border-bottom: 1px solid gray;flex-grow: 1;}#sk-container-id-8 div.sk-label:hover label.sk-toggleable__label {background-color: #d4ebff;}#sk-container-id-8 div.sk-serial::before {content: \"\";position: absolute;border-left: 1px solid gray;box-sizing: border-box;top: 0;bottom: 0;left: 50%;z-index: 0;}#sk-container-id-8 div.sk-serial {display: flex;flex-direction: column;align-items: center;background-color: white;padding-right: 0.2em;padding-left: 0.2em;position: relative;}#sk-container-id-8 div.sk-item {position: relative;z-index: 1;}#sk-container-id-8 div.sk-parallel {display: flex;align-items: stretch;justify-content: center;background-color: white;position: relative;}#sk-container-id-8 div.sk-item::before, #sk-container-id-8 div.sk-parallel-item::before {content: \"\";position: absolute;border-left: 1px solid gray;box-sizing: border-box;top: 0;bottom: 0;left: 50%;z-index: -1;}#sk-container-id-8 div.sk-parallel-item {display: flex;flex-direction: column;z-index: 1;position: relative;background-color: white;}#sk-container-id-8 div.sk-parallel-item:first-child::after {align-self: flex-end;width: 50%;}#sk-container-id-8 div.sk-parallel-item:last-child::after {align-self: flex-start;width: 50%;}#sk-container-id-8 div.sk-parallel-item:only-child::after {width: 0;}#sk-container-id-8 div.sk-dashed-wrapped {border: 1px dashed gray;margin: 0 0.4em 0.5em 0.4em;box-sizing: border-box;padding-bottom: 0.4em;background-color: white;}#sk-container-id-8 div.sk-label label {font-family: monospace;font-weight: bold;display: inline-block;line-height: 1.2em;}#sk-container-id-8 div.sk-label-container {text-align: center;}#sk-container-id-8 div.sk-container {/* jupyter's `normalize.less` sets `[hidden] { display: none; }` but bootstrap.min.css set `[hidden] { display: none !important; }` so we also need the `!important` here to be able to override the default hidden behavior on the sphinx rendered scikit-learn.org. See: https://github.com/scikit-learn/scikit-learn/issues/21755 */display: inline-block !important;position: relative;}#sk-container-id-8 div.sk-text-repr-fallback {display: none;}</style><div id=\"sk-container-id-8\" class=\"sk-top-container\"><div class=\"sk-text-repr-fallback\"><pre>GradientBoostingRegressor()</pre><b>In a Jupyter environment, please rerun this cell to show the HTML representation or trust the notebook. <br />On GitHub, the HTML representation is unable to render, please try loading this page with nbviewer.org.</b></div><div class=\"sk-container\" hidden><div class=\"sk-item\"><div class=\"sk-estimator sk-toggleable\"><input class=\"sk-toggleable__control sk-hidden--visually\" id=\"sk-estimator-id-8\" type=\"checkbox\" checked><label for=\"sk-estimator-id-8\" class=\"sk-toggleable__label sk-toggleable__label-arrow\">GradientBoostingRegressor</label><div class=\"sk-toggleable__content\"><pre>GradientBoostingRegressor()</pre></div></div></div></div></div>"
      ],
      "text/plain": [
       "GradientBoostingRegressor()"
      ]
     },
     "execution_count": 35,
     "metadata": {},
     "output_type": "execute_result"
    }
   ],
   "source": [
    "from sklearn.ensemble import GradientBoostingRegressor\n",
    "GBR = GradientBoostingRegressor()\n",
    "GBR.fit(X_train, y_train)"
   ]
  },
  {
   "cell_type": "code",
   "execution_count": 36,
   "id": "baf9f5d9",
   "metadata": {},
   "outputs": [
    {
     "data": {
      "text/plain": [
       "array([-3478.31198124,  3221.33992248, 88820.23886405, ...,\n",
       "       97131.21567288,  1365.02796078, 14170.19250307])"
      ]
     },
     "execution_count": 36,
     "metadata": {},
     "output_type": "execute_result"
    }
   ],
   "source": [
    "y_pred_gbr = GBR.predict(X_test)\n",
    "y_pred_gbr"
   ]
  },
  {
   "cell_type": "code",
   "execution_count": 37,
   "id": "40869dd3",
   "metadata": {},
   "outputs": [
    {
     "data": {
      "text/html": [
       "<style>#sk-container-id-9 {color: black;}#sk-container-id-9 pre{padding: 0;}#sk-container-id-9 div.sk-toggleable {background-color: white;}#sk-container-id-9 label.sk-toggleable__label {cursor: pointer;display: block;width: 100%;margin-bottom: 0;padding: 0.3em;box-sizing: border-box;text-align: center;}#sk-container-id-9 label.sk-toggleable__label-arrow:before {content: \"▸\";float: left;margin-right: 0.25em;color: #696969;}#sk-container-id-9 label.sk-toggleable__label-arrow:hover:before {color: black;}#sk-container-id-9 div.sk-estimator:hover label.sk-toggleable__label-arrow:before {color: black;}#sk-container-id-9 div.sk-toggleable__content {max-height: 0;max-width: 0;overflow: hidden;text-align: left;background-color: #f0f8ff;}#sk-container-id-9 div.sk-toggleable__content pre {margin: 0.2em;color: black;border-radius: 0.25em;background-color: #f0f8ff;}#sk-container-id-9 input.sk-toggleable__control:checked~div.sk-toggleable__content {max-height: 200px;max-width: 100%;overflow: auto;}#sk-container-id-9 input.sk-toggleable__control:checked~label.sk-toggleable__label-arrow:before {content: \"▾\";}#sk-container-id-9 div.sk-estimator input.sk-toggleable__control:checked~label.sk-toggleable__label {background-color: #d4ebff;}#sk-container-id-9 div.sk-label input.sk-toggleable__control:checked~label.sk-toggleable__label {background-color: #d4ebff;}#sk-container-id-9 input.sk-hidden--visually {border: 0;clip: rect(1px 1px 1px 1px);clip: rect(1px, 1px, 1px, 1px);height: 1px;margin: -1px;overflow: hidden;padding: 0;position: absolute;width: 1px;}#sk-container-id-9 div.sk-estimator {font-family: monospace;background-color: #f0f8ff;border: 1px dotted black;border-radius: 0.25em;box-sizing: border-box;margin-bottom: 0.5em;}#sk-container-id-9 div.sk-estimator:hover {background-color: #d4ebff;}#sk-container-id-9 div.sk-parallel-item::after {content: \"\";width: 100%;border-bottom: 1px solid gray;flex-grow: 1;}#sk-container-id-9 div.sk-label:hover label.sk-toggleable__label {background-color: #d4ebff;}#sk-container-id-9 div.sk-serial::before {content: \"\";position: absolute;border-left: 1px solid gray;box-sizing: border-box;top: 0;bottom: 0;left: 50%;z-index: 0;}#sk-container-id-9 div.sk-serial {display: flex;flex-direction: column;align-items: center;background-color: white;padding-right: 0.2em;padding-left: 0.2em;position: relative;}#sk-container-id-9 div.sk-item {position: relative;z-index: 1;}#sk-container-id-9 div.sk-parallel {display: flex;align-items: stretch;justify-content: center;background-color: white;position: relative;}#sk-container-id-9 div.sk-item::before, #sk-container-id-9 div.sk-parallel-item::before {content: \"\";position: absolute;border-left: 1px solid gray;box-sizing: border-box;top: 0;bottom: 0;left: 50%;z-index: -1;}#sk-container-id-9 div.sk-parallel-item {display: flex;flex-direction: column;z-index: 1;position: relative;background-color: white;}#sk-container-id-9 div.sk-parallel-item:first-child::after {align-self: flex-end;width: 50%;}#sk-container-id-9 div.sk-parallel-item:last-child::after {align-self: flex-start;width: 50%;}#sk-container-id-9 div.sk-parallel-item:only-child::after {width: 0;}#sk-container-id-9 div.sk-dashed-wrapped {border: 1px dashed gray;margin: 0 0.4em 0.5em 0.4em;box-sizing: border-box;padding-bottom: 0.4em;background-color: white;}#sk-container-id-9 div.sk-label label {font-family: monospace;font-weight: bold;display: inline-block;line-height: 1.2em;}#sk-container-id-9 div.sk-label-container {text-align: center;}#sk-container-id-9 div.sk-container {/* jupyter's `normalize.less` sets `[hidden] { display: none; }` but bootstrap.min.css set `[hidden] { display: none !important; }` so we also need the `!important` here to be able to override the default hidden behavior on the sphinx rendered scikit-learn.org. See: https://github.com/scikit-learn/scikit-learn/issues/21755 */display: inline-block !important;position: relative;}#sk-container-id-9 div.sk-text-repr-fallback {display: none;}</style><div id=\"sk-container-id-9\" class=\"sk-top-container\"><div class=\"sk-text-repr-fallback\"><pre>SVR()</pre><b>In a Jupyter environment, please rerun this cell to show the HTML representation or trust the notebook. <br />On GitHub, the HTML representation is unable to render, please try loading this page with nbviewer.org.</b></div><div class=\"sk-container\" hidden><div class=\"sk-item\"><div class=\"sk-estimator sk-toggleable\"><input class=\"sk-toggleable__control sk-hidden--visually\" id=\"sk-estimator-id-9\" type=\"checkbox\" checked><label for=\"sk-estimator-id-9\" class=\"sk-toggleable__label sk-toggleable__label-arrow\">SVR</label><div class=\"sk-toggleable__content\"><pre>SVR()</pre></div></div></div></div></div>"
      ],
      "text/plain": [
       "SVR()"
      ]
     },
     "execution_count": 37,
     "metadata": {},
     "output_type": "execute_result"
    }
   ],
   "source": [
    "from sklearn.svm import SVR\n",
    "SVR = SVR()\n",
    "SVR.fit(X_train, y_train)"
   ]
  },
  {
   "cell_type": "code",
   "execution_count": 38,
   "id": "72edc0f3",
   "metadata": {},
   "outputs": [
    {
     "data": {
      "text/plain": [
       "array([3417.51858717, 3604.11403456, 5221.09960067, ..., 4981.37487702,\n",
       "       3513.31014482, 3607.63425305])"
      ]
     },
     "execution_count": 38,
     "metadata": {},
     "output_type": "execute_result"
    }
   ],
   "source": [
    "y_pred_svr = SVR.predict(X_test)\n",
    "y_pred_svr"
   ]
  },
  {
   "cell_type": "code",
   "execution_count": 39,
   "id": "0b6574de",
   "metadata": {},
   "outputs": [],
   "source": [
    "result_df = pd.DataFrame({\n",
    "    \"y_test\":y_test,\n",
    "    \"differ_lr\":abs(y_pred_lr-y_test),\n",
    "    \"differ_sgdr\":abs(y_pred_sgdr-y_test),\n",
    "    \"differ_en\":abs(y_pred_en-y_test),\n",
    "    \"differ_br\":abs(y_pred_br-y_test),\n",
    "    \"differ_lgbmr\":abs(y_pred_lgbmr-y_test),\n",
    "    \"differ_xgbr\":abs(y_pred_xgbr-y_test),\n",
    "    \"differ_cbr\":abs(y_pred_cbr-y_test),\n",
    "#     \"differ_kr\":abs(y_pred_kr-y_test),\n",
    "    \"differ_rfr\":abs(y_pred_rfr-y_test),\n",
    "    \"differ_gbr\":abs(y_pred_gbr-y_test),\n",
    "    \"differ_svr\":abs(y_pred_svr-y_test),\n",
    " })"
   ]
  },
  {
   "cell_type": "code",
   "execution_count": 40,
   "id": "9a0d1315",
   "metadata": {},
   "outputs": [],
   "source": [
    "r_df = result_df.describe(percentiles=[0.5,0.6,0.7,0.8,0.9]).transpose()\n",
    "rcolumns_l = ['mean', 'std', '50%', '60%', '70%', '80%', '90%']"
   ]
  },
  {
   "cell_type": "code",
   "execution_count": 41,
   "id": "db14cbbe",
   "metadata": {},
   "outputs": [
    {
     "data": {
      "text/html": [
       "<div>\n",
       "<style scoped>\n",
       "    .dataframe tbody tr th:only-of-type {\n",
       "        vertical-align: middle;\n",
       "    }\n",
       "\n",
       "    .dataframe tbody tr th {\n",
       "        vertical-align: top;\n",
       "    }\n",
       "\n",
       "    .dataframe thead th {\n",
       "        text-align: right;\n",
       "    }\n",
       "</style>\n",
       "<table border=\"1\" class=\"dataframe\">\n",
       "  <thead>\n",
       "    <tr style=\"text-align: right;\">\n",
       "      <th></th>\n",
       "      <th>mean</th>\n",
       "      <th>std</th>\n",
       "      <th>50%</th>\n",
       "      <th>60%</th>\n",
       "      <th>70%</th>\n",
       "      <th>80%</th>\n",
       "      <th>90%</th>\n",
       "    </tr>\n",
       "  </thead>\n",
       "  <tbody>\n",
       "    <tr>\n",
       "      <th>y_test</th>\n",
       "      <td>6.290358e+04</td>\n",
       "      <td>1.800973e+05</td>\n",
       "      <td>3500.00</td>\n",
       "      <td>32000.00</td>\n",
       "      <td>62000.00</td>\n",
       "      <td>99000.00</td>\n",
       "      <td>160000.00</td>\n",
       "    </tr>\n",
       "    <tr>\n",
       "      <th>differ_lr</th>\n",
       "      <td>5.282717e+13</td>\n",
       "      <td>3.253221e+15</td>\n",
       "      <td>30336.00</td>\n",
       "      <td>36928.00</td>\n",
       "      <td>46865.20</td>\n",
       "      <td>60241.60</td>\n",
       "      <td>85924.40</td>\n",
       "    </tr>\n",
       "    <tr>\n",
       "      <th>differ_sgdr</th>\n",
       "      <td>5.490289e+04</td>\n",
       "      <td>1.319114e+05</td>\n",
       "      <td>30916.52</td>\n",
       "      <td>37581.27</td>\n",
       "      <td>46937.86</td>\n",
       "      <td>60086.65</td>\n",
       "      <td>85617.12</td>\n",
       "    </tr>\n",
       "    <tr>\n",
       "      <th>differ_en</th>\n",
       "      <td>6.193571e+04</td>\n",
       "      <td>1.612710e+05</td>\n",
       "      <td>39044.68</td>\n",
       "      <td>45889.80</td>\n",
       "      <td>55646.20</td>\n",
       "      <td>68396.86</td>\n",
       "      <td>91710.38</td>\n",
       "    </tr>\n",
       "    <tr>\n",
       "      <th>differ_br</th>\n",
       "      <td>5.491966e+04</td>\n",
       "      <td>1.318451e+05</td>\n",
       "      <td>30448.09</td>\n",
       "      <td>37147.71</td>\n",
       "      <td>47075.28</td>\n",
       "      <td>60882.17</td>\n",
       "      <td>85963.11</td>\n",
       "    </tr>\n",
       "    <tr>\n",
       "      <th>differ_lgbmr</th>\n",
       "      <td>3.249199e+04</td>\n",
       "      <td>8.202284e+04</td>\n",
       "      <td>7009.94</td>\n",
       "      <td>18930.11</td>\n",
       "      <td>33310.41</td>\n",
       "      <td>50661.86</td>\n",
       "      <td>82627.70</td>\n",
       "    </tr>\n",
       "    <tr>\n",
       "      <th>differ_xgbr</th>\n",
       "      <td>2.774104e+04</td>\n",
       "      <td>7.643616e+04</td>\n",
       "      <td>7333.17</td>\n",
       "      <td>16078.14</td>\n",
       "      <td>28481.81</td>\n",
       "      <td>44743.53</td>\n",
       "      <td>69184.23</td>\n",
       "    </tr>\n",
       "    <tr>\n",
       "      <th>differ_cbr</th>\n",
       "      <td>3.097838e+04</td>\n",
       "      <td>8.107024e+04</td>\n",
       "      <td>9237.87</td>\n",
       "      <td>18685.31</td>\n",
       "      <td>32879.52</td>\n",
       "      <td>49047.05</td>\n",
       "      <td>75184.68</td>\n",
       "    </tr>\n",
       "    <tr>\n",
       "      <th>differ_rfr</th>\n",
       "      <td>2.268855e+04</td>\n",
       "      <td>7.294067e+04</td>\n",
       "      <td>1733.10</td>\n",
       "      <td>8062.24</td>\n",
       "      <td>17930.08</td>\n",
       "      <td>32334.08</td>\n",
       "      <td>58654.36</td>\n",
       "    </tr>\n",
       "    <tr>\n",
       "      <th>differ_gbr</th>\n",
       "      <td>3.550460e+04</td>\n",
       "      <td>9.240451e+04</td>\n",
       "      <td>10466.27</td>\n",
       "      <td>22985.67</td>\n",
       "      <td>39052.60</td>\n",
       "      <td>57290.95</td>\n",
       "      <td>80911.90</td>\n",
       "    </tr>\n",
       "    <tr>\n",
       "      <th>differ_svr</th>\n",
       "      <td>5.893499e+04</td>\n",
       "      <td>1.798363e+05</td>\n",
       "      <td>1003.27</td>\n",
       "      <td>26742.02</td>\n",
       "      <td>56696.20</td>\n",
       "      <td>93873.57</td>\n",
       "      <td>154542.98</td>\n",
       "    </tr>\n",
       "  </tbody>\n",
       "</table>\n",
       "</div>"
      ],
      "text/plain": [
       "                      mean           std       50%       60%       70%  \\\n",
       "y_test        6.290358e+04  1.800973e+05   3500.00  32000.00  62000.00   \n",
       "differ_lr     5.282717e+13  3.253221e+15  30336.00  36928.00  46865.20   \n",
       "differ_sgdr   5.490289e+04  1.319114e+05  30916.52  37581.27  46937.86   \n",
       "differ_en     6.193571e+04  1.612710e+05  39044.68  45889.80  55646.20   \n",
       "differ_br     5.491966e+04  1.318451e+05  30448.09  37147.71  47075.28   \n",
       "differ_lgbmr  3.249199e+04  8.202284e+04   7009.94  18930.11  33310.41   \n",
       "differ_xgbr   2.774104e+04  7.643616e+04   7333.17  16078.14  28481.81   \n",
       "differ_cbr    3.097838e+04  8.107024e+04   9237.87  18685.31  32879.52   \n",
       "differ_rfr    2.268855e+04  7.294067e+04   1733.10   8062.24  17930.08   \n",
       "differ_gbr    3.550460e+04  9.240451e+04  10466.27  22985.67  39052.60   \n",
       "differ_svr    5.893499e+04  1.798363e+05   1003.27  26742.02  56696.20   \n",
       "\n",
       "                   80%        90%  \n",
       "y_test        99000.00  160000.00  \n",
       "differ_lr     60241.60   85924.40  \n",
       "differ_sgdr   60086.65   85617.12  \n",
       "differ_en     68396.86   91710.38  \n",
       "differ_br     60882.17   85963.11  \n",
       "differ_lgbmr  50661.86   82627.70  \n",
       "differ_xgbr   44743.53   69184.23  \n",
       "differ_cbr    49047.05   75184.68  \n",
       "differ_rfr    32334.08   58654.36  \n",
       "differ_gbr    57290.95   80911.90  \n",
       "differ_svr    93873.57  154542.98  "
      ]
     },
     "execution_count": 41,
     "metadata": {},
     "output_type": "execute_result"
    }
   ],
   "source": [
    "r_df[rcolumns_l].round(decimals=2)"
   ]
  },
  {
   "cell_type": "code",
   "execution_count": 43,
   "id": "8f8583b0",
   "metadata": {},
   "outputs": [],
   "source": [
    "result_df.to_excel('./Data/result2.xlsx',index=False)"
   ]
  },
  {
   "cell_type": "code",
   "execution_count": null,
   "id": "4008abdb",
   "metadata": {},
   "outputs": [],
   "source": []
  }
 ],
 "metadata": {
  "kernelspec": {
   "display_name": "Python 3 (ipykernel)",
   "language": "python",
   "name": "python3"
  },
  "language_info": {
   "codemirror_mode": {
    "name": "ipython",
    "version": 3
   },
   "file_extension": ".py",
   "mimetype": "text/x-python",
   "name": "python",
   "nbconvert_exporter": "python",
   "pygments_lexer": "ipython3",
   "version": "3.10.7"
  }
 },
 "nbformat": 4,
 "nbformat_minor": 5
}
