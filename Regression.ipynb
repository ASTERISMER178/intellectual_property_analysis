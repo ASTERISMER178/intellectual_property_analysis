{
 "cells": [
  {
   "cell_type": "code",
   "execution_count": 1,
   "id": "d3a7936b",
   "metadata": {},
   "outputs": [],
   "source": [
    "import pandas as pd\n",
    "import numpy as np\n"
   ]
  },
  {
   "cell_type": "code",
   "execution_count": 2,
   "id": "b06aba2c",
   "metadata": {},
   "outputs": [],
   "source": [
    "from sklearn.preprocessing import OneHotEncoder\n",
    "from sklearn.preprocessing import StandardScaler\n",
    "from sklearn.model_selection import train_test_split"
   ]
  },
  {
   "cell_type": "code",
   "execution_count": 3,
   "id": "903aa060",
   "metadata": {},
   "outputs": [],
   "source": [
    "df = pd.read_excel('../Data/pData.xlsx')"
   ]
  },
  {
   "cell_type": "code",
   "execution_count": 4,
   "id": "cc0b719d",
   "metadata": {
    "scrolled": false
   },
   "outputs": [],
   "source": [
    "# list(df)"
   ]
  },
  {
   "cell_type": "code",
   "execution_count": 5,
   "id": "d801e087",
   "metadata": {},
   "outputs": [],
   "source": [
    "cat_columns = [\n",
    " 'Industry_Chain_Position',\n",
    " 'Level1_Technology_Branch',\n",
    " 'Patent_Type',\n",
    " 'Province_Code',\n",
    " 'Patent_Validity',\n",
    "]"
   ]
  },
  {
   "cell_type": "code",
   "execution_count": 6,
   "id": "8d6e4f73",
   "metadata": {},
   "outputs": [
    {
     "data": {
      "text/plain": [
       "array([[0., 0., 0., ..., 0., 0., 1.],\n",
       "       [0., 0., 0., ..., 0., 0., 1.],\n",
       "       [0., 0., 0., ..., 0., 0., 1.],\n",
       "       ...,\n",
       "       [1., 0., 0., ..., 0., 0., 1.],\n",
       "       [1., 0., 0., ..., 0., 0., 1.],\n",
       "       [1., 0., 0., ..., 0., 0., 1.]])"
      ]
     },
     "execution_count": 6,
     "metadata": {},
     "output_type": "execute_result"
    }
   ],
   "source": [
    "ohEncoder = OneHotEncoder(drop='first')\n",
    "cat_features = ohEncoder.fit_transform(df[cat_columns]).toarray()\n",
    "cat_features"
   ]
  },
  {
   "cell_type": "code",
   "execution_count": 7,
   "id": "6e5d1929",
   "metadata": {},
   "outputs": [],
   "source": [
    "num_columns = [ \n",
    " 'Number_Of_Citations_In_3',\n",
    " 'Number_Of_Citations_In_5',\n",
    " 'Number_Of_Citing_Patents',\n",
    " 'Number_Of_Cited_Patents',\n",
    " 'date',\n",
    " 'Number_Of_Claims',\n",
    " 'Literature_Pages',\n",
    " 'Number_Of_Litigation_Cases'\n",
    "]"
   ]
  },
  {
   "cell_type": "code",
   "execution_count": 8,
   "id": "23a624aa",
   "metadata": {},
   "outputs": [
    {
     "data": {
      "text/plain": [
       "array([[-0.35400295, -0.35393359, -0.45886953, ...,  0.06827662,\n",
       "         1.21783217, -0.01844967],\n",
       "       [-0.35400295, -0.35393359, -0.45886953, ..., -0.94696456,\n",
       "        -0.55161798, -0.01844967],\n",
       "       [-0.35400295, -0.35393359, -0.45886953, ..., -0.60855083,\n",
       "        -0.99398052, -0.01844967],\n",
       "       ...,\n",
       "       [-0.35400295, -0.35393359, -0.45886953, ...,  0.40669034,\n",
       "        -0.55161798, -0.01844967],\n",
       "       [-0.35400295, -0.35393359, -0.45886953, ..., -0.27013711,\n",
       "        -0.10925544, -0.01844967],\n",
       "       [-0.35400295, -0.35393359, -0.12527161, ..., -0.27013711,\n",
       "        -0.33043671, -0.01844967]])"
      ]
     },
     "execution_count": 8,
     "metadata": {},
     "output_type": "execute_result"
    }
   ],
   "source": [
    "stdScaler = StandardScaler()\n",
    "num_features = stdScaler.fit_transform(df[num_columns])\n",
    "num_features"
   ]
  },
  {
   "cell_type": "code",
   "execution_count": 9,
   "id": "9995fb43",
   "metadata": {},
   "outputs": [
    {
     "data": {
      "text/plain": [
       "(73054, 58)"
      ]
     },
     "execution_count": 9,
     "metadata": {},
     "output_type": "execute_result"
    }
   ],
   "source": [
    "X = np.hstack([cat_features, num_features])\n",
    "X.shape"
   ]
  },
  {
   "cell_type": "code",
   "execution_count": 10,
   "id": "65b71393",
   "metadata": {},
   "outputs": [
    {
     "data": {
      "text/plain": [
       "(73054,)"
      ]
     },
     "execution_count": 10,
     "metadata": {},
     "output_type": "execute_result"
    }
   ],
   "source": [
    "y = df['Patent_Value'].to_numpy()\n",
    "y.shape"
   ]
  },
  {
   "cell_type": "code",
   "execution_count": 11,
   "id": "2af288bd",
   "metadata": {},
   "outputs": [],
   "source": [
    "X_train, X_test, y_train, y_test = train_test_split(X, y,test_size=0.2)\n"
   ]
  },
  {
   "cell_type": "code",
   "execution_count": 12,
   "id": "cb26d721",
   "metadata": {},
   "outputs": [
    {
     "data": {
      "text/plain": [
       "((58443, 58), (14611, 58), (58443,), (14611,))"
      ]
     },
     "execution_count": 12,
     "metadata": {},
     "output_type": "execute_result"
    }
   ],
   "source": [
    "X_train.shape, X_test.shape, y_train.shape, y_test.shape"
   ]
  },
  {
   "cell_type": "code",
   "execution_count": 13,
   "id": "954774d7",
   "metadata": {},
   "outputs": [
    {
     "data": {
      "text/html": [
       "<style>#sk-container-id-1 {color: black;}#sk-container-id-1 pre{padding: 0;}#sk-container-id-1 div.sk-toggleable {background-color: white;}#sk-container-id-1 label.sk-toggleable__label {cursor: pointer;display: block;width: 100%;margin-bottom: 0;padding: 0.3em;box-sizing: border-box;text-align: center;}#sk-container-id-1 label.sk-toggleable__label-arrow:before {content: \"▸\";float: left;margin-right: 0.25em;color: #696969;}#sk-container-id-1 label.sk-toggleable__label-arrow:hover:before {color: black;}#sk-container-id-1 div.sk-estimator:hover label.sk-toggleable__label-arrow:before {color: black;}#sk-container-id-1 div.sk-toggleable__content {max-height: 0;max-width: 0;overflow: hidden;text-align: left;background-color: #f0f8ff;}#sk-container-id-1 div.sk-toggleable__content pre {margin: 0.2em;color: black;border-radius: 0.25em;background-color: #f0f8ff;}#sk-container-id-1 input.sk-toggleable__control:checked~div.sk-toggleable__content {max-height: 200px;max-width: 100%;overflow: auto;}#sk-container-id-1 input.sk-toggleable__control:checked~label.sk-toggleable__label-arrow:before {content: \"▾\";}#sk-container-id-1 div.sk-estimator input.sk-toggleable__control:checked~label.sk-toggleable__label {background-color: #d4ebff;}#sk-container-id-1 div.sk-label input.sk-toggleable__control:checked~label.sk-toggleable__label {background-color: #d4ebff;}#sk-container-id-1 input.sk-hidden--visually {border: 0;clip: rect(1px 1px 1px 1px);clip: rect(1px, 1px, 1px, 1px);height: 1px;margin: -1px;overflow: hidden;padding: 0;position: absolute;width: 1px;}#sk-container-id-1 div.sk-estimator {font-family: monospace;background-color: #f0f8ff;border: 1px dotted black;border-radius: 0.25em;box-sizing: border-box;margin-bottom: 0.5em;}#sk-container-id-1 div.sk-estimator:hover {background-color: #d4ebff;}#sk-container-id-1 div.sk-parallel-item::after {content: \"\";width: 100%;border-bottom: 1px solid gray;flex-grow: 1;}#sk-container-id-1 div.sk-label:hover label.sk-toggleable__label {background-color: #d4ebff;}#sk-container-id-1 div.sk-serial::before {content: \"\";position: absolute;border-left: 1px solid gray;box-sizing: border-box;top: 0;bottom: 0;left: 50%;z-index: 0;}#sk-container-id-1 div.sk-serial {display: flex;flex-direction: column;align-items: center;background-color: white;padding-right: 0.2em;padding-left: 0.2em;position: relative;}#sk-container-id-1 div.sk-item {position: relative;z-index: 1;}#sk-container-id-1 div.sk-parallel {display: flex;align-items: stretch;justify-content: center;background-color: white;position: relative;}#sk-container-id-1 div.sk-item::before, #sk-container-id-1 div.sk-parallel-item::before {content: \"\";position: absolute;border-left: 1px solid gray;box-sizing: border-box;top: 0;bottom: 0;left: 50%;z-index: -1;}#sk-container-id-1 div.sk-parallel-item {display: flex;flex-direction: column;z-index: 1;position: relative;background-color: white;}#sk-container-id-1 div.sk-parallel-item:first-child::after {align-self: flex-end;width: 50%;}#sk-container-id-1 div.sk-parallel-item:last-child::after {align-self: flex-start;width: 50%;}#sk-container-id-1 div.sk-parallel-item:only-child::after {width: 0;}#sk-container-id-1 div.sk-dashed-wrapped {border: 1px dashed gray;margin: 0 0.4em 0.5em 0.4em;box-sizing: border-box;padding-bottom: 0.4em;background-color: white;}#sk-container-id-1 div.sk-label label {font-family: monospace;font-weight: bold;display: inline-block;line-height: 1.2em;}#sk-container-id-1 div.sk-label-container {text-align: center;}#sk-container-id-1 div.sk-container {/* jupyter's `normalize.less` sets `[hidden] { display: none; }` but bootstrap.min.css set `[hidden] { display: none !important; }` so we also need the `!important` here to be able to override the default hidden behavior on the sphinx rendered scikit-learn.org. See: https://github.com/scikit-learn/scikit-learn/issues/21755 */display: inline-block !important;position: relative;}#sk-container-id-1 div.sk-text-repr-fallback {display: none;}</style><div id=\"sk-container-id-1\" class=\"sk-top-container\"><div class=\"sk-text-repr-fallback\"><pre>LinearRegression()</pre><b>In a Jupyter environment, please rerun this cell to show the HTML representation or trust the notebook. <br />On GitHub, the HTML representation is unable to render, please try loading this page with nbviewer.org.</b></div><div class=\"sk-container\" hidden><div class=\"sk-item\"><div class=\"sk-estimator sk-toggleable\"><input class=\"sk-toggleable__control sk-hidden--visually\" id=\"sk-estimator-id-1\" type=\"checkbox\" checked><label for=\"sk-estimator-id-1\" class=\"sk-toggleable__label sk-toggleable__label-arrow\">LinearRegression</label><div class=\"sk-toggleable__content\"><pre>LinearRegression()</pre></div></div></div></div></div>"
      ],
      "text/plain": [
       "LinearRegression()"
      ]
     },
     "execution_count": 13,
     "metadata": {},
     "output_type": "execute_result"
    }
   ],
   "source": [
    "from sklearn.linear_model import LinearRegression\n",
    "LR =  LinearRegression()\n",
    "LR.fit(X_train, y_train)"
   ]
  },
  {
   "cell_type": "code",
   "execution_count": 14,
   "id": "f63aee4a",
   "metadata": {},
   "outputs": [],
   "source": [
    "y_pred_lr = LR.predict(X_test)"
   ]
  },
  {
   "cell_type": "code",
   "execution_count": 15,
   "id": "0641d6c7",
   "metadata": {},
   "outputs": [
    {
     "data": {
      "text/html": [
       "<style>#sk-container-id-2 {color: black;}#sk-container-id-2 pre{padding: 0;}#sk-container-id-2 div.sk-toggleable {background-color: white;}#sk-container-id-2 label.sk-toggleable__label {cursor: pointer;display: block;width: 100%;margin-bottom: 0;padding: 0.3em;box-sizing: border-box;text-align: center;}#sk-container-id-2 label.sk-toggleable__label-arrow:before {content: \"▸\";float: left;margin-right: 0.25em;color: #696969;}#sk-container-id-2 label.sk-toggleable__label-arrow:hover:before {color: black;}#sk-container-id-2 div.sk-estimator:hover label.sk-toggleable__label-arrow:before {color: black;}#sk-container-id-2 div.sk-toggleable__content {max-height: 0;max-width: 0;overflow: hidden;text-align: left;background-color: #f0f8ff;}#sk-container-id-2 div.sk-toggleable__content pre {margin: 0.2em;color: black;border-radius: 0.25em;background-color: #f0f8ff;}#sk-container-id-2 input.sk-toggleable__control:checked~div.sk-toggleable__content {max-height: 200px;max-width: 100%;overflow: auto;}#sk-container-id-2 input.sk-toggleable__control:checked~label.sk-toggleable__label-arrow:before {content: \"▾\";}#sk-container-id-2 div.sk-estimator input.sk-toggleable__control:checked~label.sk-toggleable__label {background-color: #d4ebff;}#sk-container-id-2 div.sk-label input.sk-toggleable__control:checked~label.sk-toggleable__label {background-color: #d4ebff;}#sk-container-id-2 input.sk-hidden--visually {border: 0;clip: rect(1px 1px 1px 1px);clip: rect(1px, 1px, 1px, 1px);height: 1px;margin: -1px;overflow: hidden;padding: 0;position: absolute;width: 1px;}#sk-container-id-2 div.sk-estimator {font-family: monospace;background-color: #f0f8ff;border: 1px dotted black;border-radius: 0.25em;box-sizing: border-box;margin-bottom: 0.5em;}#sk-container-id-2 div.sk-estimator:hover {background-color: #d4ebff;}#sk-container-id-2 div.sk-parallel-item::after {content: \"\";width: 100%;border-bottom: 1px solid gray;flex-grow: 1;}#sk-container-id-2 div.sk-label:hover label.sk-toggleable__label {background-color: #d4ebff;}#sk-container-id-2 div.sk-serial::before {content: \"\";position: absolute;border-left: 1px solid gray;box-sizing: border-box;top: 0;bottom: 0;left: 50%;z-index: 0;}#sk-container-id-2 div.sk-serial {display: flex;flex-direction: column;align-items: center;background-color: white;padding-right: 0.2em;padding-left: 0.2em;position: relative;}#sk-container-id-2 div.sk-item {position: relative;z-index: 1;}#sk-container-id-2 div.sk-parallel {display: flex;align-items: stretch;justify-content: center;background-color: white;position: relative;}#sk-container-id-2 div.sk-item::before, #sk-container-id-2 div.sk-parallel-item::before {content: \"\";position: absolute;border-left: 1px solid gray;box-sizing: border-box;top: 0;bottom: 0;left: 50%;z-index: -1;}#sk-container-id-2 div.sk-parallel-item {display: flex;flex-direction: column;z-index: 1;position: relative;background-color: white;}#sk-container-id-2 div.sk-parallel-item:first-child::after {align-self: flex-end;width: 50%;}#sk-container-id-2 div.sk-parallel-item:last-child::after {align-self: flex-start;width: 50%;}#sk-container-id-2 div.sk-parallel-item:only-child::after {width: 0;}#sk-container-id-2 div.sk-dashed-wrapped {border: 1px dashed gray;margin: 0 0.4em 0.5em 0.4em;box-sizing: border-box;padding-bottom: 0.4em;background-color: white;}#sk-container-id-2 div.sk-label label {font-family: monospace;font-weight: bold;display: inline-block;line-height: 1.2em;}#sk-container-id-2 div.sk-label-container {text-align: center;}#sk-container-id-2 div.sk-container {/* jupyter's `normalize.less` sets `[hidden] { display: none; }` but bootstrap.min.css set `[hidden] { display: none !important; }` so we also need the `!important` here to be able to override the default hidden behavior on the sphinx rendered scikit-learn.org. See: https://github.com/scikit-learn/scikit-learn/issues/21755 */display: inline-block !important;position: relative;}#sk-container-id-2 div.sk-text-repr-fallback {display: none;}</style><div id=\"sk-container-id-2\" class=\"sk-top-container\"><div class=\"sk-text-repr-fallback\"><pre>SGDRegressor()</pre><b>In a Jupyter environment, please rerun this cell to show the HTML representation or trust the notebook. <br />On GitHub, the HTML representation is unable to render, please try loading this page with nbviewer.org.</b></div><div class=\"sk-container\" hidden><div class=\"sk-item\"><div class=\"sk-estimator sk-toggleable\"><input class=\"sk-toggleable__control sk-hidden--visually\" id=\"sk-estimator-id-2\" type=\"checkbox\" checked><label for=\"sk-estimator-id-2\" class=\"sk-toggleable__label sk-toggleable__label-arrow\">SGDRegressor</label><div class=\"sk-toggleable__content\"><pre>SGDRegressor()</pre></div></div></div></div></div>"
      ],
      "text/plain": [
       "SGDRegressor()"
      ]
     },
     "execution_count": 15,
     "metadata": {},
     "output_type": "execute_result"
    }
   ],
   "source": [
    "from sklearn.linear_model import SGDRegressor\n",
    "SGDR =  SGDRegressor()\n",
    "SGDR.fit(X_train, y_train)"
   ]
  },
  {
   "cell_type": "code",
   "execution_count": 16,
   "id": "0d21164d",
   "metadata": {},
   "outputs": [
    {
     "data": {
      "text/plain": [
       "array([-10037.06304309,  56904.22251112, -24146.55913573, ...,\n",
       "       313889.89867044, -53997.03146814,  96244.90801786])"
      ]
     },
     "execution_count": 16,
     "metadata": {},
     "output_type": "execute_result"
    }
   ],
   "source": [
    "y_pred_sgdr = SGDR.predict(X_test)\n",
    "y_pred_sgdr"
   ]
  },
  {
   "cell_type": "code",
   "execution_count": 17,
   "id": "fbae89f6",
   "metadata": {},
   "outputs": [
    {
     "data": {
      "text/html": [
       "<style>#sk-container-id-3 {color: black;}#sk-container-id-3 pre{padding: 0;}#sk-container-id-3 div.sk-toggleable {background-color: white;}#sk-container-id-3 label.sk-toggleable__label {cursor: pointer;display: block;width: 100%;margin-bottom: 0;padding: 0.3em;box-sizing: border-box;text-align: center;}#sk-container-id-3 label.sk-toggleable__label-arrow:before {content: \"▸\";float: left;margin-right: 0.25em;color: #696969;}#sk-container-id-3 label.sk-toggleable__label-arrow:hover:before {color: black;}#sk-container-id-3 div.sk-estimator:hover label.sk-toggleable__label-arrow:before {color: black;}#sk-container-id-3 div.sk-toggleable__content {max-height: 0;max-width: 0;overflow: hidden;text-align: left;background-color: #f0f8ff;}#sk-container-id-3 div.sk-toggleable__content pre {margin: 0.2em;color: black;border-radius: 0.25em;background-color: #f0f8ff;}#sk-container-id-3 input.sk-toggleable__control:checked~div.sk-toggleable__content {max-height: 200px;max-width: 100%;overflow: auto;}#sk-container-id-3 input.sk-toggleable__control:checked~label.sk-toggleable__label-arrow:before {content: \"▾\";}#sk-container-id-3 div.sk-estimator input.sk-toggleable__control:checked~label.sk-toggleable__label {background-color: #d4ebff;}#sk-container-id-3 div.sk-label input.sk-toggleable__control:checked~label.sk-toggleable__label {background-color: #d4ebff;}#sk-container-id-3 input.sk-hidden--visually {border: 0;clip: rect(1px 1px 1px 1px);clip: rect(1px, 1px, 1px, 1px);height: 1px;margin: -1px;overflow: hidden;padding: 0;position: absolute;width: 1px;}#sk-container-id-3 div.sk-estimator {font-family: monospace;background-color: #f0f8ff;border: 1px dotted black;border-radius: 0.25em;box-sizing: border-box;margin-bottom: 0.5em;}#sk-container-id-3 div.sk-estimator:hover {background-color: #d4ebff;}#sk-container-id-3 div.sk-parallel-item::after {content: \"\";width: 100%;border-bottom: 1px solid gray;flex-grow: 1;}#sk-container-id-3 div.sk-label:hover label.sk-toggleable__label {background-color: #d4ebff;}#sk-container-id-3 div.sk-serial::before {content: \"\";position: absolute;border-left: 1px solid gray;box-sizing: border-box;top: 0;bottom: 0;left: 50%;z-index: 0;}#sk-container-id-3 div.sk-serial {display: flex;flex-direction: column;align-items: center;background-color: white;padding-right: 0.2em;padding-left: 0.2em;position: relative;}#sk-container-id-3 div.sk-item {position: relative;z-index: 1;}#sk-container-id-3 div.sk-parallel {display: flex;align-items: stretch;justify-content: center;background-color: white;position: relative;}#sk-container-id-3 div.sk-item::before, #sk-container-id-3 div.sk-parallel-item::before {content: \"\";position: absolute;border-left: 1px solid gray;box-sizing: border-box;top: 0;bottom: 0;left: 50%;z-index: -1;}#sk-container-id-3 div.sk-parallel-item {display: flex;flex-direction: column;z-index: 1;position: relative;background-color: white;}#sk-container-id-3 div.sk-parallel-item:first-child::after {align-self: flex-end;width: 50%;}#sk-container-id-3 div.sk-parallel-item:last-child::after {align-self: flex-start;width: 50%;}#sk-container-id-3 div.sk-parallel-item:only-child::after {width: 0;}#sk-container-id-3 div.sk-dashed-wrapped {border: 1px dashed gray;margin: 0 0.4em 0.5em 0.4em;box-sizing: border-box;padding-bottom: 0.4em;background-color: white;}#sk-container-id-3 div.sk-label label {font-family: monospace;font-weight: bold;display: inline-block;line-height: 1.2em;}#sk-container-id-3 div.sk-label-container {text-align: center;}#sk-container-id-3 div.sk-container {/* jupyter's `normalize.less` sets `[hidden] { display: none; }` but bootstrap.min.css set `[hidden] { display: none !important; }` so we also need the `!important` here to be able to override the default hidden behavior on the sphinx rendered scikit-learn.org. See: https://github.com/scikit-learn/scikit-learn/issues/21755 */display: inline-block !important;position: relative;}#sk-container-id-3 div.sk-text-repr-fallback {display: none;}</style><div id=\"sk-container-id-3\" class=\"sk-top-container\"><div class=\"sk-text-repr-fallback\"><pre>ElasticNet()</pre><b>In a Jupyter environment, please rerun this cell to show the HTML representation or trust the notebook. <br />On GitHub, the HTML representation is unable to render, please try loading this page with nbviewer.org.</b></div><div class=\"sk-container\" hidden><div class=\"sk-item\"><div class=\"sk-estimator sk-toggleable\"><input class=\"sk-toggleable__control sk-hidden--visually\" id=\"sk-estimator-id-3\" type=\"checkbox\" checked><label for=\"sk-estimator-id-3\" class=\"sk-toggleable__label sk-toggleable__label-arrow\">ElasticNet</label><div class=\"sk-toggleable__content\"><pre>ElasticNet()</pre></div></div></div></div></div>"
      ],
      "text/plain": [
       "ElasticNet()"
      ]
     },
     "execution_count": 17,
     "metadata": {},
     "output_type": "execute_result"
    }
   ],
   "source": [
    "from sklearn.linear_model import ElasticNet\n",
    "EN = ElasticNet()\n",
    "EN.fit(X_train, y_train)"
   ]
  },
  {
   "cell_type": "code",
   "execution_count": 18,
   "id": "a71b5ecc",
   "metadata": {},
   "outputs": [
    {
     "data": {
      "text/plain": [
       "array([14257.69306499, 65849.62142089,  6048.98285521, ...,\n",
       "       13794.54793731, 48236.36289019, 59272.70799839])"
      ]
     },
     "execution_count": 18,
     "metadata": {},
     "output_type": "execute_result"
    }
   ],
   "source": [
    "y_pred_en = EN.predict(X_test)\n",
    "y_pred_en"
   ]
  },
  {
   "cell_type": "code",
   "execution_count": 19,
   "id": "2c22de12",
   "metadata": {},
   "outputs": [
    {
     "data": {
      "text/html": [
       "<style>#sk-container-id-4 {color: black;}#sk-container-id-4 pre{padding: 0;}#sk-container-id-4 div.sk-toggleable {background-color: white;}#sk-container-id-4 label.sk-toggleable__label {cursor: pointer;display: block;width: 100%;margin-bottom: 0;padding: 0.3em;box-sizing: border-box;text-align: center;}#sk-container-id-4 label.sk-toggleable__label-arrow:before {content: \"▸\";float: left;margin-right: 0.25em;color: #696969;}#sk-container-id-4 label.sk-toggleable__label-arrow:hover:before {color: black;}#sk-container-id-4 div.sk-estimator:hover label.sk-toggleable__label-arrow:before {color: black;}#sk-container-id-4 div.sk-toggleable__content {max-height: 0;max-width: 0;overflow: hidden;text-align: left;background-color: #f0f8ff;}#sk-container-id-4 div.sk-toggleable__content pre {margin: 0.2em;color: black;border-radius: 0.25em;background-color: #f0f8ff;}#sk-container-id-4 input.sk-toggleable__control:checked~div.sk-toggleable__content {max-height: 200px;max-width: 100%;overflow: auto;}#sk-container-id-4 input.sk-toggleable__control:checked~label.sk-toggleable__label-arrow:before {content: \"▾\";}#sk-container-id-4 div.sk-estimator input.sk-toggleable__control:checked~label.sk-toggleable__label {background-color: #d4ebff;}#sk-container-id-4 div.sk-label input.sk-toggleable__control:checked~label.sk-toggleable__label {background-color: #d4ebff;}#sk-container-id-4 input.sk-hidden--visually {border: 0;clip: rect(1px 1px 1px 1px);clip: rect(1px, 1px, 1px, 1px);height: 1px;margin: -1px;overflow: hidden;padding: 0;position: absolute;width: 1px;}#sk-container-id-4 div.sk-estimator {font-family: monospace;background-color: #f0f8ff;border: 1px dotted black;border-radius: 0.25em;box-sizing: border-box;margin-bottom: 0.5em;}#sk-container-id-4 div.sk-estimator:hover {background-color: #d4ebff;}#sk-container-id-4 div.sk-parallel-item::after {content: \"\";width: 100%;border-bottom: 1px solid gray;flex-grow: 1;}#sk-container-id-4 div.sk-label:hover label.sk-toggleable__label {background-color: #d4ebff;}#sk-container-id-4 div.sk-serial::before {content: \"\";position: absolute;border-left: 1px solid gray;box-sizing: border-box;top: 0;bottom: 0;left: 50%;z-index: 0;}#sk-container-id-4 div.sk-serial {display: flex;flex-direction: column;align-items: center;background-color: white;padding-right: 0.2em;padding-left: 0.2em;position: relative;}#sk-container-id-4 div.sk-item {position: relative;z-index: 1;}#sk-container-id-4 div.sk-parallel {display: flex;align-items: stretch;justify-content: center;background-color: white;position: relative;}#sk-container-id-4 div.sk-item::before, #sk-container-id-4 div.sk-parallel-item::before {content: \"\";position: absolute;border-left: 1px solid gray;box-sizing: border-box;top: 0;bottom: 0;left: 50%;z-index: -1;}#sk-container-id-4 div.sk-parallel-item {display: flex;flex-direction: column;z-index: 1;position: relative;background-color: white;}#sk-container-id-4 div.sk-parallel-item:first-child::after {align-self: flex-end;width: 50%;}#sk-container-id-4 div.sk-parallel-item:last-child::after {align-self: flex-start;width: 50%;}#sk-container-id-4 div.sk-parallel-item:only-child::after {width: 0;}#sk-container-id-4 div.sk-dashed-wrapped {border: 1px dashed gray;margin: 0 0.4em 0.5em 0.4em;box-sizing: border-box;padding-bottom: 0.4em;background-color: white;}#sk-container-id-4 div.sk-label label {font-family: monospace;font-weight: bold;display: inline-block;line-height: 1.2em;}#sk-container-id-4 div.sk-label-container {text-align: center;}#sk-container-id-4 div.sk-container {/* jupyter's `normalize.less` sets `[hidden] { display: none; }` but bootstrap.min.css set `[hidden] { display: none !important; }` so we also need the `!important` here to be able to override the default hidden behavior on the sphinx rendered scikit-learn.org. See: https://github.com/scikit-learn/scikit-learn/issues/21755 */display: inline-block !important;position: relative;}#sk-container-id-4 div.sk-text-repr-fallback {display: none;}</style><div id=\"sk-container-id-4\" class=\"sk-top-container\"><div class=\"sk-text-repr-fallback\"><pre>BayesianRidge()</pre><b>In a Jupyter environment, please rerun this cell to show the HTML representation or trust the notebook. <br />On GitHub, the HTML representation is unable to render, please try loading this page with nbviewer.org.</b></div><div class=\"sk-container\" hidden><div class=\"sk-item\"><div class=\"sk-estimator sk-toggleable\"><input class=\"sk-toggleable__control sk-hidden--visually\" id=\"sk-estimator-id-4\" type=\"checkbox\" checked><label for=\"sk-estimator-id-4\" class=\"sk-toggleable__label sk-toggleable__label-arrow\">BayesianRidge</label><div class=\"sk-toggleable__content\"><pre>BayesianRidge()</pre></div></div></div></div></div>"
      ],
      "text/plain": [
       "BayesianRidge()"
      ]
     },
     "execution_count": 19,
     "metadata": {},
     "output_type": "execute_result"
    }
   ],
   "source": [
    "from sklearn.linear_model import BayesianRidge\n",
    "BR = BayesianRidge()\n",
    "BR.fit(X_train, y_train)"
   ]
  },
  {
   "cell_type": "code",
   "execution_count": 20,
   "id": "10cb0dc2",
   "metadata": {},
   "outputs": [
    {
     "data": {
      "text/plain": [
       "array([ -4191.847665  ,  33666.30025247, -20661.29551538, ...,\n",
       "       329456.61980701, -26013.83658952, 100828.47926523])"
      ]
     },
     "execution_count": 20,
     "metadata": {},
     "output_type": "execute_result"
    }
   ],
   "source": [
    "y_pred_br = BR.predict(X_test)\n",
    "y_pred_br"
   ]
  },
  {
   "cell_type": "code",
   "execution_count": 21,
   "id": "ce286837",
   "metadata": {},
   "outputs": [
    {
     "name": "stdout",
     "output_type": "stream",
     "text": [
      "[LightGBM] [Info] Total Bins 319\n",
      "[LightGBM] [Info] Number of data points in the train set: 58443, number of used features: 56\n",
      "[LightGBM] [Info] Start training from score 26153.147511\n"
     ]
    },
    {
     "data": {
      "text/html": [
       "<style>#sk-container-id-5 {color: black;}#sk-container-id-5 pre{padding: 0;}#sk-container-id-5 div.sk-toggleable {background-color: white;}#sk-container-id-5 label.sk-toggleable__label {cursor: pointer;display: block;width: 100%;margin-bottom: 0;padding: 0.3em;box-sizing: border-box;text-align: center;}#sk-container-id-5 label.sk-toggleable__label-arrow:before {content: \"▸\";float: left;margin-right: 0.25em;color: #696969;}#sk-container-id-5 label.sk-toggleable__label-arrow:hover:before {color: black;}#sk-container-id-5 div.sk-estimator:hover label.sk-toggleable__label-arrow:before {color: black;}#sk-container-id-5 div.sk-toggleable__content {max-height: 0;max-width: 0;overflow: hidden;text-align: left;background-color: #f0f8ff;}#sk-container-id-5 div.sk-toggleable__content pre {margin: 0.2em;color: black;border-radius: 0.25em;background-color: #f0f8ff;}#sk-container-id-5 input.sk-toggleable__control:checked~div.sk-toggleable__content {max-height: 200px;max-width: 100%;overflow: auto;}#sk-container-id-5 input.sk-toggleable__control:checked~label.sk-toggleable__label-arrow:before {content: \"▾\";}#sk-container-id-5 div.sk-estimator input.sk-toggleable__control:checked~label.sk-toggleable__label {background-color: #d4ebff;}#sk-container-id-5 div.sk-label input.sk-toggleable__control:checked~label.sk-toggleable__label {background-color: #d4ebff;}#sk-container-id-5 input.sk-hidden--visually {border: 0;clip: rect(1px 1px 1px 1px);clip: rect(1px, 1px, 1px, 1px);height: 1px;margin: -1px;overflow: hidden;padding: 0;position: absolute;width: 1px;}#sk-container-id-5 div.sk-estimator {font-family: monospace;background-color: #f0f8ff;border: 1px dotted black;border-radius: 0.25em;box-sizing: border-box;margin-bottom: 0.5em;}#sk-container-id-5 div.sk-estimator:hover {background-color: #d4ebff;}#sk-container-id-5 div.sk-parallel-item::after {content: \"\";width: 100%;border-bottom: 1px solid gray;flex-grow: 1;}#sk-container-id-5 div.sk-label:hover label.sk-toggleable__label {background-color: #d4ebff;}#sk-container-id-5 div.sk-serial::before {content: \"\";position: absolute;border-left: 1px solid gray;box-sizing: border-box;top: 0;bottom: 0;left: 50%;z-index: 0;}#sk-container-id-5 div.sk-serial {display: flex;flex-direction: column;align-items: center;background-color: white;padding-right: 0.2em;padding-left: 0.2em;position: relative;}#sk-container-id-5 div.sk-item {position: relative;z-index: 1;}#sk-container-id-5 div.sk-parallel {display: flex;align-items: stretch;justify-content: center;background-color: white;position: relative;}#sk-container-id-5 div.sk-item::before, #sk-container-id-5 div.sk-parallel-item::before {content: \"\";position: absolute;border-left: 1px solid gray;box-sizing: border-box;top: 0;bottom: 0;left: 50%;z-index: -1;}#sk-container-id-5 div.sk-parallel-item {display: flex;flex-direction: column;z-index: 1;position: relative;background-color: white;}#sk-container-id-5 div.sk-parallel-item:first-child::after {align-self: flex-end;width: 50%;}#sk-container-id-5 div.sk-parallel-item:last-child::after {align-self: flex-start;width: 50%;}#sk-container-id-5 div.sk-parallel-item:only-child::after {width: 0;}#sk-container-id-5 div.sk-dashed-wrapped {border: 1px dashed gray;margin: 0 0.4em 0.5em 0.4em;box-sizing: border-box;padding-bottom: 0.4em;background-color: white;}#sk-container-id-5 div.sk-label label {font-family: monospace;font-weight: bold;display: inline-block;line-height: 1.2em;}#sk-container-id-5 div.sk-label-container {text-align: center;}#sk-container-id-5 div.sk-container {/* jupyter's `normalize.less` sets `[hidden] { display: none; }` but bootstrap.min.css set `[hidden] { display: none !important; }` so we also need the `!important` here to be able to override the default hidden behavior on the sphinx rendered scikit-learn.org. See: https://github.com/scikit-learn/scikit-learn/issues/21755 */display: inline-block !important;position: relative;}#sk-container-id-5 div.sk-text-repr-fallback {display: none;}</style><div id=\"sk-container-id-5\" class=\"sk-top-container\"><div class=\"sk-text-repr-fallback\"><pre>LGBMRegressor(force_row_wise=True)</pre><b>In a Jupyter environment, please rerun this cell to show the HTML representation or trust the notebook. <br />On GitHub, the HTML representation is unable to render, please try loading this page with nbviewer.org.</b></div><div class=\"sk-container\" hidden><div class=\"sk-item\"><div class=\"sk-estimator sk-toggleable\"><input class=\"sk-toggleable__control sk-hidden--visually\" id=\"sk-estimator-id-5\" type=\"checkbox\" checked><label for=\"sk-estimator-id-5\" class=\"sk-toggleable__label sk-toggleable__label-arrow\">LGBMRegressor</label><div class=\"sk-toggleable__content\"><pre>LGBMRegressor(force_row_wise=True)</pre></div></div></div></div></div>"
      ],
      "text/plain": [
       "LGBMRegressor(force_row_wise=True)"
      ]
     },
     "execution_count": 21,
     "metadata": {},
     "output_type": "execute_result"
    }
   ],
   "source": [
    "from lightgbm import LGBMRegressor\n",
    "LGBMR = LGBMRegressor(force_row_wise=True)\n",
    "LGBMR.fit(X_train, y_train)"
   ]
  },
  {
   "cell_type": "code",
   "execution_count": 22,
   "id": "a5405273",
   "metadata": {},
   "outputs": [
    {
     "data": {
      "text/plain": [
       "array([ 3.46537749e+03,  3.95522122e+03,  4.40320810e+03, ...,\n",
       "        1.99106767e+04, -6.23389718e+01,  9.43090967e+04])"
      ]
     },
     "execution_count": 22,
     "metadata": {},
     "output_type": "execute_result"
    }
   ],
   "source": [
    "y_pred_lgbmr = LGBMR.predict(X_test)\n",
    "y_pred_lgbmr"
   ]
  },
  {
   "cell_type": "code",
   "execution_count": 23,
   "id": "662685ce",
   "metadata": {},
   "outputs": [
    {
     "data": {
      "text/html": [
       "<style>#sk-container-id-6 {color: black;}#sk-container-id-6 pre{padding: 0;}#sk-container-id-6 div.sk-toggleable {background-color: white;}#sk-container-id-6 label.sk-toggleable__label {cursor: pointer;display: block;width: 100%;margin-bottom: 0;padding: 0.3em;box-sizing: border-box;text-align: center;}#sk-container-id-6 label.sk-toggleable__label-arrow:before {content: \"▸\";float: left;margin-right: 0.25em;color: #696969;}#sk-container-id-6 label.sk-toggleable__label-arrow:hover:before {color: black;}#sk-container-id-6 div.sk-estimator:hover label.sk-toggleable__label-arrow:before {color: black;}#sk-container-id-6 div.sk-toggleable__content {max-height: 0;max-width: 0;overflow: hidden;text-align: left;background-color: #f0f8ff;}#sk-container-id-6 div.sk-toggleable__content pre {margin: 0.2em;color: black;border-radius: 0.25em;background-color: #f0f8ff;}#sk-container-id-6 input.sk-toggleable__control:checked~div.sk-toggleable__content {max-height: 200px;max-width: 100%;overflow: auto;}#sk-container-id-6 input.sk-toggleable__control:checked~label.sk-toggleable__label-arrow:before {content: \"▾\";}#sk-container-id-6 div.sk-estimator input.sk-toggleable__control:checked~label.sk-toggleable__label {background-color: #d4ebff;}#sk-container-id-6 div.sk-label input.sk-toggleable__control:checked~label.sk-toggleable__label {background-color: #d4ebff;}#sk-container-id-6 input.sk-hidden--visually {border: 0;clip: rect(1px 1px 1px 1px);clip: rect(1px, 1px, 1px, 1px);height: 1px;margin: -1px;overflow: hidden;padding: 0;position: absolute;width: 1px;}#sk-container-id-6 div.sk-estimator {font-family: monospace;background-color: #f0f8ff;border: 1px dotted black;border-radius: 0.25em;box-sizing: border-box;margin-bottom: 0.5em;}#sk-container-id-6 div.sk-estimator:hover {background-color: #d4ebff;}#sk-container-id-6 div.sk-parallel-item::after {content: \"\";width: 100%;border-bottom: 1px solid gray;flex-grow: 1;}#sk-container-id-6 div.sk-label:hover label.sk-toggleable__label {background-color: #d4ebff;}#sk-container-id-6 div.sk-serial::before {content: \"\";position: absolute;border-left: 1px solid gray;box-sizing: border-box;top: 0;bottom: 0;left: 50%;z-index: 0;}#sk-container-id-6 div.sk-serial {display: flex;flex-direction: column;align-items: center;background-color: white;padding-right: 0.2em;padding-left: 0.2em;position: relative;}#sk-container-id-6 div.sk-item {position: relative;z-index: 1;}#sk-container-id-6 div.sk-parallel {display: flex;align-items: stretch;justify-content: center;background-color: white;position: relative;}#sk-container-id-6 div.sk-item::before, #sk-container-id-6 div.sk-parallel-item::before {content: \"\";position: absolute;border-left: 1px solid gray;box-sizing: border-box;top: 0;bottom: 0;left: 50%;z-index: -1;}#sk-container-id-6 div.sk-parallel-item {display: flex;flex-direction: column;z-index: 1;position: relative;background-color: white;}#sk-container-id-6 div.sk-parallel-item:first-child::after {align-self: flex-end;width: 50%;}#sk-container-id-6 div.sk-parallel-item:last-child::after {align-self: flex-start;width: 50%;}#sk-container-id-6 div.sk-parallel-item:only-child::after {width: 0;}#sk-container-id-6 div.sk-dashed-wrapped {border: 1px dashed gray;margin: 0 0.4em 0.5em 0.4em;box-sizing: border-box;padding-bottom: 0.4em;background-color: white;}#sk-container-id-6 div.sk-label label {font-family: monospace;font-weight: bold;display: inline-block;line-height: 1.2em;}#sk-container-id-6 div.sk-label-container {text-align: center;}#sk-container-id-6 div.sk-container {/* jupyter's `normalize.less` sets `[hidden] { display: none; }` but bootstrap.min.css set `[hidden] { display: none !important; }` so we also need the `!important` here to be able to override the default hidden behavior on the sphinx rendered scikit-learn.org. See: https://github.com/scikit-learn/scikit-learn/issues/21755 */display: inline-block !important;position: relative;}#sk-container-id-6 div.sk-text-repr-fallback {display: none;}</style><div id=\"sk-container-id-6\" class=\"sk-top-container\"><div class=\"sk-text-repr-fallback\"><pre>XGBRegressor(base_score=None, booster=None, callbacks=None,\n",
       "             colsample_bylevel=None, colsample_bynode=None,\n",
       "             colsample_bytree=None, early_stopping_rounds=None,\n",
       "             enable_categorical=False, eval_metric=None, feature_types=None,\n",
       "             gamma=None, gpu_id=None, grow_policy=None, importance_type=None,\n",
       "             interaction_constraints=None, learning_rate=None, max_bin=None,\n",
       "             max_cat_threshold=None, max_cat_to_onehot=None,\n",
       "             max_delta_step=None, max_depth=None, max_leaves=None,\n",
       "             min_child_weight=None, missing=nan, monotone_constraints=None,\n",
       "             n_estimators=100, n_jobs=None, num_parallel_tree=None,\n",
       "             predictor=None, random_state=None, ...)</pre><b>In a Jupyter environment, please rerun this cell to show the HTML representation or trust the notebook. <br />On GitHub, the HTML representation is unable to render, please try loading this page with nbviewer.org.</b></div><div class=\"sk-container\" hidden><div class=\"sk-item\"><div class=\"sk-estimator sk-toggleable\"><input class=\"sk-toggleable__control sk-hidden--visually\" id=\"sk-estimator-id-6\" type=\"checkbox\" checked><label for=\"sk-estimator-id-6\" class=\"sk-toggleable__label sk-toggleable__label-arrow\">XGBRegressor</label><div class=\"sk-toggleable__content\"><pre>XGBRegressor(base_score=None, booster=None, callbacks=None,\n",
       "             colsample_bylevel=None, colsample_bynode=None,\n",
       "             colsample_bytree=None, early_stopping_rounds=None,\n",
       "             enable_categorical=False, eval_metric=None, feature_types=None,\n",
       "             gamma=None, gpu_id=None, grow_policy=None, importance_type=None,\n",
       "             interaction_constraints=None, learning_rate=None, max_bin=None,\n",
       "             max_cat_threshold=None, max_cat_to_onehot=None,\n",
       "             max_delta_step=None, max_depth=None, max_leaves=None,\n",
       "             min_child_weight=None, missing=nan, monotone_constraints=None,\n",
       "             n_estimators=100, n_jobs=None, num_parallel_tree=None,\n",
       "             predictor=None, random_state=None, ...)</pre></div></div></div></div></div>"
      ],
      "text/plain": [
       "XGBRegressor(base_score=None, booster=None, callbacks=None,\n",
       "             colsample_bylevel=None, colsample_bynode=None,\n",
       "             colsample_bytree=None, early_stopping_rounds=None,\n",
       "             enable_categorical=False, eval_metric=None, feature_types=None,\n",
       "             gamma=None, gpu_id=None, grow_policy=None, importance_type=None,\n",
       "             interaction_constraints=None, learning_rate=None, max_bin=None,\n",
       "             max_cat_threshold=None, max_cat_to_onehot=None,\n",
       "             max_delta_step=None, max_depth=None, max_leaves=None,\n",
       "             min_child_weight=None, missing=nan, monotone_constraints=None,\n",
       "             n_estimators=100, n_jobs=None, num_parallel_tree=None,\n",
       "             predictor=None, random_state=None, ...)"
      ]
     },
     "execution_count": 23,
     "metadata": {},
     "output_type": "execute_result"
    }
   ],
   "source": [
    "from xgboost.sklearn import XGBRegressor\n",
    "XGBR=XGBRegressor()\n",
    "XGBR.fit(X_train, y_train)"
   ]
  },
  {
   "cell_type": "code",
   "execution_count": 24,
   "id": "0717e0f7",
   "metadata": {},
   "outputs": [
    {
     "data": {
      "text/plain": [
       "array([ 2624.0933,  2807.287 ,  5330.664 , ..., 14418.436 , 10653.572 ,\n",
       "       84753.164 ], dtype=float32)"
      ]
     },
     "execution_count": 24,
     "metadata": {},
     "output_type": "execute_result"
    }
   ],
   "source": [
    "y_pred_xgbr = XGBR.predict(X_test)\n",
    "y_pred_xgbr"
   ]
  },
  {
   "cell_type": "code",
   "execution_count": 25,
   "id": "5c86812f",
   "metadata": {},
   "outputs": [
    {
     "name": "stdout",
     "output_type": "stream",
     "text": [
      "Learning rate set to 0.077862\n",
      "0:\tlearn: 159705.8478717\ttotal: 145ms\tremaining: 2m 24s\n",
      "1:\tlearn: 155828.3076962\ttotal: 155ms\tremaining: 1m 17s\n",
      "2:\tlearn: 152093.5708514\ttotal: 165ms\tremaining: 54.8s\n",
      "3:\tlearn: 148800.0726094\ttotal: 171ms\tremaining: 42.5s\n",
      "4:\tlearn: 146058.0897598\ttotal: 177ms\tremaining: 35.2s\n",
      "5:\tlearn: 143622.5842077\ttotal: 184ms\tremaining: 30.4s\n",
      "6:\tlearn: 141259.5963330\ttotal: 191ms\tremaining: 27.2s\n",
      "7:\tlearn: 138445.4992255\ttotal: 199ms\tremaining: 24.6s\n",
      "8:\tlearn: 135515.7694353\ttotal: 206ms\tremaining: 22.7s\n",
      "9:\tlearn: 133765.0039107\ttotal: 213ms\tremaining: 21.1s\n",
      "10:\tlearn: 131011.5994236\ttotal: 221ms\tremaining: 19.8s\n",
      "11:\tlearn: 128759.9627974\ttotal: 228ms\tremaining: 18.7s\n",
      "12:\tlearn: 126575.0696186\ttotal: 234ms\tremaining: 17.8s\n",
      "13:\tlearn: 124801.7876427\ttotal: 241ms\tremaining: 17s\n",
      "14:\tlearn: 123229.4722050\ttotal: 248ms\tremaining: 16.3s\n",
      "15:\tlearn: 121874.6404981\ttotal: 255ms\tremaining: 15.7s\n",
      "16:\tlearn: 120581.5249493\ttotal: 261ms\tremaining: 15.1s\n",
      "17:\tlearn: 119397.8688787\ttotal: 267ms\tremaining: 14.6s\n",
      "18:\tlearn: 118398.7510300\ttotal: 273ms\tremaining: 14.1s\n",
      "19:\tlearn: 117486.9442483\ttotal: 279ms\tremaining: 13.7s\n",
      "20:\tlearn: 116480.0928675\ttotal: 284ms\tremaining: 13.3s\n",
      "21:\tlearn: 115576.0690219\ttotal: 290ms\tremaining: 12.9s\n",
      "22:\tlearn: 114619.8288656\ttotal: 296ms\tremaining: 12.6s\n",
      "23:\tlearn: 113697.8709298\ttotal: 302ms\tremaining: 12.3s\n",
      "24:\tlearn: 112996.7751103\ttotal: 308ms\tremaining: 12s\n",
      "25:\tlearn: 112206.2501123\ttotal: 314ms\tremaining: 11.7s\n",
      "26:\tlearn: 111409.5136365\ttotal: 319ms\tremaining: 11.5s\n",
      "27:\tlearn: 110673.7740437\ttotal: 325ms\tremaining: 11.3s\n",
      "28:\tlearn: 110044.0688996\ttotal: 331ms\tremaining: 11.1s\n",
      "29:\tlearn: 109099.3544404\ttotal: 337ms\tremaining: 10.9s\n",
      "30:\tlearn: 108282.3116970\ttotal: 343ms\tremaining: 10.7s\n",
      "31:\tlearn: 107705.5151431\ttotal: 349ms\tremaining: 10.6s\n",
      "32:\tlearn: 106863.2284462\ttotal: 355ms\tremaining: 10.4s\n",
      "33:\tlearn: 106337.2605881\ttotal: 361ms\tremaining: 10.2s\n",
      "34:\tlearn: 105930.7415781\ttotal: 367ms\tremaining: 10.1s\n",
      "35:\tlearn: 105501.1398764\ttotal: 372ms\tremaining: 9.97s\n",
      "36:\tlearn: 105233.0642767\ttotal: 378ms\tremaining: 9.84s\n",
      "37:\tlearn: 104806.1242415\ttotal: 384ms\tremaining: 9.72s\n",
      "38:\tlearn: 104424.7161704\ttotal: 390ms\tremaining: 9.62s\n",
      "39:\tlearn: 104145.6103190\ttotal: 397ms\tremaining: 9.52s\n",
      "40:\tlearn: 103761.1458687\ttotal: 403ms\tremaining: 9.42s\n",
      "41:\tlearn: 103327.5776923\ttotal: 409ms\tremaining: 9.33s\n",
      "42:\tlearn: 102940.9764575\ttotal: 415ms\tremaining: 9.24s\n",
      "43:\tlearn: 102383.4788588\ttotal: 421ms\tremaining: 9.14s\n",
      "44:\tlearn: 102055.0260011\ttotal: 427ms\tremaining: 9.06s\n",
      "45:\tlearn: 101853.7189875\ttotal: 433ms\tremaining: 8.97s\n",
      "46:\tlearn: 101419.6860926\ttotal: 439ms\tremaining: 8.89s\n",
      "47:\tlearn: 101270.6434479\ttotal: 444ms\tremaining: 8.81s\n",
      "48:\tlearn: 100995.1627002\ttotal: 451ms\tremaining: 8.74s\n",
      "49:\tlearn: 100598.6016376\ttotal: 456ms\tremaining: 8.66s\n",
      "50:\tlearn: 100218.0355727\ttotal: 462ms\tremaining: 8.59s\n",
      "51:\tlearn: 100019.3487443\ttotal: 467ms\tremaining: 8.52s\n",
      "52:\tlearn: 99813.6298574\ttotal: 473ms\tremaining: 8.46s\n",
      "53:\tlearn: 99612.6572726\ttotal: 479ms\tremaining: 8.39s\n",
      "54:\tlearn: 99348.7247474\ttotal: 485ms\tremaining: 8.33s\n",
      "55:\tlearn: 99116.9062067\ttotal: 491ms\tremaining: 8.27s\n",
      "56:\tlearn: 98932.6927820\ttotal: 497ms\tremaining: 8.21s\n",
      "57:\tlearn: 98692.1105516\ttotal: 502ms\tremaining: 8.16s\n",
      "58:\tlearn: 98522.2544929\ttotal: 508ms\tremaining: 8.11s\n",
      "59:\tlearn: 98325.5323645\ttotal: 514ms\tremaining: 8.05s\n",
      "60:\tlearn: 98020.1407381\ttotal: 521ms\tremaining: 8.01s\n",
      "61:\tlearn: 97809.8237352\ttotal: 526ms\tremaining: 7.96s\n",
      "62:\tlearn: 97492.6240626\ttotal: 532ms\tremaining: 7.91s\n",
      "63:\tlearn: 97322.9501280\ttotal: 537ms\tremaining: 7.86s\n",
      "64:\tlearn: 97259.0092811\ttotal: 543ms\tremaining: 7.81s\n",
      "65:\tlearn: 96978.5282408\ttotal: 548ms\tremaining: 7.75s\n",
      "66:\tlearn: 96789.0581415\ttotal: 554ms\tremaining: 7.71s\n",
      "67:\tlearn: 96551.0858997\ttotal: 560ms\tremaining: 7.67s\n",
      "68:\tlearn: 96408.8296252\ttotal: 566ms\tremaining: 7.64s\n",
      "69:\tlearn: 96354.1481816\ttotal: 572ms\tremaining: 7.6s\n",
      "70:\tlearn: 96236.2672553\ttotal: 578ms\tremaining: 7.57s\n",
      "71:\tlearn: 96200.1484955\ttotal: 584ms\tremaining: 7.53s\n",
      "72:\tlearn: 96147.0666084\ttotal: 590ms\tremaining: 7.49s\n",
      "73:\tlearn: 95984.0807218\ttotal: 596ms\tremaining: 7.45s\n",
      "74:\tlearn: 95730.6714758\ttotal: 603ms\tremaining: 7.44s\n",
      "75:\tlearn: 95682.9888909\ttotal: 609ms\tremaining: 7.4s\n",
      "76:\tlearn: 95545.8552728\ttotal: 615ms\tremaining: 7.37s\n",
      "77:\tlearn: 95363.8094878\ttotal: 621ms\tremaining: 7.34s\n",
      "78:\tlearn: 95320.9387618\ttotal: 627ms\tremaining: 7.31s\n",
      "79:\tlearn: 95286.8555869\ttotal: 633ms\tremaining: 7.28s\n",
      "80:\tlearn: 95247.2538354\ttotal: 639ms\tremaining: 7.25s\n",
      "81:\tlearn: 95074.4606427\ttotal: 645ms\tremaining: 7.22s\n",
      "82:\tlearn: 94985.8061644\ttotal: 651ms\tremaining: 7.19s\n",
      "83:\tlearn: 94948.2581626\ttotal: 657ms\tremaining: 7.16s\n",
      "84:\tlearn: 94870.6303869\ttotal: 663ms\tremaining: 7.13s\n",
      "85:\tlearn: 94769.9211506\ttotal: 668ms\tremaining: 7.1s\n",
      "86:\tlearn: 94659.5061753\ttotal: 674ms\tremaining: 7.07s\n",
      "87:\tlearn: 94567.6040689\ttotal: 680ms\tremaining: 7.04s\n",
      "88:\tlearn: 94542.2380297\ttotal: 685ms\tremaining: 7.02s\n",
      "89:\tlearn: 94044.2640214\ttotal: 691ms\tremaining: 6.99s\n",
      "90:\tlearn: 93908.7915806\ttotal: 697ms\tremaining: 6.96s\n",
      "91:\tlearn: 93883.7072431\ttotal: 702ms\tremaining: 6.93s\n",
      "92:\tlearn: 93860.4534071\ttotal: 707ms\tremaining: 6.9s\n",
      "93:\tlearn: 93838.5040396\ttotal: 713ms\tremaining: 6.87s\n",
      "94:\tlearn: 93770.4242582\ttotal: 719ms\tremaining: 6.85s\n",
      "95:\tlearn: 93662.3565793\ttotal: 725ms\tremaining: 6.82s\n",
      "96:\tlearn: 93528.2272599\ttotal: 730ms\tremaining: 6.8s\n",
      "97:\tlearn: 93109.4614329\ttotal: 736ms\tremaining: 6.78s\n",
      "98:\tlearn: 92984.8142165\ttotal: 742ms\tremaining: 6.75s\n",
      "99:\tlearn: 92861.0681476\ttotal: 748ms\tremaining: 6.73s\n",
      "100:\tlearn: 92804.5202652\ttotal: 754ms\tremaining: 6.71s\n",
      "101:\tlearn: 92459.8795882\ttotal: 759ms\tremaining: 6.68s\n",
      "102:\tlearn: 92438.3797462\ttotal: 765ms\tremaining: 6.66s\n",
      "103:\tlearn: 92370.4353753\ttotal: 770ms\tremaining: 6.64s\n",
      "104:\tlearn: 92334.7385683\ttotal: 776ms\tremaining: 6.61s\n",
      "105:\tlearn: 92314.3062996\ttotal: 782ms\tremaining: 6.59s\n",
      "106:\tlearn: 92203.7296394\ttotal: 788ms\tremaining: 6.57s\n",
      "107:\tlearn: 91896.4885585\ttotal: 794ms\tremaining: 6.56s\n",
      "108:\tlearn: 91709.3391601\ttotal: 801ms\tremaining: 6.54s\n",
      "109:\tlearn: 91689.9153938\ttotal: 807ms\tremaining: 6.53s\n",
      "110:\tlearn: 91660.2134399\ttotal: 813ms\tremaining: 6.51s\n",
      "111:\tlearn: 91591.8960779\ttotal: 819ms\tremaining: 6.5s\n",
      "112:\tlearn: 91565.8145108\ttotal: 826ms\tremaining: 6.48s\n",
      "113:\tlearn: 91476.2028561\ttotal: 833ms\tremaining: 6.47s\n",
      "114:\tlearn: 91457.0969787\ttotal: 840ms\tremaining: 6.46s\n",
      "115:\tlearn: 91321.9760734\ttotal: 845ms\tremaining: 6.44s\n",
      "116:\tlearn: 91175.3532040\ttotal: 851ms\tremaining: 6.42s\n",
      "117:\tlearn: 90921.7328366\ttotal: 857ms\tremaining: 6.41s\n",
      "118:\tlearn: 90843.2770326\ttotal: 863ms\tremaining: 6.39s\n",
      "119:\tlearn: 90789.7372113\ttotal: 868ms\tremaining: 6.37s\n",
      "120:\tlearn: 90514.2271587\ttotal: 874ms\tremaining: 6.35s\n",
      "121:\tlearn: 90319.2190028\ttotal: 880ms\tremaining: 6.33s\n",
      "122:\tlearn: 90181.0707263\ttotal: 886ms\tremaining: 6.32s\n",
      "123:\tlearn: 90165.4556077\ttotal: 892ms\tremaining: 6.3s\n",
      "124:\tlearn: 89889.8263084\ttotal: 898ms\tremaining: 6.28s\n",
      "125:\tlearn: 89679.6581419\ttotal: 904ms\tremaining: 6.27s\n",
      "126:\tlearn: 89599.5663495\ttotal: 909ms\tremaining: 6.25s\n",
      "127:\tlearn: 89579.8003612\ttotal: 915ms\tremaining: 6.23s\n",
      "128:\tlearn: 89457.1393641\ttotal: 921ms\tremaining: 6.22s\n",
      "129:\tlearn: 89443.0907656\ttotal: 926ms\tremaining: 6.2s\n",
      "130:\tlearn: 89427.6094856\ttotal: 932ms\tremaining: 6.18s\n",
      "131:\tlearn: 89407.0148613\ttotal: 938ms\tremaining: 6.17s\n",
      "132:\tlearn: 89394.0760919\ttotal: 943ms\tremaining: 6.15s\n",
      "133:\tlearn: 89279.0880633\ttotal: 949ms\tremaining: 6.13s\n",
      "134:\tlearn: 89230.9418937\ttotal: 954ms\tremaining: 6.12s\n",
      "135:\tlearn: 89130.1550458\ttotal: 960ms\tremaining: 6.1s\n",
      "136:\tlearn: 89094.2535730\ttotal: 966ms\tremaining: 6.08s\n",
      "137:\tlearn: 88900.0523845\ttotal: 972ms\tremaining: 6.07s\n",
      "138:\tlearn: 88723.9122619\ttotal: 977ms\tremaining: 6.05s\n",
      "139:\tlearn: 88712.6136674\ttotal: 983ms\tremaining: 6.04s\n",
      "140:\tlearn: 88649.0220989\ttotal: 989ms\tremaining: 6.02s\n",
      "141:\tlearn: 88457.9272670\ttotal: 996ms\tremaining: 6.02s\n",
      "142:\tlearn: 88364.5791434\ttotal: 1s\tremaining: 6s\n",
      "143:\tlearn: 88333.0542474\ttotal: 1.01s\tremaining: 6s\n",
      "144:\tlearn: 88281.1602464\ttotal: 1.01s\tremaining: 5.98s\n",
      "145:\tlearn: 88239.1616660\ttotal: 1.02s\tremaining: 5.97s\n",
      "146:\tlearn: 88228.9023955\ttotal: 1.03s\tremaining: 5.96s\n",
      "147:\tlearn: 88150.8224526\ttotal: 1.03s\tremaining: 5.94s\n",
      "148:\tlearn: 88111.3215117\ttotal: 1.04s\tremaining: 5.93s\n",
      "149:\tlearn: 88096.3132565\ttotal: 1.04s\tremaining: 5.92s\n",
      "150:\tlearn: 87888.4811775\ttotal: 1.05s\tremaining: 5.9s\n",
      "151:\tlearn: 87627.8714555\ttotal: 1.06s\tremaining: 5.89s\n",
      "152:\tlearn: 87565.9089549\ttotal: 1.06s\tremaining: 5.88s\n",
      "153:\tlearn: 87521.1189543\ttotal: 1.07s\tremaining: 5.86s\n",
      "154:\tlearn: 87369.1082045\ttotal: 1.07s\tremaining: 5.85s\n",
      "155:\tlearn: 87310.8949560\ttotal: 1.08s\tremaining: 5.84s\n",
      "156:\tlearn: 87187.0201097\ttotal: 1.08s\tremaining: 5.83s\n",
      "157:\tlearn: 87077.7701710\ttotal: 1.09s\tremaining: 5.81s\n",
      "158:\tlearn: 86979.2187270\ttotal: 1.1s\tremaining: 5.8s\n",
      "159:\tlearn: 86909.4581330\ttotal: 1.1s\tremaining: 5.79s\n",
      "160:\tlearn: 86867.9074037\ttotal: 1.11s\tremaining: 5.77s\n",
      "161:\tlearn: 86845.0138418\ttotal: 1.11s\tremaining: 5.76s\n",
      "162:\tlearn: 86762.6914379\ttotal: 1.12s\tremaining: 5.75s\n",
      "163:\tlearn: 86734.8121485\ttotal: 1.13s\tremaining: 5.74s\n",
      "164:\tlearn: 86654.6834291\ttotal: 1.13s\tremaining: 5.73s\n",
      "165:\tlearn: 86619.5587708\ttotal: 1.14s\tremaining: 5.71s\n",
      "166:\tlearn: 86511.4706298\ttotal: 1.14s\tremaining: 5.7s\n",
      "167:\tlearn: 86398.1982133\ttotal: 1.15s\tremaining: 5.69s\n",
      "168:\tlearn: 86308.6633282\ttotal: 1.15s\tremaining: 5.68s\n",
      "169:\tlearn: 86239.7155084\ttotal: 1.16s\tremaining: 5.67s\n",
      "170:\tlearn: 86139.3072997\ttotal: 1.17s\tremaining: 5.66s\n",
      "171:\tlearn: 86025.9541127\ttotal: 1.17s\tremaining: 5.65s\n",
      "172:\tlearn: 85988.5694994\ttotal: 1.18s\tremaining: 5.63s\n",
      "173:\tlearn: 85900.1237904\ttotal: 1.18s\tremaining: 5.62s\n",
      "174:\tlearn: 85799.2522809\ttotal: 1.19s\tremaining: 5.61s\n"
     ]
    },
    {
     "name": "stdout",
     "output_type": "stream",
     "text": [
      "175:\tlearn: 85739.4504104\ttotal: 1.2s\tremaining: 5.6s\n",
      "176:\tlearn: 85676.8481843\ttotal: 1.2s\tremaining: 5.59s\n",
      "177:\tlearn: 85601.0906872\ttotal: 1.21s\tremaining: 5.59s\n",
      "178:\tlearn: 85505.4451893\ttotal: 1.22s\tremaining: 5.58s\n",
      "179:\tlearn: 85400.9964384\ttotal: 1.22s\tremaining: 5.57s\n",
      "180:\tlearn: 85199.1032486\ttotal: 1.23s\tremaining: 5.56s\n",
      "181:\tlearn: 85138.7748604\ttotal: 1.23s\tremaining: 5.55s\n",
      "182:\tlearn: 85007.8355236\ttotal: 1.24s\tremaining: 5.54s\n",
      "183:\tlearn: 84954.7981277\ttotal: 1.25s\tremaining: 5.53s\n",
      "184:\tlearn: 84897.3993107\ttotal: 1.25s\tremaining: 5.51s\n",
      "185:\tlearn: 84818.0494348\ttotal: 1.26s\tremaining: 5.5s\n",
      "186:\tlearn: 84758.9098578\ttotal: 1.26s\tremaining: 5.5s\n",
      "187:\tlearn: 84699.1190990\ttotal: 1.27s\tremaining: 5.48s\n",
      "188:\tlearn: 84613.6083387\ttotal: 1.27s\tremaining: 5.47s\n",
      "189:\tlearn: 84562.2512037\ttotal: 1.28s\tremaining: 5.46s\n",
      "190:\tlearn: 84454.2073877\ttotal: 1.29s\tremaining: 5.45s\n",
      "191:\tlearn: 84240.7111124\ttotal: 1.29s\tremaining: 5.44s\n",
      "192:\tlearn: 84204.9250705\ttotal: 1.3s\tremaining: 5.43s\n",
      "193:\tlearn: 84126.7981715\ttotal: 1.3s\tremaining: 5.42s\n",
      "194:\tlearn: 84056.6097478\ttotal: 1.31s\tremaining: 5.41s\n",
      "195:\tlearn: 84000.7794689\ttotal: 1.32s\tremaining: 5.4s\n",
      "196:\tlearn: 83961.2752715\ttotal: 1.32s\tremaining: 5.39s\n",
      "197:\tlearn: 83924.9881099\ttotal: 1.33s\tremaining: 5.38s\n",
      "198:\tlearn: 83875.0981656\ttotal: 1.33s\tremaining: 5.37s\n",
      "199:\tlearn: 83813.9611605\ttotal: 1.34s\tremaining: 5.36s\n",
      "200:\tlearn: 83772.9265405\ttotal: 1.35s\tremaining: 5.35s\n",
      "201:\tlearn: 83724.2300531\ttotal: 1.35s\tremaining: 5.34s\n",
      "202:\tlearn: 83663.9109738\ttotal: 1.36s\tremaining: 5.33s\n",
      "203:\tlearn: 83608.1018843\ttotal: 1.36s\tremaining: 5.32s\n",
      "204:\tlearn: 83540.0100801\ttotal: 1.37s\tremaining: 5.31s\n",
      "205:\tlearn: 83472.9690703\ttotal: 1.38s\tremaining: 5.3s\n",
      "206:\tlearn: 83417.6904443\ttotal: 1.38s\tremaining: 5.29s\n",
      "207:\tlearn: 83363.4542266\ttotal: 1.39s\tremaining: 5.28s\n",
      "208:\tlearn: 83319.2628908\ttotal: 1.39s\tremaining: 5.27s\n",
      "209:\tlearn: 83242.4985126\ttotal: 1.4s\tremaining: 5.26s\n",
      "210:\tlearn: 83050.1622090\ttotal: 1.41s\tremaining: 5.26s\n",
      "211:\tlearn: 82987.1266097\ttotal: 1.41s\tremaining: 5.25s\n",
      "212:\tlearn: 82916.3519069\ttotal: 1.42s\tremaining: 5.24s\n",
      "213:\tlearn: 82851.0545005\ttotal: 1.42s\tremaining: 5.23s\n",
      "214:\tlearn: 82792.3427016\ttotal: 1.43s\tremaining: 5.22s\n",
      "215:\tlearn: 82732.1830673\ttotal: 1.44s\tremaining: 5.21s\n",
      "216:\tlearn: 82676.5891867\ttotal: 1.44s\tremaining: 5.2s\n",
      "217:\tlearn: 82625.1749959\ttotal: 1.45s\tremaining: 5.19s\n",
      "218:\tlearn: 82577.6296730\ttotal: 1.45s\tremaining: 5.18s\n",
      "219:\tlearn: 82540.1351931\ttotal: 1.46s\tremaining: 5.17s\n",
      "220:\tlearn: 82370.7201113\ttotal: 1.47s\tremaining: 5.16s\n",
      "221:\tlearn: 82208.6008680\ttotal: 1.47s\tremaining: 5.16s\n",
      "222:\tlearn: 82165.7702947\ttotal: 1.48s\tremaining: 5.14s\n",
      "223:\tlearn: 82139.7814175\ttotal: 1.48s\tremaining: 5.14s\n",
      "224:\tlearn: 82065.4113087\ttotal: 1.49s\tremaining: 5.13s\n",
      "225:\tlearn: 82025.3967736\ttotal: 1.49s\tremaining: 5.12s\n",
      "226:\tlearn: 81969.6554805\ttotal: 1.5s\tremaining: 5.11s\n",
      "227:\tlearn: 81921.8545688\ttotal: 1.51s\tremaining: 5.1s\n",
      "228:\tlearn: 81859.6739115\ttotal: 1.51s\tremaining: 5.09s\n",
      "229:\tlearn: 81815.3571296\ttotal: 1.52s\tremaining: 5.08s\n",
      "230:\tlearn: 81774.2775409\ttotal: 1.52s\tremaining: 5.07s\n",
      "231:\tlearn: 81706.8390173\ttotal: 1.53s\tremaining: 5.07s\n",
      "232:\tlearn: 81681.1045781\ttotal: 1.54s\tremaining: 5.06s\n",
      "233:\tlearn: 81624.1589729\ttotal: 1.54s\tremaining: 5.05s\n",
      "234:\tlearn: 81474.0288891\ttotal: 1.55s\tremaining: 5.04s\n",
      "235:\tlearn: 81430.8746909\ttotal: 1.55s\tremaining: 5.04s\n",
      "236:\tlearn: 81379.7546061\ttotal: 1.56s\tremaining: 5.03s\n",
      "237:\tlearn: 81363.2912722\ttotal: 1.57s\tremaining: 5.02s\n",
      "238:\tlearn: 81295.0078773\ttotal: 1.57s\tremaining: 5.01s\n",
      "239:\tlearn: 81233.7038187\ttotal: 1.58s\tremaining: 5s\n",
      "240:\tlearn: 81101.4984294\ttotal: 1.58s\tremaining: 4.99s\n",
      "241:\tlearn: 81065.0417296\ttotal: 1.59s\tremaining: 4.98s\n",
      "242:\tlearn: 81020.2529285\ttotal: 1.6s\tremaining: 4.97s\n",
      "243:\tlearn: 80882.9699165\ttotal: 1.6s\tremaining: 4.97s\n",
      "244:\tlearn: 80825.5581878\ttotal: 1.61s\tremaining: 4.96s\n",
      "245:\tlearn: 80809.7402674\ttotal: 1.61s\tremaining: 4.95s\n",
      "246:\tlearn: 80752.2587879\ttotal: 1.62s\tremaining: 4.94s\n",
      "247:\tlearn: 80698.9656942\ttotal: 1.63s\tremaining: 4.93s\n",
      "248:\tlearn: 80647.6311593\ttotal: 1.63s\tremaining: 4.92s\n",
      "249:\tlearn: 80632.7723801\ttotal: 1.64s\tremaining: 4.91s\n",
      "250:\tlearn: 80623.6882475\ttotal: 1.64s\tremaining: 4.91s\n",
      "251:\tlearn: 80614.9872746\ttotal: 1.65s\tremaining: 4.9s\n",
      "252:\tlearn: 80604.0264976\ttotal: 1.66s\tremaining: 4.89s\n",
      "253:\tlearn: 80596.0205751\ttotal: 1.66s\tremaining: 4.88s\n",
      "254:\tlearn: 80564.2297651\ttotal: 1.67s\tremaining: 4.87s\n",
      "255:\tlearn: 80529.7236445\ttotal: 1.67s\tremaining: 4.87s\n",
      "256:\tlearn: 80522.5440716\ttotal: 1.68s\tremaining: 4.86s\n",
      "257:\tlearn: 80515.6607648\ttotal: 1.69s\tremaining: 4.85s\n",
      "258:\tlearn: 80509.0598496\ttotal: 1.69s\tremaining: 4.84s\n",
      "259:\tlearn: 80435.8926390\ttotal: 1.7s\tremaining: 4.83s\n",
      "260:\tlearn: 80388.8134891\ttotal: 1.7s\tremaining: 4.82s\n",
      "261:\tlearn: 80333.4875812\ttotal: 1.71s\tremaining: 4.82s\n",
      "262:\tlearn: 80126.4564654\ttotal: 1.72s\tremaining: 4.81s\n",
      "263:\tlearn: 80120.9403514\ttotal: 1.72s\tremaining: 4.8s\n",
      "264:\tlearn: 80088.2999589\ttotal: 1.73s\tremaining: 4.79s\n",
      "265:\tlearn: 80047.3511750\ttotal: 1.73s\tremaining: 4.78s\n",
      "266:\tlearn: 80032.1648703\ttotal: 1.74s\tremaining: 4.78s\n",
      "267:\tlearn: 79967.8207756\ttotal: 1.75s\tremaining: 4.77s\n",
      "268:\tlearn: 79823.7436686\ttotal: 1.75s\tremaining: 4.76s\n",
      "269:\tlearn: 79796.0496415\ttotal: 1.76s\tremaining: 4.75s\n",
      "270:\tlearn: 79751.7939406\ttotal: 1.76s\tremaining: 4.74s\n",
      "271:\tlearn: 79746.7434053\ttotal: 1.77s\tremaining: 4.74s\n",
      "272:\tlearn: 79735.4945791\ttotal: 1.77s\tremaining: 4.73s\n",
      "273:\tlearn: 79552.0821356\ttotal: 1.78s\tremaining: 4.72s\n",
      "274:\tlearn: 79501.7783752\ttotal: 1.79s\tremaining: 4.71s\n",
      "275:\tlearn: 79465.1222508\ttotal: 1.79s\tremaining: 4.7s\n",
      "276:\tlearn: 79447.3948003\ttotal: 1.8s\tremaining: 4.69s\n",
      "277:\tlearn: 79409.0705907\ttotal: 1.8s\tremaining: 4.69s\n",
      "278:\tlearn: 79311.6153362\ttotal: 1.81s\tremaining: 4.68s\n",
      "279:\tlearn: 79296.3080447\ttotal: 1.82s\tremaining: 4.67s\n",
      "280:\tlearn: 79258.4282708\ttotal: 1.82s\tremaining: 4.67s\n",
      "281:\tlearn: 79234.4561353\ttotal: 1.83s\tremaining: 4.66s\n",
      "282:\tlearn: 79211.5573568\ttotal: 1.83s\tremaining: 4.65s\n",
      "283:\tlearn: 79134.1532987\ttotal: 1.84s\tremaining: 4.64s\n",
      "284:\tlearn: 79065.3482360\ttotal: 1.85s\tremaining: 4.63s\n",
      "285:\tlearn: 79025.9891617\ttotal: 1.85s\tremaining: 4.62s\n",
      "286:\tlearn: 78925.2812420\ttotal: 1.86s\tremaining: 4.62s\n",
      "287:\tlearn: 78896.5077995\ttotal: 1.86s\tremaining: 4.61s\n",
      "288:\tlearn: 78870.2269053\ttotal: 1.87s\tremaining: 4.6s\n",
      "289:\tlearn: 78769.5136746\ttotal: 1.88s\tremaining: 4.59s\n",
      "290:\tlearn: 78746.5886165\ttotal: 1.88s\tremaining: 4.58s\n",
      "291:\tlearn: 78687.4414076\ttotal: 1.89s\tremaining: 4.58s\n",
      "292:\tlearn: 78632.5634276\ttotal: 1.89s\tremaining: 4.57s\n",
      "293:\tlearn: 78610.6017612\ttotal: 1.9s\tremaining: 4.56s\n",
      "294:\tlearn: 78514.9807206\ttotal: 1.91s\tremaining: 4.55s\n",
      "295:\tlearn: 78489.3344680\ttotal: 1.91s\tremaining: 4.55s\n",
      "296:\tlearn: 78437.8473362\ttotal: 1.92s\tremaining: 4.54s\n",
      "297:\tlearn: 78436.0562890\ttotal: 1.92s\tremaining: 4.53s\n",
      "298:\tlearn: 78424.4506280\ttotal: 1.93s\tremaining: 4.52s\n",
      "299:\tlearn: 78336.4621971\ttotal: 1.93s\tremaining: 4.51s\n",
      "300:\tlearn: 78316.3836742\ttotal: 1.94s\tremaining: 4.5s\n",
      "301:\tlearn: 78296.8140871\ttotal: 1.95s\tremaining: 4.5s\n",
      "302:\tlearn: 78234.6436128\ttotal: 1.95s\tremaining: 4.49s\n",
      "303:\tlearn: 78216.8355792\ttotal: 1.96s\tremaining: 4.48s\n",
      "304:\tlearn: 78208.3326109\ttotal: 1.96s\tremaining: 4.47s\n",
      "305:\tlearn: 78200.3135317\ttotal: 1.97s\tremaining: 4.47s\n",
      "306:\tlearn: 78153.7777139\ttotal: 1.98s\tremaining: 4.46s\n",
      "307:\tlearn: 77873.1915247\ttotal: 1.98s\tremaining: 4.45s\n",
      "308:\tlearn: 77838.4443930\ttotal: 1.99s\tremaining: 4.44s\n",
      "309:\tlearn: 77762.3181789\ttotal: 1.99s\tremaining: 4.44s\n",
      "310:\tlearn: 77742.1603840\ttotal: 2s\tremaining: 4.43s\n",
      "311:\tlearn: 77684.3473437\ttotal: 2s\tremaining: 4.42s\n",
      "312:\tlearn: 77677.4043224\ttotal: 2.01s\tremaining: 4.41s\n",
      "313:\tlearn: 77623.2704326\ttotal: 2.02s\tremaining: 4.41s\n",
      "314:\tlearn: 77616.6886986\ttotal: 2.02s\tremaining: 4.4s\n",
      "315:\tlearn: 77610.4578086\ttotal: 2.03s\tremaining: 4.39s\n",
      "316:\tlearn: 77604.5554013\ttotal: 2.04s\tremaining: 4.38s\n",
      "317:\tlearn: 77562.6025559\ttotal: 2.04s\tremaining: 4.38s\n",
      "318:\tlearn: 77304.0688668\ttotal: 2.05s\tremaining: 4.37s\n",
      "319:\tlearn: 77253.3979808\ttotal: 2.05s\tremaining: 4.36s\n",
      "320:\tlearn: 77154.6952576\ttotal: 2.06s\tremaining: 4.36s\n",
      "321:\tlearn: 77098.4816730\ttotal: 2.07s\tremaining: 4.35s\n",
      "322:\tlearn: 77093.3562147\ttotal: 2.07s\tremaining: 4.34s\n",
      "323:\tlearn: 77072.1696550\ttotal: 2.08s\tremaining: 4.33s\n",
      "324:\tlearn: 77055.5579292\ttotal: 2.08s\tremaining: 4.33s\n",
      "325:\tlearn: 77007.8114955\ttotal: 2.09s\tremaining: 4.32s\n",
      "326:\tlearn: 76960.6059124\ttotal: 2.09s\tremaining: 4.31s\n",
      "327:\tlearn: 76946.5028237\ttotal: 2.1s\tremaining: 4.3s\n",
      "328:\tlearn: 76938.2095698\ttotal: 2.11s\tremaining: 4.29s\n",
      "329:\tlearn: 76932.9913951\ttotal: 2.11s\tremaining: 4.29s\n",
      "330:\tlearn: 76919.8202661\ttotal: 2.12s\tremaining: 4.28s\n",
      "331:\tlearn: 76860.4417246\ttotal: 2.12s\tremaining: 4.27s\n",
      "332:\tlearn: 76829.0008405\ttotal: 2.13s\tremaining: 4.26s\n",
      "333:\tlearn: 76803.1141622\ttotal: 2.13s\tremaining: 4.26s\n",
      "334:\tlearn: 76765.7895929\ttotal: 2.14s\tremaining: 4.25s\n",
      "335:\tlearn: 76721.9526918\ttotal: 2.15s\tremaining: 4.24s\n",
      "336:\tlearn: 76481.6226879\ttotal: 2.15s\tremaining: 4.24s\n",
      "337:\tlearn: 76348.2253911\ttotal: 2.16s\tremaining: 4.23s\n",
      "338:\tlearn: 76180.0670358\ttotal: 2.17s\tremaining: 4.22s\n",
      "339:\tlearn: 76054.4835283\ttotal: 2.17s\tremaining: 4.22s\n",
      "340:\tlearn: 75938.0210288\ttotal: 2.18s\tremaining: 4.21s\n",
      "341:\tlearn: 75900.3174724\ttotal: 2.18s\tremaining: 4.2s\n",
      "342:\tlearn: 75733.1895834\ttotal: 2.19s\tremaining: 4.19s\n",
      "343:\tlearn: 75721.8970124\ttotal: 2.19s\tremaining: 4.18s\n",
      "344:\tlearn: 75714.6893143\ttotal: 2.2s\tremaining: 4.18s\n",
      "345:\tlearn: 75516.1136113\ttotal: 2.21s\tremaining: 4.17s\n",
      "346:\tlearn: 75480.6738360\ttotal: 2.21s\tremaining: 4.16s\n"
     ]
    },
    {
     "name": "stdout",
     "output_type": "stream",
     "text": [
      "347:\tlearn: 75466.6320278\ttotal: 2.22s\tremaining: 4.16s\n",
      "348:\tlearn: 75450.4376519\ttotal: 2.23s\tremaining: 4.15s\n",
      "349:\tlearn: 75427.7765817\ttotal: 2.23s\tremaining: 4.14s\n",
      "350:\tlearn: 75374.2824687\ttotal: 2.24s\tremaining: 4.14s\n",
      "351:\tlearn: 75367.7188647\ttotal: 2.24s\tremaining: 4.13s\n",
      "352:\tlearn: 75363.1935232\ttotal: 2.25s\tremaining: 4.12s\n",
      "353:\tlearn: 75353.2993566\ttotal: 2.25s\tremaining: 4.11s\n",
      "354:\tlearn: 75344.4331890\ttotal: 2.26s\tremaining: 4.1s\n",
      "355:\tlearn: 75343.4912142\ttotal: 2.26s\tremaining: 4.1s\n",
      "356:\tlearn: 75321.8257149\ttotal: 2.27s\tremaining: 4.09s\n",
      "357:\tlearn: 75246.7050556\ttotal: 2.28s\tremaining: 4.08s\n",
      "358:\tlearn: 75168.7753622\ttotal: 2.28s\tremaining: 4.08s\n",
      "359:\tlearn: 75152.4523606\ttotal: 2.29s\tremaining: 4.07s\n",
      "360:\tlearn: 75110.9530369\ttotal: 2.29s\tremaining: 4.06s\n",
      "361:\tlearn: 75077.6253623\ttotal: 2.3s\tremaining: 4.05s\n",
      "362:\tlearn: 75046.3155772\ttotal: 2.31s\tremaining: 4.05s\n",
      "363:\tlearn: 75016.8562295\ttotal: 2.31s\tremaining: 4.04s\n",
      "364:\tlearn: 74988.5200146\ttotal: 2.32s\tremaining: 4.03s\n",
      "365:\tlearn: 74943.8436838\ttotal: 2.32s\tremaining: 4.03s\n",
      "366:\tlearn: 74826.9513403\ttotal: 2.33s\tremaining: 4.02s\n",
      "367:\tlearn: 74768.7962304\ttotal: 2.34s\tremaining: 4.01s\n",
      "368:\tlearn: 74735.8421355\ttotal: 2.34s\tremaining: 4s\n",
      "369:\tlearn: 74603.8197705\ttotal: 2.35s\tremaining: 4s\n",
      "370:\tlearn: 74592.8134124\ttotal: 2.35s\tremaining: 3.99s\n",
      "371:\tlearn: 74564.9818464\ttotal: 2.36s\tremaining: 3.98s\n",
      "372:\tlearn: 74539.2539974\ttotal: 2.37s\tremaining: 3.98s\n",
      "373:\tlearn: 74501.1408738\ttotal: 2.37s\tremaining: 3.97s\n",
      "374:\tlearn: 74477.3825295\ttotal: 2.38s\tremaining: 3.96s\n",
      "375:\tlearn: 74450.7052046\ttotal: 2.38s\tremaining: 3.95s\n",
      "376:\tlearn: 74404.1130484\ttotal: 2.39s\tremaining: 3.95s\n",
      "377:\tlearn: 74401.4869937\ttotal: 2.39s\tremaining: 3.94s\n",
      "378:\tlearn: 74391.4408254\ttotal: 2.4s\tremaining: 3.93s\n",
      "379:\tlearn: 73892.9200579\ttotal: 2.41s\tremaining: 3.92s\n",
      "380:\tlearn: 73843.6036733\ttotal: 2.41s\tremaining: 3.92s\n",
      "381:\tlearn: 73828.2391895\ttotal: 2.42s\tremaining: 3.91s\n",
      "382:\tlearn: 73818.6402789\ttotal: 2.42s\tremaining: 3.9s\n",
      "383:\tlearn: 73795.5135042\ttotal: 2.43s\tremaining: 3.9s\n",
      "384:\tlearn: 73775.9574781\ttotal: 2.44s\tremaining: 3.89s\n",
      "385:\tlearn: 73742.4035467\ttotal: 2.44s\tremaining: 3.88s\n",
      "386:\tlearn: 73722.9217734\ttotal: 2.45s\tremaining: 3.88s\n",
      "387:\tlearn: 73556.9601534\ttotal: 2.45s\tremaining: 3.87s\n",
      "388:\tlearn: 73494.5867359\ttotal: 2.46s\tremaining: 3.86s\n",
      "389:\tlearn: 73492.4003946\ttotal: 2.46s\tremaining: 3.86s\n",
      "390:\tlearn: 73440.1249024\ttotal: 2.47s\tremaining: 3.85s\n",
      "391:\tlearn: 73404.4981732\ttotal: 2.48s\tremaining: 3.84s\n",
      "392:\tlearn: 73369.7486408\ttotal: 2.48s\tremaining: 3.83s\n",
      "393:\tlearn: 73358.3415380\ttotal: 2.49s\tremaining: 3.83s\n",
      "394:\tlearn: 73331.1868547\ttotal: 2.5s\tremaining: 3.82s\n",
      "395:\tlearn: 73305.7268898\ttotal: 2.5s\tremaining: 3.81s\n",
      "396:\tlearn: 73305.4882945\ttotal: 2.51s\tremaining: 3.81s\n",
      "397:\tlearn: 73182.4802986\ttotal: 2.51s\tremaining: 3.8s\n",
      "398:\tlearn: 73148.9167010\ttotal: 2.52s\tremaining: 3.79s\n",
      "399:\tlearn: 73107.7885921\ttotal: 2.52s\tremaining: 3.79s\n",
      "400:\tlearn: 73096.4576142\ttotal: 2.53s\tremaining: 3.78s\n",
      "401:\tlearn: 73086.5379481\ttotal: 2.54s\tremaining: 3.77s\n",
      "402:\tlearn: 73054.3093947\ttotal: 2.54s\tremaining: 3.77s\n",
      "403:\tlearn: 73042.1095933\ttotal: 2.55s\tremaining: 3.76s\n",
      "404:\tlearn: 73034.0377129\ttotal: 2.55s\tremaining: 3.75s\n",
      "405:\tlearn: 72582.7553673\ttotal: 2.56s\tremaining: 3.75s\n",
      "406:\tlearn: 72537.5122984\ttotal: 2.56s\tremaining: 3.74s\n",
      "407:\tlearn: 72510.2474149\ttotal: 2.57s\tremaining: 3.73s\n",
      "408:\tlearn: 72480.3895559\ttotal: 2.58s\tremaining: 3.73s\n",
      "409:\tlearn: 72391.2853174\ttotal: 2.58s\tremaining: 3.72s\n",
      "410:\tlearn: 72364.1551976\ttotal: 2.59s\tremaining: 3.71s\n",
      "411:\tlearn: 72338.4151702\ttotal: 2.6s\tremaining: 3.71s\n",
      "412:\tlearn: 72318.4165139\ttotal: 2.6s\tremaining: 3.7s\n",
      "413:\tlearn: 72307.7540096\ttotal: 2.61s\tremaining: 3.69s\n",
      "414:\tlearn: 72285.3093379\ttotal: 2.61s\tremaining: 3.68s\n",
      "415:\tlearn: 72276.1793322\ttotal: 2.62s\tremaining: 3.68s\n",
      "416:\tlearn: 72240.0924627\ttotal: 2.63s\tremaining: 3.67s\n",
      "417:\tlearn: 72211.8635646\ttotal: 2.63s\tremaining: 3.67s\n",
      "418:\tlearn: 72130.7285638\ttotal: 2.64s\tremaining: 3.66s\n",
      "419:\tlearn: 72007.6310635\ttotal: 2.64s\tremaining: 3.65s\n",
      "420:\tlearn: 71986.4167866\ttotal: 2.65s\tremaining: 3.64s\n",
      "421:\tlearn: 71962.7278229\ttotal: 2.65s\tremaining: 3.64s\n",
      "422:\tlearn: 71899.4689437\ttotal: 2.66s\tremaining: 3.63s\n",
      "423:\tlearn: 71888.2375154\ttotal: 2.67s\tremaining: 3.62s\n",
      "424:\tlearn: 71831.2203750\ttotal: 2.67s\tremaining: 3.62s\n",
      "425:\tlearn: 71747.8632916\ttotal: 2.68s\tremaining: 3.61s\n",
      "426:\tlearn: 71706.1166691\ttotal: 2.69s\tremaining: 3.6s\n",
      "427:\tlearn: 71690.0032991\ttotal: 2.69s\tremaining: 3.6s\n",
      "428:\tlearn: 71662.8300105\ttotal: 2.7s\tremaining: 3.59s\n",
      "429:\tlearn: 71648.9273382\ttotal: 2.7s\tremaining: 3.58s\n",
      "430:\tlearn: 71523.0594646\ttotal: 2.71s\tremaining: 3.58s\n",
      "431:\tlearn: 71072.4973844\ttotal: 2.71s\tremaining: 3.57s\n",
      "432:\tlearn: 71046.8764207\ttotal: 2.72s\tremaining: 3.56s\n",
      "433:\tlearn: 71014.7263118\ttotal: 2.73s\tremaining: 3.55s\n",
      "434:\tlearn: 70982.4227686\ttotal: 2.73s\tremaining: 3.55s\n",
      "435:\tlearn: 70913.6304459\ttotal: 2.74s\tremaining: 3.54s\n",
      "436:\tlearn: 70876.5344678\ttotal: 2.74s\tremaining: 3.53s\n",
      "437:\tlearn: 70866.9733793\ttotal: 2.75s\tremaining: 3.53s\n",
      "438:\tlearn: 70843.0991172\ttotal: 2.75s\tremaining: 3.52s\n",
      "439:\tlearn: 70768.9987465\ttotal: 2.76s\tremaining: 3.51s\n",
      "440:\tlearn: 70355.9684172\ttotal: 2.77s\tremaining: 3.51s\n",
      "441:\tlearn: 70284.5665859\ttotal: 2.77s\tremaining: 3.5s\n",
      "442:\tlearn: 70260.1453422\ttotal: 2.78s\tremaining: 3.49s\n",
      "443:\tlearn: 70187.5426755\ttotal: 2.78s\tremaining: 3.49s\n",
      "444:\tlearn: 70153.4074140\ttotal: 2.79s\tremaining: 3.48s\n",
      "445:\tlearn: 70153.2148424\ttotal: 2.79s\tremaining: 3.47s\n",
      "446:\tlearn: 70153.0302309\ttotal: 2.8s\tremaining: 3.46s\n",
      "447:\tlearn: 70129.2165083\ttotal: 2.81s\tremaining: 3.46s\n",
      "448:\tlearn: 70129.0086850\ttotal: 2.81s\tremaining: 3.45s\n",
      "449:\tlearn: 70128.8342654\ttotal: 2.82s\tremaining: 3.44s\n",
      "450:\tlearn: 70096.7158148\ttotal: 2.82s\tremaining: 3.44s\n",
      "451:\tlearn: 70096.5222236\ttotal: 2.83s\tremaining: 3.43s\n",
      "452:\tlearn: 70065.2118656\ttotal: 2.83s\tremaining: 3.42s\n",
      "453:\tlearn: 69914.8411079\ttotal: 2.84s\tremaining: 3.42s\n",
      "454:\tlearn: 69884.0157473\ttotal: 2.85s\tremaining: 3.41s\n",
      "455:\tlearn: 69883.8523870\ttotal: 2.85s\tremaining: 3.4s\n",
      "456:\tlearn: 69854.4305661\ttotal: 2.86s\tremaining: 3.4s\n",
      "457:\tlearn: 69854.2494091\ttotal: 2.86s\tremaining: 3.39s\n",
      "458:\tlearn: 69829.0628535\ttotal: 2.87s\tremaining: 3.38s\n",
      "459:\tlearn: 69765.4118426\ttotal: 2.88s\tremaining: 3.38s\n",
      "460:\tlearn: 69702.1884774\ttotal: 2.88s\tremaining: 3.37s\n",
      "461:\tlearn: 69667.0361778\ttotal: 2.89s\tremaining: 3.36s\n",
      "462:\tlearn: 69610.3050142\ttotal: 2.89s\tremaining: 3.35s\n",
      "463:\tlearn: 69588.9841557\ttotal: 2.9s\tremaining: 3.35s\n",
      "464:\tlearn: 69566.5217963\ttotal: 2.9s\tremaining: 3.34s\n",
      "465:\tlearn: 69500.3770553\ttotal: 2.91s\tremaining: 3.33s\n",
      "466:\tlearn: 69414.5870930\ttotal: 2.92s\tremaining: 3.33s\n",
      "467:\tlearn: 69349.2054487\ttotal: 2.92s\tremaining: 3.32s\n",
      "468:\tlearn: 69327.5798656\ttotal: 2.93s\tremaining: 3.31s\n",
      "469:\tlearn: 69264.8474909\ttotal: 2.93s\tremaining: 3.31s\n",
      "470:\tlearn: 69253.3795011\ttotal: 2.94s\tremaining: 3.3s\n",
      "471:\tlearn: 69193.6529263\ttotal: 2.94s\tremaining: 3.29s\n",
      "472:\tlearn: 69157.7457237\ttotal: 2.95s\tremaining: 3.29s\n",
      "473:\tlearn: 69102.9676413\ttotal: 2.96s\tremaining: 3.28s\n",
      "474:\tlearn: 69080.9122683\ttotal: 2.96s\tremaining: 3.27s\n",
      "475:\tlearn: 68995.4112757\ttotal: 2.97s\tremaining: 3.27s\n",
      "476:\tlearn: 68968.4376857\ttotal: 2.97s\tremaining: 3.26s\n",
      "477:\tlearn: 68968.2656298\ttotal: 2.98s\tremaining: 3.25s\n",
      "478:\tlearn: 68904.2670266\ttotal: 2.98s\tremaining: 3.25s\n",
      "479:\tlearn: 68862.9258785\ttotal: 2.99s\tremaining: 3.24s\n",
      "480:\tlearn: 68862.7606006\ttotal: 3s\tremaining: 3.23s\n",
      "481:\tlearn: 68862.6022052\ttotal: 3s\tremaining: 3.23s\n",
      "482:\tlearn: 68839.6456762\ttotal: 3.01s\tremaining: 3.22s\n",
      "483:\tlearn: 68776.2330569\ttotal: 3.01s\tremaining: 3.21s\n",
      "484:\tlearn: 68733.6958862\ttotal: 3.02s\tremaining: 3.21s\n",
      "485:\tlearn: 68733.5304577\ttotal: 3.02s\tremaining: 3.2s\n",
      "486:\tlearn: 68733.3719109\ttotal: 3.03s\tremaining: 3.19s\n",
      "487:\tlearn: 68682.5521583\ttotal: 3.04s\tremaining: 3.19s\n",
      "488:\tlearn: 68656.6711626\ttotal: 3.04s\tremaining: 3.18s\n",
      "489:\tlearn: 68636.3807467\ttotal: 3.05s\tremaining: 3.17s\n",
      "490:\tlearn: 68636.2228547\ttotal: 3.05s\tremaining: 3.17s\n",
      "491:\tlearn: 68580.8393028\ttotal: 3.06s\tremaining: 3.16s\n",
      "492:\tlearn: 68557.2919118\ttotal: 3.06s\tremaining: 3.15s\n",
      "493:\tlearn: 68202.6797695\ttotal: 3.07s\tremaining: 3.14s\n",
      "494:\tlearn: 68159.9692172\ttotal: 3.08s\tremaining: 3.14s\n",
      "495:\tlearn: 68116.1881479\ttotal: 3.08s\tremaining: 3.13s\n",
      "496:\tlearn: 68116.0372066\ttotal: 3.09s\tremaining: 3.12s\n",
      "497:\tlearn: 68009.7611553\ttotal: 3.09s\tremaining: 3.12s\n",
      "498:\tlearn: 67997.0427146\ttotal: 3.1s\tremaining: 3.11s\n",
      "499:\tlearn: 67957.9298856\ttotal: 3.1s\tremaining: 3.1s\n",
      "500:\tlearn: 67936.6783046\ttotal: 3.11s\tremaining: 3.1s\n",
      "501:\tlearn: 67936.3198180\ttotal: 3.12s\tremaining: 3.09s\n",
      "502:\tlearn: 67936.0324241\ttotal: 3.12s\tremaining: 3.08s\n",
      "503:\tlearn: 67904.7343026\ttotal: 3.13s\tremaining: 3.08s\n",
      "504:\tlearn: 67855.6316314\ttotal: 3.13s\tremaining: 3.07s\n",
      "505:\tlearn: 67832.7561911\ttotal: 3.14s\tremaining: 3.06s\n",
      "506:\tlearn: 67775.2671512\ttotal: 3.15s\tremaining: 3.06s\n",
      "507:\tlearn: 67775.1227499\ttotal: 3.15s\tremaining: 3.05s\n",
      "508:\tlearn: 67774.9843150\ttotal: 3.16s\tremaining: 3.04s\n",
      "509:\tlearn: 67752.5137841\ttotal: 3.16s\tremaining: 3.04s\n",
      "510:\tlearn: 67746.7295897\ttotal: 3.17s\tremaining: 3.03s\n",
      "511:\tlearn: 67746.3986127\ttotal: 3.17s\tremaining: 3.02s\n",
      "512:\tlearn: 67734.5042242\ttotal: 3.18s\tremaining: 3.02s\n",
      "513:\tlearn: 67718.4098617\ttotal: 3.19s\tremaining: 3.01s\n",
      "514:\tlearn: 67718.1606792\ttotal: 3.19s\tremaining: 3s\n",
      "515:\tlearn: 67718.0322392\ttotal: 3.19s\tremaining: 3s\n",
      "516:\tlearn: 67624.4369402\ttotal: 3.2s\tremaining: 2.99s\n",
      "517:\tlearn: 67609.4269946\ttotal: 3.21s\tremaining: 2.98s\n",
      "518:\tlearn: 67609.2943207\ttotal: 3.21s\tremaining: 2.98s\n",
      "519:\tlearn: 67434.8838835\ttotal: 3.22s\tremaining: 2.97s\n",
      "520:\tlearn: 67415.7332838\ttotal: 3.22s\tremaining: 2.96s\n"
     ]
    },
    {
     "name": "stdout",
     "output_type": "stream",
     "text": [
      "521:\tlearn: 67357.4697316\ttotal: 3.23s\tremaining: 2.96s\n",
      "522:\tlearn: 67332.5416529\ttotal: 3.24s\tremaining: 2.95s\n",
      "523:\tlearn: 67322.1618596\ttotal: 3.24s\tremaining: 2.95s\n",
      "524:\tlearn: 67274.0368155\ttotal: 3.25s\tremaining: 2.94s\n",
      "525:\tlearn: 67262.6592718\ttotal: 3.25s\tremaining: 2.93s\n",
      "526:\tlearn: 67251.8576654\ttotal: 3.26s\tremaining: 2.93s\n",
      "527:\tlearn: 67251.7108789\ttotal: 3.27s\tremaining: 2.92s\n",
      "528:\tlearn: 67251.5884192\ttotal: 3.27s\tremaining: 2.91s\n",
      "529:\tlearn: 67212.9186647\ttotal: 3.28s\tremaining: 2.91s\n",
      "530:\tlearn: 67168.8070605\ttotal: 3.28s\tremaining: 2.9s\n",
      "531:\tlearn: 67160.8307433\ttotal: 3.29s\tremaining: 2.89s\n",
      "532:\tlearn: 67124.6993974\ttotal: 3.29s\tremaining: 2.89s\n",
      "533:\tlearn: 67039.1225278\ttotal: 3.3s\tremaining: 2.88s\n",
      "534:\tlearn: 67010.7399905\ttotal: 3.31s\tremaining: 2.87s\n",
      "535:\tlearn: 67010.6129793\ttotal: 3.31s\tremaining: 2.87s\n",
      "536:\tlearn: 67010.3661264\ttotal: 3.32s\tremaining: 2.86s\n",
      "537:\tlearn: 66974.1211506\ttotal: 3.32s\tremaining: 2.85s\n",
      "538:\tlearn: 66974.0038117\ttotal: 3.33s\tremaining: 2.85s\n",
      "539:\tlearn: 66933.5179783\ttotal: 3.33s\tremaining: 2.84s\n",
      "540:\tlearn: 66933.3897906\ttotal: 3.34s\tremaining: 2.83s\n",
      "541:\tlearn: 66933.2816827\ttotal: 3.34s\tremaining: 2.83s\n",
      "542:\tlearn: 66933.1779913\ttotal: 3.35s\tremaining: 2.82s\n",
      "543:\tlearn: 66884.8606358\ttotal: 3.36s\tremaining: 2.81s\n",
      "544:\tlearn: 66720.3094506\ttotal: 3.36s\tremaining: 2.81s\n",
      "545:\tlearn: 66720.1906393\ttotal: 3.37s\tremaining: 2.8s\n",
      "546:\tlearn: 66710.0033061\ttotal: 3.37s\tremaining: 2.79s\n",
      "547:\tlearn: 66670.4514368\ttotal: 3.38s\tremaining: 2.79s\n",
      "548:\tlearn: 66665.7766527\ttotal: 3.38s\tremaining: 2.78s\n",
      "549:\tlearn: 66519.0990693\ttotal: 3.39s\tremaining: 2.77s\n",
      "550:\tlearn: 66178.4718120\ttotal: 3.4s\tremaining: 2.77s\n",
      "551:\tlearn: 66166.7070976\ttotal: 3.4s\tremaining: 2.76s\n",
      "552:\tlearn: 65862.4843723\ttotal: 3.41s\tremaining: 2.75s\n",
      "553:\tlearn: 65828.4769308\ttotal: 3.42s\tremaining: 2.75s\n",
      "554:\tlearn: 65709.9680139\ttotal: 3.42s\tremaining: 2.74s\n",
      "555:\tlearn: 65677.2749147\ttotal: 3.43s\tremaining: 2.74s\n",
      "556:\tlearn: 65645.2335607\ttotal: 3.43s\tremaining: 2.73s\n",
      "557:\tlearn: 65613.5273258\ttotal: 3.44s\tremaining: 2.73s\n",
      "558:\tlearn: 65582.6821418\ttotal: 3.45s\tremaining: 2.72s\n",
      "559:\tlearn: 65553.0982852\ttotal: 3.45s\tremaining: 2.71s\n",
      "560:\tlearn: 65509.3147079\ttotal: 3.46s\tremaining: 2.71s\n",
      "561:\tlearn: 65485.0824699\ttotal: 3.46s\tremaining: 2.7s\n",
      "562:\tlearn: 65368.4017186\ttotal: 3.47s\tremaining: 2.69s\n",
      "563:\tlearn: 65256.5219501\ttotal: 3.48s\tremaining: 2.69s\n",
      "564:\tlearn: 65197.7658973\ttotal: 3.48s\tremaining: 2.68s\n",
      "565:\tlearn: 65131.6590175\ttotal: 3.49s\tremaining: 2.68s\n",
      "566:\tlearn: 65075.8106376\ttotal: 3.5s\tremaining: 2.67s\n",
      "567:\tlearn: 64972.2382856\ttotal: 3.5s\tremaining: 2.66s\n",
      "568:\tlearn: 64937.1186876\ttotal: 3.51s\tremaining: 2.66s\n",
      "569:\tlearn: 64886.3703172\ttotal: 3.51s\tremaining: 2.65s\n",
      "570:\tlearn: 64857.8842476\ttotal: 3.52s\tremaining: 2.64s\n",
      "571:\tlearn: 64800.2970219\ttotal: 3.52s\tremaining: 2.64s\n",
      "572:\tlearn: 64773.7256662\ttotal: 3.53s\tremaining: 2.63s\n",
      "573:\tlearn: 64716.2557759\ttotal: 3.54s\tremaining: 2.63s\n",
      "574:\tlearn: 64692.6012856\ttotal: 3.54s\tremaining: 2.62s\n",
      "575:\tlearn: 64660.1785368\ttotal: 3.55s\tremaining: 2.61s\n",
      "576:\tlearn: 64621.8960002\ttotal: 3.55s\tremaining: 2.61s\n",
      "577:\tlearn: 64611.8488725\ttotal: 3.56s\tremaining: 2.6s\n",
      "578:\tlearn: 64585.0924169\ttotal: 3.57s\tremaining: 2.59s\n",
      "579:\tlearn: 64533.0596518\ttotal: 3.57s\tremaining: 2.59s\n",
      "580:\tlearn: 64435.7116968\ttotal: 3.58s\tremaining: 2.58s\n",
      "581:\tlearn: 64390.9593522\ttotal: 3.58s\tremaining: 2.57s\n",
      "582:\tlearn: 64361.9537828\ttotal: 3.59s\tremaining: 2.57s\n",
      "583:\tlearn: 64339.9058377\ttotal: 3.6s\tremaining: 2.56s\n",
      "584:\tlearn: 64297.8976394\ttotal: 3.6s\tremaining: 2.55s\n",
      "585:\tlearn: 64260.3609004\ttotal: 3.61s\tremaining: 2.55s\n",
      "586:\tlearn: 64242.1388081\ttotal: 3.61s\tremaining: 2.54s\n",
      "587:\tlearn: 64175.0378697\ttotal: 3.62s\tremaining: 2.54s\n",
      "588:\tlearn: 64136.0371852\ttotal: 3.63s\tremaining: 2.53s\n",
      "589:\tlearn: 64105.9199194\ttotal: 3.63s\tremaining: 2.52s\n",
      "590:\tlearn: 63978.1207328\ttotal: 3.64s\tremaining: 2.52s\n",
      "591:\tlearn: 63920.6097483\ttotal: 3.65s\tremaining: 2.51s\n",
      "592:\tlearn: 63870.9557429\ttotal: 3.65s\tremaining: 2.51s\n",
      "593:\tlearn: 63562.0651921\ttotal: 3.66s\tremaining: 2.5s\n",
      "594:\tlearn: 63531.8104850\ttotal: 3.66s\tremaining: 2.49s\n",
      "595:\tlearn: 63490.1244631\ttotal: 3.67s\tremaining: 2.49s\n",
      "596:\tlearn: 63466.4838853\ttotal: 3.67s\tremaining: 2.48s\n",
      "597:\tlearn: 63453.6718091\ttotal: 3.68s\tremaining: 2.47s\n",
      "598:\tlearn: 63427.4388198\ttotal: 3.69s\tremaining: 2.47s\n",
      "599:\tlearn: 63410.7308746\ttotal: 3.69s\tremaining: 2.46s\n",
      "600:\tlearn: 63399.0258418\ttotal: 3.7s\tremaining: 2.46s\n",
      "601:\tlearn: 63324.9697760\ttotal: 3.7s\tremaining: 2.45s\n",
      "602:\tlearn: 63288.9673294\ttotal: 3.71s\tremaining: 2.44s\n",
      "603:\tlearn: 63230.4533564\ttotal: 3.72s\tremaining: 2.44s\n",
      "604:\tlearn: 63202.7527593\ttotal: 3.72s\tremaining: 2.43s\n",
      "605:\tlearn: 63173.1631445\ttotal: 3.73s\tremaining: 2.42s\n",
      "606:\tlearn: 63148.6017759\ttotal: 3.73s\tremaining: 2.42s\n",
      "607:\tlearn: 63134.5721756\ttotal: 3.74s\tremaining: 2.41s\n",
      "608:\tlearn: 63123.6793335\ttotal: 3.75s\tremaining: 2.4s\n",
      "609:\tlearn: 63110.8476687\ttotal: 3.75s\tremaining: 2.4s\n",
      "610:\tlearn: 63096.3438652\ttotal: 3.76s\tremaining: 2.39s\n",
      "611:\tlearn: 63086.3213928\ttotal: 3.76s\tremaining: 2.38s\n",
      "612:\tlearn: 63080.5033412\ttotal: 3.77s\tremaining: 2.38s\n",
      "613:\tlearn: 63058.5322920\ttotal: 3.77s\tremaining: 2.37s\n",
      "614:\tlearn: 63036.8441338\ttotal: 3.78s\tremaining: 2.37s\n",
      "615:\tlearn: 62906.9640282\ttotal: 3.78s\tremaining: 2.36s\n",
      "616:\tlearn: 62869.5101228\ttotal: 3.79s\tremaining: 2.35s\n",
      "617:\tlearn: 62724.1825745\ttotal: 3.8s\tremaining: 2.35s\n",
      "618:\tlearn: 62716.5583905\ttotal: 3.8s\tremaining: 2.34s\n",
      "619:\tlearn: 62707.4592871\ttotal: 3.81s\tremaining: 2.33s\n",
      "620:\tlearn: 62697.7883635\ttotal: 3.81s\tremaining: 2.33s\n",
      "621:\tlearn: 62644.1844179\ttotal: 3.82s\tremaining: 2.32s\n",
      "622:\tlearn: 62628.9655740\ttotal: 3.83s\tremaining: 2.31s\n",
      "623:\tlearn: 62501.5929562\ttotal: 3.83s\tremaining: 2.31s\n",
      "624:\tlearn: 62450.7659603\ttotal: 3.84s\tremaining: 2.3s\n",
      "625:\tlearn: 62419.4562832\ttotal: 3.84s\tremaining: 2.3s\n",
      "626:\tlearn: 62403.9935917\ttotal: 3.85s\tremaining: 2.29s\n",
      "627:\tlearn: 62366.1867907\ttotal: 3.86s\tremaining: 2.28s\n",
      "628:\tlearn: 62331.4423980\ttotal: 3.86s\tremaining: 2.28s\n",
      "629:\tlearn: 62199.1393148\ttotal: 3.87s\tremaining: 2.27s\n",
      "630:\tlearn: 62164.0671494\ttotal: 3.87s\tremaining: 2.27s\n",
      "631:\tlearn: 62080.7979718\ttotal: 3.88s\tremaining: 2.26s\n",
      "632:\tlearn: 62035.4558094\ttotal: 3.88s\tremaining: 2.25s\n",
      "633:\tlearn: 62001.8138611\ttotal: 3.89s\tremaining: 2.25s\n",
      "634:\tlearn: 61993.1055937\ttotal: 3.9s\tremaining: 2.24s\n",
      "635:\tlearn: 61707.1162241\ttotal: 3.9s\tremaining: 2.23s\n",
      "636:\tlearn: 61694.6681532\ttotal: 3.91s\tremaining: 2.23s\n",
      "637:\tlearn: 61662.5434510\ttotal: 3.91s\tremaining: 2.22s\n",
      "638:\tlearn: 61626.3821013\ttotal: 3.92s\tremaining: 2.21s\n",
      "639:\tlearn: 61605.9527688\ttotal: 3.93s\tremaining: 2.21s\n",
      "640:\tlearn: 61576.1890970\ttotal: 3.93s\tremaining: 2.2s\n",
      "641:\tlearn: 61557.0237455\ttotal: 3.94s\tremaining: 2.2s\n",
      "642:\tlearn: 61294.0453411\ttotal: 3.94s\tremaining: 2.19s\n",
      "643:\tlearn: 61289.2370340\ttotal: 3.95s\tremaining: 2.18s\n",
      "644:\tlearn: 61270.4274980\ttotal: 3.96s\tremaining: 2.18s\n",
      "645:\tlearn: 61261.1504732\ttotal: 3.96s\tremaining: 2.17s\n",
      "646:\tlearn: 61226.0599316\ttotal: 3.97s\tremaining: 2.16s\n",
      "647:\tlearn: 61195.8463165\ttotal: 3.97s\tremaining: 2.16s\n",
      "648:\tlearn: 61143.6036857\ttotal: 3.98s\tremaining: 2.15s\n",
      "649:\tlearn: 61114.3444524\ttotal: 3.98s\tremaining: 2.15s\n",
      "650:\tlearn: 61106.0635687\ttotal: 3.99s\tremaining: 2.14s\n",
      "651:\tlearn: 61078.8577056\ttotal: 4s\tremaining: 2.13s\n",
      "652:\tlearn: 60988.8804085\ttotal: 4s\tremaining: 2.13s\n",
      "653:\tlearn: 60957.6597946\ttotal: 4.01s\tremaining: 2.12s\n",
      "654:\tlearn: 60928.2756378\ttotal: 4.01s\tremaining: 2.11s\n",
      "655:\tlearn: 60881.1430554\ttotal: 4.02s\tremaining: 2.11s\n",
      "656:\tlearn: 60857.5205376\ttotal: 4.03s\tremaining: 2.1s\n",
      "657:\tlearn: 60851.4494129\ttotal: 4.03s\tremaining: 2.1s\n",
      "658:\tlearn: 60851.1958751\ttotal: 4.04s\tremaining: 2.09s\n",
      "659:\tlearn: 60817.3187202\ttotal: 4.04s\tremaining: 2.08s\n",
      "660:\tlearn: 60808.3339207\ttotal: 4.05s\tremaining: 2.08s\n",
      "661:\tlearn: 60781.8191359\ttotal: 4.06s\tremaining: 2.07s\n",
      "662:\tlearn: 60756.7479186\ttotal: 4.06s\tremaining: 2.06s\n",
      "663:\tlearn: 60756.6284132\ttotal: 4.07s\tremaining: 2.06s\n",
      "664:\tlearn: 60726.9188488\ttotal: 4.07s\tremaining: 2.05s\n",
      "665:\tlearn: 60726.8043396\ttotal: 4.08s\tremaining: 2.04s\n",
      "666:\tlearn: 60598.6971547\ttotal: 4.08s\tremaining: 2.04s\n",
      "667:\tlearn: 60388.5536640\ttotal: 4.09s\tremaining: 2.03s\n",
      "668:\tlearn: 60347.4432641\ttotal: 4.1s\tremaining: 2.03s\n",
      "669:\tlearn: 60309.0582774\ttotal: 4.1s\tremaining: 2.02s\n",
      "670:\tlearn: 60276.5461550\ttotal: 4.11s\tremaining: 2.01s\n",
      "671:\tlearn: 60240.6055271\ttotal: 4.11s\tremaining: 2.01s\n",
      "672:\tlearn: 60152.4293229\ttotal: 4.12s\tremaining: 2s\n",
      "673:\tlearn: 60124.2733217\ttotal: 4.13s\tremaining: 2s\n",
      "674:\tlearn: 60099.5061996\ttotal: 4.13s\tremaining: 1.99s\n",
      "675:\tlearn: 60094.8686602\ttotal: 4.14s\tremaining: 1.98s\n",
      "676:\tlearn: 60059.5132476\ttotal: 4.14s\tremaining: 1.98s\n",
      "677:\tlearn: 60020.2212092\ttotal: 4.15s\tremaining: 1.97s\n",
      "678:\tlearn: 60002.3754449\ttotal: 4.16s\tremaining: 1.96s\n",
      "679:\tlearn: 59993.7586869\ttotal: 4.16s\tremaining: 1.96s\n",
      "680:\tlearn: 59961.6925518\ttotal: 4.17s\tremaining: 1.95s\n",
      "681:\tlearn: 59937.8847183\ttotal: 4.17s\tremaining: 1.95s\n",
      "682:\tlearn: 59891.5013574\ttotal: 4.18s\tremaining: 1.94s\n",
      "683:\tlearn: 59843.2894521\ttotal: 4.19s\tremaining: 1.93s\n",
      "684:\tlearn: 59792.9999121\ttotal: 4.19s\tremaining: 1.93s\n",
      "685:\tlearn: 59767.7681389\ttotal: 4.2s\tremaining: 1.92s\n",
      "686:\tlearn: 59651.8631542\ttotal: 4.2s\tremaining: 1.92s\n",
      "687:\tlearn: 59644.1998499\ttotal: 4.21s\tremaining: 1.91s\n",
      "688:\tlearn: 59599.1403231\ttotal: 4.22s\tremaining: 1.9s\n",
      "689:\tlearn: 59548.2656710\ttotal: 4.22s\tremaining: 1.9s\n"
     ]
    },
    {
     "name": "stdout",
     "output_type": "stream",
     "text": [
      "690:\tlearn: 59516.8051622\ttotal: 4.23s\tremaining: 1.89s\n",
      "691:\tlearn: 59489.1007699\ttotal: 4.24s\tremaining: 1.89s\n",
      "692:\tlearn: 59483.3861302\ttotal: 4.24s\tremaining: 1.88s\n",
      "693:\tlearn: 59448.7951947\ttotal: 4.25s\tremaining: 1.87s\n",
      "694:\tlearn: 59441.2121006\ttotal: 4.25s\tremaining: 1.87s\n",
      "695:\tlearn: 59369.8103166\ttotal: 4.26s\tremaining: 1.86s\n",
      "696:\tlearn: 59350.3581635\ttotal: 4.27s\tremaining: 1.85s\n",
      "697:\tlearn: 59284.6936542\ttotal: 4.27s\tremaining: 1.85s\n",
      "698:\tlearn: 59276.6687995\ttotal: 4.28s\tremaining: 1.84s\n",
      "699:\tlearn: 59199.3669715\ttotal: 4.28s\tremaining: 1.84s\n",
      "700:\tlearn: 59180.4312077\ttotal: 4.29s\tremaining: 1.83s\n",
      "701:\tlearn: 59163.0670639\ttotal: 4.29s\tremaining: 1.82s\n",
      "702:\tlearn: 59154.0736639\ttotal: 4.3s\tremaining: 1.82s\n",
      "703:\tlearn: 59115.9351800\ttotal: 4.31s\tremaining: 1.81s\n",
      "704:\tlearn: 59070.1872293\ttotal: 4.31s\tremaining: 1.8s\n",
      "705:\tlearn: 59056.3910731\ttotal: 4.32s\tremaining: 1.8s\n",
      "706:\tlearn: 59031.4128817\ttotal: 4.32s\tremaining: 1.79s\n",
      "707:\tlearn: 58992.9874413\ttotal: 4.33s\tremaining: 1.79s\n",
      "708:\tlearn: 58950.3918475\ttotal: 4.34s\tremaining: 1.78s\n",
      "709:\tlearn: 58908.8981592\ttotal: 4.34s\tremaining: 1.77s\n",
      "710:\tlearn: 58864.2317373\ttotal: 4.35s\tremaining: 1.77s\n",
      "711:\tlearn: 58846.8797575\ttotal: 4.35s\tremaining: 1.76s\n",
      "712:\tlearn: 58825.7615197\ttotal: 4.36s\tremaining: 1.75s\n",
      "713:\tlearn: 58813.3068887\ttotal: 4.37s\tremaining: 1.75s\n",
      "714:\tlearn: 58765.6264412\ttotal: 4.37s\tremaining: 1.74s\n",
      "715:\tlearn: 58649.3874592\ttotal: 4.38s\tremaining: 1.74s\n",
      "716:\tlearn: 58615.4032221\ttotal: 4.38s\tremaining: 1.73s\n",
      "717:\tlearn: 58542.3396748\ttotal: 4.39s\tremaining: 1.72s\n",
      "718:\tlearn: 58527.7641318\ttotal: 4.39s\tremaining: 1.72s\n",
      "719:\tlearn: 58515.9044065\ttotal: 4.4s\tremaining: 1.71s\n",
      "720:\tlearn: 58453.4484579\ttotal: 4.41s\tremaining: 1.71s\n",
      "721:\tlearn: 58414.2574923\ttotal: 4.41s\tremaining: 1.7s\n",
      "722:\tlearn: 58376.1725037\ttotal: 4.42s\tremaining: 1.69s\n",
      "723:\tlearn: 58350.7972410\ttotal: 4.42s\tremaining: 1.69s\n",
      "724:\tlearn: 58322.7579407\ttotal: 4.43s\tremaining: 1.68s\n",
      "725:\tlearn: 58312.4531962\ttotal: 4.44s\tremaining: 1.67s\n",
      "726:\tlearn: 58213.1179062\ttotal: 4.44s\tremaining: 1.67s\n",
      "727:\tlearn: 58206.3354026\ttotal: 4.45s\tremaining: 1.66s\n",
      "728:\tlearn: 58190.3380959\ttotal: 4.46s\tremaining: 1.66s\n",
      "729:\tlearn: 58153.0403668\ttotal: 4.46s\tremaining: 1.65s\n",
      "730:\tlearn: 58128.9607981\ttotal: 4.47s\tremaining: 1.64s\n",
      "731:\tlearn: 58103.9336176\ttotal: 4.47s\tremaining: 1.64s\n",
      "732:\tlearn: 58038.2147392\ttotal: 4.48s\tremaining: 1.63s\n",
      "733:\tlearn: 58005.2821587\ttotal: 4.49s\tremaining: 1.63s\n",
      "734:\tlearn: 57795.1275510\ttotal: 4.49s\tremaining: 1.62s\n",
      "735:\tlearn: 57769.4154409\ttotal: 4.5s\tremaining: 1.61s\n",
      "736:\tlearn: 57757.1248787\ttotal: 4.5s\tremaining: 1.61s\n",
      "737:\tlearn: 57733.9234706\ttotal: 4.51s\tremaining: 1.6s\n",
      "738:\tlearn: 57702.4837731\ttotal: 4.51s\tremaining: 1.59s\n",
      "739:\tlearn: 57683.0814994\ttotal: 4.52s\tremaining: 1.59s\n",
      "740:\tlearn: 57667.7364773\ttotal: 4.53s\tremaining: 1.58s\n",
      "741:\tlearn: 57661.6049355\ttotal: 4.53s\tremaining: 1.57s\n",
      "742:\tlearn: 57526.3558701\ttotal: 4.54s\tremaining: 1.57s\n",
      "743:\tlearn: 57479.9463792\ttotal: 4.54s\tremaining: 1.56s\n",
      "744:\tlearn: 57468.1354409\ttotal: 4.55s\tremaining: 1.56s\n",
      "745:\tlearn: 57439.1127511\ttotal: 4.56s\tremaining: 1.55s\n",
      "746:\tlearn: 57411.9844370\ttotal: 4.56s\tremaining: 1.54s\n",
      "747:\tlearn: 57391.8922994\ttotal: 4.57s\tremaining: 1.54s\n",
      "748:\tlearn: 57366.7177682\ttotal: 4.57s\tremaining: 1.53s\n",
      "749:\tlearn: 57352.3828234\ttotal: 4.58s\tremaining: 1.53s\n",
      "750:\tlearn: 57344.9271261\ttotal: 4.58s\tremaining: 1.52s\n",
      "751:\tlearn: 57314.0682645\ttotal: 4.59s\tremaining: 1.51s\n",
      "752:\tlearn: 57289.2686849\ttotal: 4.6s\tremaining: 1.51s\n",
      "753:\tlearn: 57255.1851893\ttotal: 4.6s\tremaining: 1.5s\n",
      "754:\tlearn: 57244.4955967\ttotal: 4.61s\tremaining: 1.5s\n",
      "755:\tlearn: 57232.5571891\ttotal: 4.61s\tremaining: 1.49s\n",
      "756:\tlearn: 57202.9564820\ttotal: 4.62s\tremaining: 1.48s\n",
      "757:\tlearn: 57195.2979774\ttotal: 4.63s\tremaining: 1.48s\n",
      "758:\tlearn: 57174.1294360\ttotal: 4.63s\tremaining: 1.47s\n",
      "759:\tlearn: 57167.2232822\ttotal: 4.64s\tremaining: 1.46s\n",
      "760:\tlearn: 57155.7900875\ttotal: 4.64s\tremaining: 1.46s\n",
      "761:\tlearn: 57059.3946763\ttotal: 4.65s\tremaining: 1.45s\n",
      "762:\tlearn: 56939.1996145\ttotal: 4.66s\tremaining: 1.45s\n",
      "763:\tlearn: 56890.4267379\ttotal: 4.66s\tremaining: 1.44s\n",
      "764:\tlearn: 56713.5142831\ttotal: 4.67s\tremaining: 1.43s\n",
      "765:\tlearn: 56694.8038414\ttotal: 4.68s\tremaining: 1.43s\n",
      "766:\tlearn: 56673.9685153\ttotal: 4.68s\tremaining: 1.42s\n",
      "767:\tlearn: 56656.3277220\ttotal: 4.69s\tremaining: 1.42s\n",
      "768:\tlearn: 56653.0954866\ttotal: 4.69s\tremaining: 1.41s\n",
      "769:\tlearn: 56635.3873481\ttotal: 4.7s\tremaining: 1.4s\n",
      "770:\tlearn: 56628.7455410\ttotal: 4.71s\tremaining: 1.4s\n",
      "771:\tlearn: 56626.6610554\ttotal: 4.71s\tremaining: 1.39s\n",
      "772:\tlearn: 56606.8054662\ttotal: 4.72s\tremaining: 1.39s\n",
      "773:\tlearn: 56604.8530390\ttotal: 4.72s\tremaining: 1.38s\n",
      "774:\tlearn: 56512.6744875\ttotal: 4.73s\tremaining: 1.37s\n",
      "775:\tlearn: 56482.3906607\ttotal: 4.74s\tremaining: 1.37s\n",
      "776:\tlearn: 56466.4958125\ttotal: 4.74s\tremaining: 1.36s\n",
      "777:\tlearn: 56452.6273442\ttotal: 4.75s\tremaining: 1.35s\n",
      "778:\tlearn: 56437.7021864\ttotal: 4.75s\tremaining: 1.35s\n",
      "779:\tlearn: 56423.2264000\ttotal: 4.76s\tremaining: 1.34s\n",
      "780:\tlearn: 56404.4776005\ttotal: 4.76s\tremaining: 1.34s\n",
      "781:\tlearn: 56403.5277469\ttotal: 4.77s\tremaining: 1.33s\n",
      "782:\tlearn: 56393.0666568\ttotal: 4.78s\tremaining: 1.32s\n",
      "783:\tlearn: 56382.6543574\ttotal: 4.78s\tremaining: 1.32s\n",
      "784:\tlearn: 56293.4520847\ttotal: 4.79s\tremaining: 1.31s\n",
      "785:\tlearn: 56262.2842785\ttotal: 4.79s\tremaining: 1.3s\n",
      "786:\tlearn: 56240.3863698\ttotal: 4.8s\tremaining: 1.3s\n",
      "787:\tlearn: 56194.0623172\ttotal: 4.81s\tremaining: 1.29s\n",
      "788:\tlearn: 56138.5247027\ttotal: 4.81s\tremaining: 1.29s\n",
      "789:\tlearn: 56120.6810652\ttotal: 4.82s\tremaining: 1.28s\n",
      "790:\tlearn: 56031.0568433\ttotal: 4.82s\tremaining: 1.27s\n",
      "791:\tlearn: 56014.1071750\ttotal: 4.83s\tremaining: 1.27s\n",
      "792:\tlearn: 55949.0533503\ttotal: 4.84s\tremaining: 1.26s\n",
      "793:\tlearn: 55927.0153145\ttotal: 4.84s\tremaining: 1.26s\n",
      "794:\tlearn: 55910.9305954\ttotal: 4.85s\tremaining: 1.25s\n",
      "795:\tlearn: 55900.3946738\ttotal: 4.86s\tremaining: 1.24s\n",
      "796:\tlearn: 55887.3442526\ttotal: 4.86s\tremaining: 1.24s\n",
      "797:\tlearn: 55859.1456667\ttotal: 4.87s\tremaining: 1.23s\n",
      "798:\tlearn: 55814.4563153\ttotal: 4.87s\tremaining: 1.23s\n",
      "799:\tlearn: 55784.3184659\ttotal: 4.88s\tremaining: 1.22s\n",
      "800:\tlearn: 55759.8468040\ttotal: 4.89s\tremaining: 1.21s\n",
      "801:\tlearn: 55703.7080242\ttotal: 4.89s\tremaining: 1.21s\n",
      "802:\tlearn: 55682.4447874\ttotal: 4.9s\tremaining: 1.2s\n",
      "803:\tlearn: 55673.2558117\ttotal: 4.9s\tremaining: 1.2s\n",
      "804:\tlearn: 55669.5262096\ttotal: 4.91s\tremaining: 1.19s\n",
      "805:\tlearn: 55652.9870346\ttotal: 4.92s\tremaining: 1.18s\n",
      "806:\tlearn: 55639.8903862\ttotal: 4.92s\tremaining: 1.18s\n",
      "807:\tlearn: 55628.3294479\ttotal: 4.93s\tremaining: 1.17s\n",
      "808:\tlearn: 55608.3785539\ttotal: 4.93s\tremaining: 1.16s\n",
      "809:\tlearn: 55604.8773439\ttotal: 4.94s\tremaining: 1.16s\n",
      "810:\tlearn: 55571.2400942\ttotal: 4.94s\tremaining: 1.15s\n",
      "811:\tlearn: 55540.6878269\ttotal: 4.95s\tremaining: 1.15s\n",
      "812:\tlearn: 55499.7511522\ttotal: 4.96s\tremaining: 1.14s\n",
      "813:\tlearn: 55471.6333499\ttotal: 4.96s\tremaining: 1.13s\n",
      "814:\tlearn: 55441.4961694\ttotal: 4.97s\tremaining: 1.13s\n",
      "815:\tlearn: 55438.1002651\ttotal: 4.97s\tremaining: 1.12s\n",
      "816:\tlearn: 55422.0285787\ttotal: 4.98s\tremaining: 1.11s\n",
      "817:\tlearn: 55397.4051053\ttotal: 4.99s\tremaining: 1.11s\n",
      "818:\tlearn: 55376.0644276\ttotal: 4.99s\tremaining: 1.1s\n",
      "819:\tlearn: 55333.4319566\ttotal: 5s\tremaining: 1.1s\n",
      "820:\tlearn: 55317.9431090\ttotal: 5s\tremaining: 1.09s\n",
      "821:\tlearn: 55292.4019771\ttotal: 5.01s\tremaining: 1.08s\n",
      "822:\tlearn: 55211.0005753\ttotal: 5.01s\tremaining: 1.08s\n",
      "823:\tlearn: 55197.4858558\ttotal: 5.02s\tremaining: 1.07s\n",
      "824:\tlearn: 55182.7586431\ttotal: 5.03s\tremaining: 1.07s\n",
      "825:\tlearn: 55155.0065400\ttotal: 5.03s\tremaining: 1.06s\n",
      "826:\tlearn: 55132.2871527\ttotal: 5.04s\tremaining: 1.05s\n",
      "827:\tlearn: 55126.9612176\ttotal: 5.04s\tremaining: 1.05s\n",
      "828:\tlearn: 55110.1239585\ttotal: 5.05s\tremaining: 1.04s\n",
      "829:\tlearn: 55099.0822285\ttotal: 5.06s\tremaining: 1.03s\n",
      "830:\tlearn: 55015.4532551\ttotal: 5.06s\tremaining: 1.03s\n",
      "831:\tlearn: 55012.2271179\ttotal: 5.07s\tremaining: 1.02s\n",
      "832:\tlearn: 54986.4523291\ttotal: 5.08s\tremaining: 1.02s\n",
      "833:\tlearn: 54976.7050950\ttotal: 5.08s\tremaining: 1.01s\n",
      "834:\tlearn: 54963.3765245\ttotal: 5.09s\tremaining: 1s\n",
      "835:\tlearn: 54950.8914815\ttotal: 5.09s\tremaining: 999ms\n",
      "836:\tlearn: 54938.1675133\ttotal: 5.1s\tremaining: 993ms\n",
      "837:\tlearn: 54909.7774392\ttotal: 5.1s\tremaining: 987ms\n",
      "838:\tlearn: 54893.8529431\ttotal: 5.11s\tremaining: 981ms\n",
      "839:\tlearn: 54882.0630186\ttotal: 5.12s\tremaining: 974ms\n",
      "840:\tlearn: 54855.0223616\ttotal: 5.12s\tremaining: 968ms\n",
      "841:\tlearn: 54850.2446680\ttotal: 5.13s\tremaining: 962ms\n",
      "842:\tlearn: 54834.6696664\ttotal: 5.13s\tremaining: 956ms\n",
      "843:\tlearn: 54831.6008038\ttotal: 5.14s\tremaining: 950ms\n",
      "844:\tlearn: 54811.3278416\ttotal: 5.14s\tremaining: 944ms\n",
      "845:\tlearn: 54788.0455713\ttotal: 5.15s\tremaining: 937ms\n",
      "846:\tlearn: 54786.3252153\ttotal: 5.16s\tremaining: 931ms\n",
      "847:\tlearn: 54776.1701298\ttotal: 5.16s\tremaining: 925ms\n",
      "848:\tlearn: 54697.7686443\ttotal: 5.17s\tremaining: 919ms\n",
      "849:\tlearn: 54677.2662154\ttotal: 5.17s\tremaining: 913ms\n",
      "850:\tlearn: 54652.5586115\ttotal: 5.18s\tremaining: 907ms\n",
      "851:\tlearn: 54581.0512645\ttotal: 5.18s\tremaining: 901ms\n",
      "852:\tlearn: 54555.2257675\ttotal: 5.19s\tremaining: 895ms\n",
      "853:\tlearn: 54540.6842858\ttotal: 5.2s\tremaining: 889ms\n",
      "854:\tlearn: 54521.3323334\ttotal: 5.2s\tremaining: 883ms\n",
      "855:\tlearn: 54516.9256150\ttotal: 5.21s\tremaining: 876ms\n",
      "856:\tlearn: 54503.0868349\ttotal: 5.21s\tremaining: 870ms\n",
      "857:\tlearn: 54496.1042243\ttotal: 5.22s\tremaining: 864ms\n",
      "858:\tlearn: 54473.0764484\ttotal: 5.23s\tremaining: 858ms\n",
      "859:\tlearn: 54395.4072608\ttotal: 5.23s\tremaining: 852ms\n",
      "860:\tlearn: 54373.1852051\ttotal: 5.24s\tremaining: 846ms\n",
      "861:\tlearn: 54343.8495410\ttotal: 5.25s\tremaining: 840ms\n"
     ]
    },
    {
     "name": "stdout",
     "output_type": "stream",
     "text": [
      "862:\tlearn: 54306.5041594\ttotal: 5.25s\tremaining: 834ms\n",
      "863:\tlearn: 54290.8665066\ttotal: 5.26s\tremaining: 828ms\n",
      "864:\tlearn: 54267.0126516\ttotal: 5.26s\tremaining: 822ms\n",
      "865:\tlearn: 54247.9637567\ttotal: 5.27s\tremaining: 816ms\n",
      "866:\tlearn: 54225.3177036\ttotal: 5.28s\tremaining: 810ms\n",
      "867:\tlearn: 54204.8011360\ttotal: 5.28s\tremaining: 803ms\n",
      "868:\tlearn: 54192.1235775\ttotal: 5.29s\tremaining: 797ms\n",
      "869:\tlearn: 54172.5843795\ttotal: 5.29s\tremaining: 791ms\n",
      "870:\tlearn: 54160.5614384\ttotal: 5.3s\tremaining: 785ms\n",
      "871:\tlearn: 54124.4299289\ttotal: 5.31s\tremaining: 779ms\n",
      "872:\tlearn: 54104.4096489\ttotal: 5.31s\tremaining: 773ms\n",
      "873:\tlearn: 54093.0002087\ttotal: 5.32s\tremaining: 767ms\n",
      "874:\tlearn: 54084.3573825\ttotal: 5.32s\tremaining: 761ms\n",
      "875:\tlearn: 54065.8626213\ttotal: 5.33s\tremaining: 754ms\n",
      "876:\tlearn: 54046.0020541\ttotal: 5.33s\tremaining: 748ms\n",
      "877:\tlearn: 54042.5042010\ttotal: 5.34s\tremaining: 742ms\n",
      "878:\tlearn: 54013.0544252\ttotal: 5.35s\tremaining: 736ms\n",
      "879:\tlearn: 53997.2960415\ttotal: 5.35s\tremaining: 730ms\n",
      "880:\tlearn: 53978.4409648\ttotal: 5.36s\tremaining: 724ms\n",
      "881:\tlearn: 53948.1898653\ttotal: 5.36s\tremaining: 718ms\n",
      "882:\tlearn: 53930.2099692\ttotal: 5.37s\tremaining: 711ms\n",
      "883:\tlearn: 53915.5666414\ttotal: 5.38s\tremaining: 705ms\n",
      "884:\tlearn: 53907.5447940\ttotal: 5.38s\tremaining: 699ms\n",
      "885:\tlearn: 53897.3169557\ttotal: 5.39s\tremaining: 693ms\n",
      "886:\tlearn: 53833.8795104\ttotal: 5.39s\tremaining: 687ms\n",
      "887:\tlearn: 53814.9240398\ttotal: 5.4s\tremaining: 681ms\n",
      "888:\tlearn: 53809.4663478\ttotal: 5.4s\tremaining: 675ms\n",
      "889:\tlearn: 53803.9651978\ttotal: 5.41s\tremaining: 669ms\n",
      "890:\tlearn: 53801.8537141\ttotal: 5.42s\tremaining: 663ms\n",
      "891:\tlearn: 53763.3909846\ttotal: 5.42s\tremaining: 656ms\n",
      "892:\tlearn: 53758.2745701\ttotal: 5.43s\tremaining: 650ms\n",
      "893:\tlearn: 53736.3626872\ttotal: 5.43s\tremaining: 644ms\n",
      "894:\tlearn: 53723.3203567\ttotal: 5.44s\tremaining: 638ms\n",
      "895:\tlearn: 53705.6299283\ttotal: 5.44s\tremaining: 632ms\n",
      "896:\tlearn: 53700.5434798\ttotal: 5.45s\tremaining: 626ms\n",
      "897:\tlearn: 53687.6173207\ttotal: 5.46s\tremaining: 620ms\n",
      "898:\tlearn: 53639.3917427\ttotal: 5.46s\tremaining: 614ms\n",
      "899:\tlearn: 53621.4256856\ttotal: 5.47s\tremaining: 608ms\n",
      "900:\tlearn: 53606.9677223\ttotal: 5.47s\tremaining: 602ms\n",
      "901:\tlearn: 53604.5956784\ttotal: 5.48s\tremaining: 595ms\n",
      "902:\tlearn: 53590.9210040\ttotal: 5.49s\tremaining: 589ms\n",
      "903:\tlearn: 53574.4011921\ttotal: 5.49s\tremaining: 583ms\n",
      "904:\tlearn: 53569.6180336\ttotal: 5.5s\tremaining: 577ms\n",
      "905:\tlearn: 53547.4081599\ttotal: 5.5s\tremaining: 571ms\n",
      "906:\tlearn: 53531.8442093\ttotal: 5.51s\tremaining: 565ms\n",
      "907:\tlearn: 53495.3006494\ttotal: 5.52s\tremaining: 559ms\n",
      "908:\tlearn: 53468.7059882\ttotal: 5.52s\tremaining: 553ms\n",
      "909:\tlearn: 53451.5048626\ttotal: 5.53s\tremaining: 547ms\n",
      "910:\tlearn: 53443.1741951\ttotal: 5.53s\tremaining: 541ms\n",
      "911:\tlearn: 53430.1308288\ttotal: 5.54s\tremaining: 535ms\n",
      "912:\tlearn: 53296.9517842\ttotal: 5.54s\tremaining: 528ms\n",
      "913:\tlearn: 53285.3424782\ttotal: 5.55s\tremaining: 522ms\n",
      "914:\tlearn: 53253.1436597\ttotal: 5.56s\tremaining: 516ms\n",
      "915:\tlearn: 53249.9302956\ttotal: 5.56s\tremaining: 510ms\n",
      "916:\tlearn: 53225.0925318\ttotal: 5.57s\tremaining: 504ms\n",
      "917:\tlearn: 53168.5911982\ttotal: 5.58s\tremaining: 498ms\n",
      "918:\tlearn: 53118.4761782\ttotal: 5.58s\tremaining: 492ms\n",
      "919:\tlearn: 53115.5561952\ttotal: 5.59s\tremaining: 486ms\n",
      "920:\tlearn: 53104.4521493\ttotal: 5.59s\tremaining: 480ms\n",
      "921:\tlearn: 53082.8846144\ttotal: 5.6s\tremaining: 474ms\n",
      "922:\tlearn: 53067.9300532\ttotal: 5.61s\tremaining: 468ms\n",
      "923:\tlearn: 53035.8348281\ttotal: 5.61s\tremaining: 461ms\n",
      "924:\tlearn: 53016.8883438\ttotal: 5.62s\tremaining: 455ms\n",
      "925:\tlearn: 53014.2234302\ttotal: 5.62s\tremaining: 449ms\n",
      "926:\tlearn: 52953.3806994\ttotal: 5.63s\tremaining: 443ms\n",
      "927:\tlearn: 52933.8332044\ttotal: 5.63s\tremaining: 437ms\n",
      "928:\tlearn: 52917.8119655\ttotal: 5.64s\tremaining: 431ms\n",
      "929:\tlearn: 52907.6390599\ttotal: 5.65s\tremaining: 425ms\n",
      "930:\tlearn: 52875.4322337\ttotal: 5.65s\tremaining: 419ms\n",
      "931:\tlearn: 52855.0516444\ttotal: 5.66s\tremaining: 413ms\n",
      "932:\tlearn: 52852.8381260\ttotal: 5.67s\tremaining: 407ms\n",
      "933:\tlearn: 52832.9173827\ttotal: 5.67s\tremaining: 401ms\n",
      "934:\tlearn: 52819.0105099\ttotal: 5.68s\tremaining: 395ms\n",
      "935:\tlearn: 52795.2211090\ttotal: 5.68s\tremaining: 389ms\n",
      "936:\tlearn: 52779.6704243\ttotal: 5.69s\tremaining: 383ms\n",
      "937:\tlearn: 52751.3337220\ttotal: 5.7s\tremaining: 376ms\n",
      "938:\tlearn: 52749.9753863\ttotal: 5.7s\tremaining: 370ms\n",
      "939:\tlearn: 52702.8276370\ttotal: 5.71s\tremaining: 364ms\n",
      "940:\tlearn: 52661.2982971\ttotal: 5.71s\tremaining: 358ms\n",
      "941:\tlearn: 52650.4475644\ttotal: 5.72s\tremaining: 352ms\n",
      "942:\tlearn: 52637.8001687\ttotal: 5.72s\tremaining: 346ms\n",
      "943:\tlearn: 52634.8717123\ttotal: 5.73s\tremaining: 340ms\n",
      "944:\tlearn: 52620.3049136\ttotal: 5.74s\tremaining: 334ms\n",
      "945:\tlearn: 52597.1915261\ttotal: 5.74s\tremaining: 328ms\n",
      "946:\tlearn: 52595.6476355\ttotal: 5.75s\tremaining: 322ms\n",
      "947:\tlearn: 52582.3032097\ttotal: 5.75s\tremaining: 316ms\n",
      "948:\tlearn: 52573.4144222\ttotal: 5.76s\tremaining: 310ms\n",
      "949:\tlearn: 52520.8276083\ttotal: 5.77s\tremaining: 304ms\n",
      "950:\tlearn: 52492.2509556\ttotal: 5.77s\tremaining: 297ms\n",
      "951:\tlearn: 52489.5203630\ttotal: 5.78s\tremaining: 291ms\n",
      "952:\tlearn: 52470.0271088\ttotal: 5.78s\tremaining: 285ms\n",
      "953:\tlearn: 52443.1469157\ttotal: 5.79s\tremaining: 279ms\n",
      "954:\tlearn: 52432.7332245\ttotal: 5.8s\tremaining: 273ms\n",
      "955:\tlearn: 52417.1879576\ttotal: 5.8s\tremaining: 267ms\n",
      "956:\tlearn: 52407.2376644\ttotal: 5.81s\tremaining: 261ms\n",
      "957:\tlearn: 52391.6666193\ttotal: 5.82s\tremaining: 255ms\n",
      "958:\tlearn: 52388.7965506\ttotal: 5.82s\tremaining: 249ms\n",
      "959:\tlearn: 52361.7121441\ttotal: 5.83s\tremaining: 243ms\n",
      "960:\tlearn: 52341.4120908\ttotal: 5.83s\tremaining: 237ms\n",
      "961:\tlearn: 52317.0169715\ttotal: 5.84s\tremaining: 231ms\n",
      "962:\tlearn: 52304.9119154\ttotal: 5.85s\tremaining: 225ms\n",
      "963:\tlearn: 52296.0972290\ttotal: 5.85s\tremaining: 219ms\n",
      "964:\tlearn: 52284.2182763\ttotal: 5.86s\tremaining: 212ms\n",
      "965:\tlearn: 52275.9373278\ttotal: 5.86s\tremaining: 206ms\n",
      "966:\tlearn: 52273.4715047\ttotal: 5.87s\tremaining: 200ms\n",
      "967:\tlearn: 52262.3544209\ttotal: 5.88s\tremaining: 194ms\n",
      "968:\tlearn: 52234.6567203\ttotal: 5.88s\tremaining: 188ms\n",
      "969:\tlearn: 52170.6177305\ttotal: 5.89s\tremaining: 182ms\n",
      "970:\tlearn: 52162.0998081\ttotal: 5.89s\tremaining: 176ms\n",
      "971:\tlearn: 52120.1226508\ttotal: 5.9s\tremaining: 170ms\n",
      "972:\tlearn: 52102.4344400\ttotal: 5.91s\tremaining: 164ms\n",
      "973:\tlearn: 52058.9171380\ttotal: 5.91s\tremaining: 158ms\n",
      "974:\tlearn: 52045.5130729\ttotal: 5.92s\tremaining: 152ms\n",
      "975:\tlearn: 52008.8484658\ttotal: 5.92s\tremaining: 146ms\n",
      "976:\tlearn: 51992.0282950\ttotal: 5.93s\tremaining: 140ms\n",
      "977:\tlearn: 51982.1039379\ttotal: 5.94s\tremaining: 134ms\n",
      "978:\tlearn: 51968.5590194\ttotal: 5.94s\tremaining: 127ms\n",
      "979:\tlearn: 51937.6705940\ttotal: 5.95s\tremaining: 121ms\n",
      "980:\tlearn: 51910.5955302\ttotal: 5.96s\tremaining: 115ms\n",
      "981:\tlearn: 51900.1526769\ttotal: 5.96s\tremaining: 109ms\n",
      "982:\tlearn: 51894.0098251\ttotal: 5.97s\tremaining: 103ms\n",
      "983:\tlearn: 51850.2847308\ttotal: 5.97s\tremaining: 97.1ms\n",
      "984:\tlearn: 51840.6489399\ttotal: 5.98s\tremaining: 91.1ms\n",
      "985:\tlearn: 51827.2989901\ttotal: 5.99s\tremaining: 85ms\n",
      "986:\tlearn: 51821.9869160\ttotal: 5.99s\tremaining: 78.9ms\n",
      "987:\tlearn: 51691.9642485\ttotal: 6s\tremaining: 72.8ms\n",
      "988:\tlearn: 51579.6970817\ttotal: 6s\tremaining: 66.8ms\n",
      "989:\tlearn: 51550.7753790\ttotal: 6.01s\tremaining: 60.7ms\n",
      "990:\tlearn: 51534.7591185\ttotal: 6.01s\tremaining: 54.6ms\n",
      "991:\tlearn: 51506.6604885\ttotal: 6.02s\tremaining: 48.6ms\n",
      "992:\tlearn: 51481.8989862\ttotal: 6.03s\tremaining: 42.5ms\n",
      "993:\tlearn: 51467.3076665\ttotal: 6.03s\tremaining: 36.4ms\n",
      "994:\tlearn: 51457.9793736\ttotal: 6.04s\tremaining: 30.4ms\n",
      "995:\tlearn: 51426.9722669\ttotal: 6.05s\tremaining: 24.3ms\n",
      "996:\tlearn: 51418.0508296\ttotal: 6.05s\tremaining: 18.2ms\n",
      "997:\tlearn: 51400.4042258\ttotal: 6.06s\tremaining: 12.1ms\n",
      "998:\tlearn: 51391.4135937\ttotal: 6.07s\tremaining: 6.07ms\n",
      "999:\tlearn: 51381.3014324\ttotal: 6.07s\tremaining: 0us\n"
     ]
    },
    {
     "data": {
      "text/plain": [
       "<catboost.core.CatBoostRegressor at 0x2330e814110>"
      ]
     },
     "execution_count": 25,
     "metadata": {},
     "output_type": "execute_result"
    }
   ],
   "source": [
    "from catboost import CatBoostRegressor\n",
    "CBR = CatBoostRegressor()\n",
    "CBR.fit(X_train, y_train)"
   ]
  },
  {
   "cell_type": "code",
   "execution_count": 26,
   "id": "4af92f83",
   "metadata": {},
   "outputs": [
    {
     "data": {
      "text/plain": [
       "array([ 1403.82900541,  -623.48063023,  4889.98159569, ...,\n",
       "        5373.05578614, 13327.31042638, 83466.23700511])"
      ]
     },
     "execution_count": 26,
     "metadata": {},
     "output_type": "execute_result"
    }
   ],
   "source": [
    "y_pred_cbr = CBR.predict(X_test)\n",
    "y_pred_cbr"
   ]
  },
  {
   "cell_type": "code",
   "execution_count": 27,
   "id": "6cbc0fca",
   "metadata": {},
   "outputs": [],
   "source": [
    "# from sklearn.kernel_ridge import KernelRidge\n",
    "# KR = KernelRidge()\n",
    "# KR.fit(X_train, y_train)"
   ]
  },
  {
   "cell_type": "code",
   "execution_count": 28,
   "id": "b2bbdc99",
   "metadata": {},
   "outputs": [],
   "source": [
    "# y_pred_kr = KR.predict(X_test)"
   ]
  },
  {
   "cell_type": "code",
   "execution_count": 29,
   "id": "7b2d57f5",
   "metadata": {},
   "outputs": [
    {
     "data": {
      "text/html": [
       "<style>#sk-container-id-7 {color: black;}#sk-container-id-7 pre{padding: 0;}#sk-container-id-7 div.sk-toggleable {background-color: white;}#sk-container-id-7 label.sk-toggleable__label {cursor: pointer;display: block;width: 100%;margin-bottom: 0;padding: 0.3em;box-sizing: border-box;text-align: center;}#sk-container-id-7 label.sk-toggleable__label-arrow:before {content: \"▸\";float: left;margin-right: 0.25em;color: #696969;}#sk-container-id-7 label.sk-toggleable__label-arrow:hover:before {color: black;}#sk-container-id-7 div.sk-estimator:hover label.sk-toggleable__label-arrow:before {color: black;}#sk-container-id-7 div.sk-toggleable__content {max-height: 0;max-width: 0;overflow: hidden;text-align: left;background-color: #f0f8ff;}#sk-container-id-7 div.sk-toggleable__content pre {margin: 0.2em;color: black;border-radius: 0.25em;background-color: #f0f8ff;}#sk-container-id-7 input.sk-toggleable__control:checked~div.sk-toggleable__content {max-height: 200px;max-width: 100%;overflow: auto;}#sk-container-id-7 input.sk-toggleable__control:checked~label.sk-toggleable__label-arrow:before {content: \"▾\";}#sk-container-id-7 div.sk-estimator input.sk-toggleable__control:checked~label.sk-toggleable__label {background-color: #d4ebff;}#sk-container-id-7 div.sk-label input.sk-toggleable__control:checked~label.sk-toggleable__label {background-color: #d4ebff;}#sk-container-id-7 input.sk-hidden--visually {border: 0;clip: rect(1px 1px 1px 1px);clip: rect(1px, 1px, 1px, 1px);height: 1px;margin: -1px;overflow: hidden;padding: 0;position: absolute;width: 1px;}#sk-container-id-7 div.sk-estimator {font-family: monospace;background-color: #f0f8ff;border: 1px dotted black;border-radius: 0.25em;box-sizing: border-box;margin-bottom: 0.5em;}#sk-container-id-7 div.sk-estimator:hover {background-color: #d4ebff;}#sk-container-id-7 div.sk-parallel-item::after {content: \"\";width: 100%;border-bottom: 1px solid gray;flex-grow: 1;}#sk-container-id-7 div.sk-label:hover label.sk-toggleable__label {background-color: #d4ebff;}#sk-container-id-7 div.sk-serial::before {content: \"\";position: absolute;border-left: 1px solid gray;box-sizing: border-box;top: 0;bottom: 0;left: 50%;z-index: 0;}#sk-container-id-7 div.sk-serial {display: flex;flex-direction: column;align-items: center;background-color: white;padding-right: 0.2em;padding-left: 0.2em;position: relative;}#sk-container-id-7 div.sk-item {position: relative;z-index: 1;}#sk-container-id-7 div.sk-parallel {display: flex;align-items: stretch;justify-content: center;background-color: white;position: relative;}#sk-container-id-7 div.sk-item::before, #sk-container-id-7 div.sk-parallel-item::before {content: \"\";position: absolute;border-left: 1px solid gray;box-sizing: border-box;top: 0;bottom: 0;left: 50%;z-index: -1;}#sk-container-id-7 div.sk-parallel-item {display: flex;flex-direction: column;z-index: 1;position: relative;background-color: white;}#sk-container-id-7 div.sk-parallel-item:first-child::after {align-self: flex-end;width: 50%;}#sk-container-id-7 div.sk-parallel-item:last-child::after {align-self: flex-start;width: 50%;}#sk-container-id-7 div.sk-parallel-item:only-child::after {width: 0;}#sk-container-id-7 div.sk-dashed-wrapped {border: 1px dashed gray;margin: 0 0.4em 0.5em 0.4em;box-sizing: border-box;padding-bottom: 0.4em;background-color: white;}#sk-container-id-7 div.sk-label label {font-family: monospace;font-weight: bold;display: inline-block;line-height: 1.2em;}#sk-container-id-7 div.sk-label-container {text-align: center;}#sk-container-id-7 div.sk-container {/* jupyter's `normalize.less` sets `[hidden] { display: none; }` but bootstrap.min.css set `[hidden] { display: none !important; }` so we also need the `!important` here to be able to override the default hidden behavior on the sphinx rendered scikit-learn.org. See: https://github.com/scikit-learn/scikit-learn/issues/21755 */display: inline-block !important;position: relative;}#sk-container-id-7 div.sk-text-repr-fallback {display: none;}</style><div id=\"sk-container-id-7\" class=\"sk-top-container\"><div class=\"sk-text-repr-fallback\"><pre>RandomForestRegressor(n_estimators=500, n_jobs=-1, random_state=42)</pre><b>In a Jupyter environment, please rerun this cell to show the HTML representation or trust the notebook. <br />On GitHub, the HTML representation is unable to render, please try loading this page with nbviewer.org.</b></div><div class=\"sk-container\" hidden><div class=\"sk-item\"><div class=\"sk-estimator sk-toggleable\"><input class=\"sk-toggleable__control sk-hidden--visually\" id=\"sk-estimator-id-7\" type=\"checkbox\" checked><label for=\"sk-estimator-id-7\" class=\"sk-toggleable__label sk-toggleable__label-arrow\">RandomForestRegressor</label><div class=\"sk-toggleable__content\"><pre>RandomForestRegressor(n_estimators=500, n_jobs=-1, random_state=42)</pre></div></div></div></div></div>"
      ],
      "text/plain": [
       "RandomForestRegressor(n_estimators=500, n_jobs=-1, random_state=42)"
      ]
     },
     "execution_count": 29,
     "metadata": {},
     "output_type": "execute_result"
    }
   ],
   "source": [
    "from sklearn.ensemble import RandomForestRegressor\n",
    "RFR = RandomForestRegressor(n_estimators=500,random_state=42, n_jobs=-1)\n",
    "RFR.fit(X_train, y_train)"
   ]
  },
  {
   "cell_type": "code",
   "execution_count": 30,
   "id": "cac1ea04",
   "metadata": {},
   "outputs": [
    {
     "data": {
      "text/plain": [
       "array([ 3440.45666667,  3440.49238095,  3381.31515873, ...,\n",
       "        3323.2       ,  3541.4       , 73852.        ])"
      ]
     },
     "execution_count": 30,
     "metadata": {},
     "output_type": "execute_result"
    }
   ],
   "source": [
    "y_pred_rfr = RFR.predict(X_test)\n",
    "y_pred_rfr"
   ]
  },
  {
   "cell_type": "code",
   "execution_count": 31,
   "id": "276de1a4",
   "metadata": {},
   "outputs": [
    {
     "data": {
      "text/html": [
       "<style>#sk-container-id-8 {color: black;}#sk-container-id-8 pre{padding: 0;}#sk-container-id-8 div.sk-toggleable {background-color: white;}#sk-container-id-8 label.sk-toggleable__label {cursor: pointer;display: block;width: 100%;margin-bottom: 0;padding: 0.3em;box-sizing: border-box;text-align: center;}#sk-container-id-8 label.sk-toggleable__label-arrow:before {content: \"▸\";float: left;margin-right: 0.25em;color: #696969;}#sk-container-id-8 label.sk-toggleable__label-arrow:hover:before {color: black;}#sk-container-id-8 div.sk-estimator:hover label.sk-toggleable__label-arrow:before {color: black;}#sk-container-id-8 div.sk-toggleable__content {max-height: 0;max-width: 0;overflow: hidden;text-align: left;background-color: #f0f8ff;}#sk-container-id-8 div.sk-toggleable__content pre {margin: 0.2em;color: black;border-radius: 0.25em;background-color: #f0f8ff;}#sk-container-id-8 input.sk-toggleable__control:checked~div.sk-toggleable__content {max-height: 200px;max-width: 100%;overflow: auto;}#sk-container-id-8 input.sk-toggleable__control:checked~label.sk-toggleable__label-arrow:before {content: \"▾\";}#sk-container-id-8 div.sk-estimator input.sk-toggleable__control:checked~label.sk-toggleable__label {background-color: #d4ebff;}#sk-container-id-8 div.sk-label input.sk-toggleable__control:checked~label.sk-toggleable__label {background-color: #d4ebff;}#sk-container-id-8 input.sk-hidden--visually {border: 0;clip: rect(1px 1px 1px 1px);clip: rect(1px, 1px, 1px, 1px);height: 1px;margin: -1px;overflow: hidden;padding: 0;position: absolute;width: 1px;}#sk-container-id-8 div.sk-estimator {font-family: monospace;background-color: #f0f8ff;border: 1px dotted black;border-radius: 0.25em;box-sizing: border-box;margin-bottom: 0.5em;}#sk-container-id-8 div.sk-estimator:hover {background-color: #d4ebff;}#sk-container-id-8 div.sk-parallel-item::after {content: \"\";width: 100%;border-bottom: 1px solid gray;flex-grow: 1;}#sk-container-id-8 div.sk-label:hover label.sk-toggleable__label {background-color: #d4ebff;}#sk-container-id-8 div.sk-serial::before {content: \"\";position: absolute;border-left: 1px solid gray;box-sizing: border-box;top: 0;bottom: 0;left: 50%;z-index: 0;}#sk-container-id-8 div.sk-serial {display: flex;flex-direction: column;align-items: center;background-color: white;padding-right: 0.2em;padding-left: 0.2em;position: relative;}#sk-container-id-8 div.sk-item {position: relative;z-index: 1;}#sk-container-id-8 div.sk-parallel {display: flex;align-items: stretch;justify-content: center;background-color: white;position: relative;}#sk-container-id-8 div.sk-item::before, #sk-container-id-8 div.sk-parallel-item::before {content: \"\";position: absolute;border-left: 1px solid gray;box-sizing: border-box;top: 0;bottom: 0;left: 50%;z-index: -1;}#sk-container-id-8 div.sk-parallel-item {display: flex;flex-direction: column;z-index: 1;position: relative;background-color: white;}#sk-container-id-8 div.sk-parallel-item:first-child::after {align-self: flex-end;width: 50%;}#sk-container-id-8 div.sk-parallel-item:last-child::after {align-self: flex-start;width: 50%;}#sk-container-id-8 div.sk-parallel-item:only-child::after {width: 0;}#sk-container-id-8 div.sk-dashed-wrapped {border: 1px dashed gray;margin: 0 0.4em 0.5em 0.4em;box-sizing: border-box;padding-bottom: 0.4em;background-color: white;}#sk-container-id-8 div.sk-label label {font-family: monospace;font-weight: bold;display: inline-block;line-height: 1.2em;}#sk-container-id-8 div.sk-label-container {text-align: center;}#sk-container-id-8 div.sk-container {/* jupyter's `normalize.less` sets `[hidden] { display: none; }` but bootstrap.min.css set `[hidden] { display: none !important; }` so we also need the `!important` here to be able to override the default hidden behavior on the sphinx rendered scikit-learn.org. See: https://github.com/scikit-learn/scikit-learn/issues/21755 */display: inline-block !important;position: relative;}#sk-container-id-8 div.sk-text-repr-fallback {display: none;}</style><div id=\"sk-container-id-8\" class=\"sk-top-container\"><div class=\"sk-text-repr-fallback\"><pre>GradientBoostingRegressor()</pre><b>In a Jupyter environment, please rerun this cell to show the HTML representation or trust the notebook. <br />On GitHub, the HTML representation is unable to render, please try loading this page with nbviewer.org.</b></div><div class=\"sk-container\" hidden><div class=\"sk-item\"><div class=\"sk-estimator sk-toggleable\"><input class=\"sk-toggleable__control sk-hidden--visually\" id=\"sk-estimator-id-8\" type=\"checkbox\" checked><label for=\"sk-estimator-id-8\" class=\"sk-toggleable__label sk-toggleable__label-arrow\">GradientBoostingRegressor</label><div class=\"sk-toggleable__content\"><pre>GradientBoostingRegressor()</pre></div></div></div></div></div>"
      ],
      "text/plain": [
       "GradientBoostingRegressor()"
      ]
     },
     "execution_count": 31,
     "metadata": {},
     "output_type": "execute_result"
    }
   ],
   "source": [
    "from sklearn.ensemble import GradientBoostingRegressor\n",
    "GBR = GradientBoostingRegressor()\n",
    "GBR.fit(X_train, y_train)"
   ]
  },
  {
   "cell_type": "code",
   "execution_count": 32,
   "id": "baf9f5d9",
   "metadata": {},
   "outputs": [
    {
     "data": {
      "text/plain": [
       "array([  4523.79431005,  11216.71759209,    171.9168897 , ...,\n",
       "       170162.69392267,   2615.92347721,  93751.31849907])"
      ]
     },
     "execution_count": 32,
     "metadata": {},
     "output_type": "execute_result"
    }
   ],
   "source": [
    "y_pred_gbr = GBR.predict(X_test)\n",
    "y_pred_gbr"
   ]
  },
  {
   "cell_type": "code",
   "execution_count": 33,
   "id": "40869dd3",
   "metadata": {},
   "outputs": [
    {
     "data": {
      "text/html": [
       "<style>#sk-container-id-9 {color: black;}#sk-container-id-9 pre{padding: 0;}#sk-container-id-9 div.sk-toggleable {background-color: white;}#sk-container-id-9 label.sk-toggleable__label {cursor: pointer;display: block;width: 100%;margin-bottom: 0;padding: 0.3em;box-sizing: border-box;text-align: center;}#sk-container-id-9 label.sk-toggleable__label-arrow:before {content: \"▸\";float: left;margin-right: 0.25em;color: #696969;}#sk-container-id-9 label.sk-toggleable__label-arrow:hover:before {color: black;}#sk-container-id-9 div.sk-estimator:hover label.sk-toggleable__label-arrow:before {color: black;}#sk-container-id-9 div.sk-toggleable__content {max-height: 0;max-width: 0;overflow: hidden;text-align: left;background-color: #f0f8ff;}#sk-container-id-9 div.sk-toggleable__content pre {margin: 0.2em;color: black;border-radius: 0.25em;background-color: #f0f8ff;}#sk-container-id-9 input.sk-toggleable__control:checked~div.sk-toggleable__content {max-height: 200px;max-width: 100%;overflow: auto;}#sk-container-id-9 input.sk-toggleable__control:checked~label.sk-toggleable__label-arrow:before {content: \"▾\";}#sk-container-id-9 div.sk-estimator input.sk-toggleable__control:checked~label.sk-toggleable__label {background-color: #d4ebff;}#sk-container-id-9 div.sk-label input.sk-toggleable__control:checked~label.sk-toggleable__label {background-color: #d4ebff;}#sk-container-id-9 input.sk-hidden--visually {border: 0;clip: rect(1px 1px 1px 1px);clip: rect(1px, 1px, 1px, 1px);height: 1px;margin: -1px;overflow: hidden;padding: 0;position: absolute;width: 1px;}#sk-container-id-9 div.sk-estimator {font-family: monospace;background-color: #f0f8ff;border: 1px dotted black;border-radius: 0.25em;box-sizing: border-box;margin-bottom: 0.5em;}#sk-container-id-9 div.sk-estimator:hover {background-color: #d4ebff;}#sk-container-id-9 div.sk-parallel-item::after {content: \"\";width: 100%;border-bottom: 1px solid gray;flex-grow: 1;}#sk-container-id-9 div.sk-label:hover label.sk-toggleable__label {background-color: #d4ebff;}#sk-container-id-9 div.sk-serial::before {content: \"\";position: absolute;border-left: 1px solid gray;box-sizing: border-box;top: 0;bottom: 0;left: 50%;z-index: 0;}#sk-container-id-9 div.sk-serial {display: flex;flex-direction: column;align-items: center;background-color: white;padding-right: 0.2em;padding-left: 0.2em;position: relative;}#sk-container-id-9 div.sk-item {position: relative;z-index: 1;}#sk-container-id-9 div.sk-parallel {display: flex;align-items: stretch;justify-content: center;background-color: white;position: relative;}#sk-container-id-9 div.sk-item::before, #sk-container-id-9 div.sk-parallel-item::before {content: \"\";position: absolute;border-left: 1px solid gray;box-sizing: border-box;top: 0;bottom: 0;left: 50%;z-index: -1;}#sk-container-id-9 div.sk-parallel-item {display: flex;flex-direction: column;z-index: 1;position: relative;background-color: white;}#sk-container-id-9 div.sk-parallel-item:first-child::after {align-self: flex-end;width: 50%;}#sk-container-id-9 div.sk-parallel-item:last-child::after {align-self: flex-start;width: 50%;}#sk-container-id-9 div.sk-parallel-item:only-child::after {width: 0;}#sk-container-id-9 div.sk-dashed-wrapped {border: 1px dashed gray;margin: 0 0.4em 0.5em 0.4em;box-sizing: border-box;padding-bottom: 0.4em;background-color: white;}#sk-container-id-9 div.sk-label label {font-family: monospace;font-weight: bold;display: inline-block;line-height: 1.2em;}#sk-container-id-9 div.sk-label-container {text-align: center;}#sk-container-id-9 div.sk-container {/* jupyter's `normalize.less` sets `[hidden] { display: none; }` but bootstrap.min.css set `[hidden] { display: none !important; }` so we also need the `!important` here to be able to override the default hidden behavior on the sphinx rendered scikit-learn.org. See: https://github.com/scikit-learn/scikit-learn/issues/21755 */display: inline-block !important;position: relative;}#sk-container-id-9 div.sk-text-repr-fallback {display: none;}</style><div id=\"sk-container-id-9\" class=\"sk-top-container\"><div class=\"sk-text-repr-fallback\"><pre>SVR()</pre><b>In a Jupyter environment, please rerun this cell to show the HTML representation or trust the notebook. <br />On GitHub, the HTML representation is unable to render, please try loading this page with nbviewer.org.</b></div><div class=\"sk-container\" hidden><div class=\"sk-item\"><div class=\"sk-estimator sk-toggleable\"><input class=\"sk-toggleable__control sk-hidden--visually\" id=\"sk-estimator-id-9\" type=\"checkbox\" checked><label for=\"sk-estimator-id-9\" class=\"sk-toggleable__label sk-toggleable__label-arrow\">SVR</label><div class=\"sk-toggleable__content\"><pre>SVR()</pre></div></div></div></div></div>"
      ],
      "text/plain": [
       "SVR()"
      ]
     },
     "execution_count": 33,
     "metadata": {},
     "output_type": "execute_result"
    }
   ],
   "source": [
    "from sklearn.svm import SVR\n",
    "SVR = SVR()\n",
    "SVR.fit(X_train, y_train)"
   ]
  },
  {
   "cell_type": "code",
   "execution_count": 34,
   "id": "72edc0f3",
   "metadata": {},
   "outputs": [
    {
     "data": {
      "text/plain": [
       "array([3391.88991237, 3422.89898781, 3321.96779301, ..., 3355.40377481,\n",
       "       3646.59349134, 4649.22341549])"
      ]
     },
     "execution_count": 34,
     "metadata": {},
     "output_type": "execute_result"
    }
   ],
   "source": [
    "y_pred_svr = SVR.predict(X_test)\n",
    "y_pred_svr"
   ]
  },
  {
   "cell_type": "code",
   "execution_count": 35,
   "id": "0b6574de",
   "metadata": {},
   "outputs": [],
   "source": [
    "result_df = pd.DataFrame({\n",
    "    \"y_test\":y_test,\n",
    "    \"differ_lr\":abs(y_pred_lr-y_test),\n",
    "    \"differ_sgdr\":abs(y_pred_sgdr-y_test),\n",
    "    \"differ_en\":abs(y_pred_en-y_test),\n",
    "    \"differ_br\":abs(y_pred_br-y_test),\n",
    "    \"differ_lgbmr\":abs(y_pred_lgbmr-y_test),\n",
    "    \"differ_xgbr\":abs(y_pred_xgbr-y_test),\n",
    "    \"differ_cbr\":abs(y_pred_cbr-y_test),\n",
    "#     \"differ_kr\":abs(y_pred_kr-y_test),\n",
    "    \"differ_rfr\":abs(y_pred_rfr-y_test),\n",
    "    \"differ_gbr\":abs(y_pred_gbr-y_test),\n",
    "    \"differ_svr\":abs(y_pred_svr-y_test),\n",
    " })"
   ]
  },
  {
   "cell_type": "code",
   "execution_count": 36,
   "id": "9a0d1315",
   "metadata": {},
   "outputs": [],
   "source": [
    "r_df = result_df.describe(percentiles=[0.5,0.6,0.7,0.8,0.9]).transpose()\n",
    "rcolumns_l = ['mean', 'std', '50%', '60%', '70%', '80%', '90%']"
   ]
  },
  {
   "cell_type": "code",
   "execution_count": 37,
   "id": "db14cbbe",
   "metadata": {},
   "outputs": [
    {
     "data": {
      "text/html": [
       "<div>\n",
       "<style scoped>\n",
       "    .dataframe tbody tr th:only-of-type {\n",
       "        vertical-align: middle;\n",
       "    }\n",
       "\n",
       "    .dataframe tbody tr th {\n",
       "        vertical-align: top;\n",
       "    }\n",
       "\n",
       "    .dataframe thead th {\n",
       "        text-align: right;\n",
       "    }\n",
       "</style>\n",
       "<table border=\"1\" class=\"dataframe\">\n",
       "  <thead>\n",
       "    <tr style=\"text-align: right;\">\n",
       "      <th></th>\n",
       "      <th>mean</th>\n",
       "      <th>std</th>\n",
       "      <th>50%</th>\n",
       "      <th>60%</th>\n",
       "      <th>70%</th>\n",
       "      <th>80%</th>\n",
       "      <th>90%</th>\n",
       "    </tr>\n",
       "  </thead>\n",
       "  <tbody>\n",
       "    <tr>\n",
       "      <th>y_test</th>\n",
       "      <td>26394.89</td>\n",
       "      <td>164443.98</td>\n",
       "      <td>3400.00</td>\n",
       "      <td>3400.00</td>\n",
       "      <td>3400.00</td>\n",
       "      <td>3500.00</td>\n",
       "      <td>46000.00</td>\n",
       "    </tr>\n",
       "    <tr>\n",
       "      <th>differ_lr</th>\n",
       "      <td>36450.23</td>\n",
       "      <td>139087.87</td>\n",
       "      <td>15736.40</td>\n",
       "      <td>19685.78</td>\n",
       "      <td>24430.88</td>\n",
       "      <td>31850.90</td>\n",
       "      <td>59656.65</td>\n",
       "    </tr>\n",
       "    <tr>\n",
       "      <th>differ_sgdr</th>\n",
       "      <td>41827.74</td>\n",
       "      <td>138025.98</td>\n",
       "      <td>21334.85</td>\n",
       "      <td>26635.98</td>\n",
       "      <td>32678.38</td>\n",
       "      <td>41529.78</td>\n",
       "      <td>66662.18</td>\n",
       "    </tr>\n",
       "    <tr>\n",
       "      <th>differ_en</th>\n",
       "      <td>34117.12</td>\n",
       "      <td>153376.03</td>\n",
       "      <td>15166.81</td>\n",
       "      <td>19922.53</td>\n",
       "      <td>26881.82</td>\n",
       "      <td>36498.14</td>\n",
       "      <td>54995.83</td>\n",
       "    </tr>\n",
       "    <tr>\n",
       "      <th>differ_br</th>\n",
       "      <td>36454.93</td>\n",
       "      <td>139098.90</td>\n",
       "      <td>15752.28</td>\n",
       "      <td>19703.58</td>\n",
       "      <td>24443.24</td>\n",
       "      <td>31887.78</td>\n",
       "      <td>59657.18</td>\n",
       "    </tr>\n",
       "    <tr>\n",
       "      <th>differ_lgbmr</th>\n",
       "      <td>15821.50</td>\n",
       "      <td>97093.57</td>\n",
       "      <td>282.60</td>\n",
       "      <td>405.69</td>\n",
       "      <td>800.37</td>\n",
       "      <td>2757.78</td>\n",
       "      <td>36513.94</td>\n",
       "    </tr>\n",
       "    <tr>\n",
       "      <th>differ_xgbr</th>\n",
       "      <td>14455.82</td>\n",
       "      <td>89574.13</td>\n",
       "      <td>659.06</td>\n",
       "      <td>966.37</td>\n",
       "      <td>1476.19</td>\n",
       "      <td>4706.18</td>\n",
       "      <td>31220.33</td>\n",
       "    </tr>\n",
       "    <tr>\n",
       "      <th>differ_cbr</th>\n",
       "      <td>15249.85</td>\n",
       "      <td>86448.75</td>\n",
       "      <td>1223.18</td>\n",
       "      <td>1753.14</td>\n",
       "      <td>2936.08</td>\n",
       "      <td>6230.30</td>\n",
       "      <td>34079.33</td>\n",
       "    </tr>\n",
       "    <tr>\n",
       "      <th>differ_rfr</th>\n",
       "      <td>10827.25</td>\n",
       "      <td>85182.50</td>\n",
       "      <td>41.80</td>\n",
       "      <td>55.13</td>\n",
       "      <td>75.80</td>\n",
       "      <td>166.00</td>\n",
       "      <td>15173.40</td>\n",
       "    </tr>\n",
       "    <tr>\n",
       "      <th>differ_gbr</th>\n",
       "      <td>20460.52</td>\n",
       "      <td>110784.35</td>\n",
       "      <td>2398.86</td>\n",
       "      <td>3228.08</td>\n",
       "      <td>4581.02</td>\n",
       "      <td>10664.19</td>\n",
       "      <td>37732.90</td>\n",
       "    </tr>\n",
       "    <tr>\n",
       "      <th>differ_svr</th>\n",
       "      <td>22952.41</td>\n",
       "      <td>164362.30</td>\n",
       "      <td>57.24</td>\n",
       "      <td>77.57</td>\n",
       "      <td>95.80</td>\n",
       "      <td>166.18</td>\n",
       "      <td>41748.97</td>\n",
       "    </tr>\n",
       "  </tbody>\n",
       "</table>\n",
       "</div>"
      ],
      "text/plain": [
       "                  mean        std       50%       60%       70%       80%  \\\n",
       "y_test        26394.89  164443.98   3400.00   3400.00   3400.00   3500.00   \n",
       "differ_lr     36450.23  139087.87  15736.40  19685.78  24430.88  31850.90   \n",
       "differ_sgdr   41827.74  138025.98  21334.85  26635.98  32678.38  41529.78   \n",
       "differ_en     34117.12  153376.03  15166.81  19922.53  26881.82  36498.14   \n",
       "differ_br     36454.93  139098.90  15752.28  19703.58  24443.24  31887.78   \n",
       "differ_lgbmr  15821.50   97093.57    282.60    405.69    800.37   2757.78   \n",
       "differ_xgbr   14455.82   89574.13    659.06    966.37   1476.19   4706.18   \n",
       "differ_cbr    15249.85   86448.75   1223.18   1753.14   2936.08   6230.30   \n",
       "differ_rfr    10827.25   85182.50     41.80     55.13     75.80    166.00   \n",
       "differ_gbr    20460.52  110784.35   2398.86   3228.08   4581.02  10664.19   \n",
       "differ_svr    22952.41  164362.30     57.24     77.57     95.80    166.18   \n",
       "\n",
       "                   90%  \n",
       "y_test        46000.00  \n",
       "differ_lr     59656.65  \n",
       "differ_sgdr   66662.18  \n",
       "differ_en     54995.83  \n",
       "differ_br     59657.18  \n",
       "differ_lgbmr  36513.94  \n",
       "differ_xgbr   31220.33  \n",
       "differ_cbr    34079.33  \n",
       "differ_rfr    15173.40  \n",
       "differ_gbr    37732.90  \n",
       "differ_svr    41748.97  "
      ]
     },
     "execution_count": 37,
     "metadata": {},
     "output_type": "execute_result"
    }
   ],
   "source": [
    "r_df[rcolumns_l].round(decimals=2)"
   ]
  },
  {
   "cell_type": "code",
   "execution_count": 38,
   "id": "8f8583b0",
   "metadata": {},
   "outputs": [],
   "source": [
    "result_df.to_excel('../Data/result.xlsx')"
   ]
  },
  {
   "cell_type": "code",
   "execution_count": null,
   "id": "4008abdb",
   "metadata": {},
   "outputs": [],
   "source": []
  }
 ],
 "metadata": {
  "kernelspec": {
   "display_name": "Python 3 (ipykernel)",
   "language": "python",
   "name": "python3"
  },
  "language_info": {
   "codemirror_mode": {
    "name": "ipython",
    "version": 3
   },
   "file_extension": ".py",
   "mimetype": "text/x-python",
   "name": "python",
   "nbconvert_exporter": "python",
   "pygments_lexer": "ipython3",
   "version": "3.10.7"
  }
 },
 "nbformat": 4,
 "nbformat_minor": 5
}
