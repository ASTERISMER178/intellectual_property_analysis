{
 "cells": [
  {
   "cell_type": "code",
   "execution_count": 1,
   "id": "d3a7936b",
   "metadata": {},
   "outputs": [],
   "source": [
    "import pandas as pd\n",
    "import numpy as np"
   ]
  },
  {
   "cell_type": "code",
   "execution_count": 2,
   "id": "b06aba2c",
   "metadata": {},
   "outputs": [],
   "source": [
    "from sklearn.preprocessing import OneHotEncoder\n",
    "from sklearn.preprocessing import StandardScaler\n",
    "from sklearn.model_selection import cross_val_predict\n",
    "from sklearn.model_selection import train_test_split"
   ]
  },
  {
   "cell_type": "code",
   "execution_count": 3,
   "id": "a63a1e35-56c2-4385-8b9e-da0e707133bf",
   "metadata": {},
   "outputs": [],
   "source": [
    "#交叉验证\n",
    "from sklearn.model_selection import cross_val_score"
   ]
  },
  {
   "cell_type": "code",
   "execution_count": 4,
   "id": "903aa060",
   "metadata": {},
   "outputs": [],
   "source": [
    "df = pd.read_excel('./Data/datapro3.xlsx')"
   ]
  },
  {
   "cell_type": "code",
   "execution_count": 5,
   "id": "cc0b719d",
   "metadata": {},
   "outputs": [],
   "source": [
    "# list(df)"
   ]
  },
  {
   "cell_type": "code",
   "execution_count": 6,
   "id": "d801e087",
   "metadata": {},
   "outputs": [],
   "source": [
    "cat_columns = [\n",
    " '产业链位置',\n",
    " '一级技术分支',\n",
    " '专利类型',\n",
    " '申请人省市代码',\n",
    " '专利有效性',\n",
    "    'IPC',\n",
    "]"
   ]
  },
  {
   "cell_type": "code",
   "execution_count": 7,
   "id": "8d6e4f73",
   "metadata": {},
   "outputs": [
    {
     "data": {
      "text/plain": [
       "array([[0., 0., 0., ..., 0., 0., 0.],\n",
       "       [0., 0., 0., ..., 0., 0., 0.],\n",
       "       [0., 0., 0., ..., 0., 0., 0.],\n",
       "       ...,\n",
       "       [1., 0., 0., ..., 0., 0., 0.],\n",
       "       [1., 0., 0., ..., 0., 0., 0.],\n",
       "       [1., 0., 0., ..., 0., 0., 0.]])"
      ]
     },
     "execution_count": 7,
     "metadata": {},
     "output_type": "execute_result"
    }
   ],
   "source": [
    "ohEncoder = OneHotEncoder(drop='first')\n",
    "cat_features = ohEncoder.fit_transform(df[cat_columns]).toarray()\n",
    "cat_features"
   ]
  },
  {
   "cell_type": "code",
   "execution_count": 8,
   "id": "6e5d1929",
   "metadata": {},
   "outputs": [],
   "source": [
    "num_columns = [ \n",
    " '3年内被引用次数',\n",
    " '5年内被引用次数',\n",
    " '引用专利数量',\n",
    " '被引用专利数量',\n",
    " '权利要求数量',\n",
    " '文献页数',\n",
    "'公开(公告)日',\n",
    " '诉讼案件数'\n",
    "]"
   ]
  },
  {
   "cell_type": "code",
   "execution_count": 9,
   "id": "23a624aa",
   "metadata": {},
   "outputs": [
    {
     "data": {
      "text/plain": [
       "array([[-0.3556985 , -0.35557601, -0.45859254, ..., -0.57468455,\n",
       "        -0.10356336, -0.01857949],\n",
       "       [-0.3556985 , -0.35557601, -0.45859254, ..., -1.07001584,\n",
       "         0.75022394, -0.01857949],\n",
       "       [-0.3556985 , -0.35557601, -0.45859254, ...,  1.65430626,\n",
       "         0.75022394, -0.01857949],\n",
       "       ...,\n",
       "       [-0.3556985 , -0.35557601, -0.45859254, ..., -0.57468455,\n",
       "         0.75022394, -0.01857949],\n",
       "       [-0.3556985 , -0.35557601, -0.45859254, ..., -0.07935326,\n",
       "         0.75022394, -0.01857949],\n",
       "       [-0.3556985 , -0.35557601, -0.12533691, ..., -0.32701891,\n",
       "         1.17711759, -0.01857949]])"
      ]
     },
     "execution_count": 9,
     "metadata": {},
     "output_type": "execute_result"
    }
   ],
   "source": [
    "stdScaler = StandardScaler()\n",
    "num_features = stdScaler.fit_transform(df[num_columns])\n",
    "num_features"
   ]
  },
  {
   "cell_type": "code",
   "execution_count": 10,
   "id": "9995fb43",
   "metadata": {},
   "outputs": [
    {
     "data": {
      "text/plain": [
       "(72037, 69)"
      ]
     },
     "execution_count": 10,
     "metadata": {},
     "output_type": "execute_result"
    }
   ],
   "source": [
    "X = np.hstack([cat_features, num_features])\n",
    "X.shape"
   ]
  },
  {
   "cell_type": "code",
   "execution_count": 11,
   "id": "65b71393",
   "metadata": {},
   "outputs": [
    {
     "data": {
      "text/plain": [
       "array(['0-10000', '0-10000', '0-10000', ..., '0-10000', '0-10000',\n",
       "       '0-10000'], dtype=object)"
      ]
     },
     "execution_count": 11,
     "metadata": {},
     "output_type": "execute_result"
    }
   ],
   "source": [
    "y = df['专利价值分类'].to_numpy()\n",
    "y"
   ]
  },
  {
   "cell_type": "code",
   "execution_count": 12,
   "id": "5f3ed154-e4e9-4b1a-8137-9c381795363d",
   "metadata": {},
   "outputs": [],
   "source": [
    "# y=np.where(y==\"小\",0,1)"
   ]
  },
  {
   "cell_type": "code",
   "execution_count": 13,
   "id": "791f4b5c-8b65-4e2a-97b8-3cc277d97b72",
   "metadata": {},
   "outputs": [
    {
     "data": {
      "text/plain": [
       "(72037,)"
      ]
     },
     "execution_count": 13,
     "metadata": {},
     "output_type": "execute_result"
    }
   ],
   "source": [
    "y.shape"
   ]
  },
  {
   "cell_type": "code",
   "execution_count": 14,
   "id": "2af288bd",
   "metadata": {},
   "outputs": [],
   "source": [
    "X_train, X_test, y_train, y_test = train_test_split(X, y,test_size=0.3)\n"
   ]
  },
  {
   "cell_type": "code",
   "execution_count": 15,
   "id": "cb26d721",
   "metadata": {},
   "outputs": [
    {
     "data": {
      "text/plain": [
       "((50425, 69), (21612, 69), (50425,), (21612,))"
      ]
     },
     "execution_count": 15,
     "metadata": {},
     "output_type": "execute_result"
    }
   ],
   "source": [
    "X_train.shape, X_test.shape, y_train.shape, y_test.shape"
   ]
  },
  {
   "cell_type": "code",
   "execution_count": 16,
   "id": "954774d7",
   "metadata": {},
   "outputs": [],
   "source": [
    "from sklearn.linear_model import LogisticRegression\n",
    "LR =  LogisticRegression()\n",
    "# LR.fit(X_train, y_train)"
   ]
  },
  {
   "cell_type": "code",
   "execution_count": 17,
   "id": "f63aee4a",
   "metadata": {},
   "outputs": [],
   "source": [
    "# y_pred_lr = LR.predict(X_test)"
   ]
  },
  {
   "cell_type": "code",
   "execution_count": 18,
   "id": "4008abdb",
   "metadata": {},
   "outputs": [],
   "source": [
    "# y_pred_lr"
   ]
  },
  {
   "cell_type": "code",
   "execution_count": 19,
   "id": "59d20d87-2b99-4275-a0e4-8a591f1f5317",
   "metadata": {},
   "outputs": [],
   "source": [
    "from sklearn.metrics import accuracy_score"
   ]
  },
  {
   "cell_type": "code",
   "execution_count": 20,
   "id": "c2b98cb6-1e18-4dee-aef8-34d453181375",
   "metadata": {},
   "outputs": [],
   "source": [
    "# accuracy_lr = accuracy_score(y_test, y_pred_lr)\n",
    "# accuracy_lr"
   ]
  },
  {
   "cell_type": "code",
   "execution_count": 21,
   "id": "d0aa6aef-9c23-4a07-8fd9-e1defdc5a411",
   "metadata": {},
   "outputs": [
    {
     "name": "stderr",
     "output_type": "stream",
     "text": [
      "D:\\python\\lib\\site-packages\\sklearn\\linear_model\\_logistic.py:460: ConvergenceWarning: lbfgs failed to converge (status=1):\n",
      "STOP: TOTAL NO. of ITERATIONS REACHED LIMIT.\n",
      "\n",
      "Increase the number of iterations (max_iter) or scale the data as shown in:\n",
      "    https://scikit-learn.org/stable/modules/preprocessing.html\n",
      "Please also refer to the documentation for alternative solver options:\n",
      "    https://scikit-learn.org/stable/modules/linear_model.html#logistic-regression\n",
      "  n_iter_i = _check_optimize_result(\n",
      "D:\\python\\lib\\site-packages\\sklearn\\linear_model\\_logistic.py:460: ConvergenceWarning: lbfgs failed to converge (status=1):\n",
      "STOP: TOTAL NO. of ITERATIONS REACHED LIMIT.\n",
      "\n",
      "Increase the number of iterations (max_iter) or scale the data as shown in:\n",
      "    https://scikit-learn.org/stable/modules/preprocessing.html\n",
      "Please also refer to the documentation for alternative solver options:\n",
      "    https://scikit-learn.org/stable/modules/linear_model.html#logistic-regression\n",
      "  n_iter_i = _check_optimize_result(\n",
      "D:\\python\\lib\\site-packages\\sklearn\\linear_model\\_logistic.py:460: ConvergenceWarning: lbfgs failed to converge (status=1):\n",
      "STOP: TOTAL NO. of ITERATIONS REACHED LIMIT.\n",
      "\n",
      "Increase the number of iterations (max_iter) or scale the data as shown in:\n",
      "    https://scikit-learn.org/stable/modules/preprocessing.html\n",
      "Please also refer to the documentation for alternative solver options:\n",
      "    https://scikit-learn.org/stable/modules/linear_model.html#logistic-regression\n",
      "  n_iter_i = _check_optimize_result(\n",
      "D:\\python\\lib\\site-packages\\sklearn\\linear_model\\_logistic.py:460: ConvergenceWarning: lbfgs failed to converge (status=1):\n",
      "STOP: TOTAL NO. of ITERATIONS REACHED LIMIT.\n",
      "\n",
      "Increase the number of iterations (max_iter) or scale the data as shown in:\n",
      "    https://scikit-learn.org/stable/modules/preprocessing.html\n",
      "Please also refer to the documentation for alternative solver options:\n",
      "    https://scikit-learn.org/stable/modules/linear_model.html#logistic-regression\n",
      "  n_iter_i = _check_optimize_result(\n",
      "D:\\python\\lib\\site-packages\\sklearn\\linear_model\\_logistic.py:460: ConvergenceWarning: lbfgs failed to converge (status=1):\n",
      "STOP: TOTAL NO. of ITERATIONS REACHED LIMIT.\n",
      "\n",
      "Increase the number of iterations (max_iter) or scale the data as shown in:\n",
      "    https://scikit-learn.org/stable/modules/preprocessing.html\n",
      "Please also refer to the documentation for alternative solver options:\n",
      "    https://scikit-learn.org/stable/modules/linear_model.html#logistic-regression\n",
      "  n_iter_i = _check_optimize_result(\n"
     ]
    },
    {
     "data": {
      "text/plain": [
       "0.9364493195689197"
      ]
     },
     "execution_count": 21,
     "metadata": {},
     "output_type": "execute_result"
    }
   ],
   "source": [
    "lr_scores = cross_val_score(LR, X, y, cv=5, scoring=\"accuracy\")\n",
    "lr_scores.mean()"
   ]
  },
  {
   "cell_type": "code",
   "execution_count": 22,
   "id": "efa046fc-e0ff-4ed0-858a-b47b801e3126",
   "metadata": {},
   "outputs": [],
   "source": [
    "from sklearn.ensemble import RandomForestClassifier\n",
    "RFC =  RandomForestClassifier(n_estimators=100, random_state=30)\n",
    "# RFC.fit(X_train, y_train)\n",
    "# y_pred_rfr = RFC.predict(X_test)\n",
    "# accuracy_rfc = accuracy_score(y_test, y_pred_rfr)\n",
    "# accuracy_rfc"
   ]
  },
  {
   "cell_type": "code",
   "execution_count": 23,
   "id": "c7b8af1d-3fe4-4717-a560-bb705bb9574e",
   "metadata": {},
   "outputs": [
    {
     "data": {
      "text/plain": [
       "0.9623797719385225"
      ]
     },
     "execution_count": 23,
     "metadata": {},
     "output_type": "execute_result"
    }
   ],
   "source": [
    "rfc_scores = cross_val_score(RFC, X_train, y_train, cv=5, scoring=\"accuracy\")\n",
    "rfc_scores.mean()"
   ]
  },
  {
   "cell_type": "code",
   "execution_count": 24,
   "id": "d33515e6-b123-470e-9311-f5e60479620d",
   "metadata": {},
   "outputs": [],
   "source": [
    "from sklearn.tree import DecisionTreeClassifier\n",
    "DTC = DecisionTreeClassifier(random_state=31)\n",
    "# DTC.fit(X_train, y_train)\n",
    "# y_pred_dtc = DTC.predict(X_test)\n",
    "# accuracy_dtc = accuracy_score(y_test, y_pred_dtc)\n",
    "# accuracy_dtc\n",
    "# 使用交叉验证训练模型\n",
    "predicted = cross_val_predict(DTC, X, y, cv=5)\n",
    "\n",
    "# 计算模型的准确率\n",
    "accuracy = accuracy_score(y, predicted)"
   ]
  },
  {
   "cell_type": "code",
   "execution_count": 25,
   "id": "d86d0ee2-2af0-4833-a01f-aeb98b6c4e20",
   "metadata": {},
   "outputs": [],
   "source": [
    "# dtc_scores = cross_val_score(DTC, X_train, y_train, cv=5, scoring=\"accuracy\")\n",
    "# dtc_scores.mean()"
   ]
  },
  {
   "cell_type": "code",
   "execution_count": 26,
   "id": "006de85c-6e66-4133-86a1-fb249948db05",
   "metadata": {},
   "outputs": [],
   "source": [
    "# y_pred_dtc = DTC.predict(X_test)\n",
    "# accuracy_dtc = accuracy_score(y_test, y_pred_dtc)\n",
    "# accuracy_dtc"
   ]
  },
  {
   "cell_type": "code",
   "execution_count": 27,
   "id": "e7370a24-34f7-419a-ab9c-c468637e5d8d",
   "metadata": {},
   "outputs": [],
   "source": [
    "result_dtc = pd.DataFrame({'真实值': y, '预测值': predicted})\n",
    "result_dtc.to_excel(\"./Data/result12_dtc.xlsx\",index=False)"
   ]
  },
  {
   "cell_type": "code",
   "execution_count": 28,
   "id": "eacc3eb4-e101-4fb2-a05a-23da72cc150c",
   "metadata": {},
   "outputs": [],
   "source": [
    "from sklearn.svm import SVC\n",
    "SVC_lr = SVC(kernel='linear', random_state=42)\n",
    "# SVC_lr.fit(X_train, y_train)\n",
    "# y_pred_svclr = SVC_lr.predict(X_test)\n",
    "# accuracy_svclr = accuracy_score(y_test, y_pred_svclr)\n",
    "# accuracy_svclr"
   ]
  },
  {
   "cell_type": "code",
   "execution_count": 29,
   "id": "873db465-e7e8-42f9-91d4-f3de1c92bbbb",
   "metadata": {},
   "outputs": [
    {
     "data": {
      "text/plain": [
       "0.93755981566583"
      ]
     },
     "execution_count": 29,
     "metadata": {},
     "output_type": "execute_result"
    }
   ],
   "source": [
    "svclr_scores = cross_val_score(SVC_lr, X, y, cv=5, scoring=\"accuracy\")\n",
    "svclr_scores.mean()"
   ]
  },
  {
   "cell_type": "code",
   "execution_count": 30,
   "id": "e330dca6-62c2-4a13-9317-04599deb2c34",
   "metadata": {},
   "outputs": [],
   "source": [
    "from sklearn.svm import SVC\n",
    "SVC_poly = SVC(kernel='poly', degree=3, C=1.0, random_state=42)\n",
    "# SVC_poly.fit(X_train, y_train)\n",
    "# y_pred_svcpoly = SVC_poly.predict(X_test)\n",
    "# accuracy_svcpoly = accuracy_score(y_test, y_pred_svcpoly)\n",
    "# accuracy_svcpoly"
   ]
  },
  {
   "cell_type": "code",
   "execution_count": 31,
   "id": "b0e95374-3c34-46ae-829b-b218788eac98",
   "metadata": {},
   "outputs": [
    {
     "data": {
      "text/plain": [
       "0.9429042933545283"
      ]
     },
     "execution_count": 31,
     "metadata": {},
     "output_type": "execute_result"
    }
   ],
   "source": [
    "svcpoly_scores = cross_val_score(SVC_poly, X, y, cv=5, scoring=\"accuracy\")\n",
    "svcpoly_scores.mean()"
   ]
  },
  {
   "cell_type": "code",
   "execution_count": 32,
   "id": "ff21b442-795b-4d0a-969d-ba97cbe48ce4",
   "metadata": {},
   "outputs": [],
   "source": [
    "from sklearn.svm import SVC\n",
    "SVC_rbf = SVC(kernel='rbf', C=1.0, gamma='scale', random_state=42)\n",
    "# SVC_rbf.fit(X_train, y_train)\n",
    "# y_pred_svcrbf = SVC_rbf.predict(X_test)\n",
    "# accuracy_svcrbf = accuracy_score(y_test, y_pred_svcrbf)\n",
    "# accuracy_svcrbf"
   ]
  },
  {
   "cell_type": "code",
   "execution_count": 33,
   "id": "81c3ce10-80fd-4a4a-9b1e-154f11fcadd7",
   "metadata": {},
   "outputs": [
    {
     "data": {
      "text/plain": [
       "0.9441536522882966"
      ]
     },
     "execution_count": 33,
     "metadata": {},
     "output_type": "execute_result"
    }
   ],
   "source": [
    "svcrbf_scores = cross_val_score(SVC_rbf, X, y, cv=5, scoring=\"accuracy\")\n",
    "svcrbf_scores.mean()"
   ]
  },
  {
   "cell_type": "code",
   "execution_count": null,
   "id": "88522c8e-e58d-4c9f-9c03-b0c93dcce9aa",
   "metadata": {},
   "outputs": [],
   "source": []
  }
 ],
 "metadata": {
  "kernelspec": {
   "display_name": "Python 3 (ipykernel)",
   "language": "python",
   "name": "python3"
  },
  "language_info": {
   "codemirror_mode": {
    "name": "ipython",
    "version": 3
   },
   "file_extension": ".py",
   "mimetype": "text/x-python",
   "name": "python",
   "nbconvert_exporter": "python",
   "pygments_lexer": "ipython3",
   "version": "3.10.7"
  }
 },
 "nbformat": 4,
 "nbformat_minor": 5
}
