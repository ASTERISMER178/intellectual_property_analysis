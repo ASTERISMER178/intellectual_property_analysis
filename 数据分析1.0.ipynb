{
 "cells": [
  {
   "cell_type": "code",
   "execution_count": 1,
   "id": "27a3f5ca-4e8f-4121-aff1-81cf6e00bfe2",
   "metadata": {},
   "outputs": [],
   "source": [
    "import pandas as pd\n",
    "import numpy as np"
   ]
  },
  {
   "cell_type": "code",
   "execution_count": 3,
   "id": "e6ab066d-dfce-411a-9248-e5c430f90f75",
   "metadata": {},
   "outputs": [],
   "source": [
    "df=pd.read_excel(\"./Data/result_dtc.xlsx\")"
   ]
  },
  {
   "cell_type": "code",
   "execution_count": 4,
   "id": "3e71fee0-0346-479c-8654-d3b13b9707ca",
   "metadata": {},
   "outputs": [
    {
     "name": "stdout",
     "output_type": "stream",
     "text": [
      "<class 'pandas.core.frame.DataFrame'>\n",
      "RangeIndex: 21612 entries, 0 to 21611\n",
      "Data columns (total 2 columns):\n",
      " #   Column  Non-Null Count  Dtype \n",
      "---  ------  --------------  ----- \n",
      " 0   真实值     21612 non-null  object\n",
      " 1   预测值     21612 non-null  object\n",
      "dtypes: object(2)\n",
      "memory usage: 337.8+ KB\n"
     ]
    }
   ],
   "source": [
    "df.info()"
   ]
  },
  {
   "cell_type": "code",
   "execution_count": 13,
   "id": "40d46f71-4e3a-4d73-9359-084c3ae5f242",
   "metadata": {},
   "outputs": [],
   "source": [
    "# 使用 groupby 和 count 统计每一种真实类型中预测类型不一样的数据条数\n",
    "result = df[df['真实值'] == df['预测值']].groupby('真实值')['真实值'].count()"
   ]
  },
  {
   "cell_type": "code",
   "execution_count": 17,
   "id": "2c519d00-7da0-4947-9fa6-7ce7e57ddf29",
   "metadata": {},
   "outputs": [
    {
     "data": {
      "text/plain": [
       "真实值\n",
       "0-10000             18759\n",
       "10000-100000         1219\n",
       "100000-1000000        816\n",
       "1000000-10000000       31\n",
       "Name: 真实值, dtype: int64"
      ]
     },
     "execution_count": 17,
     "metadata": {},
     "output_type": "execute_result"
    }
   ],
   "source": [
    "result.columns=[\"真实值\",\"正确数量\"]\n",
    "result.head(5)"
   ]
  },
  {
   "cell_type": "code",
   "execution_count": 19,
   "id": "ff4e3db2-08c0-4416-b910-3dc0c6b0b2c7",
   "metadata": {},
   "outputs": [
    {
     "data": {
      "text/plain": [
       "pandas.core.series.Series"
      ]
     },
     "execution_count": 19,
     "metadata": {},
     "output_type": "execute_result"
    }
   ],
   "source": [
    "type(result)"
   ]
  },
  {
   "cell_type": "code",
   "execution_count": 11,
   "id": "d9d8c2bd-6ccb-4885-9adc-685f77b7e55a",
   "metadata": {},
   "outputs": [],
   "source": [
    "result1 = df.groupby('真实值')['真实值'].count()"
   ]
  },
  {
   "cell_type": "code",
   "execution_count": 12,
   "id": "d4bf41f1-5813-4f14-a8d8-e4d257ab38e9",
   "metadata": {},
   "outputs": [
    {
     "data": {
      "text/plain": [
       "真实值\n",
       "0-10000             18878\n",
       "10000-100000         1574\n",
       "100000-1000000       1112\n",
       "1000000-10000000       48\n",
       "Name: 真实值, dtype: int64"
      ]
     },
     "execution_count": 12,
     "metadata": {},
     "output_type": "execute_result"
    }
   ],
   "source": [
    "result1"
   ]
  },
  {
   "cell_type": "code",
   "execution_count": null,
   "id": "94e47109-0332-4b4a-825e-53a6c98f2752",
   "metadata": {},
   "outputs": [],
   "source": []
  }
 ],
 "metadata": {
  "kernelspec": {
   "display_name": "Python 3 (ipykernel)",
   "language": "python",
   "name": "python3"
  },
  "language_info": {
   "codemirror_mode": {
    "name": "ipython",
    "version": 3
   },
   "file_extension": ".py",
   "mimetype": "text/x-python",
   "name": "python",
   "nbconvert_exporter": "python",
   "pygments_lexer": "ipython3",
   "version": "3.10.7"
  }
 },
 "nbformat": 4,
 "nbformat_minor": 5
}
