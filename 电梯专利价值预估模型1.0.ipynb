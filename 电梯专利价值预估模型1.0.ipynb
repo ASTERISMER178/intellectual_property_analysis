{
 "cells": [
  {
   "cell_type": "code",
   "execution_count": 78,
   "id": "824efe93",
   "metadata": {},
   "outputs": [],
   "source": [
    "import pandas as pd\n",
    "import numpy as np"
   ]
  },
  {
   "cell_type": "code",
   "execution_count": 79,
   "id": "c1948716",
   "metadata": {
    "scrolled": true
   },
   "outputs": [
    {
     "name": "stdout",
     "output_type": "stream",
     "text": [
      "<class 'pandas.core.frame.DataFrame'>\n",
      "RangeIndex: 72402 entries, 0 to 72401\n",
      "Data columns (total 15 columns):\n",
      " #   Column                      Non-Null Count  Dtype  \n",
      "---  ------                      --------------  -----  \n",
      " 0   Patent_Name                 72402 non-null  object \n",
      " 1   Industry_Chain_Position     72402 non-null  object \n",
      " 2   Level1_Technology_Branch    72402 non-null  object \n",
      " 3   Patent_Type                 72402 non-null  object \n",
      " 4   date                        72402 non-null  int64  \n",
      " 5   Number_Of_Claims            72402 non-null  int64  \n",
      " 6   Literature_Pages            72402 non-null  int64  \n",
      " 7   Province_Code               72402 non-null  object \n",
      " 8   Number_Of_Citations_In_3    72402 non-null  int64  \n",
      " 9   Number_Of_Citations_In_5    72402 non-null  int64  \n",
      " 10  Number_Of_Citing_Patents    72402 non-null  int64  \n",
      " 11  Number_Of_Cited_Patents     72402 non-null  float64\n",
      " 12  Patent_Validity             72402 non-null  object \n",
      " 13  Number_Of_Litigation_Cases  72402 non-null  int64  \n",
      " 14  Patent_Value                72402 non-null  int64  \n",
      "dtypes: float64(1), int64(8), object(6)\n",
      "memory usage: 8.3+ MB\n"
     ]
    },
    {
     "data": {
      "text/html": [
       "<div>\n",
       "<style scoped>\n",
       "    .dataframe tbody tr th:only-of-type {\n",
       "        vertical-align: middle;\n",
       "    }\n",
       "\n",
       "    .dataframe tbody tr th {\n",
       "        vertical-align: top;\n",
       "    }\n",
       "\n",
       "    .dataframe thead th {\n",
       "        text-align: right;\n",
       "    }\n",
       "</style>\n",
       "<table border=\"1\" class=\"dataframe\">\n",
       "  <thead>\n",
       "    <tr style=\"text-align: right;\">\n",
       "      <th></th>\n",
       "      <th>Patent_Name</th>\n",
       "      <th>Industry_Chain_Position</th>\n",
       "      <th>Level1_Technology_Branch</th>\n",
       "      <th>Patent_Type</th>\n",
       "      <th>date</th>\n",
       "      <th>Number_Of_Claims</th>\n",
       "      <th>Literature_Pages</th>\n",
       "      <th>Province_Code</th>\n",
       "      <th>Number_Of_Citations_In_3</th>\n",
       "      <th>Number_Of_Citations_In_5</th>\n",
       "      <th>Number_Of_Citing_Patents</th>\n",
       "      <th>Number_Of_Cited_Patents</th>\n",
       "      <th>Patent_Validity</th>\n",
       "      <th>Number_Of_Litigation_Cases</th>\n",
       "      <th>Patent_Value</th>\n",
       "    </tr>\n",
       "  </thead>\n",
       "  <tbody>\n",
       "    <tr>\n",
       "      <th>0</th>\n",
       "      <td>铝合金材质轨道的对接结构</td>\n",
       "      <td>产业链上游</td>\n",
       "      <td>原材料</td>\n",
       "      <td>实用新型</td>\n",
       "      <td>2020</td>\n",
       "      <td>7</td>\n",
       "      <td>15</td>\n",
       "      <td>台湾</td>\n",
       "      <td>0</td>\n",
       "      <td>0</td>\n",
       "      <td>0</td>\n",
       "      <td>0.0</td>\n",
       "      <td>有效</td>\n",
       "      <td>0</td>\n",
       "      <td>3300</td>\n",
       "    </tr>\n",
       "    <tr>\n",
       "      <th>1</th>\n",
       "      <td>一种铝合金材质的护壁板</td>\n",
       "      <td>产业链上游</td>\n",
       "      <td>原材料</td>\n",
       "      <td>实用新型</td>\n",
       "      <td>2019</td>\n",
       "      <td>4</td>\n",
       "      <td>7</td>\n",
       "      <td>浙江</td>\n",
       "      <td>0</td>\n",
       "      <td>0</td>\n",
       "      <td>0</td>\n",
       "      <td>0.0</td>\n",
       "      <td>有效</td>\n",
       "      <td>0</td>\n",
       "      <td>3400</td>\n",
       "    </tr>\n",
       "    <tr>\n",
       "      <th>2</th>\n",
       "      <td>一种新型的SUS材质门楣结构</td>\n",
       "      <td>产业链上游</td>\n",
       "      <td>原材料</td>\n",
       "      <td>实用新型</td>\n",
       "      <td>2021</td>\n",
       "      <td>5</td>\n",
       "      <td>5</td>\n",
       "      <td>江苏</td>\n",
       "      <td>0</td>\n",
       "      <td>0</td>\n",
       "      <td>0</td>\n",
       "      <td>0.0</td>\n",
       "      <td>有效</td>\n",
       "      <td>0</td>\n",
       "      <td>3400</td>\n",
       "    </tr>\n",
       "    <tr>\n",
       "      <th>3</th>\n",
       "      <td>电梯安全钳楔块用复合材料、铜增强材料及其制备方法</td>\n",
       "      <td>产业链上游</td>\n",
       "      <td>原材料</td>\n",
       "      <td>发明申请</td>\n",
       "      <td>2021</td>\n",
       "      <td>10</td>\n",
       "      <td>16</td>\n",
       "      <td>陕西</td>\n",
       "      <td>0</td>\n",
       "      <td>0</td>\n",
       "      <td>0</td>\n",
       "      <td>0.0</td>\n",
       "      <td>审中</td>\n",
       "      <td>0</td>\n",
       "      <td>3400</td>\n",
       "    </tr>\n",
       "    <tr>\n",
       "      <th>4</th>\n",
       "      <td>一种新型轻质材料电梯轿厢减震底板</td>\n",
       "      <td>产业链上游</td>\n",
       "      <td>原材料</td>\n",
       "      <td>实用新型</td>\n",
       "      <td>2019</td>\n",
       "      <td>10</td>\n",
       "      <td>6</td>\n",
       "      <td>浙江</td>\n",
       "      <td>0</td>\n",
       "      <td>0</td>\n",
       "      <td>1</td>\n",
       "      <td>0.0</td>\n",
       "      <td>有效</td>\n",
       "      <td>0</td>\n",
       "      <td>3400</td>\n",
       "    </tr>\n",
       "  </tbody>\n",
       "</table>\n",
       "</div>"
      ],
      "text/plain": [
       "                Patent_Name Industry_Chain_Position Level1_Technology_Branch  \\\n",
       "0              铝合金材质轨道的对接结构                   产业链上游                      原材料   \n",
       "1               一种铝合金材质的护壁板                   产业链上游                      原材料   \n",
       "2            一种新型的SUS材质门楣结构                   产业链上游                      原材料   \n",
       "3  电梯安全钳楔块用复合材料、铜增强材料及其制备方法                   产业链上游                      原材料   \n",
       "4          一种新型轻质材料电梯轿厢减震底板                   产业链上游                      原材料   \n",
       "\n",
       "  Patent_Type  date  Number_Of_Claims  Literature_Pages Province_Code  \\\n",
       "0        实用新型  2020                 7                15            台湾   \n",
       "1        实用新型  2019                 4                 7            浙江   \n",
       "2        实用新型  2021                 5                 5            江苏   \n",
       "3        发明申请  2021                10                16            陕西   \n",
       "4        实用新型  2019                10                 6            浙江   \n",
       "\n",
       "   Number_Of_Citations_In_3  Number_Of_Citations_In_5  \\\n",
       "0                         0                         0   \n",
       "1                         0                         0   \n",
       "2                         0                         0   \n",
       "3                         0                         0   \n",
       "4                         0                         0   \n",
       "\n",
       "   Number_Of_Citing_Patents  Number_Of_Cited_Patents Patent_Validity  \\\n",
       "0                         0                      0.0              有效   \n",
       "1                         0                      0.0              有效   \n",
       "2                         0                      0.0              有效   \n",
       "3                         0                      0.0              审中   \n",
       "4                         1                      0.0              有效   \n",
       "\n",
       "   Number_Of_Litigation_Cases  Patent_Value  \n",
       "0                           0          3300  \n",
       "1                           0          3400  \n",
       "2                           0          3400  \n",
       "3                           0          3400  \n",
       "4                           0          3400  "
      ]
     },
     "execution_count": 79,
     "metadata": {},
     "output_type": "execute_result"
    }
   ],
   "source": [
    "df=pd.read_csv(\"./Data/pData.CSV\")\n",
    "df.info()\n",
    "df.head(5)"
   ]
  },
  {
   "cell_type": "markdown",
   "id": "0b19712b",
   "metadata": {},
   "source": [
    "####数据分析"
   ]
  },
  {
   "cell_type": "code",
   "execution_count": 80,
   "id": "a84d7575",
   "metadata": {},
   "outputs": [
    {
     "data": {
      "text/html": [
       "<div>\n",
       "<style scoped>\n",
       "    .dataframe tbody tr th:only-of-type {\n",
       "        vertical-align: middle;\n",
       "    }\n",
       "\n",
       "    .dataframe tbody tr th {\n",
       "        vertical-align: top;\n",
       "    }\n",
       "\n",
       "    .dataframe thead th {\n",
       "        text-align: right;\n",
       "    }\n",
       "</style>\n",
       "<table border=\"1\" class=\"dataframe\">\n",
       "  <thead>\n",
       "    <tr style=\"text-align: right;\">\n",
       "      <th></th>\n",
       "      <th>Patent_Name</th>\n",
       "      <th>Industry_Chain_Position</th>\n",
       "      <th>Level1_Technology_Branch</th>\n",
       "      <th>Patent_Type</th>\n",
       "      <th>Province_Code</th>\n",
       "      <th>Patent_Validity</th>\n",
       "    </tr>\n",
       "  </thead>\n",
       "  <tbody>\n",
       "    <tr>\n",
       "      <th>count</th>\n",
       "      <td>72402</td>\n",
       "      <td>72402</td>\n",
       "      <td>72402</td>\n",
       "      <td>72402</td>\n",
       "      <td>72402</td>\n",
       "      <td>72402</td>\n",
       "    </tr>\n",
       "    <tr>\n",
       "      <th>unique</th>\n",
       "      <td>32154</td>\n",
       "      <td>3</td>\n",
       "      <td>12</td>\n",
       "      <td>3</td>\n",
       "      <td>34</td>\n",
       "      <td>3</td>\n",
       "    </tr>\n",
       "    <tr>\n",
       "      <th>top</th>\n",
       "      <td>一种电梯</td>\n",
       "      <td>产业链中游</td>\n",
       "      <td>应用市场</td>\n",
       "      <td>实用新型</td>\n",
       "      <td>江苏</td>\n",
       "      <td>有效</td>\n",
       "    </tr>\n",
       "    <tr>\n",
       "      <th>freq</th>\n",
       "      <td>72</td>\n",
       "      <td>26761</td>\n",
       "      <td>19504</td>\n",
       "      <td>49068</td>\n",
       "      <td>17094</td>\n",
       "      <td>58573</td>\n",
       "    </tr>\n",
       "  </tbody>\n",
       "</table>\n",
       "</div>"
      ],
      "text/plain": [
       "       Patent_Name Industry_Chain_Position Level1_Technology_Branch  \\\n",
       "count        72402                   72402                    72402   \n",
       "unique       32154                       3                       12   \n",
       "top           一种电梯                   产业链中游                     应用市场   \n",
       "freq            72                   26761                    19504   \n",
       "\n",
       "       Patent_Type Province_Code Patent_Validity  \n",
       "count        72402         72402           72402  \n",
       "unique           3            34               3  \n",
       "top           实用新型            江苏              有效  \n",
       "freq         49068         17094           58573  "
      ]
     },
     "execution_count": 80,
     "metadata": {},
     "output_type": "execute_result"
    }
   ],
   "source": [
    "df.select_dtypes(include=[\"object\"]).describe()"
   ]
  },
  {
   "cell_type": "code",
   "execution_count": 81,
   "id": "136314e4",
   "metadata": {
    "scrolled": true
   },
   "outputs": [
    {
     "data": {
      "text/html": [
       "<div>\n",
       "<style scoped>\n",
       "    .dataframe tbody tr th:only-of-type {\n",
       "        vertical-align: middle;\n",
       "    }\n",
       "\n",
       "    .dataframe tbody tr th {\n",
       "        vertical-align: top;\n",
       "    }\n",
       "\n",
       "    .dataframe thead th {\n",
       "        text-align: right;\n",
       "    }\n",
       "</style>\n",
       "<table border=\"1\" class=\"dataframe\">\n",
       "  <thead>\n",
       "    <tr style=\"text-align: right;\">\n",
       "      <th></th>\n",
       "      <th>date</th>\n",
       "      <th>Number_Of_Claims</th>\n",
       "      <th>Literature_Pages</th>\n",
       "      <th>Number_Of_Citations_In_3</th>\n",
       "      <th>Number_Of_Citations_In_5</th>\n",
       "      <th>Number_Of_Citing_Patents</th>\n",
       "      <th>Number_Of_Litigation_Cases</th>\n",
       "      <th>Patent_Value</th>\n",
       "    </tr>\n",
       "  </thead>\n",
       "  <tbody>\n",
       "    <tr>\n",
       "      <th>count</th>\n",
       "      <td>72402.00000</td>\n",
       "      <td>72402.000000</td>\n",
       "      <td>72402.000000</td>\n",
       "      <td>72402.000000</td>\n",
       "      <td>72402.000000</td>\n",
       "      <td>72402.000000</td>\n",
       "      <td>72402.000000</td>\n",
       "      <td>7.240200e+04</td>\n",
       "    </tr>\n",
       "    <tr>\n",
       "      <th>mean</th>\n",
       "      <td>2019.23998</td>\n",
       "      <td>6.756126</td>\n",
       "      <td>9.370017</td>\n",
       "      <td>0.427654</td>\n",
       "      <td>0.499917</td>\n",
       "      <td>1.378056</td>\n",
       "      <td>0.000732</td>\n",
       "      <td>2.008095e+04</td>\n",
       "    </tr>\n",
       "    <tr>\n",
       "      <th>std</th>\n",
       "      <td>2.34387</td>\n",
       "      <td>2.878604</td>\n",
       "      <td>4.144863</td>\n",
       "      <td>1.202840</td>\n",
       "      <td>1.406499</td>\n",
       "      <td>3.001498</td>\n",
       "      <td>0.039500</td>\n",
       "      <td>1.053680e+05</td>\n",
       "    </tr>\n",
       "    <tr>\n",
       "      <th>min</th>\n",
       "      <td>2004.00000</td>\n",
       "      <td>1.000000</td>\n",
       "      <td>1.000000</td>\n",
       "      <td>0.000000</td>\n",
       "      <td>0.000000</td>\n",
       "      <td>0.000000</td>\n",
       "      <td>0.000000</td>\n",
       "      <td>3.100000e+03</td>\n",
       "    </tr>\n",
       "    <tr>\n",
       "      <th>25%</th>\n",
       "      <td>2018.00000</td>\n",
       "      <td>5.000000</td>\n",
       "      <td>7.000000</td>\n",
       "      <td>0.000000</td>\n",
       "      <td>0.000000</td>\n",
       "      <td>0.000000</td>\n",
       "      <td>0.000000</td>\n",
       "      <td>3.300000e+03</td>\n",
       "    </tr>\n",
       "    <tr>\n",
       "      <th>50%</th>\n",
       "      <td>2020.00000</td>\n",
       "      <td>6.000000</td>\n",
       "      <td>8.000000</td>\n",
       "      <td>0.000000</td>\n",
       "      <td>0.000000</td>\n",
       "      <td>0.000000</td>\n",
       "      <td>0.000000</td>\n",
       "      <td>3.400000e+03</td>\n",
       "    </tr>\n",
       "    <tr>\n",
       "      <th>75%</th>\n",
       "      <td>2021.00000</td>\n",
       "      <td>9.000000</td>\n",
       "      <td>11.000000</td>\n",
       "      <td>0.000000</td>\n",
       "      <td>0.000000</td>\n",
       "      <td>1.000000</td>\n",
       "      <td>0.000000</td>\n",
       "      <td>3.500000e+03</td>\n",
       "    </tr>\n",
       "    <tr>\n",
       "      <th>max</th>\n",
       "      <td>2022.00000</td>\n",
       "      <td>57.000000</td>\n",
       "      <td>85.000000</td>\n",
       "      <td>25.000000</td>\n",
       "      <td>27.000000</td>\n",
       "      <td>32.000000</td>\n",
       "      <td>4.000000</td>\n",
       "      <td>4.060000e+06</td>\n",
       "    </tr>\n",
       "  </tbody>\n",
       "</table>\n",
       "</div>"
      ],
      "text/plain": [
       "              date  Number_Of_Claims  Literature_Pages  \\\n",
       "count  72402.00000      72402.000000      72402.000000   \n",
       "mean    2019.23998          6.756126          9.370017   \n",
       "std        2.34387          2.878604          4.144863   \n",
       "min     2004.00000          1.000000          1.000000   \n",
       "25%     2018.00000          5.000000          7.000000   \n",
       "50%     2020.00000          6.000000          8.000000   \n",
       "75%     2021.00000          9.000000         11.000000   \n",
       "max     2022.00000         57.000000         85.000000   \n",
       "\n",
       "       Number_Of_Citations_In_3  Number_Of_Citations_In_5  \\\n",
       "count              72402.000000              72402.000000   \n",
       "mean                   0.427654                  0.499917   \n",
       "std                    1.202840                  1.406499   \n",
       "min                    0.000000                  0.000000   \n",
       "25%                    0.000000                  0.000000   \n",
       "50%                    0.000000                  0.000000   \n",
       "75%                    0.000000                  0.000000   \n",
       "max                   25.000000                 27.000000   \n",
       "\n",
       "       Number_Of_Citing_Patents  Number_Of_Litigation_Cases  Patent_Value  \n",
       "count              72402.000000                72402.000000  7.240200e+04  \n",
       "mean                   1.378056                    0.000732  2.008095e+04  \n",
       "std                    3.001498                    0.039500  1.053680e+05  \n",
       "min                    0.000000                    0.000000  3.100000e+03  \n",
       "25%                    0.000000                    0.000000  3.300000e+03  \n",
       "50%                    0.000000                    0.000000  3.400000e+03  \n",
       "75%                    1.000000                    0.000000  3.500000e+03  \n",
       "max                   32.000000                    4.000000  4.060000e+06  "
      ]
     },
     "execution_count": 81,
     "metadata": {},
     "output_type": "execute_result"
    }
   ],
   "source": [
    "df.select_dtypes(include=[\"int\"]).describe()"
   ]
  },
  {
   "cell_type": "code",
   "execution_count": 82,
   "id": "377f3a11",
   "metadata": {},
   "outputs": [],
   "source": [
    "#### 相关性分析"
   ]
  },
  {
   "cell_type": "code",
   "execution_count": 83,
   "id": "216c5572",
   "metadata": {},
   "outputs": [],
   "source": [
    "import seaborn as sns\n",
    "import matplotlib.pyplot as plt\n",
    "%matplotlib inline"
   ]
  },
  {
   "cell_type": "code",
   "execution_count": 84,
   "id": "57b91fcd",
   "metadata": {},
   "outputs": [
    {
     "data": {
      "image/png": "[encoded data removed]",
      "text/plain": [
       "<Figure size 640x480 with 2 Axes>"
      ]
     },
     "metadata": {},
     "output_type": "display_data"
    }
   ],
   "source": [
    "# 筛选出数值属性列\n",
    "numeric_cols = df.select_dtypes(include=['int', 'float']).columns\n",
    "\n",
    "# 计算相关性矩阵，并绘制热力图\n",
    "correlation_matrix = df[numeric_cols].corr()\n",
    "sns.heatmap(correlation_matrix, annot=True)\n",
    "plt.show()"
   ]
  },
  {
   "cell_type": "code",
   "execution_count": 85,
   "id": "01f29f7f",
   "metadata": {},
   "outputs": [],
   "source": [
    "cat_columns=[\"Industry_Chain_Position\",\"Level1_Technology_Branch\",\"Patent_Type\",\"Patent_Validity\",\"Province_Code\"]\n",
    "num_columns=[\"Number_Of_Claims\",\"Literature_Pages\",\"Number_Of_Citations_In_3\",\"Number_Of_Citations_In_5\",\"Number_Of_Citing_Patents\",\"Number_Of_Cited_Patents\",\"Number_Of_Litigation_Cases\",\"date\"]"
   ]
  },
  {
   "cell_type": "code",
   "execution_count": 86,
   "id": "e1758e86",
   "metadata": {},
   "outputs": [],
   "source": [
    "from sklearn.ensemble import RandomForestRegressor\n",
    "from sklearn.preprocessing import OneHotEncoder\n",
    "from sklearn.preprocessing import StandardScaler\n",
    "from sklearn.model_selection import train_test_split\n",
    "from sklearn.linear_model import LinearRegression\n",
    "from sklearn.metrics import mean_squared_error"
   ]
  },
  {
   "cell_type": "code",
   "execution_count": 87,
   "id": "aba2110e",
   "metadata": {},
   "outputs": [
    {
     "data": {
      "text/plain": [
       "(72402, 50)"
      ]
     },
     "execution_count": 87,
     "metadata": {},
     "output_type": "execute_result"
    }
   ],
   "source": [
    "oneHotEncoder=OneHotEncoder(drop='first')\n",
    "cat_features=oneHotEncoder.fit_transform(df[cat_columns]).toarray()\n",
    "cat_features.shape"
   ]
  },
  {
   "cell_type": "code",
   "execution_count": 88,
   "id": "722ff3ad",
   "metadata": {},
   "outputs": [
    {
     "data": {
      "text/plain": [
       "(72402, 8)"
      ]
     },
     "execution_count": 88,
     "metadata": {},
     "output_type": "execute_result"
    }
   ],
   "source": [
    "standardScaler=StandardScaler()\n",
    "num_features=standardScaler.fit_transform(df[num_columns])\n",
    "num_features.shape"
   ]
  },
  {
   "cell_type": "code",
   "execution_count": 89,
   "id": "6f049790",
   "metadata": {},
   "outputs": [
    {
     "data": {
      "text/plain": [
       "(72402, 58)"
      ]
     },
     "execution_count": 89,
     "metadata": {},
     "output_type": "execute_result"
    }
   ],
   "source": [
    "x=np.hstack([cat_features,num_features])\n",
    "x.shape"
   ]
  },
  {
   "cell_type": "code",
   "execution_count": 90,
   "id": "a5eeaca1",
   "metadata": {},
   "outputs": [
    {
     "data": {
      "text/plain": [
       "72402"
      ]
     },
     "execution_count": 90,
     "metadata": {},
     "output_type": "execute_result"
    }
   ],
   "source": [
    "y=df[\"Patent_Value\"].to_numpy()\n",
    "len(y)"
   ]
  },
  {
   "cell_type": "code",
   "execution_count": 91,
   "id": "f923f4d2",
   "metadata": {},
   "outputs": [
    {
     "data": {
      "text/plain": [
       "((57921, 58), (14481, 58), (57921,), (14481,))"
      ]
     },
     "execution_count": 91,
     "metadata": {},
     "output_type": "execute_result"
    }
   ],
   "source": [
    "x_train,x_test,y_train,y_test=train_test_split(x,y,test_size=0.2)\n",
    "x_train.shape,x_test.shape,y_train.shape,y_test.shape"
   ]
  },
  {
   "cell_type": "code",
   "execution_count": 92,
   "id": "19faf88a",
   "metadata": {},
   "outputs": [],
   "source": [
    "lr_model=LinearRegression()"
   ]
  },
  {
   "cell_type": "code",
   "execution_count": 93,
   "id": "95724444",
   "metadata": {},
   "outputs": [
    {
     "data": {
      "text/html": [
       "<style>#sk-container-id-3 {color: black;}#sk-container-id-3 pre{padding: 0;}#sk-container-id-3 div.sk-toggleable {background-color: white;}#sk-container-id-3 label.sk-toggleable__label {cursor: pointer;display: block;width: 100%;margin-bottom: 0;padding: 0.3em;box-sizing: border-box;text-align: center;}#sk-container-id-3 label.sk-toggleable__label-arrow:before {content: \"▸\";float: left;margin-right: 0.25em;color: #696969;}#sk-container-id-3 label.sk-toggleable__label-arrow:hover:before {color: black;}#sk-container-id-3 div.sk-estimator:hover label.sk-toggleable__label-arrow:before {color: black;}#sk-container-id-3 div.sk-toggleable__content {max-height: 0;max-width: 0;overflow: hidden;text-align: left;background-color: #f0f8ff;}#sk-container-id-3 div.sk-toggleable__content pre {margin: 0.2em;color: black;border-radius: 0.25em;background-color: #f0f8ff;}#sk-container-id-3 input.sk-toggleable__control:checked~div.sk-toggleable__content {max-height: 200px;max-width: 100%;overflow: auto;}#sk-container-id-3 input.sk-toggleable__control:checked~label.sk-toggleable__label-arrow:before {content: \"▾\";}#sk-container-id-3 div.sk-estimator input.sk-toggleable__control:checked~label.sk-toggleable__label {background-color: #d4ebff;}#sk-container-id-3 div.sk-label input.sk-toggleable__control:checked~label.sk-toggleable__label {background-color: #d4ebff;}#sk-container-id-3 input.sk-hidden--visually {border: 0;clip: rect(1px 1px 1px 1px);clip: rect(1px, 1px, 1px, 1px);height: 1px;margin: -1px;overflow: hidden;padding: 0;position: absolute;width: 1px;}#sk-container-id-3 div.sk-estimator {font-family: monospace;background-color: #f0f8ff;border: 1px dotted black;border-radius: 0.25em;box-sizing: border-box;margin-bottom: 0.5em;}#sk-container-id-3 div.sk-estimator:hover {background-color: #d4ebff;}#sk-container-id-3 div.sk-parallel-item::after {content: \"\";width: 100%;border-bottom: 1px solid gray;flex-grow: 1;}#sk-container-id-3 div.sk-label:hover label.sk-toggleable__label {background-color: #d4ebff;}#sk-container-id-3 div.sk-serial::before {content: \"\";position: absolute;border-left: 1px solid gray;box-sizing: border-box;top: 0;bottom: 0;left: 50%;z-index: 0;}#sk-container-id-3 div.sk-serial {display: flex;flex-direction: column;align-items: center;background-color: white;padding-right: 0.2em;padding-left: 0.2em;position: relative;}#sk-container-id-3 div.sk-item {position: relative;z-index: 1;}#sk-container-id-3 div.sk-parallel {display: flex;align-items: stretch;justify-content: center;background-color: white;position: relative;}#sk-container-id-3 div.sk-item::before, #sk-container-id-3 div.sk-parallel-item::before {content: \"\";position: absolute;border-left: 1px solid gray;box-sizing: border-box;top: 0;bottom: 0;left: 50%;z-index: -1;}#sk-container-id-3 div.sk-parallel-item {display: flex;flex-direction: column;z-index: 1;position: relative;background-color: white;}#sk-container-id-3 div.sk-parallel-item:first-child::after {align-self: flex-end;width: 50%;}#sk-container-id-3 div.sk-parallel-item:last-child::after {align-self: flex-start;width: 50%;}#sk-container-id-3 div.sk-parallel-item:only-child::after {width: 0;}#sk-container-id-3 div.sk-dashed-wrapped {border: 1px dashed gray;margin: 0 0.4em 0.5em 0.4em;box-sizing: border-box;padding-bottom: 0.4em;background-color: white;}#sk-container-id-3 div.sk-label label {font-family: monospace;font-weight: bold;display: inline-block;line-height: 1.2em;}#sk-container-id-3 div.sk-label-container {text-align: center;}#sk-container-id-3 div.sk-container {/* jupyter's `normalize.less` sets `[hidden] { display: none; }` but bootstrap.min.css set `[hidden] { display: none !important; }` so we also need the `!important` here to be able to override the default hidden behavior on the sphinx rendered scikit-learn.org. See: https://github.com/scikit-learn/scikit-learn/issues/21755 */display: inline-block !important;position: relative;}#sk-container-id-3 div.sk-text-repr-fallback {display: none;}</style><div id=\"sk-container-id-3\" class=\"sk-top-container\"><div class=\"sk-text-repr-fallback\"><pre>LinearRegression()</pre><b>In a Jupyter environment, please rerun this cell to show the HTML representation or trust the notebook. <br />On GitHub, the HTML representation is unable to render, please try loading this page with nbviewer.org.</b></div><div class=\"sk-container\" hidden><div class=\"sk-item\"><div class=\"sk-estimator sk-toggleable\"><input class=\"sk-toggleable__control sk-hidden--visually\" id=\"sk-estimator-id-3\" type=\"checkbox\" checked><label for=\"sk-estimator-id-3\" class=\"sk-toggleable__label sk-toggleable__label-arrow\">LinearRegression</label><div class=\"sk-toggleable__content\"><pre>LinearRegression()</pre></div></div></div></div></div>"
      ],
      "text/plain": [
       "LinearRegression()"
      ]
     },
     "execution_count": 93,
     "metadata": {},
     "output_type": "execute_result"
    }
   ],
   "source": [
    "lr_model.fit(x_train,y_train)"
   ]
  },
  {
   "cell_type": "code",
   "execution_count": 94,
   "id": "5ebc4350",
   "metadata": {},
   "outputs": [
    {
     "data": {
      "text/plain": [
       "0.17888877481229315"
      ]
     },
     "execution_count": 94,
     "metadata": {},
     "output_type": "execute_result"
    }
   ],
   "source": [
    "lr_model.score(x_test,y_test)"
   ]
  },
  {
   "cell_type": "code",
   "execution_count": 95,
   "id": "12787dc8",
   "metadata": {},
   "outputs": [
    {
     "data": {
      "text/plain": [
       "0.20702534270346773"
      ]
     },
     "execution_count": 95,
     "metadata": {},
     "output_type": "execute_result"
    }
   ],
   "source": [
    "lr_model.score(x_train,y_train)"
   ]
  },
  {
   "cell_type": "code",
   "execution_count": 96,
   "id": "6f7ff204",
   "metadata": {},
   "outputs": [
    {
     "data": {
      "text/plain": [
       "array([  5894.24482116,  -1804.80083983, -12868.76656876, ...,\n",
       "       118070.76948952,  -2263.11310478,  15894.1589676 ])"
      ]
     },
     "execution_count": 96,
     "metadata": {},
     "output_type": "execute_result"
    }
   ],
   "source": [
    "y_lrEstimate=lr_model.predict(x_test)\n",
    "y_lrEstimate"
   ]
  },
  {
   "cell_type": "code",
   "execution_count": 97,
   "id": "e7d6f5f1",
   "metadata": {},
   "outputs": [],
   "source": [
    "# 评估模型性能\n",
    "# mse = mean_squared_error(y_test, y_lrEstimate)\n",
    "# mse"
   ]
  },
  {
   "cell_type": "code",
   "execution_count": 100,
   "id": "745a37b0",
   "metadata": {},
   "outputs": [],
   "source": [
    "lrData = {'Patent_Value': y_test, 'Estimate_Value': y_lrEstimate}\n",
    "lrResult = pd.DataFrame(lrData)"
   ]
  },
  {
   "cell_type": "code",
   "execution_count": 104,
   "id": "0e2559fa",
   "metadata": {},
   "outputs": [
    {
     "ename": "ValueError",
     "evalue": "Percentiles must be in the range [0, 100]",
     "output_type": "error",
     "traceback": [
      "\u001b[1;31m---------------------------------------------------------------------------\u001b[0m",
      "\u001b[1;31mValueError\u001b[0m                                Traceback (most recent call last)",
      "Cell \u001b[1;32mIn[104], line 1\u001b[0m\n\u001b[1;32m----> 1\u001b[0m \u001b[43mnp\u001b[49m\u001b[38;5;241;43m.\u001b[39;49m\u001b[43mpercentile\u001b[49m\u001b[43m(\u001b[49m\u001b[43my_test\u001b[49m\u001b[43m,\u001b[49m\u001b[43my_lrEstimate\u001b[49m\u001b[43m)\u001b[49m\n",
      "File \u001b[1;32mE:\\IntellectualProperty-main\\IntellectualProperty-env\\lib\\site-packages\\numpy\\lib\\function_base.py:4282\u001b[0m, in \u001b[0;36mpercentile\u001b[1;34m(a, q, axis, out, overwrite_input, method, keepdims, interpolation)\u001b[0m\n\u001b[0;32m   4280\u001b[0m q \u001b[38;5;241m=\u001b[39m asanyarray(q)  \u001b[38;5;66;03m# undo any decay that the ufunc performed (see gh-13105)\u001b[39;00m\n\u001b[0;32m   4281\u001b[0m \u001b[38;5;28;01mif\u001b[39;00m \u001b[38;5;129;01mnot\u001b[39;00m _quantile_is_valid(q):\n\u001b[1;32m-> 4282\u001b[0m     \u001b[38;5;28;01mraise\u001b[39;00m \u001b[38;5;167;01mValueError\u001b[39;00m(\u001b[38;5;124m\"\u001b[39m\u001b[38;5;124mPercentiles must be in the range [0, 100]\u001b[39m\u001b[38;5;124m\"\u001b[39m)\n\u001b[0;32m   4283\u001b[0m \u001b[38;5;28;01mreturn\u001b[39;00m _quantile_unchecked(\n\u001b[0;32m   4284\u001b[0m     a, q, axis, out, overwrite_input, method, keepdims)\n",
      "\u001b[1;31mValueError\u001b[0m: Percentiles must be in the range [0, 100]"
     ]
    }
   ],
   "source": [
    "# np.percentile(y_test,y_lrEstimate)"
   ]
  },
  {
   "cell_type": "code",
   "execution_count": 102,
   "id": "badf39a6",
   "metadata": {},
   "outputs": [
    {
     "name": "stdout",
     "output_type": "stream",
     "text": [
      "25% RealValue and PredictedValue MSE: 1354728776.9721727\n",
      "50% RealValue and PredictedValue MSE: 1476358616.1606889\n",
      "75% RealValue and PredictedValue MSE: 1088383282.8424366\n",
      "100% RealValue and PredictedValue MSE: 40303369544.89626\n"
     ]
    }
   ],
   "source": [
    "sorted_lrResult = lrResult.sort_values(by='Patent_Value')\n",
    "\n",
    "# 计算每个分位点对应的索引\n",
    "n = len(sorted_lrResult)\n",
    "percentiles = [0, 25, 50, 75, 100]\n",
    "percentile_indices = [int(p * n / 100) for p in percentiles]\n",
    "\n",
    "# 获取各分位点的真实值和预估值\n",
    "real_values = sorted_lrResult['Patent_Value'].values\n",
    "predicted_values = sorted_lrResult['Estimate_Value'].values\n",
    "\n",
    "# 计算平方差均值\n",
    "mse_values = np.square(real_values - predicted_values)\n",
    "mse_percentiles = [mse_values[i:j].mean() for i, j in zip(percentile_indices, percentile_indices[1:])]\n",
    "\n",
    "# 打印结果\n",
    "for p, mse in zip(percentiles[1:], mse_percentiles):\n",
    "    print(f'{p}% Patent_Value and Estimate_Value MSE: {mse}')"
   ]
  },
  {
   "cell_type": "code",
   "execution_count": 21,
   "id": "04cd4509",
   "metadata": {},
   "outputs": [],
   "source": [
    "lrResult.to_excel(\"./Data/lrResult.xlsx\", index=False)\n",
    "lrResult.to_csv(\"./Data/lrResult.CSV\", index=False)"
   ]
  },
  {
   "cell_type": "code",
   "execution_count": 22,
   "id": "91a257e2",
   "metadata": {},
   "outputs": [],
   "source": [
    "from sklearn.ensemble import RandomForestRegressor\n",
    "from sklearn.metrics import accuracy_score"
   ]
  },
  {
   "cell_type": "code",
   "execution_count": 23,
   "id": "41037d05",
   "metadata": {},
   "outputs": [],
   "source": [
    "random_model=RandomForestRegressor(n_estimators=300,random_state=42,n_jobs=-1)"
   ]
  },
  {
   "cell_type": "code",
   "execution_count": 24,
   "id": "d11bd4b8",
   "metadata": {},
   "outputs": [
    {
     "data": {
      "text/html": [
       "<style>#sk-container-id-2 {color: black;}#sk-container-id-2 pre{padding: 0;}#sk-container-id-2 div.sk-toggleable {background-color: white;}#sk-container-id-2 label.sk-toggleable__label {cursor: pointer;display: block;width: 100%;margin-bottom: 0;padding: 0.3em;box-sizing: border-box;text-align: center;}#sk-container-id-2 label.sk-toggleable__label-arrow:before {content: \"▸\";float: left;margin-right: 0.25em;color: #696969;}#sk-container-id-2 label.sk-toggleable__label-arrow:hover:before {color: black;}#sk-container-id-2 div.sk-estimator:hover label.sk-toggleable__label-arrow:before {color: black;}#sk-container-id-2 div.sk-toggleable__content {max-height: 0;max-width: 0;overflow: hidden;text-align: left;background-color: #f0f8ff;}#sk-container-id-2 div.sk-toggleable__content pre {margin: 0.2em;color: black;border-radius: 0.25em;background-color: #f0f8ff;}#sk-container-id-2 input.sk-toggleable__control:checked~div.sk-toggleable__content {max-height: 200px;max-width: 100%;overflow: auto;}#sk-container-id-2 input.sk-toggleable__control:checked~label.sk-toggleable__label-arrow:before {content: \"▾\";}#sk-container-id-2 div.sk-estimator input.sk-toggleable__control:checked~label.sk-toggleable__label {background-color: #d4ebff;}#sk-container-id-2 div.sk-label input.sk-toggleable__control:checked~label.sk-toggleable__label {background-color: #d4ebff;}#sk-container-id-2 input.sk-hidden--visually {border: 0;clip: rect(1px 1px 1px 1px);clip: rect(1px, 1px, 1px, 1px);height: 1px;margin: -1px;overflow: hidden;padding: 0;position: absolute;width: 1px;}#sk-container-id-2 div.sk-estimator {font-family: monospace;background-color: #f0f8ff;border: 1px dotted black;border-radius: 0.25em;box-sizing: border-box;margin-bottom: 0.5em;}#sk-container-id-2 div.sk-estimator:hover {background-color: #d4ebff;}#sk-container-id-2 div.sk-parallel-item::after {content: \"\";width: 100%;border-bottom: 1px solid gray;flex-grow: 1;}#sk-container-id-2 div.sk-label:hover label.sk-toggleable__label {background-color: #d4ebff;}#sk-container-id-2 div.sk-serial::before {content: \"\";position: absolute;border-left: 1px solid gray;box-sizing: border-box;top: 0;bottom: 0;left: 50%;z-index: 0;}#sk-container-id-2 div.sk-serial {display: flex;flex-direction: column;align-items: center;background-color: white;padding-right: 0.2em;padding-left: 0.2em;position: relative;}#sk-container-id-2 div.sk-item {position: relative;z-index: 1;}#sk-container-id-2 div.sk-parallel {display: flex;align-items: stretch;justify-content: center;background-color: white;position: relative;}#sk-container-id-2 div.sk-item::before, #sk-container-id-2 div.sk-parallel-item::before {content: \"\";position: absolute;border-left: 1px solid gray;box-sizing: border-box;top: 0;bottom: 0;left: 50%;z-index: -1;}#sk-container-id-2 div.sk-parallel-item {display: flex;flex-direction: column;z-index: 1;position: relative;background-color: white;}#sk-container-id-2 div.sk-parallel-item:first-child::after {align-self: flex-end;width: 50%;}#sk-container-id-2 div.sk-parallel-item:last-child::after {align-self: flex-start;width: 50%;}#sk-container-id-2 div.sk-parallel-item:only-child::after {width: 0;}#sk-container-id-2 div.sk-dashed-wrapped {border: 1px dashed gray;margin: 0 0.4em 0.5em 0.4em;box-sizing: border-box;padding-bottom: 0.4em;background-color: white;}#sk-container-id-2 div.sk-label label {font-family: monospace;font-weight: bold;display: inline-block;line-height: 1.2em;}#sk-container-id-2 div.sk-label-container {text-align: center;}#sk-container-id-2 div.sk-container {/* jupyter's `normalize.less` sets `[hidden] { display: none; }` but bootstrap.min.css set `[hidden] { display: none !important; }` so we also need the `!important` here to be able to override the default hidden behavior on the sphinx rendered scikit-learn.org. See: https://github.com/scikit-learn/scikit-learn/issues/21755 */display: inline-block !important;position: relative;}#sk-container-id-2 div.sk-text-repr-fallback {display: none;}</style><div id=\"sk-container-id-2\" class=\"sk-top-container\"><div class=\"sk-text-repr-fallback\"><pre>RandomForestRegressor(n_estimators=300, n_jobs=-1, random_state=42)</pre><b>In a Jupyter environment, please rerun this cell to show the HTML representation or trust the notebook. <br />On GitHub, the HTML representation is unable to render, please try loading this page with nbviewer.org.</b></div><div class=\"sk-container\" hidden><div class=\"sk-item\"><div class=\"sk-estimator sk-toggleable\"><input class=\"sk-toggleable__control sk-hidden--visually\" id=\"sk-estimator-id-2\" type=\"checkbox\" checked><label for=\"sk-estimator-id-2\" class=\"sk-toggleable__label sk-toggleable__label-arrow\">RandomForestRegressor</label><div class=\"sk-toggleable__content\"><pre>RandomForestRegressor(n_estimators=300, n_jobs=-1, random_state=42)</pre></div></div></div></div></div>"
      ],
      "text/plain": [
       "RandomForestRegressor(n_estimators=300, n_jobs=-1, random_state=42)"
      ]
     },
     "execution_count": 24,
     "metadata": {},
     "output_type": "execute_result"
    }
   ],
   "source": [
    "random_model.fit(x_train,y_train)"
   ]
  },
  {
   "cell_type": "code",
   "execution_count": 25,
   "id": "f1d23fed",
   "metadata": {},
   "outputs": [
    {
     "data": {
      "text/plain": [
       "0.9545354938218393"
      ]
     },
     "execution_count": 25,
     "metadata": {},
     "output_type": "execute_result"
    }
   ],
   "source": [
    "random_model.score(x_train,y_train)"
   ]
  },
  {
   "cell_type": "code",
   "execution_count": 26,
   "id": "4dec4230",
   "metadata": {},
   "outputs": [
    {
     "data": {
      "text/plain": [
       "0.7652595887200319"
      ]
     },
     "execution_count": 26,
     "metadata": {},
     "output_type": "execute_result"
    }
   ],
   "source": [
    "random_model.score(x_test,y_test)"
   ]
  },
  {
   "cell_type": "code",
   "execution_count": 27,
   "id": "b934da52",
   "metadata": {},
   "outputs": [
    {
     "data": {
      "text/plain": [
       "array([3346.21388889, 3697.66666667, 3428.        , ..., 3481.        ,\n",
       "       3464.8531746 , 3510.        ])"
      ]
     },
     "execution_count": 27,
     "metadata": {},
     "output_type": "execute_result"
    }
   ],
   "source": [
    "y_rfEstimate=random_model.predict(x_test)\n",
    "y_rfEstimate"
   ]
  },
  {
   "cell_type": "code",
   "execution_count": 28,
   "id": "7cd78d22",
   "metadata": {},
   "outputs": [
    {
     "data": {
      "text/plain": [
       "3490334367.380462"
      ]
     },
     "execution_count": 28,
     "metadata": {},
     "output_type": "execute_result"
    }
   ],
   "source": [
    "mse = mean_squared_error(y_test, y_rfEstimate)\n",
    "mse"
   ]
  },
  {
   "cell_type": "code",
   "execution_count": 29,
   "id": "3abef993",
   "metadata": {},
   "outputs": [
    {
     "data": {
      "text/plain": [
       "array([3300, 3400, 3400, ..., 3600, 3400, 3500], dtype=int64)"
      ]
     },
     "execution_count": 29,
     "metadata": {},
     "output_type": "execute_result"
    }
   ],
   "source": [
    "y_test"
   ]
  },
  {
   "cell_type": "code",
   "execution_count": 30,
   "id": "b17e07df",
   "metadata": {},
   "outputs": [],
   "source": [
    "rfData = {'Patent_Value': y_test, 'Estimate_Value': y_rfEstimate}\n",
    "rfResult = pd.DataFrame(rfData)"
   ]
  },
  {
   "cell_type": "code",
   "execution_count": 31,
   "id": "22f8c81f",
   "metadata": {},
   "outputs": [],
   "source": [
    "rfResult.to_excel(\"./Data/rfResult.xlsx\", index=False)\n",
    "rfResult.to_csv(\"./Data/rfResult.CSV\", index=False)"
   ]
  },
  {
   "cell_type": "code",
   "execution_count": 32,
   "id": "4787480c",
   "metadata": {},
   "outputs": [],
   "source": [
    "from sklearn.svm import SVR\n"
   ]
  },
  {
   "cell_type": "code",
   "execution_count": 33,
   "id": "11cba9ce",
   "metadata": {},
   "outputs": [
    {
     "data": {
      "text/plain": [
       "14892043962.85444"
      ]
     },
     "execution_count": 33,
     "metadata": {},
     "output_type": "execute_result"
    }
   ],
   "source": [
    "# 创建SVM模型，选择核函数为'linear'\n",
    "svmlr_model = SVR(kernel='linear')\n",
    "\n",
    "# 训练模型\n",
    "svmlr_model.fit(x_train, y_train)\n",
    "\n",
    "# 预测测试集的价值\n",
    "y_svmlrEstimate = svmlr_model.predict(x_test)\n",
    "\n",
    "# 评估模型性能\n",
    "mse = mean_squared_error(y_test, y_svmlrEstimate)\n",
    "mse"
   ]
  },
  {
   "cell_type": "code",
   "execution_count": 34,
   "id": "b5c29e1b",
   "metadata": {},
   "outputs": [],
   "source": [
    "svmlrData = {'Patent_Value': y_test, 'Estimate_Value': y_svmlrEstimate}\n",
    "svmlrResult = pd.DataFrame(svmlrData)"
   ]
  },
  {
   "cell_type": "code",
   "execution_count": 35,
   "id": "165f90ee",
   "metadata": {},
   "outputs": [],
   "source": [
    "svmlrResult.to_excel(\"./Data/svmlrResult.xlsx\", index=False)\n",
    "svmlrResult.to_csv(\"./Data/svmlrResult.CSV\", index=False)"
   ]
  },
  {
   "cell_type": "code",
   "execution_count": 36,
   "id": "fcdee7dc",
   "metadata": {},
   "outputs": [
    {
     "data": {
      "text/plain": [
       "15153885376.153416"
      ]
     },
     "execution_count": 36,
     "metadata": {},
     "output_type": "execute_result"
    }
   ],
   "source": [
    "# 创建SVM模型，选择核函数为'linear'\n",
    "svmpl_model = SVR(kernel='poly')\n",
    "\n",
    "# 训练模型\n",
    "svmpl_model.fit(x_train, y_train)\n",
    "\n",
    "# 预测测试集的价值\n",
    "y_svmplEstimate = svmpl_model.predict(x_test)\n",
    "\n",
    "# 评估模型性能\n",
    "mse = mean_squared_error(y_test, y_svmplEstimate)\n",
    "mse"
   ]
  },
  {
   "cell_type": "code",
   "execution_count": 37,
   "id": "40b1490b",
   "metadata": {},
   "outputs": [],
   "source": [
    "svmplData = {'Patent_Value': y_test, 'Estimate_Value': y_svmplEstimate}\n",
    "svmplResult = pd.DataFrame(svmplData)"
   ]
  },
  {
   "cell_type": "code",
   "execution_count": 38,
   "id": "575f54d6",
   "metadata": {},
   "outputs": [],
   "source": [
    "svmlrResult.to_excel(\"./Data/svmplResult.xlsx\", index=False)\n",
    "svmlrResult.to_csv(\"./Data/svmplResult.CSV\", index=False)"
   ]
  },
  {
   "cell_type": "code",
   "execution_count": 39,
   "id": "921517a6",
   "metadata": {},
   "outputs": [
    {
     "data": {
      "text/plain": [
       "15172846091.05127"
      ]
     },
     "execution_count": 39,
     "metadata": {},
     "output_type": "execute_result"
    }
   ],
   "source": [
    "# 创建SVM模型，选择核函数为'linear'\n",
    "svmrbf_model = SVR(kernel='rbf')\n",
    "\n",
    "# 训练模型\n",
    "svmrbf_model.fit(x_train, y_train)\n",
    "\n",
    "# 预测测试集的价值\n",
    "y_svmrbfEstimate = svmrbf_model.predict(x_test)\n",
    "\n",
    "# 评估模型性能\n",
    "mse = mean_squared_error(y_test, y_svmrbfEstimate)\n",
    "mse"
   ]
  },
  {
   "cell_type": "code",
   "execution_count": 40,
   "id": "54d96fbd",
   "metadata": {},
   "outputs": [],
   "source": [
    "svmrbfData = {'Patent_Value': y_test, 'Estimate_Value': y_svmrbfEstimate}\n",
    "svmrbfResult = pd.DataFrame(svmrbfData)"
   ]
  },
  {
   "cell_type": "code",
   "execution_count": 41,
   "id": "b139c46d",
   "metadata": {},
   "outputs": [],
   "source": [
    "svmrbfResult.to_excel(\"./Data/svmrbfResult.xlsx\", index=False)\n",
    "svmrbfResult.to_csv(\"./Data/svmrbfResult.CSV\", index=False)"
   ]
  },
  {
   "cell_type": "code",
   "execution_count": 42,
   "id": "d8f2f370",
   "metadata": {},
   "outputs": [
    {
     "data": {
      "text/plain": [
       "15168298724.8887"
      ]
     },
     "execution_count": 42,
     "metadata": {},
     "output_type": "execute_result"
    }
   ],
   "source": [
    "# 创建SVM模型，选择核函数为'linear'\n",
    "svmsgd_model = SVR(kernel='sigmoid')\n",
    "\n",
    "# 训练模型\n",
    "svmsgd_model.fit(x_train, y_train)\n",
    "\n",
    "# 预测测试集的价值\n",
    "y_svmsgdEstimate = svmsgd_model.predict(x_test)\n",
    "\n",
    "# 评估模型性能\n",
    "mse = mean_squared_error(y_test, y_svmsgdEstimate)\n",
    "mse"
   ]
  },
  {
   "cell_type": "code",
   "execution_count": 43,
   "id": "522e9bb0",
   "metadata": {},
   "outputs": [],
   "source": [
    "svmsgdData = {'Patent_Value': y_test, 'Estimate_Value': y_svmsgdEstimate}\n",
    "svmsgdResult = pd.DataFrame(svmsgdData)"
   ]
  },
  {
   "cell_type": "code",
   "execution_count": 44,
   "id": "3539dbc7",
   "metadata": {},
   "outputs": [],
   "source": [
    "svmrbfResult.to_excel(\"./Data/svmsgdResult.xlsx\", index=False)\n",
    "svmrbfResult.to_csv(\"./Data/svmsgdResult.CSV\", index=False)"
   ]
  },
  {
   "cell_type": "code",
   "execution_count": 45,
   "id": "bd69cf05",
   "metadata": {},
   "outputs": [],
   "source": [
    "# batch_size = 5000  # 设置批次大小\n",
    "# # 在外部创建模型\n",
    "# # random_model=RandomForestRegressor(n_estimators=300,random_state=42,n_jobs=-1)\n",
    "# lr_model=LinearRegression()\n",
    "# for start_idx in range(0, len(df), batch_size):\n",
    "#     batch = df.iloc[start_idx : start_idx + batch_size]  # 获取当前批次的数据\n",
    "#     # 在这里进行你的操作，例如 OneHot 编码、模型训练等\n",
    "#     oneHotEncoder=OneHotEncoder(drop='first')\n",
    "#     cat_features=oneHotEncoder.fit_transform(batch[cat_columns]).toarray()\n",
    "#     standardScaler=StandardScaler()\n",
    "#     num_features=standardScaler.fit_transform(batch[num_columns])\n",
    "#     x=np.hstack([cat_features,num_features])\n",
    "#     y=batch[\"Patent_Value\"].to_numpy()\n",
    "# #     x_train,x_test,y_train,y_test=train_test_split(x,y,test_size=0)\n",
    "#     lr_model.fit(x,y)\n",
    "#     # 将处理后的结果保存在一个列表中，或者根据需求合并到总的结果中\n",
    "#     # ...\n",
    "\n",
    "# # 将所有批次的处理结果合并\n",
    "# # final_result = pd.concat(list_of_results)"
   ]
  },
  {
   "cell_type": "code",
   "execution_count": 46,
   "id": "286f0c06",
   "metadata": {},
   "outputs": [],
   "source": [
    "# print(\"SUCCESS\")"
   ]
  },
  {
   "cell_type": "code",
   "execution_count": 47,
   "id": "1d9a9c8e",
   "metadata": {},
   "outputs": [],
   "source": [
    "# import joblib\n",
    "\n",
    "# # # 保存模型为 model.pkl\n",
    "# # joblib.dump(random_model, './model/random_model.pkl')\n",
    "# joblib.dump(lr_model, './model/lr_model.pkl')"
   ]
  },
  {
   "cell_type": "code",
   "execution_count": 48,
   "id": "5813571f",
   "metadata": {},
   "outputs": [],
   "source": [
    "# testData_size = 5000\n",
    "# start_idex=0\n",
    "# testData = df.iloc[start_idex : start_idex + testData_size]  # 获取当前批次的数据"
   ]
  },
  {
   "cell_type": "code",
   "execution_count": 49,
   "id": "a188ed8b",
   "metadata": {},
   "outputs": [],
   "source": [
    "# testData.info()\n",
    "# testData.head(5)"
   ]
  },
  {
   "cell_type": "code",
   "execution_count": 50,
   "id": "bc43ff9b",
   "metadata": {},
   "outputs": [],
   "source": [
    "# oneHotEncoder=OneHotEncoder(drop='first')\n",
    "# cat_features=oneHotEncoder.fit_transform(testData[cat_columns]).toarray()\n",
    "# cat_features"
   ]
  },
  {
   "cell_type": "code",
   "execution_count": 51,
   "id": "788f0077",
   "metadata": {},
   "outputs": [],
   "source": [
    "# from sklearn.preprocessing import StandardScaler\n",
    "# standardScaler=StandardScaler()\n",
    "# num_features=standardScaler.fit_transform(testData[num_columns])\n",
    "# num_features"
   ]
  },
  {
   "cell_type": "code",
   "execution_count": 52,
   "id": "e84a6daa",
   "metadata": {},
   "outputs": [],
   "source": [
    "# x=np.hstack([cat_features,num_features])\n",
    "# x"
   ]
  },
  {
   "cell_type": "code",
   "execution_count": 53,
   "id": "b2043a2b",
   "metadata": {},
   "outputs": [],
   "source": [
    "# y=testData[\"Patent_Value\"].to_numpy()\n",
    "# y"
   ]
  },
  {
   "cell_type": "code",
   "execution_count": 54,
   "id": "77710e35",
   "metadata": {},
   "outputs": [],
   "source": [
    "# from sklearn.model_selection import train_test_split\n",
    "# x_train,x_test,y_train,y_test=train_test_split(x,y,test_size=0.4)\n",
    "# x_train.shape,x_test.shape,y_train.shape,y_test.shape"
   ]
  },
  {
   "cell_type": "code",
   "execution_count": 55,
   "id": "35cf1afa",
   "metadata": {},
   "outputs": [],
   "source": [
    "# from sklearn.ensemble import RandomForestRegressor\n",
    "# from sklearn.metrics import accuracy_score\n",
    "# random_model=RandomForestRegressor(n_estimators=300,random_state=42,n_jobs=-1)\n",
    "# random_model.fit(x_train,y_train)"
   ]
  },
  {
   "cell_type": "code",
   "execution_count": 56,
   "id": "5c0aa4ba",
   "metadata": {},
   "outputs": [],
   "source": [
    "# random_model.score(x_train,y_train)"
   ]
  },
  {
   "cell_type": "code",
   "execution_count": 57,
   "id": "d5cb3d75",
   "metadata": {},
   "outputs": [],
   "source": [
    "# random_model.score(x_test,y_test)"
   ]
  },
  {
   "cell_type": "code",
   "execution_count": 58,
   "id": "1abadbb3",
   "metadata": {},
   "outputs": [],
   "source": [
    "# from sklearn.linear_model import LinearRegression\n",
    "# lr_model=LinearRegression()\n",
    "# lr_model.fit(x_train,y_train)"
   ]
  },
  {
   "cell_type": "code",
   "execution_count": 59,
   "id": "9ce875ae",
   "metadata": {},
   "outputs": [],
   "source": [
    "# lr_model.predict()"
   ]
  },
  {
   "cell_type": "code",
   "execution_count": 60,
   "id": "654e649a",
   "metadata": {},
   "outputs": [],
   "source": [
    "# import joblib\n",
    "\n",
    "# # 保存模型为 model.pkl\n",
    "# joblib.dump(random_model, './model/random_model.pkl')\n",
    "# joblib.dump(lr_model, './model/lr_model.pkl')"
   ]
  },
  {
   "cell_type": "code",
   "execution_count": 61,
   "id": "c27ee21f",
   "metadata": {},
   "outputs": [],
   "source": [
    "# df=pd.read_csv(\"./Data/testData.CSV\")\n",
    "# df.info()\n",
    "# df.head(5)"
   ]
  },
  {
   "cell_type": "code",
   "execution_count": 62,
   "id": "0625bcce",
   "metadata": {},
   "outputs": [],
   "source": [
    "# oneHotEncoder=OneHotEncoder(drop='first')\n",
    "# cat_feature=oneHotEncoder.fit_transform(df[cat_columns]).toarray()\n",
    "# len(cat_feature)"
   ]
  },
  {
   "cell_type": "code",
   "execution_count": 63,
   "id": "47b93468",
   "metadata": {},
   "outputs": [],
   "source": [
    "# standardScaler=StandardScaler()\n",
    "# num_feature=standardScaler.fit_transform(df[num_columns])\n",
    "# len(num_feature)"
   ]
  },
  {
   "cell_type": "code",
   "execution_count": 64,
   "id": "699e3ae7",
   "metadata": {},
   "outputs": [],
   "source": [
    "# x_test=np.hstack([cat_features,num_features])\n",
    "# len(x_test)"
   ]
  },
  {
   "cell_type": "code",
   "execution_count": 65,
   "id": "99c6d44e",
   "metadata": {},
   "outputs": [],
   "source": [
    "# y_test=df[\"Patent_Value\"].to_numpy()\n",
    "# len(y_test)"
   ]
  },
  {
   "cell_type": "code",
   "execution_count": 66,
   "id": "f761707a",
   "metadata": {},
   "outputs": [],
   "source": [
    "# lr_model.score(x_test,y_test)"
   ]
  }
 ],
 "metadata": {
  "kernelspec": {
   "display_name": "Python 3 (ipykernel)",
   "language": "python",
   "name": "python3"
  },
  "language_info": {
   "codemirror_mode": {
    "name": "ipython",
    "version": 3
   },
   "file_extension": ".py",
   "mimetype": "text/x-python",
   "name": "python",
   "nbconvert_exporter": "python",
   "pygments_lexer": "ipython3",
   "version": "3.10.7"
  }
 },
 "nbformat": 4,
 "nbformat_minor": 5
}
