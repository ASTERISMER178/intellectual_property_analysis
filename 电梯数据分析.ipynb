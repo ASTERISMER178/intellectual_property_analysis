{
 "cells": [
  {
   "cell_type": "code",
   "execution_count": 1,
   "id": "39a795ae-4236-4728-97fa-1cf6803f6bb7",
   "metadata": {},
   "outputs": [],
   "source": [
    "import pandas as pd\n",
    "import numpy as np"
   ]
  },
  {
   "cell_type": "code",
   "execution_count": 2,
   "id": "d23b8518-9e78-43f1-88d7-0a15aa563ba4",
   "metadata": {},
   "outputs": [],
   "source": [
    "df=pd.read_excel(\"./Data/datapro2.xlsx\")"
   ]
  },
  {
   "cell_type": "code",
   "execution_count": 3,
   "id": "f70f6833-aacc-4c84-9f99-25f74229004b",
   "metadata": {},
   "outputs": [
    {
     "name": "stdout",
     "output_type": "stream",
     "text": [
      "<class 'pandas.core.frame.DataFrame'>\n",
      "RangeIndex: 72037 entries, 0 to 72036\n",
      "Data columns (total 18 columns):\n",
      " #   Column    Non-Null Count  Dtype \n",
      "---  ------    --------------  ----- \n",
      " 0   标题        72037 non-null  object\n",
      " 1   产业链位置     72037 non-null  object\n",
      " 2   一级技术分支    72037 non-null  object\n",
      " 3   专利类型      72037 non-null  object\n",
      " 4   公开国别      72037 non-null  object\n",
      " 5   公开(公告)日   72037 non-null  int64 \n",
      " 6   权利要求数量    72037 non-null  int64 \n",
      " 7   文献页数      72037 non-null  int64 \n",
      " 8   IPC       72037 non-null  object\n",
      " 9   申请人省市代码   72037 non-null  object\n",
      " 10  3年内被引用次数  72037 non-null  int64 \n",
      " 11  5年内被引用次数  72037 non-null  int64 \n",
      " 12  引用专利数量    72037 non-null  int64 \n",
      " 13  被引用专利数量   72037 non-null  int64 \n",
      " 14  专利有效性     72037 non-null  object\n",
      " 15  诉讼案件数     72037 non-null  int64 \n",
      " 16  专利价值      72037 non-null  int64 \n",
      " 17  专利价值分类    72037 non-null  object\n",
      "dtypes: int64(9), object(9)\n",
      "memory usage: 9.9+ MB\n"
     ]
    }
   ],
   "source": [
    "df.info()"
   ]
  },
  {
   "cell_type": "code",
   "execution_count": 4,
   "id": "cf188e52-9fbb-49f6-a704-f127a5b0bf5d",
   "metadata": {},
   "outputs": [
    {
     "ename": "MemoryError",
     "evalue": "Unable to allocate 382. KiB for an array with shape (48844,) and data type int64",
     "output_type": "error",
     "traceback": [
      "\u001b[1;31m---------------------------------------------------------------------------\u001b[0m",
      "\u001b[1;31mMemoryError\u001b[0m                               Traceback (most recent call last)",
      "Cell \u001b[1;32mIn [4], line 4\u001b[0m\n\u001b[0;32m      1\u001b[0m \u001b[38;5;28;01mfrom\u001b[39;00m \u001b[38;5;21;01mscipy\u001b[39;00m\u001b[38;5;21;01m.\u001b[39;00m\u001b[38;5;21;01mstats\u001b[39;00m \u001b[38;5;28;01mimport\u001b[39;00m f_oneway\n\u001b[0;32m      3\u001b[0m \u001b[38;5;66;03m# 假设你有一个数值属性 \"专利价值\" 和一个分类属性 \"专利类型\"\u001b[39;00m\n\u001b[1;32m----> 4\u001b[0m grouped_data \u001b[38;5;241m=\u001b[39m [df[\u001b[38;5;124m\"\u001b[39m\u001b[38;5;124m专利价值\u001b[39m\u001b[38;5;124m\"\u001b[39m][df[\u001b[38;5;124m\"\u001b[39m\u001b[38;5;124m专利类型\u001b[39m\u001b[38;5;124m\"\u001b[39m] \u001b[38;5;241m==\u001b[39m category] \u001b[38;5;28;01mfor\u001b[39;00m category \u001b[38;5;129;01min\u001b[39;00m df[\u001b[38;5;124m\"\u001b[39m\u001b[38;5;124m专利类型\u001b[39m\u001b[38;5;124m\"\u001b[39m]]\n\u001b[0;32m      5\u001b[0m f_statistic, p_value \u001b[38;5;241m=\u001b[39m f_oneway(\u001b[38;5;241m*\u001b[39mgrouped_data)\n",
      "Cell \u001b[1;32mIn [4], line 4\u001b[0m, in \u001b[0;36m<listcomp>\u001b[1;34m(.0)\u001b[0m\n\u001b[0;32m      1\u001b[0m \u001b[38;5;28;01mfrom\u001b[39;00m \u001b[38;5;21;01mscipy\u001b[39;00m\u001b[38;5;21;01m.\u001b[39;00m\u001b[38;5;21;01mstats\u001b[39;00m \u001b[38;5;28;01mimport\u001b[39;00m f_oneway\n\u001b[0;32m      3\u001b[0m \u001b[38;5;66;03m# 假设你有一个数值属性 \"专利价值\" 和一个分类属性 \"专利类型\"\u001b[39;00m\n\u001b[1;32m----> 4\u001b[0m grouped_data \u001b[38;5;241m=\u001b[39m [\u001b[43mdf\u001b[49m\u001b[43m[\u001b[49m\u001b[38;5;124;43m\"\u001b[39;49m\u001b[38;5;124;43m专利价值\u001b[39;49m\u001b[38;5;124;43m\"\u001b[39;49m\u001b[43m]\u001b[49m\u001b[43m[\u001b[49m\u001b[43mdf\u001b[49m\u001b[43m[\u001b[49m\u001b[38;5;124;43m\"\u001b[39;49m\u001b[38;5;124;43m专利类型\u001b[39;49m\u001b[38;5;124;43m\"\u001b[39;49m\u001b[43m]\u001b[49m\u001b[43m \u001b[49m\u001b[38;5;241;43m==\u001b[39;49m\u001b[43m \u001b[49m\u001b[43mcategory\u001b[49m\u001b[43m]\u001b[49m \u001b[38;5;28;01mfor\u001b[39;00m category \u001b[38;5;129;01min\u001b[39;00m df[\u001b[38;5;124m\"\u001b[39m\u001b[38;5;124m专利类型\u001b[39m\u001b[38;5;124m\"\u001b[39m]]\n\u001b[0;32m      5\u001b[0m f_statistic, p_value \u001b[38;5;241m=\u001b[39m f_oneway(\u001b[38;5;241m*\u001b[39mgrouped_data)\n",
      "File \u001b[1;32mD:\\python\\lib\\site-packages\\pandas\\core\\series.py:1006\u001b[0m, in \u001b[0;36mSeries.__getitem__\u001b[1;34m(self, key)\u001b[0m\n\u001b[0;32m   1004\u001b[0m     key \u001b[38;5;241m=\u001b[39m check_bool_indexer(\u001b[38;5;28mself\u001b[39m\u001b[38;5;241m.\u001b[39mindex, key)\n\u001b[0;32m   1005\u001b[0m     key \u001b[38;5;241m=\u001b[39m np\u001b[38;5;241m.\u001b[39masarray(key, dtype\u001b[38;5;241m=\u001b[39m\u001b[38;5;28mbool\u001b[39m)\n\u001b[1;32m-> 1006\u001b[0m     \u001b[38;5;28;01mreturn\u001b[39;00m \u001b[38;5;28;43mself\u001b[39;49m\u001b[38;5;241;43m.\u001b[39;49m\u001b[43m_get_values\u001b[49m\u001b[43m(\u001b[49m\u001b[43mkey\u001b[49m\u001b[43m)\u001b[49m\n\u001b[0;32m   1008\u001b[0m \u001b[38;5;28;01mreturn\u001b[39;00m \u001b[38;5;28mself\u001b[39m\u001b[38;5;241m.\u001b[39m_get_with(key)\n",
      "File \u001b[1;32mD:\\python\\lib\\site-packages\\pandas\\core\\series.py:1072\u001b[0m, in \u001b[0;36mSeries._get_values\u001b[1;34m(self, indexer)\u001b[0m\n\u001b[0;32m   1071\u001b[0m \u001b[38;5;28;01mdef\u001b[39;00m \u001b[38;5;21m_get_values\u001b[39m(\u001b[38;5;28mself\u001b[39m, indexer: \u001b[38;5;28mslice\u001b[39m \u001b[38;5;241m|\u001b[39m npt\u001b[38;5;241m.\u001b[39mNDArray[np\u001b[38;5;241m.\u001b[39mbool_]) \u001b[38;5;241m-\u001b[39m\u001b[38;5;241m>\u001b[39m Series:\n\u001b[1;32m-> 1072\u001b[0m     new_mgr \u001b[38;5;241m=\u001b[39m \u001b[38;5;28;43mself\u001b[39;49m\u001b[38;5;241;43m.\u001b[39;49m\u001b[43m_mgr\u001b[49m\u001b[38;5;241;43m.\u001b[39;49m\u001b[43mgetitem_mgr\u001b[49m\u001b[43m(\u001b[49m\u001b[43mindexer\u001b[49m\u001b[43m)\u001b[49m\n\u001b[0;32m   1073\u001b[0m     \u001b[38;5;28;01mreturn\u001b[39;00m \u001b[38;5;28mself\u001b[39m\u001b[38;5;241m.\u001b[39m_constructor(new_mgr)\u001b[38;5;241m.\u001b[39m__finalize__(\u001b[38;5;28mself\u001b[39m)\n",
      "File \u001b[1;32mD:\\python\\lib\\site-packages\\pandas\\core\\internals\\managers.py:1997\u001b[0m, in \u001b[0;36mSingleBlockManager.getitem_mgr\u001b[1;34m(self, indexer)\u001b[0m\n\u001b[0;32m   1994\u001b[0m \u001b[38;5;28;01mdef\u001b[39;00m \u001b[38;5;21mgetitem_mgr\u001b[39m(\u001b[38;5;28mself\u001b[39m, indexer: \u001b[38;5;28mslice\u001b[39m \u001b[38;5;241m|\u001b[39m npt\u001b[38;5;241m.\u001b[39mNDArray[np\u001b[38;5;241m.\u001b[39mbool_]) \u001b[38;5;241m-\u001b[39m\u001b[38;5;241m>\u001b[39m SingleBlockManager:\n\u001b[0;32m   1995\u001b[0m     \u001b[38;5;66;03m# similar to get_slice, but not restricted to slice indexer\u001b[39;00m\n\u001b[0;32m   1996\u001b[0m     blk \u001b[38;5;241m=\u001b[39m \u001b[38;5;28mself\u001b[39m\u001b[38;5;241m.\u001b[39m_block\n\u001b[1;32m-> 1997\u001b[0m     array \u001b[38;5;241m=\u001b[39m \u001b[43mblk\u001b[49m\u001b[38;5;241;43m.\u001b[39;49m\u001b[43m_slice\u001b[49m\u001b[43m(\u001b[49m\u001b[43mindexer\u001b[49m\u001b[43m)\u001b[49m\n\u001b[0;32m   1998\u001b[0m     \u001b[38;5;28;01mif\u001b[39;00m array\u001b[38;5;241m.\u001b[39mndim \u001b[38;5;241m>\u001b[39m \u001b[38;5;241m1\u001b[39m:\n\u001b[0;32m   1999\u001b[0m         \u001b[38;5;66;03m# This will be caught by Series._get_values\u001b[39;00m\n\u001b[0;32m   2000\u001b[0m         \u001b[38;5;28;01mraise\u001b[39;00m \u001b[38;5;167;01mValueError\u001b[39;00m(\u001b[38;5;124m\"\u001b[39m\u001b[38;5;124mdimension-expanding indexing not allowed\u001b[39m\u001b[38;5;124m\"\u001b[39m)\n",
      "File \u001b[1;32mD:\\python\\lib\\site-packages\\pandas\\core\\internals\\blocks.py:840\u001b[0m, in \u001b[0;36mBlock._slice\u001b[1;34m(self, slicer)\u001b[0m\n\u001b[0;32m    835\u001b[0m \u001b[38;5;28;01mdef\u001b[39;00m \u001b[38;5;21m_slice\u001b[39m(\n\u001b[0;32m    836\u001b[0m     \u001b[38;5;28mself\u001b[39m, slicer: \u001b[38;5;28mslice\u001b[39m \u001b[38;5;241m|\u001b[39m npt\u001b[38;5;241m.\u001b[39mNDArray[np\u001b[38;5;241m.\u001b[39mbool_] \u001b[38;5;241m|\u001b[39m npt\u001b[38;5;241m.\u001b[39mNDArray[np\u001b[38;5;241m.\u001b[39mintp]\n\u001b[0;32m    837\u001b[0m ) \u001b[38;5;241m-\u001b[39m\u001b[38;5;241m>\u001b[39m ArrayLike:\n\u001b[0;32m    838\u001b[0m     \u001b[38;5;124;03m\"\"\"return a slice of my values\"\"\"\u001b[39;00m\n\u001b[1;32m--> 840\u001b[0m     \u001b[38;5;28;01mreturn\u001b[39;00m \u001b[38;5;28;43mself\u001b[39;49m\u001b[38;5;241;43m.\u001b[39;49m\u001b[43mvalues\u001b[49m\u001b[43m[\u001b[49m\u001b[43mslicer\u001b[49m\u001b[43m]\u001b[49m\n",
      "\u001b[1;31mMemoryError\u001b[0m: Unable to allocate 382. KiB for an array with shape (48844,) and data type int64"
     ]
    }
   ],
   "source": [
    "from scipy.stats import f_oneway\n",
    "\n",
    "# 假设你有一个数值属性 \"专利价值\" 和一个分类属性 \"专利类型\"\n",
    "grouped_data = [df[\"专利价值\"][df[\"专利类型\"] == category] for category in df[\"专利类型\"]]\n",
    "f_statistic, p_value = f_oneway(*grouped_data)"
   ]
  },
  {
   "cell_type": "code",
   "execution_count": null,
   "id": "99042be8-7bdc-48ff-b33e-abdf22cb670b",
   "metadata": {},
   "outputs": [],
   "source": [
    "f_statistic"
   ]
  },
  {
   "cell_type": "code",
   "execution_count": null,
   "id": "16c858a6-4d82-4ddb-bc59-d8939463cb72",
   "metadata": {},
   "outputs": [],
   "source": [
    "p_value"
   ]
  },
  {
   "cell_type": "code",
   "execution_count": 25,
   "id": "eaa6e6c3-5469-4f99-917a-9d90e9d1cf54",
   "metadata": {},
   "outputs": [
    {
     "data": {
      "text/html": [
       "<div>\n",
       "<style scoped>\n",
       "    .dataframe tbody tr th:only-of-type {\n",
       "        vertical-align: middle;\n",
       "    }\n",
       "\n",
       "    .dataframe tbody tr th {\n",
       "        vertical-align: top;\n",
       "    }\n",
       "\n",
       "    .dataframe thead th {\n",
       "        text-align: right;\n",
       "    }\n",
       "</style>\n",
       "<table border=\"1\" class=\"dataframe\">\n",
       "  <thead>\n",
       "    <tr style=\"text-align: right;\">\n",
       "      <th></th>\n",
       "      <th>标题</th>\n",
       "      <th>产业链位置</th>\n",
       "      <th>一级技术分支</th>\n",
       "      <th>专利类型</th>\n",
       "      <th>公开国别</th>\n",
       "      <th>申请人省市代码</th>\n",
       "      <th>专利有效性</th>\n",
       "    </tr>\n",
       "  </thead>\n",
       "  <tbody>\n",
       "    <tr>\n",
       "      <th>count</th>\n",
       "      <td>72037</td>\n",
       "      <td>72037</td>\n",
       "      <td>72037</td>\n",
       "      <td>72037</td>\n",
       "      <td>72037</td>\n",
       "      <td>72037</td>\n",
       "      <td>72037</td>\n",
       "    </tr>\n",
       "    <tr>\n",
       "      <th>unique</th>\n",
       "      <td>31951</td>\n",
       "      <td>3</td>\n",
       "      <td>12</td>\n",
       "      <td>3</td>\n",
       "      <td>1</td>\n",
       "      <td>31</td>\n",
       "      <td>3</td>\n",
       "    </tr>\n",
       "    <tr>\n",
       "      <th>top</th>\n",
       "      <td>一种电梯</td>\n",
       "      <td>产业链中游</td>\n",
       "      <td>应用市场</td>\n",
       "      <td>实用新型</td>\n",
       "      <td>中国</td>\n",
       "      <td>江苏</td>\n",
       "      <td>有效</td>\n",
       "    </tr>\n",
       "    <tr>\n",
       "      <th>freq</th>\n",
       "      <td>72</td>\n",
       "      <td>26566</td>\n",
       "      <td>19435</td>\n",
       "      <td>48844</td>\n",
       "      <td>72037</td>\n",
       "      <td>17087</td>\n",
       "      <td>58248</td>\n",
       "    </tr>\n",
       "  </tbody>\n",
       "</table>\n",
       "</div>"
      ],
      "text/plain": [
       "           标题  产业链位置 一级技术分支   专利类型   公开国别 申请人省市代码  专利有效性\n",
       "count   72037  72037  72037  72037  72037   72037  72037\n",
       "unique  31951      3     12      3      1      31      3\n",
       "top      一种电梯  产业链中游   应用市场   实用新型     中国      江苏     有效\n",
       "freq       72  26566  19435  48844  72037   17087  58248"
      ]
     },
     "execution_count": 25,
     "metadata": {},
     "output_type": "execute_result"
    }
   ],
   "source": [
    "df.select_dtypes(include=[\"object\"]).describe()"
   ]
  },
  {
   "cell_type": "code",
   "execution_count": 18,
   "id": "143d0f59-7215-4260-ba21-26e6bb71062f",
   "metadata": {},
   "outputs": [],
   "source": [
    "grouped_df=df.groupby(\"专利价值\").size().reset_index()"
   ]
  },
  {
   "cell_type": "code",
   "execution_count": 19,
   "id": "f092ab2c-17c2-48ed-9f6d-e97d664491a4",
   "metadata": {},
   "outputs": [
    {
     "name": "stdout",
     "output_type": "stream",
     "text": [
      "<class 'pandas.core.frame.DataFrame'>\n",
      "RangeIndex: 167 entries, 0 to 166\n",
      "Data columns (total 2 columns):\n",
      " #   Column  Non-Null Count  Dtype\n",
      "---  ------  --------------  -----\n",
      " 0   专利价值    167 non-null    int64\n",
      " 1   0       167 non-null    int64\n",
      "dtypes: int64(2)\n",
      "memory usage: 2.7 KB\n"
     ]
    }
   ],
   "source": [
    "grouped_df.info()"
   ]
  },
  {
   "cell_type": "code",
   "execution_count": 21,
   "id": "1b2ee021-5cce-434f-bd3c-49bb2b523b6f",
   "metadata": {},
   "outputs": [
    {
     "data": {
      "text/html": [
       "<div>\n",
       "<style scoped>\n",
       "    .dataframe tbody tr th:only-of-type {\n",
       "        vertical-align: middle;\n",
       "    }\n",
       "\n",
       "    .dataframe tbody tr th {\n",
       "        vertical-align: top;\n",
       "    }\n",
       "\n",
       "    .dataframe thead th {\n",
       "        text-align: right;\n",
       "    }\n",
       "</style>\n",
       "<table border=\"1\" class=\"dataframe\">\n",
       "  <thead>\n",
       "    <tr style=\"text-align: right;\">\n",
       "      <th></th>\n",
       "      <th>专利价值</th>\n",
       "      <th>数据数量</th>\n",
       "    </tr>\n",
       "  </thead>\n",
       "  <tbody>\n",
       "    <tr>\n",
       "      <th>0</th>\n",
       "      <td>3200</td>\n",
       "      <td>38</td>\n",
       "    </tr>\n",
       "    <tr>\n",
       "      <th>1</th>\n",
       "      <td>3300</td>\n",
       "      <td>22673</td>\n",
       "    </tr>\n",
       "    <tr>\n",
       "      <th>2</th>\n",
       "      <td>3400</td>\n",
       "      <td>30630</td>\n",
       "    </tr>\n",
       "    <tr>\n",
       "      <th>3</th>\n",
       "      <td>3500</td>\n",
       "      <td>7212</td>\n",
       "    </tr>\n",
       "    <tr>\n",
       "      <th>4</th>\n",
       "      <td>3600</td>\n",
       "      <td>1741</td>\n",
       "    </tr>\n",
       "    <tr>\n",
       "      <th>5</th>\n",
       "      <td>3700</td>\n",
       "      <td>569</td>\n",
       "    </tr>\n",
       "    <tr>\n",
       "      <th>6</th>\n",
       "      <td>3800</td>\n",
       "      <td>89</td>\n",
       "    </tr>\n",
       "    <tr>\n",
       "      <th>7</th>\n",
       "      <td>3900</td>\n",
       "      <td>14</td>\n",
       "    </tr>\n",
       "    <tr>\n",
       "      <th>8</th>\n",
       "      <td>4000</td>\n",
       "      <td>6</td>\n",
       "    </tr>\n",
       "    <tr>\n",
       "      <th>9</th>\n",
       "      <td>13000</td>\n",
       "      <td>4</td>\n",
       "    </tr>\n",
       "  </tbody>\n",
       "</table>\n",
       "</div>"
      ],
      "text/plain": [
       "    专利价值   数据数量\n",
       "0   3200     38\n",
       "1   3300  22673\n",
       "2   3400  30630\n",
       "3   3500   7212\n",
       "4   3600   1741\n",
       "5   3700    569\n",
       "6   3800     89\n",
       "7   3900     14\n",
       "8   4000      6\n",
       "9  13000      4"
      ]
     },
     "execution_count": 21,
     "metadata": {},
     "output_type": "execute_result"
    }
   ],
   "source": [
    "grouped_df.head(10)"
   ]
  },
  {
   "cell_type": "code",
   "execution_count": 20,
   "id": "17ddcb5c-b664-49c8-8e4c-77ca0acacc77",
   "metadata": {},
   "outputs": [],
   "source": [
    "grouped_df.columns = ['专利价值', '数据数量']"
   ]
  },
  {
   "cell_type": "code",
   "execution_count": null,
   "id": "b322d810-0bcc-474c-894b-56194ebd3a52",
   "metadata": {},
   "outputs": [],
   "source": []
  },
  {
   "cell_type": "code",
   "execution_count": 26,
   "id": "e0bee889-d52e-4c0d-843e-c51f676930fe",
   "metadata": {},
   "outputs": [],
   "source": [
    "grouped_df.to_excel(\"./Data/数据分布.xlsx\",index=False)"
   ]
  },
  {
   "cell_type": "code",
   "execution_count": 37,
   "id": "f8782b8f-62d5-47ca-ab00-fd680d7f2c6c",
   "metadata": {},
   "outputs": [
    {
     "data": {
      "text/html": [
       "<div>\n",
       "<style scoped>\n",
       "    .dataframe tbody tr th:only-of-type {\n",
       "        vertical-align: middle;\n",
       "    }\n",
       "\n",
       "    .dataframe tbody tr th {\n",
       "        vertical-align: top;\n",
       "    }\n",
       "\n",
       "    .dataframe thead th {\n",
       "        text-align: right;\n",
       "    }\n",
       "</style>\n",
       "<table border=\"1\" class=\"dataframe\">\n",
       "  <thead>\n",
       "    <tr style=\"text-align: right;\">\n",
       "      <th></th>\n",
       "      <th>标题</th>\n",
       "      <th>产业链位置</th>\n",
       "      <th>一级技术分支</th>\n",
       "      <th>专利类型</th>\n",
       "      <th>公开国别</th>\n",
       "      <th>公开(公告)日</th>\n",
       "      <th>权利要求数量</th>\n",
       "      <th>文献页数</th>\n",
       "      <th>申请人省市代码</th>\n",
       "      <th>3年内被引用次数</th>\n",
       "      <th>5年内被引用次数</th>\n",
       "      <th>引用专利数量</th>\n",
       "      <th>被引用专利数量</th>\n",
       "      <th>专利有效性</th>\n",
       "      <th>诉讼案件数</th>\n",
       "      <th>专利价值</th>\n",
       "      <th>专利价值（对数变换）</th>\n",
       "    </tr>\n",
       "  </thead>\n",
       "  <tbody>\n",
       "    <tr>\n",
       "      <th>2</th>\n",
       "      <td>电梯安全钳楔块用复合材料、铜增强材料及其制备方法</td>\n",
       "      <td>产业链上游</td>\n",
       "      <td>原材料</td>\n",
       "      <td>发明申请</td>\n",
       "      <td>中国</td>\n",
       "      <td>2021</td>\n",
       "      <td>10</td>\n",
       "      <td>16</td>\n",
       "      <td>陕西</td>\n",
       "      <td>0</td>\n",
       "      <td>0</td>\n",
       "      <td>0</td>\n",
       "      <td>0</td>\n",
       "      <td>审中</td>\n",
       "      <td>0</td>\n",
       "      <td>3400</td>\n",
       "      <td>8.131531</td>\n",
       "    </tr>\n",
       "    <tr>\n",
       "      <th>9</th>\n",
       "      <td>一种电梯盖板及其制作材料</td>\n",
       "      <td>产业链上游</td>\n",
       "      <td>原材料</td>\n",
       "      <td>发明申请</td>\n",
       "      <td>中国</td>\n",
       "      <td>2018</td>\n",
       "      <td>7</td>\n",
       "      <td>7</td>\n",
       "      <td>江苏</td>\n",
       "      <td>0</td>\n",
       "      <td>0</td>\n",
       "      <td>0</td>\n",
       "      <td>0</td>\n",
       "      <td>审中</td>\n",
       "      <td>0</td>\n",
       "      <td>3400</td>\n",
       "      <td>8.131531</td>\n",
       "    </tr>\n",
       "    <tr>\n",
       "      <th>15</th>\n",
       "      <td>一种复合材料的导轨结构</td>\n",
       "      <td>产业链上游</td>\n",
       "      <td>原材料</td>\n",
       "      <td>发明申请</td>\n",
       "      <td>中国</td>\n",
       "      <td>2018</td>\n",
       "      <td>10</td>\n",
       "      <td>9</td>\n",
       "      <td>浙江</td>\n",
       "      <td>1</td>\n",
       "      <td>1</td>\n",
       "      <td>0</td>\n",
       "      <td>1</td>\n",
       "      <td>审中</td>\n",
       "      <td>0</td>\n",
       "      <td>3400</td>\n",
       "      <td>8.131531</td>\n",
       "    </tr>\n",
       "    <tr>\n",
       "      <th>19</th>\n",
       "      <td>一种非金属复合材料制成的电梯缓冲装置及其制品</td>\n",
       "      <td>产业链上游</td>\n",
       "      <td>原材料</td>\n",
       "      <td>发明申请</td>\n",
       "      <td>中国</td>\n",
       "      <td>2020</td>\n",
       "      <td>10</td>\n",
       "      <td>8</td>\n",
       "      <td>上海</td>\n",
       "      <td>2</td>\n",
       "      <td>2</td>\n",
       "      <td>6</td>\n",
       "      <td>2</td>\n",
       "      <td>失效</td>\n",
       "      <td>0</td>\n",
       "      <td>3500</td>\n",
       "      <td>8.160518</td>\n",
       "    </tr>\n",
       "    <tr>\n",
       "      <th>20</th>\n",
       "      <td>一种复合材料的电梯导向轮</td>\n",
       "      <td>产业链上游</td>\n",
       "      <td>原材料</td>\n",
       "      <td>发明申请</td>\n",
       "      <td>中国</td>\n",
       "      <td>2020</td>\n",
       "      <td>6</td>\n",
       "      <td>7</td>\n",
       "      <td>上海</td>\n",
       "      <td>0</td>\n",
       "      <td>0</td>\n",
       "      <td>0</td>\n",
       "      <td>0</td>\n",
       "      <td>审中</td>\n",
       "      <td>0</td>\n",
       "      <td>3400</td>\n",
       "      <td>8.131531</td>\n",
       "    </tr>\n",
       "  </tbody>\n",
       "</table>\n",
       "</div>"
      ],
      "text/plain": [
       "                          标题  产业链位置 一级技术分支  专利类型 公开国别  公开(公告)日  权利要求数量  文献页数  \\\n",
       "2   电梯安全钳楔块用复合材料、铜增强材料及其制备方法  产业链上游    原材料  发明申请   中国     2021      10    16   \n",
       "9               一种电梯盖板及其制作材料  产业链上游    原材料  发明申请   中国     2018       7     7   \n",
       "15               一种复合材料的导轨结构  产业链上游    原材料  发明申请   中国     2018      10     9   \n",
       "19    一种非金属复合材料制成的电梯缓冲装置及其制品  产业链上游    原材料  发明申请   中国     2020      10     8   \n",
       "20              一种复合材料的电梯导向轮  产业链上游    原材料  发明申请   中国     2020       6     7   \n",
       "\n",
       "   申请人省市代码  3年内被引用次数  5年内被引用次数  引用专利数量  被引用专利数量 专利有效性  诉讼案件数  专利价值  专利价值（对数变换）  \n",
       "2       陕西         0         0       0        0    审中      0  3400    8.131531  \n",
       "9       江苏         0         0       0        0    审中      0  3400    8.131531  \n",
       "15      浙江         1         1       0        1    审中      0  3400    8.131531  \n",
       "19      上海         2         2       6        2    失效      0  3500    8.160518  \n",
       "20      上海         0         0       0        0    审中      0  3400    8.131531  "
      ]
     },
     "execution_count": 37,
     "metadata": {},
     "output_type": "execute_result"
    }
   ],
   "source": [
    "df1=df[df[\"专利类型\"]==\"发明申请\"]\n",
    "df1.head(5)"
   ]
  },
  {
   "cell_type": "code",
   "execution_count": 38,
   "id": "355e3f5f-5c97-4081-a2cb-05bb658233b2",
   "metadata": {},
   "outputs": [
    {
     "data": {
      "text/plain": [
       "12417"
      ]
     },
     "execution_count": 38,
     "metadata": {},
     "output_type": "execute_result"
    }
   ],
   "source": [
    "count=len(df1[df1[\"专利价值\"]<=5000])\n",
    "count"
   ]
  },
  {
   "cell_type": "code",
   "execution_count": 39,
   "id": "cd671b56-94ec-4257-8726-aaaadac561ad",
   "metadata": {},
   "outputs": [
    {
     "data": {
      "text/plain": [
       "435"
      ]
     },
     "execution_count": 39,
     "metadata": {},
     "output_type": "execute_result"
    }
   ],
   "source": [
    "count1=len(df1[df1[\"专利价值\"]>=5000])\n",
    "count1"
   ]
  },
  {
   "cell_type": "code",
   "execution_count": null,
   "id": "8b960946-d040-4124-9d48-53e2ea580c35",
   "metadata": {},
   "outputs": [],
   "source": []
  },
  {
   "cell_type": "code",
   "execution_count": null,
   "id": "1a2de1ca-f4bb-45c9-af75-712b6293c445",
   "metadata": {},
   "outputs": [],
   "source": []
  },
  {
   "cell_type": "code",
   "execution_count": null,
   "id": "30acabc5-27b5-4e8b-9be6-133b2c2de822",
   "metadata": {},
   "outputs": [],
   "source": []
  }
 ],
 "metadata": {
  "kernelspec": {
   "display_name": "Python 3 (ipykernel)",
   "language": "python",
   "name": "python3"
  },
  "language_info": {
   "codemirror_mode": {
    "name": "ipython",
    "version": 3
   },
   "file_extension": ".py",
   "mimetype": "text/x-python",
   "name": "python",
   "nbconvert_exporter": "python",
   "pygments_lexer": "ipython3",
   "version": "3.10.7"
  }
 },
 "nbformat": 4,
 "nbformat_minor": 5
}
