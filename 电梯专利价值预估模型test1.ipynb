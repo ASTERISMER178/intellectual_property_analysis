{
 "cells": [
  {
   "cell_type": "code",
   "execution_count": 4,
   "id": "3180e5bb-7b79-4fa4-8d46-d61c4af41914",
   "metadata": {},
   "outputs": [],
   "source": [
    "import pandas as pd\n",
    "import numpy as np\n",
    "import random\n",
    "from sklearn.preprocessing import OneHotEncoder\n",
    "from sklearn.preprocessing import StandardScaler\n",
    "from sklearn.model_selection import train_test_split"
   ]
  },
  {
   "cell_type": "code",
   "execution_count": 2,
   "id": "77656574-9626-4a1a-8f3f-5003ff9fae64",
   "metadata": {},
   "outputs": [],
   "source": [
    "df = pd.read_excel('./Data/datapro1.xlsx')"
   ]
  },
  {
   "cell_type": "code",
   "execution_count": 5,
   "id": "1a39ceca-ee8b-4328-bea9-0804bdd206b3",
   "metadata": {},
   "outputs": [],
   "source": [
    "# 1. 选择符合条件的数据点\n",
    "filtered_data = df[df['专利价值'] < 5000]\n",
    "\n",
    "# 2. 从符合条件的数据点中随机选择，这里选择 10 个数据点作为示例\n",
    "random_sample = filtered_data.sample(n=10, random_state=random.seed(42))"
   ]
  },
  {
   "cell_type": "code",
   "execution_count": null,
   "id": "e66aa474-8b15-4edc-9f1d-34e3af9c1b8d",
   "metadata": {},
   "outputs": [],
   "source": []
  }
 ],
 "metadata": {
  "kernelspec": {
   "display_name": "Python 3 (ipykernel)",
   "language": "python",
   "name": "python3"
  },
  "language_info": {
   "codemirror_mode": {
    "name": "ipython",
    "version": 3
   },
   "file_extension": ".py",
   "mimetype": "text/x-python",
   "name": "python",
   "nbconvert_exporter": "python",
   "pygments_lexer": "ipython3",
   "version": "3.10.7"
  }
 },
 "nbformat": 4,
 "nbformat_minor": 5
}
