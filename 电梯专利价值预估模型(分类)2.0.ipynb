{
 "cells": [
  {
   "cell_type": "code",
   "execution_count": 1,
   "id": "d3a7936b",
   "metadata": {},
   "outputs": [],
   "source": [
    "import pandas as pd\n",
    "import numpy as np"
   ]
  },
  {
   "cell_type": "code",
   "execution_count": 2,
   "id": "b06aba2c",
   "metadata": {},
   "outputs": [],
   "source": [
    "from sklearn.preprocessing import OneHotEncoder\n",
    "from sklearn.preprocessing import StandardScaler\n",
    "from sklearn.model_selection import train_test_split"
   ]
  },
  {
   "cell_type": "code",
   "execution_count": 3,
   "id": "903aa060",
   "metadata": {},
   "outputs": [],
   "source": [
    "df = pd.read_excel('./Data/datapro3.xlsx')"
   ]
  },
  {
   "cell_type": "code",
   "execution_count": 4,
   "id": "4ecccfed-9f35-4b8d-82ca-f4731118f6e3",
   "metadata": {},
   "outputs": [
    {
     "name": "stdout",
     "output_type": "stream",
     "text": [
      "<class 'pandas.core.frame.DataFrame'>\n",
      "RangeIndex: 72037 entries, 0 to 72036\n",
      "Data columns (total 18 columns):\n",
      " #   Column    Non-Null Count  Dtype \n",
      "---  ------    --------------  ----- \n",
      " 0   标题        72037 non-null  object\n",
      " 1   产业链位置     72037 non-null  object\n",
      " 2   一级技术分支    72037 non-null  object\n",
      " 3   专利类型      72037 non-null  object\n",
      " 4   公开国别      72037 non-null  object\n",
      " 5   公开(公告)日   72037 non-null  int64 \n",
      " 6   权利要求数量    72037 non-null  int64 \n",
      " 7   文献页数      72037 non-null  int64 \n",
      " 8   IPC       72037 non-null  object\n",
      " 9   申请人省市代码   72037 non-null  object\n",
      " 10  3年内被引用次数  72037 non-null  int64 \n",
      " 11  5年内被引用次数  72037 non-null  int64 \n",
      " 12  引用专利数量    72037 non-null  int64 \n",
      " 13  被引用专利数量   72037 non-null  int64 \n",
      " 14  专利有效性     72037 non-null  object\n",
      " 15  诉讼案件数     72037 non-null  int64 \n",
      " 16  专利价值      72037 non-null  int64 \n",
      " 17  专利价值分类    72037 non-null  object\n",
      "dtypes: int64(9), object(9)\n",
      "memory usage: 9.9+ MB\n"
     ]
    }
   ],
   "source": [
    "df.info()"
   ]
  },
  {
   "cell_type": "code",
   "execution_count": 5,
   "id": "cc0b719d",
   "metadata": {},
   "outputs": [],
   "source": [
    "# list(df)"
   ]
  },
  {
   "cell_type": "code",
   "execution_count": 6,
   "id": "d801e087",
   "metadata": {},
   "outputs": [],
   "source": [
    "cat_columns = [\n",
    " '产业链位置',\n",
    " '一级技术分支',\n",
    " '专利类型',\n",
    " '申请人省市代码',\n",
    " '专利有效性',\n",
    "    'IPC',\n",
    "]"
   ]
  },
  {
   "cell_type": "code",
   "execution_count": 7,
   "id": "8d6e4f73",
   "metadata": {},
   "outputs": [
    {
     "data": {
      "text/plain": [
       "array([[0., 0., 0., ..., 0., 0., 0.],\n",
       "       [0., 0., 0., ..., 0., 0., 0.],\n",
       "       [0., 0., 0., ..., 0., 0., 0.],\n",
       "       ...,\n",
       "       [1., 0., 0., ..., 0., 0., 0.],\n",
       "       [1., 0., 0., ..., 0., 0., 0.],\n",
       "       [1., 0., 0., ..., 0., 0., 0.]])"
      ]
     },
     "execution_count": 7,
     "metadata": {},
     "output_type": "execute_result"
    }
   ],
   "source": [
    "ohEncoder = OneHotEncoder(drop='first')\n",
    "cat_features = ohEncoder.fit_transform(df[cat_columns]).toarray()\n",
    "cat_features"
   ]
  },
  {
   "cell_type": "code",
   "execution_count": 8,
   "id": "6e5d1929",
   "metadata": {},
   "outputs": [],
   "source": [
    "num_columns = [ \n",
    " '3年内被引用次数',\n",
    " '5年内被引用次数',\n",
    " '引用专利数量',\n",
    " '被引用专利数量',\n",
    " '权利要求数量',\n",
    " '文献页数',\n",
    " '诉讼案件数',\n",
    "'公开(公告)日'\n",
    "]"
   ]
  },
  {
   "cell_type": "code",
   "execution_count": 9,
   "id": "23a624aa",
   "metadata": {},
   "outputs": [
    {
     "data": {
      "text/plain": [
       "array([[-0.3556985 , -0.35557601, -0.45859254, ..., -0.57468455,\n",
       "        -0.01857949, -0.10356336],\n",
       "       [-0.3556985 , -0.35557601, -0.45859254, ..., -1.07001584,\n",
       "        -0.01857949,  0.75022394],\n",
       "       [-0.3556985 , -0.35557601, -0.45859254, ...,  1.65430626,\n",
       "        -0.01857949,  0.75022394],\n",
       "       ...,\n",
       "       [-0.3556985 , -0.35557601, -0.45859254, ..., -0.57468455,\n",
       "        -0.01857949,  0.75022394],\n",
       "       [-0.3556985 , -0.35557601, -0.45859254, ..., -0.07935326,\n",
       "        -0.01857949,  0.75022394],\n",
       "       [-0.3556985 , -0.35557601, -0.12533691, ..., -0.32701891,\n",
       "        -0.01857949,  1.17711759]])"
      ]
     },
     "execution_count": 9,
     "metadata": {},
     "output_type": "execute_result"
    }
   ],
   "source": [
    "stdScaler = StandardScaler()\n",
    "num_features = stdScaler.fit_transform(df[num_columns])\n",
    "num_features"
   ]
  },
  {
   "cell_type": "code",
   "execution_count": 10,
   "id": "9995fb43",
   "metadata": {},
   "outputs": [
    {
     "data": {
      "text/plain": [
       "(72037, 69)"
      ]
     },
     "execution_count": 10,
     "metadata": {},
     "output_type": "execute_result"
    }
   ],
   "source": [
    "X = np.hstack([cat_features, num_features])\n",
    "X.shape"
   ]
  },
  {
   "cell_type": "code",
   "execution_count": 11,
   "id": "65b71393",
   "metadata": {},
   "outputs": [
    {
     "data": {
      "text/plain": [
       "array(['0-10000', '0-10000', '0-10000', ..., '0-10000', '0-10000',\n",
       "       '0-10000'], dtype=object)"
      ]
     },
     "execution_count": 11,
     "metadata": {},
     "output_type": "execute_result"
    }
   ],
   "source": [
    "y = df['专利价值分类'].to_numpy()\n",
    "y"
   ]
  },
  {
   "cell_type": "code",
   "execution_count": 12,
   "id": "5f3ed154-e4e9-4b1a-8137-9c381795363d",
   "metadata": {},
   "outputs": [],
   "source": [
    "# y=np.where(y==\"小\",0,1)"
   ]
  },
  {
   "cell_type": "code",
   "execution_count": 13,
   "id": "791f4b5c-8b65-4e2a-97b8-3cc277d97b72",
   "metadata": {},
   "outputs": [],
   "source": [
    "# y.shape"
   ]
  },
  {
   "cell_type": "code",
   "execution_count": 14,
   "id": "2af288bd",
   "metadata": {},
   "outputs": [],
   "source": [
    "X_train, X_test, y_train, y_test = train_test_split(X, y,test_size=0.3)\n"
   ]
  },
  {
   "cell_type": "code",
   "execution_count": 15,
   "id": "cb26d721",
   "metadata": {},
   "outputs": [
    {
     "data": {
      "text/plain": [
       "((50425, 69), (21612, 69), (50425,), (21612,))"
      ]
     },
     "execution_count": 15,
     "metadata": {},
     "output_type": "execute_result"
    }
   ],
   "source": [
    "X_train.shape, X_test.shape, y_train.shape, y_test.shape"
   ]
  },
  {
   "cell_type": "code",
   "execution_count": 16,
   "id": "954774d7",
   "metadata": {},
   "outputs": [
    {
     "name": "stderr",
     "output_type": "stream",
     "text": [
      "D:\\python\\lib\\site-packages\\sklearn\\linear_model\\_logistic.py:460: ConvergenceWarning: lbfgs failed to converge (status=1):\n",
      "STOP: TOTAL NO. of ITERATIONS REACHED LIMIT.\n",
      "\n",
      "Increase the number of iterations (max_iter) or scale the data as shown in:\n",
      "    https://scikit-learn.org/stable/modules/preprocessing.html\n",
      "Please also refer to the documentation for alternative solver options:\n",
      "    https://scikit-learn.org/stable/modules/linear_model.html#logistic-regression\n",
      "  n_iter_i = _check_optimize_result(\n"
     ]
    },
    {
     "data": {
      "text/html": [
       "<style>#sk-container-id-1 {color: black;}#sk-container-id-1 pre{padding: 0;}#sk-container-id-1 div.sk-toggleable {background-color: white;}#sk-container-id-1 label.sk-toggleable__label {cursor: pointer;display: block;width: 100%;margin-bottom: 0;padding: 0.3em;box-sizing: border-box;text-align: center;}#sk-container-id-1 label.sk-toggleable__label-arrow:before {content: \"▸\";float: left;margin-right: 0.25em;color: #696969;}#sk-container-id-1 label.sk-toggleable__label-arrow:hover:before {color: black;}#sk-container-id-1 div.sk-estimator:hover label.sk-toggleable__label-arrow:before {color: black;}#sk-container-id-1 div.sk-toggleable__content {max-height: 0;max-width: 0;overflow: hidden;text-align: left;background-color: #f0f8ff;}#sk-container-id-1 div.sk-toggleable__content pre {margin: 0.2em;color: black;border-radius: 0.25em;background-color: #f0f8ff;}#sk-container-id-1 input.sk-toggleable__control:checked~div.sk-toggleable__content {max-height: 200px;max-width: 100%;overflow: auto;}#sk-container-id-1 input.sk-toggleable__control:checked~label.sk-toggleable__label-arrow:before {content: \"▾\";}#sk-container-id-1 div.sk-estimator input.sk-toggleable__control:checked~label.sk-toggleable__label {background-color: #d4ebff;}#sk-container-id-1 div.sk-label input.sk-toggleable__control:checked~label.sk-toggleable__label {background-color: #d4ebff;}#sk-container-id-1 input.sk-hidden--visually {border: 0;clip: rect(1px 1px 1px 1px);clip: rect(1px, 1px, 1px, 1px);height: 1px;margin: -1px;overflow: hidden;padding: 0;position: absolute;width: 1px;}#sk-container-id-1 div.sk-estimator {font-family: monospace;background-color: #f0f8ff;border: 1px dotted black;border-radius: 0.25em;box-sizing: border-box;margin-bottom: 0.5em;}#sk-container-id-1 div.sk-estimator:hover {background-color: #d4ebff;}#sk-container-id-1 div.sk-parallel-item::after {content: \"\";width: 100%;border-bottom: 1px solid gray;flex-grow: 1;}#sk-container-id-1 div.sk-label:hover label.sk-toggleable__label {background-color: #d4ebff;}#sk-container-id-1 div.sk-serial::before {content: \"\";position: absolute;border-left: 1px solid gray;box-sizing: border-box;top: 0;bottom: 0;left: 50%;z-index: 0;}#sk-container-id-1 div.sk-serial {display: flex;flex-direction: column;align-items: center;background-color: white;padding-right: 0.2em;padding-left: 0.2em;position: relative;}#sk-container-id-1 div.sk-item {position: relative;z-index: 1;}#sk-container-id-1 div.sk-parallel {display: flex;align-items: stretch;justify-content: center;background-color: white;position: relative;}#sk-container-id-1 div.sk-item::before, #sk-container-id-1 div.sk-parallel-item::before {content: \"\";position: absolute;border-left: 1px solid gray;box-sizing: border-box;top: 0;bottom: 0;left: 50%;z-index: -1;}#sk-container-id-1 div.sk-parallel-item {display: flex;flex-direction: column;z-index: 1;position: relative;background-color: white;}#sk-container-id-1 div.sk-parallel-item:first-child::after {align-self: flex-end;width: 50%;}#sk-container-id-1 div.sk-parallel-item:last-child::after {align-self: flex-start;width: 50%;}#sk-container-id-1 div.sk-parallel-item:only-child::after {width: 0;}#sk-container-id-1 div.sk-dashed-wrapped {border: 1px dashed gray;margin: 0 0.4em 0.5em 0.4em;box-sizing: border-box;padding-bottom: 0.4em;background-color: white;}#sk-container-id-1 div.sk-label label {font-family: monospace;font-weight: bold;display: inline-block;line-height: 1.2em;}#sk-container-id-1 div.sk-label-container {text-align: center;}#sk-container-id-1 div.sk-container {/* jupyter's `normalize.less` sets `[hidden] { display: none; }` but bootstrap.min.css set `[hidden] { display: none !important; }` so we also need the `!important` here to be able to override the default hidden behavior on the sphinx rendered scikit-learn.org. See: https://github.com/scikit-learn/scikit-learn/issues/21755 */display: inline-block !important;position: relative;}#sk-container-id-1 div.sk-text-repr-fallback {display: none;}</style><div id=\"sk-container-id-1\" class=\"sk-top-container\"><div class=\"sk-text-repr-fallback\"><pre>LogisticRegression()</pre><b>In a Jupyter environment, please rerun this cell to show the HTML representation or trust the notebook. <br />On GitHub, the HTML representation is unable to render, please try loading this page with nbviewer.org.</b></div><div class=\"sk-container\" hidden><div class=\"sk-item\"><div class=\"sk-estimator sk-toggleable\"><input class=\"sk-toggleable__control sk-hidden--visually\" id=\"sk-estimator-id-1\" type=\"checkbox\" checked><label for=\"sk-estimator-id-1\" class=\"sk-toggleable__label sk-toggleable__label-arrow\">LogisticRegression</label><div class=\"sk-toggleable__content\"><pre>LogisticRegression()</pre></div></div></div></div></div>"
      ],
      "text/plain": [
       "LogisticRegression()"
      ]
     },
     "execution_count": 16,
     "metadata": {},
     "output_type": "execute_result"
    }
   ],
   "source": [
    "from sklearn.linear_model import LogisticRegression\n",
    "LR =  LogisticRegression()\n",
    "LR.fit(X_train, y_train)"
   ]
  },
  {
   "cell_type": "code",
   "execution_count": 17,
   "id": "f63aee4a",
   "metadata": {},
   "outputs": [],
   "source": [
    "y_pred_lr = LR.predict(X_test)"
   ]
  },
  {
   "cell_type": "code",
   "execution_count": 18,
   "id": "4008abdb",
   "metadata": {},
   "outputs": [
    {
     "data": {
      "text/plain": [
       "array(['0-10000', '0-10000', '0-10000', ..., '0-10000', '0-10000',\n",
       "       '0-10000'], dtype=object)"
      ]
     },
     "execution_count": 18,
     "metadata": {},
     "output_type": "execute_result"
    }
   ],
   "source": [
    "y_pred_lr"
   ]
  },
  {
   "cell_type": "code",
   "execution_count": 19,
   "id": "59d20d87-2b99-4275-a0e4-8a591f1f5317",
   "metadata": {},
   "outputs": [],
   "source": [
    "from sklearn.metrics import accuracy_score"
   ]
  },
  {
   "cell_type": "code",
   "execution_count": 20,
   "id": "c2b98cb6-1e18-4dee-aef8-34d453181375",
   "metadata": {},
   "outputs": [
    {
     "data": {
      "text/plain": [
       "0.9424856561169721"
      ]
     },
     "execution_count": 20,
     "metadata": {},
     "output_type": "execute_result"
    }
   ],
   "source": [
    "accuracy_lr = accuracy_score(y_test, y_pred_lr)\n",
    "accuracy_lr"
   ]
  },
  {
   "cell_type": "code",
   "execution_count": 21,
   "id": "efa046fc-e0ff-4ed0-858a-b47b801e3126",
   "metadata": {
    "scrolled": true
   },
   "outputs": [
    {
     "data": {
      "text/plain": [
       "0.9659911160466408"
      ]
     },
     "execution_count": 21,
     "metadata": {},
     "output_type": "execute_result"
    }
   ],
   "source": [
    "from sklearn.ensemble import RandomForestClassifier\n",
    "RFC =  RandomForestClassifier(n_estimators=100, random_state=30)\n",
    "RFC.fit(X_train, y_train)\n",
    "y_pred_rfr = RFC.predict(X_test)\n",
    "accuracy_rfc = accuracy_score(y_test, y_pred_rfr)\n",
    "accuracy_rfc"
   ]
  },
  {
   "cell_type": "code",
   "execution_count": 22,
   "id": "d33515e6-b123-470e-9311-f5e60479620d",
   "metadata": {},
   "outputs": [
    {
     "ename": "NameError",
     "evalue": "name 'cross_val_predict' is not defined",
     "output_type": "error",
     "traceback": [
      "\u001b[1;31m---------------------------------------------------------------------------\u001b[0m",
      "\u001b[1;31mNameError\u001b[0m                                 Traceback (most recent call last)",
      "Cell \u001b[1;32mIn [22], line 9\u001b[0m\n\u001b[0;32m      2\u001b[0m DTC \u001b[38;5;241m=\u001b[39m DecisionTreeClassifier(random_state\u001b[38;5;241m=\u001b[39m\u001b[38;5;241m31\u001b[39m)\n\u001b[0;32m      3\u001b[0m \u001b[38;5;66;03m# DTC.fit(X_train, y_train)\u001b[39;00m\n\u001b[0;32m      4\u001b[0m \u001b[38;5;66;03m# y_pred_dtc = DTC.predict(X_test)\u001b[39;00m\n\u001b[0;32m      5\u001b[0m \u001b[38;5;66;03m# accuracy_dtc = accuracy_score(y_test, y_pred_dtc)\u001b[39;00m\n\u001b[0;32m      6\u001b[0m \u001b[38;5;66;03m# accuracy_dtc\u001b[39;00m\n\u001b[0;32m      7\u001b[0m \n\u001b[0;32m      8\u001b[0m \u001b[38;5;66;03m# 使用交叉验证训练模型\u001b[39;00m\n\u001b[1;32m----> 9\u001b[0m predicted \u001b[38;5;241m=\u001b[39m cross_val_predict(DTC, X, y, cv\u001b[38;5;241m=\u001b[39m\u001b[38;5;241m5\u001b[39m)\n\u001b[0;32m     11\u001b[0m \u001b[38;5;66;03m# 计算模型的准确率\u001b[39;00m\n\u001b[0;32m     12\u001b[0m accuracy \u001b[38;5;241m=\u001b[39m accuracy_score(y, predicted)\n",
      "\u001b[1;31mNameError\u001b[0m: name 'cross_val_predict' is not defined"
     ]
    }
   ],
   "source": [
    "from sklearn.tree import DecisionTreeClassifier\n",
    "DTC = DecisionTreeClassifier(random_state=31)\n",
    "# DTC.fit(X_train, y_train)\n",
    "# y_pred_dtc = DTC.predict(X_test)\n",
    "# accuracy_dtc = accuracy_score(y_test, y_pred_dtc)\n",
    "# accuracy_dtc\n",
    "\n",
    "# 使用交叉验证训练模型\n",
    "predicted = cross_val_predict(DTC, X, y, cv=5)\n",
    "\n",
    "# # 计算模型的准确率\n",
    "# accuracy = accuracy_score(y, predicted)"
   ]
  },
  {
   "cell_type": "code",
   "execution_count": null,
   "id": "e7370a24-34f7-419a-ab9c-c468637e5d8d",
   "metadata": {},
   "outputs": [],
   "source": [
    "# result_dtc = pd.DataFrame({'真实值': y, '预测值': predicted})\n",
    "# result_dtc.to_excel(\"./Data/result12_dtc.xlsx\",index=False)"
   ]
  },
  {
   "cell_type": "code",
   "execution_count": null,
   "id": "b888eefa-5d35-4e3a-89a7-4bd1b4ff5b27",
   "metadata": {},
   "outputs": [],
   "source": [
    "# 使用 groupby 和 count 统计每一种真实类型中预测类型不一样的数据条数\n",
    "result = df[df['真实值'] != df['预测值']].groupby('真实值')['真实值'].count()"
   ]
  },
  {
   "cell_type": "code",
   "execution_count": null,
   "id": "eacc3eb4-e101-4fb2-a05a-23da72cc150c",
   "metadata": {},
   "outputs": [],
   "source": [
    "from sklearn.svm import SVC\n",
    "SVC_lr = SVC(kernel='linear', random_state=42)\n",
    "SVC_lr.fit(X_train, y_train)\n",
    "y_pred_svclr = SVC_lr.predict(X_test)\n",
    "accuracy_svclr = accuracy_score(y_test, y_pred_svclr)\n",
    "accuracy_svclr"
   ]
  },
  {
   "cell_type": "code",
   "execution_count": null,
   "id": "e330dca6-62c2-4a13-9317-04599deb2c34",
   "metadata": {},
   "outputs": [],
   "source": [
    "from sklearn.svm import SVC\n",
    "SVC_poly = SVC(kernel='poly', degree=3, C=1.0, random_state=42)\n",
    "SVC_poly.fit(X_train, y_train)\n",
    "y_pred_svcpoly = SVC_poly.predict(X_test)\n",
    "accuracy_svcpoly = accuracy_score(y_test, y_pred_svcpoly)\n",
    "accuracy_svcpoly"
   ]
  },
  {
   "cell_type": "code",
   "execution_count": null,
   "id": "ff21b442-795b-4d0a-969d-ba97cbe48ce4",
   "metadata": {},
   "outputs": [],
   "source": [
    "from sklearn.svm import SVC\n",
    "SVC_rbf = SVC(kernel='rbf', C=1.0, gamma='scale', random_state=42)\n",
    "SVC_rbf.fit(X_train, y_train)\n",
    "y_pred_svcrbf = SVC_rbf.predict(X_test)\n",
    "accuracy_svcrbf = accuracy_score(y_test, y_pred_svcrbf)\n",
    "accuracy_svcrbf"
   ]
  },
  {
   "cell_type": "code",
   "execution_count": null,
   "id": "88522c8e-e58d-4c9f-9c03-b0c93dcce9aa",
   "metadata": {},
   "outputs": [],
   "source": []
  }
 ],
 "metadata": {
  "kernelspec": {
   "display_name": "Python 3 (ipykernel)",
   "language": "python",
   "name": "python3"
  },
  "language_info": {
   "codemirror_mode": {
    "name": "ipython",
    "version": 3
   },
   "file_extension": ".py",
   "mimetype": "text/x-python",
   "name": "python",
   "nbconvert_exporter": "python",
   "pygments_lexer": "ipython3",
   "version": "3.10.7"
  }
 },
 "nbformat": 4,
 "nbformat_minor": 5
}
